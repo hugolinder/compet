{
 "cells": [
  {
   "cell_type": "code",
   "execution_count": 39,
   "metadata": {},
   "outputs": [],
   "source": [
    "# common packages \n",
    "import numpy as np \n",
    "import os\n",
    "import struct\n",
    "\n",
    "from math import *\n",
    "import matplotlib.pyplot as plt\n",
    "import matplotlib\n",
    "font = {'family' : 'normal',\n",
    "        'weight' : 'bold',\n",
    "        'size'   : 20}\n",
    "\n",
    "matplotlib.rc('font', **font)\n",
    "\n",
    "# ipywidgets for some interactive features\n",
    "from ipywidgets.widgets import * \n",
    "import ipywidgets as widgets\n",
    "\n",
    "#Hugo code\n",
    "import Utility\n",
    "import PythonKEX"
   ]
  },
  {
   "cell_type": "code",
   "execution_count": 2,
   "metadata": {},
   "outputs": [
    {
     "name": "stdout",
     "output_type": "stream",
     "text": [
      " return list mode paths, sinograms paths, phantom title (Cannula or Cylinder ), and paths to reconstructions \n"
     ]
    }
   ],
   "source": [
    "# load data\n",
    "print(PythonKEX.define_KEX_dataset.__doc__)\n",
    "LM_paths, sino_paths, phantom_str, recon_paths = PythonKEX.define_KEX_dataset(isKanyl=True)"
   ]
  },
  {
   "cell_type": "code",
   "execution_count": 3,
   "metadata": {},
   "outputs": [],
   "source": [
    "#load data\n",
    "gate = 0\n",
    "LMs = []\n",
    "for path in LM_paths:\n",
    "    with open(path, 'rb') as file:\n",
    "        LMs.append(np.fromfile(file, dtype=np.uint32))"
   ]
  },
  {
   "cell_type": "code",
   "execution_count": 4,
   "metadata": {},
   "outputs": [
    {
     "name": "stdout",
     "output_type": "stream",
     "text": [
      "1001011010010101010101000110001\n",
      "1000011110100011110001001101101\n",
      "1011000011111000011010000011100\n",
      "1000100111011000010101111101100\n",
      "1000001010101000100011111001101\n",
      "1000111010010000100110000110111\n",
      "1000101100101001101011110111111\n",
      "1000100110000001100110011101101\n",
      "1001010111011100111010110001011\n",
      "1000000111111011011101110100001\n",
      "1011001011111011001110100001101\n",
      "1000100001011110000011110111100\n",
      "1010101011111010100010111010011\n",
      "1000001010001101010001111000110\n",
      "1000110010100110111001100101100\n",
      "1000100100110011011011011010101\n",
      "1010000100010110000011010000111\n",
      "1010000110111001110111100110001\n",
      "1001000110001010111110010100110\n",
      "1001110010010101000101011000110\n"
     ]
    }
   ],
   "source": [
    "#histograms\n",
    "histograms = []\n",
    "for L in LMs:\n",
    "    \n",
    "    timeSlice = Utility.timeSlices(L, timeTagsPerSlice=1000)[0]\n",
    "    for k in range(10):\n",
    "        print(\"{0:b}\".format(timeSlice[k]))\n",
    "    events = Utility.events(timeSlice)\n",
    "    bin_addresses = events & 0X3FFFFFFF\n",
    "    histo = np.zeros(np.prod(Utility.HISTOGRAM_SHAPE), dtype=np.ushort)\n",
    "    np.add.at(histo, bin_addresses,1)\n",
    "    histograms.append(histo)"
   ]
  },
  {
   "cell_type": "code",
   "execution_count": 5,
   "metadata": {},
   "outputs": [
    {
     "name": "stdout",
     "output_type": "stream",
     "text": [
      "634955\n"
     ]
    }
   ],
   "source": [
    "print(np.sum(histograms[0]))"
   ]
  },
  {
   "cell_type": "code",
   "execution_count": 6,
   "metadata": {},
   "outputs": [],
   "source": [
    "\n",
    "histograms4D = []\n",
    "for histo in histograms:\n",
    "    histograms4D.append(np.reshape(histograms[0], newshape=Utility.HISTOGRAM_SHAPE))"
   ]
  },
  {
   "cell_type": "code",
   "execution_count": 7,
   "metadata": {},
   "outputs": [],
   "source": [
    "#com = Utility.CenterOfMassMultiplication(histograms4D[0])\n",
    "#print(com)"
   ]
  },
  {
   "cell_type": "code",
   "execution_count": 8,
   "metadata": {},
   "outputs": [
    {
     "name": "stderr",
     "output_type": "stream",
     "text": [
      "C:\\Users\\petct\\AppData\\Local\\Continuum\\anaconda3\\lib\\site-packages\\matplotlib\\font_manager.py:1241: UserWarning: findfont: Font family ['normal'] not found. Falling back to DejaVu Sans.\n",
      "  (prop.get_family(), self.defaultFamily[fontext]))\n"
     ]
    },
    {
     "data": {
      "image/png": "[encoded data removed]",
      "text/plain": [
       "<Figure size 432x288 with 2 Axes>"
      ]
     },
     "metadata": {
      "needs_background": "light"
     },
     "output_type": "display_data"
    }
   ],
   "source": [
    "# look at histograms\n",
    "#look at histogram\n",
    "tof=5\n",
    "mi = 47\n",
    "\n",
    "for k, histo in enumerate(histograms):\n",
    "    plt.subplot(2, 1, k+1)\n",
    "    histo4D = np.reshape(histo, Utility.HISTOGRAM_SHAPE)\n",
    "    plt.imshow(histo4D[tof, mi])"
   ]
  },
  {
   "cell_type": "code",
   "execution_count": 9,
   "metadata": {},
   "outputs": [
    {
     "data": {
      "application/vnd.jupyter.widget-view+json": {
       "model_id": "2cab820364594119a434b3f7da4b377b",
       "version_major": 2,
       "version_minor": 0
      },
      "text/plain": [
       "interactive(children=(IntSlider(value=2, description='vert. axis', max=3), IntSlider(value=3, description='hor…"
      ]
     },
     "metadata": {},
     "output_type": "display_data"
    }
   ],
   "source": [
    "Utility.interactHistograms(histograms=histograms4D)"
   ]
  },
  {
   "cell_type": "code",
   "execution_count": 10,
   "metadata": {},
   "outputs": [],
   "source": [
    "def interactHistograms(histograms, titles=None, subplotShape=None, figsize=None):\n",
    "    \"\"\" assumes a sequence of 4D histograms [tof, mi, tx, ro] \"\"\"\n",
    "    #determine view\n",
    "    #slice dimension 1\n",
    "    #slice dimension 2\n",
    "    dimensions = np.arange(4)\n",
    "    horizontalWidget = widgets.IntSlider(min=0,max=4-1, value=0,\n",
    "                                         description='horiz. axis')\n",
    "    verticalWidget = widgets.IntSlider(min=0, max=4-1, value=1, description = 'vert. axis')\n",
    "    #check difference with an if statement\n",
    "    \n",
    "    #determine position on fixed dimensions\n",
    "    # for example mi, tof\n",
    "    \n",
    "    positionWidgetA = widgets.IntSlider(min=0)\n",
    "    positionWidgetB = widgets.IntSlider(min=0)\n",
    "    \n",
    "    #update\n",
    "    def fixedDimensions(horiz, vert):\n",
    "        dimensions = np.arange(4)\n",
    "        #print(\"bFixed2D\", [dimensions != horiz, dimensions != vert])\n",
    "        #print(\"bFixed\", np.all([dimensions != horiz, dimensions != vert], axis=0))\n",
    "        bFixedDims = np.all([dimensions != horiz, dimensions != vert], axis=0)\n",
    "        fixedDims = dimensions[bFixedDims]\n",
    "        return fixedDims\n",
    "    \n",
    "    def updatePositionWidgets(*args):\n",
    "        fixedDims = fixedDimensions(verticalWidget.value, horizontalWidget.value)\n",
    "        for k, widg in enumerate([positionWidgetA, positionWidgetB]):\n",
    "            dim = fixedDims[k]\n",
    "            widg.max = Utility.HISTOGRAM_SHAPE[dim] -1\n",
    "            widg.description = Utility.DIM_TITLES[dim]\n",
    "            \n",
    "    for widg in [verticalWidget, horizontalWidget]:\n",
    "        widg.observe(updatePositionWidgets, 'value')\n",
    "    \n",
    "    def f(vDim, hDim, posA,posB):\n",
    "        if vDim != hDim:\n",
    "            fixedDims =fixedDimensions(vDim, hDim)\n",
    "            #print(fixedDims)\n",
    "            Utility.viewNDImages(images=histograms, fixedDimensions=fixedDims, fixedValues=[posA, posB],\n",
    "                                subplotShape=subplotShape, titles = titles,\n",
    "                                axisLabels=[Utility.DIM_TITLES[hDim],Utility.DIM_TITLES[vDim]],\n",
    "                                            figsize=figsize)\n",
    "        else: \n",
    "            print(\"warning: non-distinct vertical and horizontal axes\")\n",
    "    \n",
    "    interact(f, vDim=verticalWidget, hDim=horizontalWidget, posA=positionWidgetA, posB=positionWidgetB);"
   ]
  },
  {
   "cell_type": "code",
   "execution_count": 11,
   "metadata": {},
   "outputs": [],
   "source": [
    "# save histograms\n",
    "for k, path in enumerate(sino_paths):\n",
    "    with open(path, 'wb') as f:\n",
    "        #fast\n",
    "        f.write(histograms[k])"
   ]
  },
  {
   "cell_type": "code",
   "execution_count": 12,
   "metadata": {},
   "outputs": [
    {
     "name": "stdout",
     "output_type": "stream",
     "text": [
      "['C:/Users/petct/Desktop/KanylPET-Converted/KanylPET-LM-00/KanylPET-LM-00-sino-0.s', 'C:/Users/petct/Desktop/KanylPET-Converted/KanylPET-LM-01/KanylPET-LM-01-sino-0.s']\n"
     ]
    }
   ],
   "source": [
    "print(sino_paths)"
   ]
  },
  {
   "cell_type": "code",
   "execution_count": 13,
   "metadata": {},
   "outputs": [],
   "source": [
    "#load recons\n",
    "recons = []\n",
    "for path in recon_paths:\n",
    "    PETscans = Utility.load_scan(path)\n",
    "    Pixels = Utility.get_pixels_hu(PETscans)\n",
    "    recons.append(Pixels)"
   ]
  },
  {
   "cell_type": "code",
   "execution_count": 14,
   "metadata": {},
   "outputs": [
    {
     "data": {
      "image/png": "[encoded data removed]",
      "text/plain": [
       "<Figure size 432x288 with 2 Axes>"
      ]
     },
     "metadata": {
      "needs_background": "light"
     },
     "output_type": "display_data"
    }
   ],
   "source": [
    "#look at recons\n",
    "plt.figure()\n",
    "z = 47\n",
    "for k in range(2):\n",
    "    plt.subplot(2, 1, k+1)\n",
    "    plt.imshow(recons[k][z])\n",
    "\n",
    "plt.show()"
   ]
  },
  {
   "cell_type": "code",
   "execution_count": 15,
   "metadata": {},
   "outputs": [],
   "source": [
    "def offsetMap(size):\n",
    "    \"\"\" the size has to be an odd number\"\"\"\n",
    "    offsets = np.zeros((size,), dtype=int)\n",
    "    for k in range(0, size // 2):\n",
    "        offsets[2*k+1] = (k+1)\n",
    "        offsets[2*k+2] = -(k+1)\n",
    "    return offsets"
   ]
  },
  {
   "cell_type": "code",
   "execution_count": 16,
   "metadata": {},
   "outputs": [
    {
     "name": "stdout",
     "output_type": "stream",
     "text": [
      "[109  97  97  75  75  53  53  31  31]\n",
      "0\n"
     ]
    }
   ],
   "source": [
    "#scanner parameters\n",
    "segment_table = np.array([109,97,97,75,75,53,53,31,31], dtype=int)\n",
    "tof_offset_map = offsetMap(13)\n",
    "segment_offset_map = offsetMap(9)\n",
    "axial_compression = 11\n",
    "number_of_views = 168\n",
    "number_of_projections = 400\n",
    "number_of_sinograms = sum(segment_table)\n",
    "sinogram_size = number_of_projections*number_of_views\n",
    "michelogram_size = sinogram_size*number_of_sinograms\n",
    "print(segment_table)\n",
    "print(tof_offset_map[13 % 13])"
   ]
  },
  {
   "cell_type": "code",
   "execution_count": 17,
   "metadata": {},
   "outputs": [],
   "source": [
    "#calculate \"function\" from michelogram index to segment and axial offset\n",
    "segment_offset_map = np.zeros((number_of_sinograms,), dtype=np.int)\n",
    "axial_offset_map = np.zeros((number_of_sinograms,), dtype=np.int)\n",
    "m = 0\n",
    "for s in range(0,len(segment_table)):\n",
    "    segment_offset_map[m:m+segment_table[s]] = s\n",
    "    axial_offset_map[m:m+segment_table[s]] = np.arange(0,segment_table[s], 1) + (segment_table[0] - segment_table[s])//2\n",
    "    m += segment_table[s]\n",
    "#print(\"segment index map\\n\", segment_offset_map)\n",
    "\n",
    "#print(\"axial offset map\\n\", axial_offset_map)"
   ]
  },
  {
   "cell_type": "code",
   "execution_count": 18,
   "metadata": {},
   "outputs": [],
   "source": [
    "#a faster way\n",
    "def CenterOfMassMultiplication(arr):\n",
    "    \"\"\"calculate Center of mass of numpy array with array multiplication using array coordinates. \"\"\"\n",
    "    #calculate 1-D representations of grid\n",
    "\n",
    "    arr64 = np.array(arr, dtype=np.int64)\n",
    "    counts = np.sum(arr64)\n",
    "    coordinates = np.zeros(shape=(len(arr64.shape),), dtype=np.int64)\n",
    "    for k in range(0,len(arr64.shape)): \n",
    "        temp = np.arange(0,arr64.shape[k],1)\n",
    "        temp_shape = np.ones(len(arr64.shape), dtype=np.int64)\n",
    "        temp_shape[k] = len(temp)\n",
    "        temp_shape = tuple(temp_shape)\n",
    "        temp = np.reshape(temp, tuple(temp_shape))\n",
    "        temp = arr64*temp\n",
    "        temp = np.sum(temp)\n",
    "        coordinates[k]=temp\n",
    "    return coordinates, counts"
   ]
  },
  {
   "cell_type": "code",
   "execution_count": 19,
   "metadata": {},
   "outputs": [],
   "source": [
    "#thank you GeeksforGeeks\n",
    "def bitExtracted(number, k, p): \n",
    "    \"\"\" extract k bits towards most significant bit, starting at p bits away from least significant bit (where p=1) \"\"\"\n",
    "    # k 1's: 111111...111 AND the number starting at bit index (p-1) [0 indexing]\n",
    "    return ( ((1 << k) - 1)  &  (number >> (p-1) ) );"
   ]
  },
  {
   "cell_type": "code",
   "execution_count": 20,
   "metadata": {},
   "outputs": [
    {
     "name": "stdout",
     "output_type": "stream",
     "text": [
      "The extracted number is  2\n",
      "input number binary:  10101011\n",
      "output number binary 10\n",
      "111111\n",
      "10101\n"
     ]
    }
   ],
   "source": [
    "# test bitExtracted\n",
    "number = 171\n",
    "k = 3\n",
    "p = 3\n",
    "print (\"The extracted number is \", bitExtracted(number, k, p) )\n",
    "print(\"input number binary: \", \"{0:b}\".format(number))\n",
    "print(\"output number binary\", \"{0:b}\".format(bitExtracted(number, k, p)))\n",
    "print(\"{0:b}\".format((1 << 6)-1))\n",
    "print(\"{0:b}\".format(number >> (p)))"
   ]
  },
  {
   "cell_type": "code",
   "execution_count": 21,
   "metadata": {},
   "outputs": [],
   "source": [
    "#Thank you Siemens 4 ring mCT walkthrough\n",
    "def binAddresToProjectionSpace(event):\n",
    "    \"\"\" extract [ro,tx,mi,tof] bin using formula: event = 1*ro+200+c1*tx+c1*c2*mi+c1*c2*c3*tof + prompt + tag\"\"\"\n",
    "    # tag = bitExtracted(event,1,32)\n",
    "    #prompt_bit = bitExtracted(event,1,31)\n",
    "    event = np.array(event)\n",
    "    bin_address_remains = event & 0X3FFFFFFF\n",
    "    coefficients = [michelogram_size, sinogram_size, number_of_projections, 1 ]\n",
    "    coordinates = np.zeros((len(coefficients),np.size(event)), dtype=int)\n",
    "    for k in range(0, len(coefficients)):\n",
    "        coeff = coefficients[k]\n",
    "        coordinates[k] = bin_address_remains // coeff\n",
    "        bin_address_remains -= coordinates[k]*coeff\n",
    "    coordinates[-1] -= number_of_projections // 2 #reintroduce negative range\n",
    "    coordinates = np.flip(coordinates, axis=0)\n",
    "    coordinates = np.squeeze(coordinates)\n",
    "    return coordinates"
   ]
  },
  {
   "cell_type": "code",
   "execution_count": 22,
   "metadata": {},
   "outputs": [
    {
     "name": "stdout",
     "output_type": "stream",
     "text": [
      "difference [0 0 0 0]\n",
      "coordinates of 2 events\n",
      " [[   2 -198]\n",
      " [   3    6]\n",
      " [   5    5]\n",
      " [   7    7]]\n"
     ]
    }
   ],
   "source": [
    "#test binAddresToProjectionSpace\n",
    "ro= 2\n",
    "tx = 3\n",
    "mi = 5\n",
    "tof = 7\n",
    "event = ro*1+200 + tx*number_of_projections + mi*sinogram_size+tof*michelogram_size\n",
    "coordinates = binAddresToProjectionSpace(event)\n",
    "print(\"difference\", np.array([ro,tx,mi,tof])-np.array(coordinates))\n",
    "\n",
    "#test array compatibility\n",
    "events = [event, event+1000]\n",
    "coordinates = binAddresToProjectionSpace(events)\n",
    "print(\"coordinates of 2 events\\n\", coordinates)"
   ]
  },
  {
   "cell_type": "code",
   "execution_count": 23,
   "metadata": {},
   "outputs": [],
   "source": [
    "def projectionSpaceToBinAddres(coordinates):\n",
    "    \"\"\" convert coordinates [ro, tx, mi, tof] to 1D bin address\"\"\"\n",
    "    temp = np.multiply(coordinates, [1,\n",
    "                                        number_of_projections, \n",
    "                                        sinogram_size, \n",
    "                                        michelogram_size])\n",
    "    s = np.sum(temp)\n",
    "    return int(s + number_of_projections//2)"
   ]
  },
  {
   "cell_type": "code",
   "execution_count": 24,
   "metadata": {},
   "outputs": [
    {
     "name": "stdout",
     "output_type": "stream",
     "text": [
      "23\n",
      "[-177    0    0    0]\n",
      "23\n",
      "difference 0\n"
     ]
    }
   ],
   "source": [
    "#test projectionSpaceToBinAddresabs\n",
    "ew = int(23)\n",
    "print(ew)\n",
    "coords = binAddresToProjectionSpace(ew)\n",
    "print(coords)\n",
    "result = projectionSpaceToBinAddres(coords)\n",
    "print(result)\n",
    "print(\"difference\", ew - result)"
   ]
  },
  {
   "cell_type": "code",
   "execution_count": 25,
   "metadata": {},
   "outputs": [],
   "source": [
    "def isEvent(event):\n",
    "    tag = (event >> 31) & 1\n",
    "    if (tag == 0): #event tag\n",
    "        return True\n",
    "        # prompt_bit = (event >> 30) & 1\n",
    "        # if (prompt_bit== 0): #delayed\n",
    "        # else: # coincidence\n",
    "    else: #packet\n",
    "        #if (((event >> 28) & 0Xe) == 8): #elapsed time tag \n",
    "        #if (( event >> 24 & 0XFF) == 0XC4): #horizontal bed position \n",
    "        #if ((event >> 24 & 0XFC) == 0XBC): #lost event tally\n",
    "        return False"
   ]
  },
  {
   "cell_type": "code",
   "execution_count": 26,
   "metadata": {},
   "outputs": [],
   "source": [
    "def get2DMichelogramIndex(michelogram_index):\n",
    "    \"\"\" converts 1D michelogram index to segment number (tilt) and axial offset (halfplanes)\"\"\"\n",
    "    #mi / seg_table[0]\n",
    "    # 55 + 55 -1 \n",
    "    segment_bins = np.cumsum(segment_table)\n",
    "    segment_number = np.searchsorted(segment_bins, michelogram_index+1, side='left', sorter=None)\n",
    "    \n",
    "    \n",
    "    if segment_number == 0:\n",
    "        axial_offset = michelogram_index \n",
    "    else:\n",
    "        segment_index = michelogram_index - segment_bins[segment_number-1]\n",
    "        axial_offset = segment_index + (segment_table[0] - segment_table[segment_number])//2 \n",
    "    \n",
    "    return segment_number, axial_offset"
   ]
  },
  {
   "cell_type": "code",
   "execution_count": 27,
   "metadata": {},
   "outputs": [
    {
     "name": "stdout",
     "output_type": "stream",
     "text": [
      "michelogram index, segment\n",
      "0 0\n",
      "109 1\n",
      "206 2\n",
      "303 3\n",
      "378 4\n",
      "453 5\n",
      "506 6\n",
      "559 7\n",
      "590 8\n"
     ]
    }
   ],
   "source": [
    "#test get2DMichelogramIndex\n",
    "print(\"michelogram index, segment\")\n",
    "seg = -1\n",
    "for k in range(0,sum(segment_table)):\n",
    "    temp, _ = get2DMichelogramIndex(k)\n",
    "    if (temp > seg):\n",
    "        seg = temp\n",
    "        print(k, seg)"
   ]
  },
  {
   "cell_type": "code",
   "execution_count": 28,
   "metadata": {},
   "outputs": [
    {
     "data": {
      "image/png": "[encoded data removed]",
      "text/plain": [
       "<Figure size 720x720 with 2 Axes>"
      ]
     },
     "metadata": {
      "needs_background": "light"
     },
     "output_type": "display_data"
    }
   ],
   "source": [
    "#test get2DMichelogramIndex\n",
    "axial_offset = []\n",
    "segment = []\n",
    "x = []\n",
    "for k in range(0,sum(segment_table)):\n",
    "    seg, ao = get2DMichelogramIndex(k)\n",
    "    segment.append(seg)\n",
    "    axial_offset.append(ao)\n",
    "    x.append(k)\n",
    "\n",
    "plt.figure(figsize=(10,10))\n",
    "plt.subplot(2,1,1)\n",
    "plt.plot(x,segment)\n",
    "plt.ylabel(\"segment\")\n",
    "plt.xlabel(\"michelogram index\")\n",
    "plt.subplot(2,1,2)\n",
    "plt.plot(x,axial_offset)\n",
    "plt.ylabel(\"axial offset\")\n",
    "plt.xlabel(\"michelogram index\")\n",
    "plt.show()"
   ]
  },
  {
   "cell_type": "code",
   "execution_count": 29,
   "metadata": {},
   "outputs": [
    {
     "name": "stdout",
     "output_type": "stream",
     "text": [
      "number of inconsistencies: 0\n"
     ]
    }
   ],
   "source": [
    "#compare get2DMichelogramIndex with precalculated functions\n",
    "inconsistency_count = 0\n",
    "for k in range(0, number_of_sinograms):\n",
    "    seg, ao = get2DMichelogramIndex(k)\n",
    "    if (seg != segment_offset_map[k]):\n",
    "        print(\"segment inconsistencies at mi \", k)\n",
    "        inconsistency_count +=1\n",
    "    if (ao != axial_offset_map[k]):\n",
    "        print(\"axial offset inconsistencies at mi \", k)\n",
    "        inconsistency_count +=1\n",
    "print(\"number of inconsistencies:\", inconsistency_count)"
   ]
  },
  {
   "cell_type": "code",
   "execution_count": 30,
   "metadata": {},
   "outputs": [],
   "source": [
    "#data paths\n",
    "Kanyl = True\n",
    "if Kanyl:\n",
    "    input_path = r\"C:/Users/petct/Desktop/KanylPET-Converted/KanylPET-LM-00/KanylPET-LM-00.l\"\n",
    "    output_path = r\"C:\\Users\\petct\\Desktop\\Hugo\\Code\\KEX_LM\\PythonCopies\\KanylPET-LM-00-copy.l\"\n",
    "else:\n",
    "    input_path = r\"C:/Users/petct/Desktop/CylinderPET-Converted/CylinderPET-LM-00/CylinderPET-LM-00.l\"\n",
    "    output_path = r\"C:\\Users\\petct\\Desktop\\Hugo\\Code\\KEX_LM\\PythonCopies\\CylinderPET-LM-00-copy.l\""
   ]
  },
  {
   "cell_type": "code",
   "execution_count": 31,
   "metadata": {},
   "outputs": [],
   "source": [
    "#read\n",
    "with open(input_path, 'rb') as file:\n",
    "    input_data = np.fromfile(file, dtype=np.uint32)"
   ]
  },
  {
   "cell_type": "code",
   "execution_count": 32,
   "metadata": {},
   "outputs": [],
   "source": [
    "#write copy\n",
    "with open(output_path, 'wb') as f:\n",
    "    #fast\n",
    "    f.write(input_data)\n",
    "    #slow alternative\n",
    "    #for event in input_data:\n",
    "        #f.write(struct.pack('=I', event))"
   ]
  },
  {
   "cell_type": "code",
   "execution_count": 33,
   "metadata": {},
   "outputs": [
    {
     "name": "stdout",
     "output_type": "stream",
     "text": [
      "length of input data is 37971248\n",
      "length of event data is 37908612\n",
      "number of delays is     1190635\n"
     ]
    }
   ],
   "source": [
    "#extract event data\n",
    "event_data = input_data[((input_data >> 31) & 1) == 0]\n",
    "print(\"length of input data is\", len(input_data))\n",
    "print(\"length of event data is\", len(event_data))\n",
    "delayed_data = event_data[((event_data >> 30) & 1) == 0]\n",
    "print(\"number of delays is    \", len(delayed_data))"
   ]
  },
  {
   "cell_type": "code",
   "execution_count": 34,
   "metadata": {},
   "outputs": [],
   "source": [
    "#convert to coordinates\n",
    "sinogram_data = binAddresToProjectionSpace(np.array(event_data, dtype=int))"
   ]
  },
  {
   "cell_type": "code",
   "execution_count": 35,
   "metadata": {},
   "outputs": [
    {
     "name": "stdout",
     "output_type": "stream",
     "text": [
      "(37908612,)\n",
      "(37908612,)\n",
      "(37908612,)\n",
      "(37908612,)\n",
      "(37908612,)\n",
      "(5, 37908612)\n"
     ]
    }
   ],
   "source": [
    "#convert to offset\n",
    "ro = sinogram_data[0]\n",
    "tx = sinogram_data[1]\n",
    "ao = axial_offset_map[sinogram_data[2]]\n",
    "sego = segment_offset_map[sinogram_data[2]]\n",
    "tofo = tof_offset_map[sinogram_data[3] % len(tof_offset_map)]\n",
    "print(ro.shape)\n",
    "print(tx.shape)\n",
    "print(ao.shape)\n",
    "print(sego.shape)\n",
    "print(tofo.shape)\n",
    "LOR_TOF_data = np.stack([ro, tx, ao, sego, tofo])\n",
    "print(LOR_TOF_data.shape)"
   ]
  },
  {
   "cell_type": "code",
   "execution_count": 36,
   "metadata": {},
   "outputs": [
    {
     "name": "stdout",
     "output_type": "stream",
     "text": [
      "5\n",
      "dimension 0 radial offset\n",
      "mean 24.982112112150137\n",
      "dimension 1 transaxial angle\n",
      "mean 83.47188174549889\n",
      "dimension 2 axial offset\n",
      "mean 48.63538923556473\n",
      "dimension 3 segment offset\n",
      "mean 3.7085100346063844\n",
      "dimension 4 tof offset\n",
      "mean -0.1497112582228017\n"
     ]
    }
   ],
   "source": [
    "mean_data = np.mean(LOR_TOF_data, axis=1)\n",
    "print(len(mean_data))\n",
    "dimension_titles = [\"radial offset\", \"transaxial angle\", \"axial offset\", \"segment offset\", \"tof offset\"]\n",
    "for k in range(0, len(mean_data)):\n",
    "    print(\"dimension\", k, dimension_titles[k])\n",
    "    print(\"mean\", mean_data[k])\n"
   ]
  },
  {
   "cell_type": "code",
   "execution_count": 37,
   "metadata": {},
   "outputs": [],
   "source": [
    "def binaryString(number):\n",
    "    return \"{0:b}\".format(number)"
   ]
  },
  {
   "cell_type": "code",
   "execution_count": 38,
   "metadata": {},
   "outputs": [
    {
     "ename": "NameError",
     "evalue": "name 'proj_space_size' is not defined",
     "output_type": "error",
     "traceback": [
      "\u001b[1;31m---------------------------------------------------------------------------\u001b[0m",
      "\u001b[1;31mNameError\u001b[0m                                 Traceback (most recent call last)",
      "\u001b[1;32m<ipython-input-38-43c0f02c2228>\u001b[0m in \u001b[0;36m<module>\u001b[1;34m\u001b[0m\n\u001b[0;32m      1\u001b[0m \u001b[1;31m#check some binary numbers in the format\u001b[0m\u001b[1;33m\u001b[0m\u001b[1;33m\u001b[0m\u001b[1;33m\u001b[0m\u001b[0m\n\u001b[1;32m----> 2\u001b[1;33m numbers = [proj_space_size, michelogram_size*13, 0x227bf559, 0x417ac63a, projectionSpaceToBinAddres([number_of_projections//2,\n\u001b[0m\u001b[0;32m      3\u001b[0m                                                                                                     \u001b[0mnumber_of_views\u001b[0m\u001b[1;33m-\u001b[0m\u001b[1;36m1\u001b[0m\u001b[1;33m,\u001b[0m\u001b[1;33m\u001b[0m\u001b[1;33m\u001b[0m\u001b[0m\n\u001b[0;32m      4\u001b[0m                                                                                                     \u001b[0mnumber_of_sinograms\u001b[0m\u001b[1;33m-\u001b[0m\u001b[1;36m1\u001b[0m\u001b[1;33m,\u001b[0m\u001b[1;33m\u001b[0m\u001b[1;33m\u001b[0m\u001b[0m\n\u001b[0;32m      5\u001b[0m                                                                                                     13-1])]\n",
      "\u001b[1;31mNameError\u001b[0m: name 'proj_space_size' is not defined"
     ]
    }
   ],
   "source": [
    "#check some binary numbers in the format\n",
    "numbers = [proj_space_size, michelogram_size*13, 0x227bf559, 0x417ac63a, projectionSpaceToBinAddres([number_of_projections//2,\n",
    "                                                                                                    number_of_views-1,\n",
    "                                                                                                    number_of_sinograms-1,\n",
    "                                                                                                    13-1])]\n",
    "for n in numbers:\n",
    "    b_str = binaryString(n)\n",
    "    print(len(b_str), b_str)"
   ]
  },
  {
   "cell_type": "code",
   "execution_count": null,
   "metadata": {},
   "outputs": [],
   "source": [
    "#extract bin addresses\n",
    "\n",
    "#skip first two bits\n",
    "bin_addresses=event_data & 0X3FFFFFFF \n",
    "#split of data (delays, coincidences), not needed\n",
    "#delays_index = (event_data >> 30 & 1) == 0\n",
    "#delayed_data = event_data[delays_index]\n",
    "#coincidence_data = event_data[np.logical_not(delays_index)]"
   ]
  },
  {
   "cell_type": "code",
   "execution_count": null,
   "metadata": {},
   "outputs": [],
   "source": [
    "#histogramming\n",
    "#increase at adresses\n",
    "proj_space_size = michelogram_size*(len(tof_offset_map)+1)\n",
    "histogram = np.zeros((proj_space_size,),dtype=np.ushort)\n",
    "np.add.at(histogram, bin_addresses,1) #histogram[bin_addresses] += 1 # does not work as expected"
   ]
  },
  {
   "cell_type": "code",
   "execution_count": null,
   "metadata": {},
   "outputs": [],
   "source": [
    "histogram_4D = np.reshape(histogram, (number_of_views,number_of_projections,number_of_sinograms, len(tof_offset_map)+1 ))\n",
    "plt.imshow(histogram_4D[:,:,50,0])\n",
    "plt.show()"
   ]
  },
  {
   "cell_type": "code",
   "execution_count": null,
   "metadata": {},
   "outputs": [],
   "source": [
    "histogram_3d_TOFless = np.sum(histogram_4D, axis=3, dtype=np.int)\n",
    "plt.imshow(histogram_3d_TOFless[:,:,50])\n",
    "plt.show()"
   ]
  },
  {
   "cell_type": "code",
   "execution_count": null,
   "metadata": {},
   "outputs": [],
   "source": [
    "histogram_2D = np.sum(histogram_3d_TOFless, axis=2, dtype=np.int)\n",
    "plt.figure(figsize=(10,10))\n",
    "plt.imshow(histogram_2D)\n",
    "plt.show()"
   ]
  },
  {
   "cell_type": "code",
   "execution_count": null,
   "metadata": {},
   "outputs": [],
   "source": [
    "CenterOfMass, event_count = CenterOfMassMultiplication(histogram_4D)"
   ]
  },
  {
   "cell_type": "code",
   "execution_count": null,
   "metadata": {},
   "outputs": [],
   "source": [
    "print(CenterOfMass/ event_count)"
   ]
  },
  {
   "cell_type": "code",
   "execution_count": null,
   "metadata": {},
   "outputs": [],
   "source": [
    "#write copy\n",
    "if Kanyl:\n",
    "    print(\"kanyl\")\n",
    "    histogram_path = r\"C:/Users/petct/Desktop/KanylPET-Converted/KanylPET-LM-00/KanylPet-00-PythonHistogram.s\"\n",
    "else:\n",
    "    print(\"cylinder\")\n",
    "    histogram_path = r\"C:/Users/petct/Desktop/KanylPET-Converted/KanylPET-LM-00/CylinderPet-00-PythonHistogram.s\"\n",
    "with open(histogram_path, 'wb') as f:\n",
    "    #fast\n",
    "    f.write(histogram)\n",
    "    #slow alternative\n",
    "    #for event in input_data:\n",
    "        #f.write(struct.pack('=I', event)"
   ]
  },
  {
   "cell_type": "code",
   "execution_count": null,
   "metadata": {},
   "outputs": [],
   "source": [
    "#read histogram again\n",
    "re_histogram = np.fromfile(histogram_path, dtype=np.ushort)\n",
    "print(re_histogram.shape)"
   ]
  },
  {
   "cell_type": "code",
   "execution_count": null,
   "metadata": {},
   "outputs": [],
   "source": [
    "#compare uncompressed Siemens sinogram with my histogram\n",
    "#read\n",
    "if Kanyl:\n",
    "    print(\"kanyl\")\n",
    "    sino_path = r\"C:/Users/petct/Desktop/KanylPET-Converted/KanylPET-LM-00/KanylPET-LM-00-sino-0.s\"\n",
    "else:\n",
    "    print(\"cylinder\")\n",
    "    sino_path = r\"C:/Users/petct/Desktop/CylinderPET-Converted/CylinderPET-LM-00/CylinderPET-LM-00-sino-0.s\"\n",
    "\n",
    "with open(sino_path, 'rb') as file:\n",
    "    siemens_sino = np.fromfile(file, dtype=np.ushort)"
   ]
  },
  {
   "cell_type": "code",
   "execution_count": null,
   "metadata": {},
   "outputs": [],
   "source": [
    "print(\"shapes\", siemens_sino.shape, histogram.shape)\n",
    "A = siemens_sino.shape[0]\n",
    "B = histogram.shape[0]\n",
    "print(\"length ratio:\", B/A)\n",
    "print(\"sum of differences=\", np.sum(siemens_sino- histogram, dtype=int))"
   ]
  },
  {
   "cell_type": "code",
   "execution_count": null,
   "metadata": {},
   "outputs": [],
   "source": [
    "for k in range(0,16):\n",
    "    print(\"number of \", k, \" values in siemens sinogram \", np.sum(siemens_sino == np.ushort(k)))\n",
    "    print(\"number of \", k, \" values in histogram        \", np.sum(histogram == np.ushort(k)))"
   ]
  }
 ],
 "metadata": {
  "kernelspec": {
   "display_name": "Python 3",
   "language": "python",
   "name": "python3"
  },
  "language_info": {
   "codemirror_mode": {
    "name": "ipython",
    "version": 3
   },
   "file_extension": ".py",
   "mimetype": "text/x-python",
   "name": "python",
   "nbconvert_exporter": "python",
   "pygments_lexer": "ipython3",
   "version": "3.7.1"
  }
 },
 "nbformat": 4,
 "nbformat_minor": 2
}
