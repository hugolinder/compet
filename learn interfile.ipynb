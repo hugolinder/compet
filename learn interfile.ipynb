{
 "cells": [
  {
   "cell_type": "code",
   "execution_count": 1,
   "metadata": {},
   "outputs": [],
   "source": [
    "import interfile"
   ]
  },
  {
   "cell_type": "code",
   "execution_count": 88,
   "metadata": {},
   "outputs": [
    {
     "name": "stdout",
     "output_type": "stream",
     "text": [
      "norm\n",
      "C:/Users/petct/Desktop/CylinderPET-Converted/CylinderPET-norm.n.hdr\n",
      "sino\n",
      "C:/Users/petct/Desktop/CylinderPET-Converted/CylinderPET-LM-00/CylinderPET-LM-00-0.s.hdr\n",
      "limo\n",
      "C:/Users/petct/Desktop/CylinderPET-Converted/CylinderPET-LM-00/CylinderPET-LM-00.hdr\n",
      "normsino\n",
      "C:/Users/petct/Desktop/Hugo/Code/PythonMEX/normalised_sinograms/CylinderPET-00-sino-norm_00.s.hdr\n",
      "img\n",
      "C:/Users/petct/Desktop/CylinderPET-Converted/CylinderPET-LM-00/CylinderPET-LM-00-OPTOF_000_000.v.hdr\n"
     ]
    }
   ],
   "source": [
    "fname_n = r\"C:/Users/petct/Desktop/CylinderPET-Converted/CylinderPET-norm.n.hdr\"\n",
    "fname_s = r\"C:/Users/petct/Desktop/CylinderPET-Converted/CylinderPET-LM-00/CylinderPET-LM-00-0.s.hdr\"\n",
    "fname_l = r\"C:/Users/petct/Desktop/CylinderPET-Converted/CylinderPET-LM-00/CylinderPET-LM-00.hdr\"\n",
    "fname_ns = r\"C:/Users/petct/Desktop/Hugo/Code/PythonMEX/normalised_sinograms/CylinderPET-00-sino-norm_00.s.hdr\"\n",
    "fname_v = r\"C:/Users/petct/Desktop/CylinderPET-Converted/CylinderPET-LM-00/CylinderPET-LM-00-OPTOF_000_000.v.hdr\"\n",
    "\n",
    "filenames = {\"normali\": fname_n, \n",
    "         \"sinogram\": fname_s,\n",
    "         \"limo\": fname_l,\n",
    "            \"normsino\": fname_ns,\n",
    "            \"img\":fname_v}\n",
    "didi = {}\n",
    "\n",
    "for k in filenames:\n",
    "    print(k)\n",
    "    print(filenames[k])\n",
    "    didi[k] = interfile.load(filenames[k])\n"
   ]
  },
  {
   "cell_type": "code",
   "execution_count": 89,
   "metadata": {},
   "outputs": [
    {
     "name": "stdout",
     "output_type": "stream",
     "text": [
      "dict_keys(['originating system', 'SMS-MI header name space', 'SMS-MI version number', 'GENERAL DATA', 'data offset in bytes', 'name of data file', 'GENERAL IMAGE DATA', 'type of data', 'study date', 'study time', 'isotope name', 'isotope gamma halflife', 'isotope branching factor', 'radiopharmaceutical', 'relative time of tracer injection', 'tracer activity at time of injection', 'injected volume', 'tracer injection date', 'tracer injection time', 'patient orientation', 'PET data type', 'data format', 'horizontal bed translation', 'start horizontal bed position', 'end horizontal bed position', 'start vertical bed position', 'bed zero offset', 'number of energy windows', 'energy window lower level (keV) [1]', 'energy window upper level (keV) [1]', 'PET STUDY', 'PET scanner type', 'transaxial FOV diameter', 'number of rings', 'distance between rings', 'gantry tilt angle', 'gantry crystal radius', 'bin size', 'septa state', 'number of TOF time bins', 'TOF mashing factor', 'IMAGE DATA DESCRIPTION', 'preset type', 'preset value', 'preset unit', 'image duration', 'total listmode word counts', 'COINCIDENCE LIST DATA', 'LM event and tag words format', 'timing tagwords interval', 'singles polling method', 'singles polling interval', 'singles scale factor', 'total number of singles blocks', 'axial compression', 'maximum ring difference', 'number of projections', 'number of views', 'number of segments', 'segment table', 'comment'])\n",
      "{'value': 55, 'unit': None, 'type': None, 'listindex': None, 'obligatory': False}\n",
      "{'value': 9, 'unit': None, 'type': None, 'listindex': None, 'obligatory': False}\n",
      "{'value': 11, 'unit': None, 'type': None, 'listindex': None, 'obligatory': False}\n",
      "[109, 97, 97, 75, 75, 53, 53, 31, 31]\n",
      "{'value': 0.2005, 'unit': 'cm', 'type': None, 'listindex': None, 'obligatory': False}\n",
      "{'value': 70.4, 'unit': 'cm', 'type': None, 'listindex': None, 'obligatory': False}\n",
      "{'value': 42.76, 'unit': 'cm', 'type': None, 'listindex': None, 'obligatory': False}\n",
      "{'value': 'cylindrical', 'unit': None, 'type': None, 'listindex': None, 'obligatory': False}\n",
      "{'value': 'PET/CT gantry offset during PET acquisition was x=0.000000mm, y=0.000000mm, z=0.000000mm', 'unit': None, 'type': None, 'listindex': None, 'obligatory': False}\n",
      "61\n",
      "{'value': 'seconds', 'unit': None, 'type': None, 'listindex': None, 'obligatory': False}\n"
     ]
    }
   ],
   "source": [
    "print(didi[\"limo\"].keys())\n",
    "print(didi[\"limo\"][\"number of rings\"])\n",
    "print(didi[\"limo\"][\"number of segments\"])\n",
    "print(didi[\"limo\"][\"axial compression\"])\n",
    "print(didi[\"limo\"][\"segment table\"]['value'])\n",
    "print(didi[\"limo\"][\"bin size\"])\n",
    "print(didi[\"limo\"][\"transaxial FOV diameter\"])\n",
    "print(didi[\"limo\"][\"gantry crystal radius\"])\n",
    "print(didi[\"limo\"][\"PET scanner type\"])\n",
    "print(didi[\"limo\"][\"comment\"])\n",
    "print(len(didi[\"limo\"].keys()))\n",
    "print(didi[\"limo\"][\"preset unit\"])"
   ]
  },
  {
   "cell_type": "code",
   "execution_count": 106,
   "metadata": {},
   "outputs": [
    {
     "name": "stdout",
     "output_type": "stream",
     "text": [
      "['comment', 'originating system', 'SMS-MI header name space', 'SMS-MI version number', 'GENERAL DATA', 'listmode header file', 'listmode data file', 'name of data file', 'GENERAL IMAGE DATA', 'study date', 'study time', 'isotope name', 'isotope gamma halflife', 'isotope branching factor', 'radiopharmaceutical', 'tracer injection date', 'tracer injection time', 'tracer activity at time of injection', 'relative time of tracer injection', 'injected volume', 'image data byte order', 'patient orientation', 'PET data type', 'data format', 'compression', 'compressor version', 'number format', 'number of bytes per pixel', 'number of dimensions', 'matrix axis label[1]', 'matrix axis label[2]', 'matrix axis label[3]', 'matrix size[1]', 'matrix size[2]', 'matrix size[3]', 'scale factor (mm/pixel) [1]', 'scale factor (degree/pixel) [2]', 'scale factor (mm/pixel) [3]', 'horizontal bed translation', 'start horizontal bed position', 'end horizontal bed position', 'start vertical bed position', 'axial compression', 'maximum ring difference', 'number of rings', 'number of TOF time bins', 'TOF mashing factor', 'sinogram type', 'number of segments', 'segment table', 'total number of sinograms', 'number of energy windows', 'energy window lower level (keV) [1]', 'energy window upper level (keV) [1]', 'gantry tilt angle', 'coincidence window width', 'number of scan data types', 'scan data type description[1]', 'scan data type description[2]', 'scan data type description[3]', 'scan data type description[4]', 'scan data type description[5]', 'scan data type description[6]', 'scan data type description[7]', 'scan data type description[8]', 'scan data type description[9]', 'scan data type description[10]', 'scan data type description[11]', 'scan data type description[12]', 'scan data type description[13]', 'scan data type description[14]', 'data offset in bytes[1]', 'data offset in bytes[2]', 'data offset in bytes[3]', 'data offset in bytes[4]', 'data offset in bytes[5]', 'data offset in bytes[6]', 'data offset in bytes[7]', 'data offset in bytes[8]', 'data offset in bytes[9]', 'data offset in bytes[10]', 'data offset in bytes[11]', 'data offset in bytes[12]', 'data offset in bytes[13]', 'data offset in bytes[14]', 'IMAGE DATA DESCRIPTION', 'total number of data sets', 'total prompts', 'total randoms', 'total net trues', 'total prompts events[1]', 'total prompts events[2]', 'total prompts events[3]', 'total prompts events[4]', 'total prompts events[5]', 'total prompts events[6]', 'total prompts events[7]', 'total prompts events[8]', 'total prompts events[9]', 'total prompts events[10]', 'total prompts events[11]', 'total prompts events[12]', 'total prompts events[13]', 'total net trues events[1]', 'total net trues events[2]', 'total net trues events[3]', 'total net trues events[4]', 'total net trues events[5]', 'total net trues events[6]', 'total net trues events[7]', 'total net trues events[8]', 'total net trues events[9]', 'total net trues events[10]', 'total net trues events[11]', 'total net trues events[12]', 'total net trues events[13]', 'image duration', 'image relative start time', 'image duration from timing tags', 'GIM loss fraction', 'PDR loss fraction', 'DETECTOR BLOCK SINGLES', 'number of buckets', 'total uncorrected singles rate', 'bucket singles rate[1]', 'bucket singles rate[2]', 'bucket singles rate[3]', 'bucket singles rate[4]', 'bucket singles rate[5]', 'bucket singles rate[6]', 'bucket singles rate[7]', 'bucket singles rate[8]', 'bucket singles rate[9]', 'bucket singles rate[10]', 'bucket singles rate[11]', 'bucket singles rate[12]', 'bucket singles rate[13]', 'bucket singles rate[14]', 'bucket singles rate[15]', 'bucket singles rate[16]', 'bucket singles rate[17]', 'bucket singles rate[18]', 'bucket singles rate[19]', 'bucket singles rate[20]', 'bucket singles rate[21]', 'bucket singles rate[22]', 'bucket singles rate[23]', 'bucket singles rate[24]', 'bucket singles rate[25]', 'bucket singles rate[26]', 'bucket singles rate[27]', 'bucket singles rate[28]', 'bucket singles rate[29]', 'bucket singles rate[30]', 'bucket singles rate[31]', 'bucket singles rate[32]', 'bucket singles rate[33]', 'bucket singles rate[34]', 'bucket singles rate[35]', 'bucket singles rate[36]', 'bucket singles rate[37]', 'bucket singles rate[38]', 'bucket singles rate[39]', 'bucket singles rate[40]', 'bucket singles rate[41]', 'bucket singles rate[42]', 'bucket singles rate[43]', 'bucket singles rate[44]', 'bucket singles rate[45]', 'bucket singles rate[46]', 'bucket singles rate[47]', 'bucket singles rate[48]', 'dtype']\n"
     ]
    }
   ],
   "source": [
    "L = list(didi[\"sino\"].keys())\n",
    "#L.sort()\n",
    "print(L)"
   ]
  },
  {
   "cell_type": "code",
   "execution_count": 91,
   "metadata": {},
   "outputs": [
    {
     "name": "stdout",
     "output_type": "stream",
     "text": [
      "{109, 97, 97}\n",
      "109, 97, 97\n",
      "[109, 97, 97]\n"
     ]
    }
   ],
   "source": [
    "s = \"{109, 97, 97}\"\n",
    "table = str.maketrans(dict.fromkeys(\"{}\"))\n",
    "s2 = s.translate(table)\n",
    "print(s)\n",
    "print(s2)\n",
    "\n",
    "outlist = []\n",
    "for x in s2.split(','):\n",
    "    try:\n",
    "        outlist.append(int(x))\n",
    "    except (TypeError, ValueError):\n",
    "        try:\n",
    "            outlist.append(float(x))\n",
    "        except (TypeError, ValueError):\n",
    "            outlist.append(x)\n",
    "print(outlist)"
   ]
  },
  {
   "cell_type": "code",
   "execution_count": 92,
   "metadata": {},
   "outputs": [
    {
     "data": {
      "text/plain": [
       "109"
      ]
     },
     "execution_count": 92,
     "metadata": {},
     "output_type": "execute_result"
    }
   ],
   "source": [
    "outlist[0]"
   ]
  },
  {
   "cell_type": "code",
   "execution_count": 93,
   "metadata": {},
   "outputs": [
    {
     "data": {
      "text/plain": [
       "dict_keys(['comment', 'originating system', 'SMS-MI header name space', 'SMS-MI version number', 'GENERAL DATA', 'listmode header file', 'listmode data file', 'name of data file', 'GENERAL IMAGE DATA', 'study date', 'study time', 'isotope name', 'isotope gamma halflife', 'isotope branching factor', 'radiopharmaceutical', 'tracer injection date', 'tracer injection time', 'tracer activity at time of injection', 'relative time of tracer injection', 'injected volume', 'image data byte order', 'patient orientation', 'PET data type', 'data format', 'compression', 'compressor version', 'number format', 'number of bytes per pixel', 'number of dimensions', 'matrix axis label[1]', 'matrix axis label[2]', 'matrix axis label[3]', 'matrix size[1]', 'matrix size[2]', 'matrix size[3]', 'scale factor (mm/pixel) [1]', 'scale factor (degree/pixel) [2]', 'scale factor (mm/pixel) [3]', 'horizontal bed translation', 'start horizontal bed position', 'end horizontal bed position', 'start vertical bed position', 'axial compression', 'maximum ring difference', 'number of rings', 'number of TOF time bins', 'TOF mashing factor', 'sinogram type', 'number of segments', 'segment table', 'total number of sinograms', 'number of energy windows', 'energy window lower level (keV) [1]', 'energy window upper level (keV) [1]', 'gantry tilt angle', 'coincidence window width', 'number of scan data types', 'scan data type description[1]', 'scan data type description[2]', 'scan data type description[3]', 'scan data type description[4]', 'scan data type description[5]', 'scan data type description[6]', 'scan data type description[7]', 'scan data type description[8]', 'scan data type description[9]', 'scan data type description[10]', 'scan data type description[11]', 'scan data type description[12]', 'scan data type description[13]', 'scan data type description[14]', 'data offset in bytes[1]', 'data offset in bytes[2]', 'data offset in bytes[3]', 'data offset in bytes[4]', 'data offset in bytes[5]', 'data offset in bytes[6]', 'data offset in bytes[7]', 'data offset in bytes[8]', 'data offset in bytes[9]', 'data offset in bytes[10]', 'data offset in bytes[11]', 'data offset in bytes[12]', 'data offset in bytes[13]', 'data offset in bytes[14]', 'IMAGE DATA DESCRIPTION', 'total number of data sets', 'total prompts', 'total randoms', 'total net trues', 'total prompts events[1]', 'total prompts events[2]', 'total prompts events[3]', 'total prompts events[4]', 'total prompts events[5]', 'total prompts events[6]', 'total prompts events[7]', 'total prompts events[8]', 'total prompts events[9]', 'total prompts events[10]', 'total prompts events[11]', 'total prompts events[12]', 'total prompts events[13]', 'total net trues events[1]', 'total net trues events[2]', 'total net trues events[3]', 'total net trues events[4]', 'total net trues events[5]', 'total net trues events[6]', 'total net trues events[7]', 'total net trues events[8]', 'total net trues events[9]', 'total net trues events[10]', 'total net trues events[11]', 'total net trues events[12]', 'total net trues events[13]', 'image duration', 'image relative start time', 'image duration from timing tags', 'GIM loss fraction', 'PDR loss fraction', 'DETECTOR BLOCK SINGLES', 'number of buckets', 'total uncorrected singles rate', 'bucket singles rate[1]', 'bucket singles rate[2]', 'bucket singles rate[3]', 'bucket singles rate[4]', 'bucket singles rate[5]', 'bucket singles rate[6]', 'bucket singles rate[7]', 'bucket singles rate[8]', 'bucket singles rate[9]', 'bucket singles rate[10]', 'bucket singles rate[11]', 'bucket singles rate[12]', 'bucket singles rate[13]', 'bucket singles rate[14]', 'bucket singles rate[15]', 'bucket singles rate[16]', 'bucket singles rate[17]', 'bucket singles rate[18]', 'bucket singles rate[19]', 'bucket singles rate[20]', 'bucket singles rate[21]', 'bucket singles rate[22]', 'bucket singles rate[23]', 'bucket singles rate[24]', 'bucket singles rate[25]', 'bucket singles rate[26]', 'bucket singles rate[27]', 'bucket singles rate[28]', 'bucket singles rate[29]', 'bucket singles rate[30]', 'bucket singles rate[31]', 'bucket singles rate[32]', 'bucket singles rate[33]', 'bucket singles rate[34]', 'bucket singles rate[35]', 'bucket singles rate[36]', 'bucket singles rate[37]', 'bucket singles rate[38]', 'bucket singles rate[39]', 'bucket singles rate[40]', 'bucket singles rate[41]', 'bucket singles rate[42]', 'bucket singles rate[43]', 'bucket singles rate[44]', 'bucket singles rate[45]', 'bucket singles rate[46]', 'bucket singles rate[47]', 'bucket singles rate[48]'])"
      ]
     },
     "execution_count": 93,
     "metadata": {},
     "output_type": "execute_result"
    }
   ],
   "source": [
    "didi['sino'].keys()"
   ]
  },
  {
   "cell_type": "code",
   "execution_count": 94,
   "metadata": {},
   "outputs": [
    {
     "name": "stdout",
     "output_type": "stream",
     "text": [
      "{'value': 'float', 'unit': None, 'type': None, 'listindex': None, 'obligatory': False} {'value': 4, 'unit': None, 'type': None, 'listindex': None, 'obligatory': False} {'value': 'LITTLEENDIAN', 'unit': None, 'type': None, 'listindex': None, 'obligatory': False}\n"
     ]
    }
   ],
   "source": [
    "d = didi['norm']\n",
    "print(d['number format'],\n",
    "        d['number of bytes per pixel'],\n",
    "     d['image data byte order'])"
   ]
  },
  {
   "cell_type": "code",
   "execution_count": 95,
   "metadata": {},
   "outputs": [],
   "source": [
    "import numpy as np\n",
    "a = np.array([1,2], dtype='f4')"
   ]
  },
  {
   "cell_type": "code",
   "execution_count": 96,
   "metadata": {},
   "outputs": [],
   "source": [
    "def get_np_dtype_chars(interfile_dict):\n",
    "    \n",
    "    #default to listmode, 32 unsigned integer\n",
    "    number_format = interfile_dict.get('number format', {'value':'unsigned integer'})['value']\n",
    "    byte_size = interfile_dict.get('number of bytes per pixel', {'value':4})['value']\n",
    "    byte_order = interfile_dict.get('image data byte order', {'value':\"LITTLEENDIAN\"})['value']\n",
    "    print(number_format, byte_size, byte_order)\n",
    "    \n",
    "    if byte_order == \"LITTLEENDIAN\":\n",
    "        dtype = '<'\n",
    "    else:\n",
    "        dtype = '>'\n",
    "    \n",
    "    \n",
    "    if number_format == 'signed integer':\n",
    "        dtype += 'i'\n",
    "    elif number_format == 'unsigned integer':\n",
    "        dtype += 'u'\n",
    "    elif number_format == 'float':\n",
    "        dtype += 'f'\n",
    "    \n",
    "    dtype += str(byte_size)\n",
    "    interfile_dict['dtype'] = dtype\n",
    "    \n",
    "    return dtype"
   ]
  },
  {
   "cell_type": "code",
   "execution_count": null,
   "metadata": {},
   "outputs": [],
   "source": [
    "def get_crystals_per_ring(interfile_dict):"
   ]
  },
  {
   "cell_type": "code",
   "execution_count": null,
   "metadata": {},
   "outputs": [],
   "source": []
  },
  {
   "cell_type": "code",
   "execution_count": 97,
   "metadata": {},
   "outputs": [
    {
     "name": "stdout",
     "output_type": "stream",
     "text": [
      "float 4 LITTLEENDIAN\n",
      "signed integer 2 LITTLEENDIAN\n",
      "unsigned integer 4 LITTLEENDIAN\n",
      "float 4 LITTLEENDIAN\n",
      "float 4 LITTLEENDIAN\n"
     ]
    }
   ],
   "source": [
    "dtypes = {}\n",
    "for k in didi:\n",
    "    dtypes[k] = get_np_dtype_chars(didi[k])\n",
    "    "
   ]
  },
  {
   "cell_type": "code",
   "execution_count": 98,
   "metadata": {},
   "outputs": [
    {
     "name": "stdout",
     "output_type": "stream",
     "text": [
      "norm\n",
      "<f4\n",
      "sino\n",
      "<i2\n",
      "limo\n",
      "<u4\n",
      "normsino\n",
      "<f4\n",
      "img\n",
      "<f4\n"
     ]
    }
   ],
   "source": [
    "for k in dtypes:\n",
    "    print(k)\n",
    "    print(dtypes[k])"
   ]
  },
  {
   "cell_type": "code",
   "execution_count": 99,
   "metadata": {},
   "outputs": [
    {
     "data": {
      "text/plain": [
       "'<f4'"
      ]
     },
     "execution_count": 99,
     "metadata": {},
     "output_type": "execute_result"
    }
   ],
   "source": [
    "didi['norm']['dtype']"
   ]
  },
  {
   "cell_type": "code",
   "execution_count": 108,
   "metadata": {},
   "outputs": [],
   "source": [
    "A = {'A': 3, 'B':23}\n",
    "arr = np.array(A)"
   ]
  },
  {
   "cell_type": "code",
   "execution_count": 112,
   "metadata": {},
   "outputs": [
    {
     "name": "stdout",
     "output_type": "stream",
     "text": [
      "{'A': 3, 'B': 23}\n",
      "{'A': 3, 'B': 23}\n"
     ]
    }
   ],
   "source": [
    "print(arr)\n",
    "print(A)"
   ]
  },
  {
   "cell_type": "code",
   "execution_count": 123,
   "metadata": {},
   "outputs": [
    {
     "data": {
      "text/plain": [
       "3"
      ]
     },
     "execution_count": 123,
     "metadata": {},
     "output_type": "execute_result"
    }
   ],
   "source": [
    "np.round(2.51).astype(int)"
   ]
  },
  {
   "cell_type": "code",
   "execution_count": 125,
   "metadata": {},
   "outputs": [
    {
     "ename": "TypeError",
     "evalue": "only size-1 arrays can be converted to Python scalars",
     "output_type": "error",
     "traceback": [
      "\u001b[1;31m---------------------------------------------------------------------------\u001b[0m",
      "\u001b[1;31mTypeError\u001b[0m                                 Traceback (most recent call last)",
      "\u001b[1;32m<ipython-input-125-a83c2d9006ea>\u001b[0m in \u001b[0;36m<module>\u001b[1;34m\u001b[0m\n\u001b[1;32m----> 1\u001b[1;33m \u001b[0mint\u001b[0m\u001b[1;33m(\u001b[0m\u001b[0mnp\u001b[0m\u001b[1;33m.\u001b[0m\u001b[0mround\u001b[0m\u001b[1;33m(\u001b[0m\u001b[1;33m[\u001b[0m\u001b[1;36m1.52\u001b[0m\u001b[1;33m,\u001b[0m \u001b[1;36m2\u001b[0m\u001b[1;33m]\u001b[0m\u001b[1;33m)\u001b[0m\u001b[1;33m)\u001b[0m\u001b[1;33m\u001b[0m\u001b[1;33m\u001b[0m\u001b[0m\n\u001b[0m",
      "\u001b[1;31mTypeError\u001b[0m: only size-1 arrays can be converted to Python scalars"
     ]
    }
   ],
   "source": []
  },
  {
   "cell_type": "code",
   "execution_count": 129,
   "metadata": {},
   "outputs": [
    {
     "data": {
      "text/plain": [
       "1.5707963267948966"
      ]
     },
     "execution_count": 129,
     "metadata": {},
     "output_type": "execute_result"
    }
   ],
   "source": [
    "np.arcsin(1)"
   ]
  },
  {
   "cell_type": "code",
   "execution_count": 128,
   "metadata": {},
   "outputs": [
    {
     "data": {
      "text/plain": [
       "1.0"
      ]
     },
     "execution_count": 128,
     "metadata": {},
     "output_type": "execute_result"
    }
   ],
   "source": [
    "np.sin(np.pi/2)"
   ]
  },
  {
   "cell_type": "code",
   "execution_count": 132,
   "metadata": {},
   "outputs": [
    {
     "data": {
      "text/plain": [
       "{'A': 3, 'B': 23}"
      ]
     },
     "execution_count": 132,
     "metadata": {},
     "output_type": "execute_result"
    }
   ],
   "source": []
  },
  {
   "cell_type": "code",
   "execution_count": null,
   "metadata": {},
   "outputs": [],
   "source": []
  }
 ],
 "metadata": {
  "kernelspec": {
   "display_name": "Python 3",
   "language": "python",
   "name": "python3"
  },
  "language_info": {
   "codemirror_mode": {
    "name": "ipython",
    "version": 3
   },
   "file_extension": ".py",
   "mimetype": "text/x-python",
   "name": "python",
   "nbconvert_exporter": "python",
   "pygments_lexer": "ipython3",
   "version": "3.7.1"
  }
 },
 "nbformat": 4,
 "nbformat_minor": 4
}
