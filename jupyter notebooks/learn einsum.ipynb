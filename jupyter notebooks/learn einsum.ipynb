{
 "cells": [
  {
   "cell_type": "code",
   "execution_count": 1,
   "metadata": {},
   "outputs": [],
   "source": [
    "import numpy as np"
   ]
  },
  {
   "cell_type": "code",
   "execution_count": 2,
   "metadata": {},
   "outputs": [],
   "source": [
    "def make_matrix(shape):\n",
    "    return np.reshape(np.arange(np.prod(shape)), shape)"
   ]
  },
  {
   "cell_type": "code",
   "execution_count": 3,
   "metadata": {},
   "outputs": [
    {
     "name": "stdout",
     "output_type": "stream",
     "text": [
      "A\n",
      " [[[ 0  1  2  3]\n",
      "  [ 4  5  6  7]\n",
      "  [ 8  9 10 11]\n",
      "  [12 13 14 15]]\n",
      "\n",
      " [[16 17 18 19]\n",
      "  [20 21 22 23]\n",
      "  [24 25 26 27]\n",
      "  [28 29 30 31]]\n",
      "\n",
      " [[32 33 34 35]\n",
      "  [36 37 38 39]\n",
      "  [40 41 42 43]\n",
      "  [44 45 46 47]]\n",
      "\n",
      " [[48 49 50 51]\n",
      "  [52 53 54 55]\n",
      "  [56 57 58 59]\n",
      "  [60 61 62 63]]]\n",
      "3D diag\n",
      " [ 0 21 42 63]\n",
      "3D diag sum\n",
      " 126\n"
     ]
    }
   ],
   "source": [
    "shape = (4,)*3\n",
    "A = make_matrix(shape)\n",
    "print(\"A\\n\", A)\n",
    "print(\"3D diag\\n\", np.einsum('iii->i',A))\n",
    "print(\"3D diag sum\\n\", np.einsum('iii',A))"
   ]
  },
  {
   "cell_type": "code",
   "execution_count": 4,
   "metadata": {},
   "outputs": [
    {
     "name": "stdout",
     "output_type": "stream",
     "text": [
      "B\n",
      " [[[ 0  1]\n",
      "  [ 2  3]]\n",
      "\n",
      " [[ 4  5]\n",
      "  [ 6  7]]\n",
      "\n",
      " [[ 8  9]\n",
      "  [10 11]]\n",
      "\n",
      " [[12 13]\n",
      "  [14 15]]\n",
      "\n",
      " [[16 17]\n",
      "  [18 19]]]\n",
      "2D diag sums\n",
      " [ 3 11 19 27 35]\n",
      "\n",
      " [40 55] [40 55]\n",
      "dotprods\n",
      " [[[  2   3]\n",
      "  [  6  11]]\n",
      "\n",
      " [[ 46  55]\n",
      "  [ 66  79]]\n",
      "\n",
      " [[154 171]\n",
      "  [190 211]]\n",
      "\n",
      " [[326 351]\n",
      "  [378 407]]\n",
      "\n",
      " [[562 595]\n",
      "  [630 667]]]\n"
     ]
    }
   ],
   "source": [
    "shape = (5,) + (2,)*2\n",
    "B = np.reshape(np.arange(np.prod(shape)), shape)\n",
    "print(\"B\\n\", B)\n",
    "print(\"2D diag sums\\n\", np.einsum('jii->j',B)) #the diagonal sum of each matrix B[j]\n",
    "print(\"\\n\", np.einsum('jii->i',B), np.diag(np.sum(B, axis=0))) # the diagonal, when summing over j\n",
    "print(\"dotprods\\n\", np.einsum('nik, nkj->nij', B,B))"
   ]
  },
  {
   "cell_type": "code",
   "execution_count": 5,
   "metadata": {},
   "outputs": [
    {
     "name": "stdout",
     "output_type": "stream",
     "text": [
      "B\n",
      " [[[ 0  1]\n",
      "  [ 2  3]]\n",
      "\n",
      " [[ 4  5]\n",
      "  [ 6  7]]\n",
      "\n",
      " [[ 8  9]\n",
      "  [10 11]]\n",
      "\n",
      " [[12 13]\n",
      "  [14 15]]\n",
      "\n",
      " [[16 17]\n",
      "  [18 19]]]\n",
      "v\n",
      " [[0 2 4 6 8]\n",
      " [1 3 5 7 9]]\n",
      "dotprods\n",
      " [[  1  23  77 163 281]\n",
      " [  3  33  95 189 315]]\n"
     ]
    }
   ],
   "source": [
    "shape = B.shape[:2]\n",
    "v = np.reshape(np.arange(np.prod(shape)), shape)\n",
    "v = np.swapaxes(v, 0, 1)\n",
    "print(\"B\\n\", B)\n",
    "print(\"v\\n\", v)\n",
    "print(\"dotprods\\n\", np.einsum('nij,jn->in', B,v))"
   ]
  },
  {
   "cell_type": "code",
   "execution_count": 6,
   "metadata": {},
   "outputs": [
    {
     "name": "stdout",
     "output_type": "stream",
     "text": [
      "C\n",
      " [[[ 0  1  2  3  4]\n",
      "  [ 5  6  7  8  9]\n",
      "  [10 11 12 13 14]]\n",
      "\n",
      " [[15 16 17 18 19]\n",
      "  [20 21 22 23 24]\n",
      "  [25 26 27 28 29]]\n",
      "\n",
      " [[30 31 32 33 34]\n",
      "  [35 36 37 38 39]\n",
      "  [40 41 42 43 44]]]\n",
      "C[:,:,0]\n",
      " [[ 0  5 10]\n",
      " [15 20 25]\n",
      " [30 35 40]]\n",
      "x\n",
      " [[ 0  1  2  3  4]\n",
      " [ 5  6  7  8  9]\n",
      " [10 11 12 13 14]]\n",
      "dot_prod\n",
      " [[ 125  158  197  242  293]\n",
      " [ 350  428  512  602  698]\n",
      " [ 575  698  827  962 1103]]\n"
     ]
    }
   ],
   "source": [
    "C = make_matrix((3,)*2 + (5,) )\n",
    "print(\"C\\n\", C)\n",
    "print(\"C[:,:,0]\\n\",C[:,:,0])\n",
    "x = make_matrix(C.shape[1:] )\n",
    "print(\"x\\n\", x)\n",
    "print(\"dot_prod\\n\", np.einsum('ijn,jn->in', C,x))"
   ]
  },
  {
   "cell_type": "code",
   "execution_count": 17,
   "metadata": {},
   "outputs": [
    {
     "name": "stdout",
     "output_type": "stream",
     "text": [
      "A\n",
      " [[[ 0  1  2  3  4]\n",
      "  [ 5  6  7  8  9]\n",
      "  [10 11 12 13 14]]\n",
      "\n",
      " [[15 16 17 18 19]\n",
      "  [20 21 22 23 24]\n",
      "  [25 26 27 28 29]]\n",
      "\n",
      " [[30 31 32 33 34]\n",
      "  [35 36 37 38 39]\n",
      "  [40 41 42 43 44]]]\n",
      "v\n",
      " [1, 2, 3]\n",
      "A[:,:,0]\n",
      " [[ 0  5 10]\n",
      " [15 20 25]\n",
      " [30 35 40]]\n",
      "A . v\n",
      " [[ 40  46  52  58  64]\n",
      " [130 136 142 148 154]\n",
      " [220 226 232 238 244]]\n"
     ]
    }
   ],
   "source": [
    "import numpy as np\n",
    "shape = (3,3,5)\n",
    "A = make_matrix(shape)\n",
    "v = [1,2,3]\n",
    "print(\"A\\n\",A)\n",
    "print(\"v\\n\", v)\n",
    "print(\"A[:,:,0]\\n\", A[:,:,0])\n",
    "print(\"A . v\\n\", np.einsum('kin, i->kn', A,v))"
   ]
  },
  {
   "cell_type": "code",
   "execution_count": 21,
   "metadata": {},
   "outputs": [
    {
     "name": "stdout",
     "output_type": "stream",
     "text": [
      "{'a': 2}\n"
     ]
    }
   ],
   "source": [
    "a = {'a':2}\n",
    "print(a)"
   ]
  },
  {
   "cell_type": "code",
   "execution_count": 26,
   "metadata": {},
   "outputs": [],
   "source": [
    "def f(a,b):\n",
    "    print(a-b)"
   ]
  },
  {
   "cell_type": "code",
   "execution_count": 30,
   "metadata": {},
   "outputs": [
    {
     "ename": "TypeError",
     "evalue": "f() got an unexpected keyword argument 'c'",
     "output_type": "error",
     "traceback": [
      "\u001b[1;31m---------------------------------------------------------------------------\u001b[0m",
      "\u001b[1;31mTypeError\u001b[0m                                 Traceback (most recent call last)",
      "\u001b[1;32m<ipython-input-30-5be8924ed9cf>\u001b[0m in \u001b[0;36m<module>\u001b[1;34m\u001b[0m\n\u001b[1;32m----> 1\u001b[1;33m \u001b[0mf\u001b[0m\u001b[1;33m(\u001b[0m\u001b[1;33m**\u001b[0m\u001b[1;33m{\u001b[0m\u001b[1;34m'a'\u001b[0m\u001b[1;33m:\u001b[0m\u001b[1;36m1\u001b[0m\u001b[1;33m}\u001b[0m\u001b[1;33m,\u001b[0m \u001b[1;33m**\u001b[0m\u001b[1;33m{\u001b[0m\u001b[1;34m'b'\u001b[0m\u001b[1;33m:\u001b[0m\u001b[1;36m4\u001b[0m\u001b[1;33m,\u001b[0m \u001b[1;34m'c'\u001b[0m\u001b[1;33m:\u001b[0m\u001b[1;36m2\u001b[0m\u001b[1;33m}\u001b[0m\u001b[1;33m)\u001b[0m\u001b[1;33m\u001b[0m\u001b[1;33m\u001b[0m\u001b[0m\n\u001b[0m",
      "\u001b[1;31mTypeError\u001b[0m: f() got an unexpected keyword argument 'c'"
     ]
    }
   ],
   "source": [
    "f(**{'a':1}, **{'b':4, 'c':2})"
   ]
  },
  {
   "cell_type": "code",
   "execution_count": 49,
   "metadata": {},
   "outputs": [
    {
     "name": "stdout",
     "output_type": "stream",
     "text": [
      "6\n"
     ]
    }
   ],
   "source": [
    "print(np.einsum('i,i', [1,2,3], [1]))"
   ]
  },
  {
   "cell_type": "code",
   "execution_count": null,
   "metadata": {},
   "outputs": [],
   "source": []
  }
 ],
 "metadata": {
  "kernelspec": {
   "display_name": "Python 3",
   "language": "python",
   "name": "python3"
  },
  "language_info": {
   "codemirror_mode": {
    "name": "ipython",
    "version": 3
   },
   "file_extension": ".py",
   "mimetype": "text/x-python",
   "name": "python",
   "nbconvert_exporter": "python",
   "pygments_lexer": "ipython3",
   "version": "3.8.1"
  }
 },
 "nbformat": 4,
 "nbformat_minor": 4
}
