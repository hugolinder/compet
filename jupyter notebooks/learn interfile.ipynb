{
 "cells": [
  {
   "cell_type": "code",
   "execution_count": 1,
   "metadata": {},
   "outputs": [],
   "source": [
    "import interfile"
   ]
  },
  {
   "cell_type": "code",
   "execution_count": 5,
   "metadata": {},
   "outputs": [
    {
     "name": "stdout",
     "output_type": "stream",
     "text": [
      "norm\n",
      "C:/Users/petct/Desktop/CylinderPET-Converted/CylinderPET-norm.n.hdr\n",
      "sino\n",
      "C:/Users/petct/Desktop/CylinderPET-Converted/CylinderPET-LM-00/CylinderPET-LM-00-0.s.hdr\n",
      "limo\n",
      "C:/Users/petct/Desktop/CylinderPET-Converted/CylinderPET-LM-00/CylinderPET-LM-00.hdr\n",
      "normsino\n",
      "C:/Users/petct/Desktop/Hugo/Code/PythonMEX/normalised_sinograms/CylinderPET-00-sino-norm_00.s.hdr\n",
      "img\n",
      "C:/Users/petct/Desktop/CylinderPET-Converted/CylinderPET-LM-00/CylinderPET-LM-00-OPTOF_000_000.v.hdr\n"
     ]
    }
   ],
   "source": [
    "fname_n = r\"C:/Users/petct/Desktop/CylinderPET-Converted/CylinderPET-norm.n.hdr\"\n",
    "fname_s = r\"C:/Users/petct/Desktop/CylinderPET-Converted/CylinderPET-LM-00/CylinderPET-LM-00-0.s.hdr\"\n",
    "fname_l = r\"C:/Users/petct/Desktop/CylinderPET-Converted/CylinderPET-LM-00/CylinderPET-LM-00.hdr\"\n",
    "fname_ns = r\"C:/Users/petct/Desktop/Hugo/Code/PythonMEX/normalised_sinograms/CylinderPET-00-sino-norm_00.s.hdr\"\n",
    "fname_v = r\"C:/Users/petct/Desktop/CylinderPET-Converted/CylinderPET-LM-00/CylinderPET-LM-00-OPTOF_000_000.v.hdr\"\n",
    "\n",
    "filenames = {\"norm\": fname_n, \n",
    "         \"sino\": fname_s,\n",
    "         \"limo\": fname_l,\n",
    "            \"normsino\": fname_ns,\n",
    "            \"img\":fname_v}\n",
    "didi = {}\n",
    "\n",
    "for k in filenames:\n",
    "    print(k)\n",
    "    print(filenames[k])\n",
    "    didi[k] = interfile.load(filenames[k])\n"
   ]
  },
  {
   "cell_type": "code",
   "execution_count": 6,
   "metadata": {},
   "outputs": [
    {
     "name": "stdout",
     "output_type": "stream",
     "text": [
      "dict_keys(['originating system', 'SMS-MI header name space', 'SMS-MI version number', 'GENERAL DATA', 'data offset in bytes', 'name of data file', 'GENERAL IMAGE DATA', 'type of data', 'study date', 'study time', 'isotope name', 'isotope gamma halflife', 'isotope branching factor', 'radiopharmaceutical', 'relative time of tracer injection', 'tracer activity at time of injection', 'injected volume', 'tracer injection date', 'tracer injection time', 'patient orientation', 'PET data type', 'data format', 'horizontal bed translation', 'start horizontal bed position', 'end horizontal bed position', 'start vertical bed position', 'bed zero offset', 'number of energy windows', 'energy window lower level (keV) [1]', 'energy window upper level (keV) [1]', 'PET STUDY', 'PET scanner type', 'transaxial FOV diameter', 'number of rings', 'distance between rings', 'gantry tilt angle', 'gantry crystal radius', 'bin size', 'septa state', 'number of TOF time bins', 'TOF mashing factor', 'IMAGE DATA DESCRIPTION', 'preset type', 'preset value', 'preset unit', 'image duration', 'total listmode word counts', 'COINCIDENCE LIST DATA', 'LM event and tag words format', 'timing tagwords interval', 'singles polling method', 'singles polling interval', 'singles scale factor', 'total number of singles blocks', 'axial compression', 'maximum ring difference', 'number of projections', 'number of views', 'number of segments', 'segment table', 'comment'])\n",
      "{'value': 55, 'unit': None, 'type': None, 'listindex': None, 'obligatory': False}\n",
      "{'value': 9, 'unit': None, 'type': None, 'listindex': None, 'obligatory': False}\n",
      "{'value': 11, 'unit': None, 'type': None, 'listindex': None, 'obligatory': False}\n",
      "[109, 97, 97, 75, 75, 53, 53, 31, 31]\n",
      "{'value': 0.2005, 'unit': 'cm', 'type': None, 'listindex': None, 'obligatory': False}\n",
      "{'value': 70.4, 'unit': 'cm', 'type': None, 'listindex': None, 'obligatory': False}\n",
      "{'value': 42.76, 'unit': 'cm', 'type': None, 'listindex': None, 'obligatory': False}\n",
      "{'value': 'cylindrical', 'unit': None, 'type': None, 'listindex': None, 'obligatory': False}\n",
      "{'value': 'PET/CT gantry offset during PET acquisition was x=0.000000mm, y=0.000000mm, z=0.000000mm', 'unit': None, 'type': None, 'listindex': None, 'obligatory': False}\n",
      "61\n",
      "{'value': 'seconds', 'unit': None, 'type': None, 'listindex': None, 'obligatory': False}\n"
     ]
    }
   ],
   "source": [
    "print(didi[\"limo\"].keys())\n",
    "print(didi[\"limo\"][\"number of rings\"])\n",
    "print(didi[\"limo\"][\"number of segments\"])\n",
    "print(didi[\"limo\"][\"axial compression\"])\n",
    "print(didi[\"limo\"][\"segment table\"]['value'])\n",
    "print(didi[\"limo\"][\"bin size\"])\n",
    "print(didi[\"limo\"][\"transaxial FOV diameter\"])\n",
    "print(didi[\"limo\"][\"gantry crystal radius\"])\n",
    "print(didi[\"limo\"][\"PET scanner type\"])\n",
    "print(didi[\"limo\"][\"comment\"])\n",
    "print(len(didi[\"limo\"].keys()))\n",
    "print(didi[\"limo\"][\"preset unit\"])"
   ]
  },
  {
   "cell_type": "code",
   "execution_count": 7,
   "metadata": {},
   "outputs": [
    {
     "name": "stdout",
     "output_type": "stream",
     "text": [
      "['comment', 'originating system', 'SMS-MI header name space', 'SMS-MI version number', 'GENERAL DATA', 'listmode header file', 'listmode data file', 'name of data file', 'GENERAL IMAGE DATA', 'study date', 'study time', 'isotope name', 'isotope gamma halflife', 'isotope branching factor', 'radiopharmaceutical', 'tracer injection date', 'tracer injection time', 'tracer activity at time of injection', 'relative time of tracer injection', 'injected volume', 'image data byte order', 'patient orientation', 'PET data type', 'data format', 'compression', 'compressor version', 'number format', 'number of bytes per pixel', 'number of dimensions', 'matrix axis label[1]', 'matrix axis label[2]', 'matrix axis label[3]', 'matrix size[1]', 'matrix size[2]', 'matrix size[3]', 'scale factor (mm/pixel) [1]', 'scale factor (degree/pixel) [2]', 'scale factor (mm/pixel) [3]', 'horizontal bed translation', 'start horizontal bed position', 'end horizontal bed position', 'start vertical bed position', 'axial compression', 'maximum ring difference', 'number of rings', 'number of TOF time bins', 'TOF mashing factor', 'sinogram type', 'number of segments', 'segment table', 'total number of sinograms', 'number of energy windows', 'energy window lower level (keV) [1]', 'energy window upper level (keV) [1]', 'gantry tilt angle', 'coincidence window width', 'number of scan data types', 'scan data type description[1]', 'scan data type description[2]', 'scan data type description[3]', 'scan data type description[4]', 'scan data type description[5]', 'scan data type description[6]', 'scan data type description[7]', 'scan data type description[8]', 'scan data type description[9]', 'scan data type description[10]', 'scan data type description[11]', 'scan data type description[12]', 'scan data type description[13]', 'scan data type description[14]', 'data offset in bytes[1]', 'data offset in bytes[2]', 'data offset in bytes[3]', 'data offset in bytes[4]', 'data offset in bytes[5]', 'data offset in bytes[6]', 'data offset in bytes[7]', 'data offset in bytes[8]', 'data offset in bytes[9]', 'data offset in bytes[10]', 'data offset in bytes[11]', 'data offset in bytes[12]', 'data offset in bytes[13]', 'data offset in bytes[14]', 'IMAGE DATA DESCRIPTION', 'total number of data sets', 'total prompts', 'total randoms', 'total net trues', 'total prompts events[1]', 'total prompts events[2]', 'total prompts events[3]', 'total prompts events[4]', 'total prompts events[5]', 'total prompts events[6]', 'total prompts events[7]', 'total prompts events[8]', 'total prompts events[9]', 'total prompts events[10]', 'total prompts events[11]', 'total prompts events[12]', 'total prompts events[13]', 'total net trues events[1]', 'total net trues events[2]', 'total net trues events[3]', 'total net trues events[4]', 'total net trues events[5]', 'total net trues events[6]', 'total net trues events[7]', 'total net trues events[8]', 'total net trues events[9]', 'total net trues events[10]', 'total net trues events[11]', 'total net trues events[12]', 'total net trues events[13]', 'image duration', 'image relative start time', 'image duration from timing tags', 'GIM loss fraction', 'PDR loss fraction', 'DETECTOR BLOCK SINGLES', 'number of buckets', 'total uncorrected singles rate', 'bucket singles rate[1]', 'bucket singles rate[2]', 'bucket singles rate[3]', 'bucket singles rate[4]', 'bucket singles rate[5]', 'bucket singles rate[6]', 'bucket singles rate[7]', 'bucket singles rate[8]', 'bucket singles rate[9]', 'bucket singles rate[10]', 'bucket singles rate[11]', 'bucket singles rate[12]', 'bucket singles rate[13]', 'bucket singles rate[14]', 'bucket singles rate[15]', 'bucket singles rate[16]', 'bucket singles rate[17]', 'bucket singles rate[18]', 'bucket singles rate[19]', 'bucket singles rate[20]', 'bucket singles rate[21]', 'bucket singles rate[22]', 'bucket singles rate[23]', 'bucket singles rate[24]', 'bucket singles rate[25]', 'bucket singles rate[26]', 'bucket singles rate[27]', 'bucket singles rate[28]', 'bucket singles rate[29]', 'bucket singles rate[30]', 'bucket singles rate[31]', 'bucket singles rate[32]', 'bucket singles rate[33]', 'bucket singles rate[34]', 'bucket singles rate[35]', 'bucket singles rate[36]', 'bucket singles rate[37]', 'bucket singles rate[38]', 'bucket singles rate[39]', 'bucket singles rate[40]', 'bucket singles rate[41]', 'bucket singles rate[42]', 'bucket singles rate[43]', 'bucket singles rate[44]', 'bucket singles rate[45]', 'bucket singles rate[46]', 'bucket singles rate[47]', 'bucket singles rate[48]']\n"
     ]
    }
   ],
   "source": [
    "L = list(didi[\"sino\"].keys())\n",
    "#L.sort()\n",
    "print(L)"
   ]
  },
  {
   "cell_type": "code",
   "execution_count": 8,
   "metadata": {},
   "outputs": [
    {
     "name": "stdout",
     "output_type": "stream",
     "text": [
      "{109, 97, 97}\n",
      "109, 97, 97\n",
      "[109, 97, 97]\n"
     ]
    }
   ],
   "source": [
    "s = \"{109, 97, 97}\"\n",
    "table = str.maketrans(dict.fromkeys(\"{}\"))\n",
    "s2 = s.translate(table)\n",
    "print(s)\n",
    "print(s2)\n",
    "\n",
    "outlist = []\n",
    "for x in s2.split(','):\n",
    "    try:\n",
    "        outlist.append(int(x))\n",
    "    except (TypeError, ValueError):\n",
    "        try:\n",
    "            outlist.append(float(x))\n",
    "        except (TypeError, ValueError):\n",
    "            outlist.append(x)\n",
    "print(outlist)"
   ]
  },
  {
   "cell_type": "code",
   "execution_count": 9,
   "metadata": {},
   "outputs": [
    {
     "data": {
      "text/plain": [
       "109"
      ]
     },
     "execution_count": 9,
     "metadata": {},
     "output_type": "execute_result"
    }
   ],
   "source": [
    "outlist[0]"
   ]
  },
  {
   "cell_type": "code",
   "execution_count": 10,
   "metadata": {},
   "outputs": [
    {
     "data": {
      "text/plain": [
       "dict_keys(['comment', 'originating system', 'SMS-MI header name space', 'SMS-MI version number', 'GENERAL DATA', 'listmode header file', 'listmode data file', 'name of data file', 'GENERAL IMAGE DATA', 'study date', 'study time', 'isotope name', 'isotope gamma halflife', 'isotope branching factor', 'radiopharmaceutical', 'tracer injection date', 'tracer injection time', 'tracer activity at time of injection', 'relative time of tracer injection', 'injected volume', 'image data byte order', 'patient orientation', 'PET data type', 'data format', 'compression', 'compressor version', 'number format', 'number of bytes per pixel', 'number of dimensions', 'matrix axis label[1]', 'matrix axis label[2]', 'matrix axis label[3]', 'matrix size[1]', 'matrix size[2]', 'matrix size[3]', 'scale factor (mm/pixel) [1]', 'scale factor (degree/pixel) [2]', 'scale factor (mm/pixel) [3]', 'horizontal bed translation', 'start horizontal bed position', 'end horizontal bed position', 'start vertical bed position', 'axial compression', 'maximum ring difference', 'number of rings', 'number of TOF time bins', 'TOF mashing factor', 'sinogram type', 'number of segments', 'segment table', 'total number of sinograms', 'number of energy windows', 'energy window lower level (keV) [1]', 'energy window upper level (keV) [1]', 'gantry tilt angle', 'coincidence window width', 'number of scan data types', 'scan data type description[1]', 'scan data type description[2]', 'scan data type description[3]', 'scan data type description[4]', 'scan data type description[5]', 'scan data type description[6]', 'scan data type description[7]', 'scan data type description[8]', 'scan data type description[9]', 'scan data type description[10]', 'scan data type description[11]', 'scan data type description[12]', 'scan data type description[13]', 'scan data type description[14]', 'data offset in bytes[1]', 'data offset in bytes[2]', 'data offset in bytes[3]', 'data offset in bytes[4]', 'data offset in bytes[5]', 'data offset in bytes[6]', 'data offset in bytes[7]', 'data offset in bytes[8]', 'data offset in bytes[9]', 'data offset in bytes[10]', 'data offset in bytes[11]', 'data offset in bytes[12]', 'data offset in bytes[13]', 'data offset in bytes[14]', 'IMAGE DATA DESCRIPTION', 'total number of data sets', 'total prompts', 'total randoms', 'total net trues', 'total prompts events[1]', 'total prompts events[2]', 'total prompts events[3]', 'total prompts events[4]', 'total prompts events[5]', 'total prompts events[6]', 'total prompts events[7]', 'total prompts events[8]', 'total prompts events[9]', 'total prompts events[10]', 'total prompts events[11]', 'total prompts events[12]', 'total prompts events[13]', 'total net trues events[1]', 'total net trues events[2]', 'total net trues events[3]', 'total net trues events[4]', 'total net trues events[5]', 'total net trues events[6]', 'total net trues events[7]', 'total net trues events[8]', 'total net trues events[9]', 'total net trues events[10]', 'total net trues events[11]', 'total net trues events[12]', 'total net trues events[13]', 'image duration', 'image relative start time', 'image duration from timing tags', 'GIM loss fraction', 'PDR loss fraction', 'DETECTOR BLOCK SINGLES', 'number of buckets', 'total uncorrected singles rate', 'bucket singles rate[1]', 'bucket singles rate[2]', 'bucket singles rate[3]', 'bucket singles rate[4]', 'bucket singles rate[5]', 'bucket singles rate[6]', 'bucket singles rate[7]', 'bucket singles rate[8]', 'bucket singles rate[9]', 'bucket singles rate[10]', 'bucket singles rate[11]', 'bucket singles rate[12]', 'bucket singles rate[13]', 'bucket singles rate[14]', 'bucket singles rate[15]', 'bucket singles rate[16]', 'bucket singles rate[17]', 'bucket singles rate[18]', 'bucket singles rate[19]', 'bucket singles rate[20]', 'bucket singles rate[21]', 'bucket singles rate[22]', 'bucket singles rate[23]', 'bucket singles rate[24]', 'bucket singles rate[25]', 'bucket singles rate[26]', 'bucket singles rate[27]', 'bucket singles rate[28]', 'bucket singles rate[29]', 'bucket singles rate[30]', 'bucket singles rate[31]', 'bucket singles rate[32]', 'bucket singles rate[33]', 'bucket singles rate[34]', 'bucket singles rate[35]', 'bucket singles rate[36]', 'bucket singles rate[37]', 'bucket singles rate[38]', 'bucket singles rate[39]', 'bucket singles rate[40]', 'bucket singles rate[41]', 'bucket singles rate[42]', 'bucket singles rate[43]', 'bucket singles rate[44]', 'bucket singles rate[45]', 'bucket singles rate[46]', 'bucket singles rate[47]', 'bucket singles rate[48]'])"
      ]
     },
     "execution_count": 10,
     "metadata": {},
     "output_type": "execute_result"
    }
   ],
   "source": [
    "didi['sino'].keys()"
   ]
  },
  {
   "cell_type": "code",
   "execution_count": 11,
   "metadata": {},
   "outputs": [
    {
     "name": "stdout",
     "output_type": "stream",
     "text": [
      "{'value': 'float', 'unit': None, 'type': None, 'listindex': None, 'obligatory': False} {'value': 4, 'unit': None, 'type': None, 'listindex': None, 'obligatory': False} {'value': 'LITTLEENDIAN', 'unit': None, 'type': None, 'listindex': None, 'obligatory': False}\n"
     ]
    }
   ],
   "source": [
    "d = didi['norm']\n",
    "print(d['number format'],\n",
    "        d['number of bytes per pixel'],\n",
    "     d['image data byte order'])"
   ]
  },
  {
   "cell_type": "code",
   "execution_count": 12,
   "metadata": {},
   "outputs": [],
   "source": [
    "import numpy as np\n",
    "a = np.array([1,2], dtype='f4')"
   ]
  },
  {
   "cell_type": "code",
   "execution_count": 13,
   "metadata": {},
   "outputs": [],
   "source": [
    "def get_np_dtype_chars(interfile_dict):\n",
    "    \n",
    "    #default to listmode, 32 unsigned integer\n",
    "    number_format = interfile_dict.get('number format', {'value':'unsigned integer'})['value']\n",
    "    byte_size = interfile_dict.get('number of bytes per pixel', {'value':4})['value']\n",
    "    byte_order = interfile_dict.get('image data byte order', {'value':\"LITTLEENDIAN\"})['value']\n",
    "    print(number_format, byte_size, byte_order)\n",
    "    \n",
    "    if byte_order == \"LITTLEENDIAN\":\n",
    "        dtype = '<'\n",
    "    else:\n",
    "        dtype = '>'\n",
    "    \n",
    "    \n",
    "    if number_format == 'signed integer':\n",
    "        dtype += 'i'\n",
    "    elif number_format == 'unsigned integer':\n",
    "        dtype += 'u'\n",
    "    elif number_format == 'float':\n",
    "        dtype += 'f'\n",
    "    \n",
    "    dtype += str(byte_size)\n",
    "    interfile_dict['dtype'] = dtype\n",
    "    \n",
    "    return dtype"
   ]
  },
  {
   "cell_type": "code",
   "execution_count": 25,
   "metadata": {},
   "outputs": [],
   "source": [
    "fileparser = interfile.FileParser(fname_n)\n",
    "if_obj = fileparser.to_obj()"
   ]
  },
  {
   "cell_type": "code",
   "execution_count": 26,
   "metadata": {},
   "outputs": [
    {
     "data": {
      "text/plain": [
       "{'value': 11,\n",
       " 'unit': None,\n",
       " 'type': None,\n",
       " 'listindex': None,\n",
       " 'obligatory': False}"
      ]
     },
     "execution_count": 26,
     "metadata": {},
     "output_type": "execute_result"
    }
   ],
   "source": [
    "if_obj.axial_compression"
   ]
  },
  {
   "cell_type": "code",
   "execution_count": null,
   "metadata": {},
   "outputs": [],
   "source": [
    "#try to replace a value?"
   ]
  },
  {
   "cell_type": "code",
   "execution_count": 36,
   "metadata": {},
   "outputs": [
    {
     "name": "stdout",
     "output_type": "stream",
     "text": [
      "!INTERFILE:=\n",
      "%comment:=Created from listmode data\n",
      "!originating system:=1104\n",
      "%SMS-MI header name space:=sinogram subheader\n",
      "%SMS-MI version number:=3.5\n",
      "\n",
      "!GENERAL DATA:=\n",
      "%listmode header file:=C:/Users/petct/Desktop/CylinderPET-Converted/CylinderPET-LM-00/CylinderPET-LM-00.hdr\n",
      "%listmode data file:=C:/Users/petct/Desktop/CylinderPET-Converted/CylinderPET-LM-00/CylinderPET-LM-00.l\n",
      "!name of data file:=C:/Users/petct/Desktop/CylinderPET-Converted/CylinderPET-LM-00/CylinderPET-LM-00-0.s\n",
      "\n",
      "!GENERAL IMAGE DATA:=\n",
      "%study date (yyyy:mm:dd):=2019:01:25\n",
      "%study time (hh:mm:ss GMT+00:00):=14:34:48\n",
      "isotope name:=F-18\n",
      "isotope gamma halflife (sec):=6586.2\n",
      "isotope branching factor:=0.9673\n",
      "radiopharmaceutical:=Fluorodeoxyglucose\n",
      "%tracer injection date (yyyy:mm:dd):=2019:01:25\n",
      "%tracer injection time (hh:mm:ss GMT+00:00):=14:32:06\n",
      "tracer activity at time of injection (Bq):=1e+008\n",
      "relative time of tracer injection (sec):=151370052\n",
      "injected volume (ml):=0.0\n",
      "image data byte order:=LITTLEENDIAN\n",
      "%patient orientation:=HFS\n",
      "!PET data type:=emission\n",
      "data format:=sinogram\n",
      "%compression:=off\n",
      "%compressor version:=1.1\n",
      "number format:=signed integer\n",
      "!number of bytes per pixel:=2\n",
      "number of dimensions:=3\n",
      "matrix axis label[1]:=sinogram projections\n",
      "matrix axis label[2]:=sinogram views\n",
      "matrix axis label[3]:=number of sinograms\n",
      "matrix size[1]:=400\n",
      "matrix size[2]:=168\n",
      "matrix size[3]:=621\n",
      "scale factor (mm/pixel) [1]:=2.005\n",
      "scale factor (degree/pixel) [2]:=1.07143\n",
      "scale factor (mm/pixel) [3]:=2.027\n",
      "horizontal bed translation:=stepped\n",
      "start horizontal bed position (mm):=801.48\n",
      "end horizontal bed position (mm):=801.48\n",
      "start vertical bed position (mm):=99\n",
      "%axial compression:=11\n",
      "%maximum ring difference:=49\n",
      "number of rings:=55\n",
      "%number of TOF time bins:=13\n",
      "%TOF mashing factor:=1\n",
      "%sinogram type:=step and shoot\n",
      "%number of segments:=9\n",
      "%segment table:={109,97,97,75,75,53,53,31,31}\n",
      "%total number of sinograms:=621\n",
      "number of energy windows:=1\n",
      "%energy window lower level (keV) [1]:=435\n",
      "%energy window upper level (keV) [1]:=650\n",
      "gantry tilt angle (degrees):=0.0\n",
      "%coincidence window width (ns):=4.0625\n",
      "number of scan data types:=14\n",
      "scan data type description[1]:=prompts\n",
      "scan data type description[2]:=prompts\n",
      "scan data type description[3]:=prompts\n",
      "scan data type description[4]:=prompts\n",
      "scan data type description[5]:=prompts\n",
      "scan data type description[6]:=prompts\n",
      "scan data type description[7]:=prompts\n",
      "scan data type description[8]:=prompts\n",
      "scan data type description[9]:=prompts\n",
      "scan data type description[10]:=prompts\n",
      "scan data type description[11]:=prompts\n",
      "scan data type description[12]:=prompts\n",
      "scan data type description[13]:=prompts\n",
      "scan data type description[14]:=randoms\n",
      "data offset in bytes[1]:=0\n",
      "data offset in bytes[2]:=83462400\n",
      "data offset in bytes[3]:=166924800\n",
      "data offset in bytes[4]:=250387200\n",
      "data offset in bytes[5]:=333849600\n",
      "data offset in bytes[6]:=417312000\n",
      "data offset in bytes[7]:=500774400\n",
      "data offset in bytes[8]:=584236800\n",
      "data offset in bytes[9]:=667699200\n",
      "data offset in bytes[10]:=751161600\n",
      "data offset in bytes[11]:=834624000\n",
      "data offset in bytes[12]:=918086400\n",
      "data offset in bytes[13]:=1001548800\n",
      "data offset in bytes[14]:=1085011200\n",
      "\n",
      "!IMAGE DATA DESCRIPTION:=\n",
      "!total number of data sets:=1\n",
      "total prompts:=14688186\n",
      "%total randoms:=2116091\n",
      "%total net trues:=12572095\n",
      "total prompts events[1]:=3804600\n",
      "total prompts events[2]:=2915905\n",
      "total prompts events[3]:=3208619\n",
      "total prompts events[4]:=1299477\n",
      "total prompts events[5]:=1626563\n",
      "total prompts events[6]:=354702\n",
      "total prompts events[7]:=466835\n",
      "total prompts events[8]:=174619\n",
      "total prompts events[9]:=185693\n",
      "total prompts events[10]:=163084\n",
      "total prompts events[11]:=163621\n",
      "total prompts events[12]:=162067\n",
      "total prompts events[13]:=162401\n",
      "%total net trues events[1]:=3641824\n",
      "%total net trues events[2]:=2753129\n",
      "%total net trues events[3]:=3045843\n",
      "%total net trues events[4]:=1136701\n",
      "%total net trues events[5]:=1463787\n",
      "%total net trues events[6]:=191926\n",
      "%total net trues events[7]:=304059\n",
      "%total net trues events[8]:=11843\n",
      "%total net trues events[9]:=22917\n",
      "%total net trues events[10]:=308\n",
      "%total net trues events[11]:=845\n",
      "%total net trues events[12]:=0\n",
      "%total net trues events[13]:=0\n",
      "!image duration (sec):=60\n",
      "!image relative start time (sec):=0.0\n",
      "%image duration from timing tags (msec):=60014\n",
      "%GIM loss fraction:=1\n",
      "%PDR loss fraction:=1\n",
      "\n",
      "%DETECTOR BLOCK SINGLES:=\n",
      "%number of buckets:=48\n",
      "%total uncorrected singles rate:=5488155\n",
      "%bucket singles rate[1]:=110889\n",
      "%bucket singles rate[2]:=111781\n",
      "%bucket singles rate[3]:=110750\n",
      "%bucket singles rate[4]:=111257\n",
      "%bucket singles rate[5]:=110719\n",
      "%bucket singles rate[6]:=110664\n",
      "%bucket singles rate[7]:=110421\n",
      "%bucket singles rate[8]:=110297\n",
      "%bucket singles rate[9]:=110514\n",
      "%bucket singles rate[10]:=110624\n",
      "%bucket singles rate[11]:=111562\n",
      "%bucket singles rate[12]:=111131\n",
      "%bucket singles rate[13]:=116396\n",
      "%bucket singles rate[14]:=116335\n",
      "%bucket singles rate[15]:=116537\n",
      "%bucket singles rate[16]:=116413\n",
      "%bucket singles rate[17]:=115874\n",
      "%bucket singles rate[18]:=115944\n",
      "%bucket singles rate[19]:=115420\n",
      "%bucket singles rate[20]:=115921\n",
      "%bucket singles rate[21]:=115069\n",
      "%bucket singles rate[22]:=115302\n",
      "%bucket singles rate[23]:=115941\n",
      "%bucket singles rate[24]:=116105\n",
      "%bucket singles rate[25]:=117113\n",
      "%bucket singles rate[26]:=117003\n",
      "%bucket singles rate[27]:=117454\n",
      "%bucket singles rate[28]:=117493\n",
      "%bucket singles rate[29]:=117177\n",
      "%bucket singles rate[30]:=116922\n",
      "%bucket singles rate[31]:=116401\n",
      "%bucket singles rate[32]:=116595\n",
      "%bucket singles rate[33]:=116480\n",
      "%bucket singles rate[34]:=116731\n",
      "%bucket singles rate[35]:=116568\n",
      "%bucket singles rate[36]:=116722\n",
      "%bucket singles rate[37]:=113467\n",
      "%bucket singles rate[38]:=113755\n",
      "%bucket singles rate[39]:=113908\n",
      "%bucket singles rate[40]:=114067\n",
      "%bucket singles rate[41]:=114231\n",
      "%bucket singles rate[42]:=113771\n",
      "%bucket singles rate[43]:=113990\n",
      "%bucket singles rate[44]:=113637\n",
      "%bucket singles rate[45]:=113277\n",
      "%bucket singles rate[46]:=112626\n",
      "%bucket singles rate[47]:=113585\n",
      "%bucket singles rate[48]:=113316\n",
      "\n"
     ]
    }
   ],
   "source": [
    "with open(fname_s, 'rt') as fid:\n",
    "    content = fid.read()\n",
    "    print(content)"
   ]
  },
  {
   "cell_type": "code",
   "execution_count": null,
   "metadata": {},
   "outputs": [],
   "source": []
  }
 ],
 "metadata": {
  "kernelspec": {
   "display_name": "Python 3",
   "language": "python",
   "name": "python3"
  },
  "language_info": {
   "codemirror_mode": {
    "name": "ipython",
    "version": 3
   },
   "file_extension": ".py",
   "mimetype": "text/x-python",
   "name": "python",
   "nbconvert_exporter": "python",
   "pygments_lexer": "ipython3",
   "version": "3.7.1"
  }
 },
 "nbformat": 4,
 "nbformat_minor": 4
}
