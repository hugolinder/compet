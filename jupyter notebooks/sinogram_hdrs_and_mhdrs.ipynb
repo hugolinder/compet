{
 "cells": [
  {
   "cell_type": "code",
   "execution_count": 1,
   "metadata": {},
   "outputs": [],
   "source": [
    "import numpy as np\n",
    "import importlib\n",
    "import matplotlib.pyplot as plt\n",
    "import os\n",
    "import shutil\n",
    "\n",
    "import representation\n",
    "import kex_data\n",
    "import kex_headers\n",
    "import listmode\n",
    "import petlink\n",
    "import position\n",
    "import e7tools"
   ]
  },
  {
   "cell_type": "code",
   "execution_count": 3,
   "metadata": {},
   "outputs": [],
   "source": [
    "sinograms, sino_paths = kex_data.sinograms()\n",
    "dkeys = kex_data.DATA_KEYS\n",
    "sinograms = dict(zip(dkeys, sinograms))\n",
    "sino_paths = dict(zip(dkeys, sino_paths))"
   ]
  },
  {
   "cell_type": "code",
   "execution_count": 4,
   "metadata": {},
   "outputs": [
    {
     "name": "stdout",
     "output_type": "stream",
     "text": [
      "{'cylinder 0': 'C:/Users/petct/Desktop/CylinderPET-Converted/CylinderPET-LM-00/CylinderPET-LM-00-sino-0.s', 'cylinder 1': 'C:/Users/petct/Desktop/CylinderPET-Converted/CylinderPET-LM-01/CylinderPET-LM-01-sino-0.s', 'cannula 0': 'C:/Users/petct/Desktop/KanylPET-Converted/KanylPET-LM-00/KanylPET-LM-00-sino-0.s', 'cannula 1': 'C:/Users/petct/Desktop/KanylPET-Converted/KanylPET-LM-01/KanylPET-LM-01-sino-0.s'}\n"
     ]
    }
   ],
   "source": [
    "print(sino_paths)"
   ]
  },
  {
   "cell_type": "code",
   "execution_count": 18,
   "metadata": {},
   "outputs": [
    {
     "name": "stdout",
     "output_type": "stream",
     "text": [
      "----------------dkey cylinder 0\n",
      "----------------siemens key CylinderPET-LM-00\n",
      "sino entry name: CylinderPET-LM-00-0.s\n",
      "header entry name: CylinderPET-LM-00-0.s.hdr\n",
      "sino entry name: CylinderPET-LM-00-0to2sec-0.s\n",
      "header entry name: CylinderPET-LM-00-0to2sec-0.s.hdr\n",
      "main header entry name: CylinderPET-LM-00-OPTOF.mhdr\n",
      "sino entry name: CylinderPET-LM-00-sino-0-MotionCorrected.s\n",
      "sino entry name: CylinderPET-LM-00-sino-0.s\n",
      "header entry name: CylinderPET-LM-00-sino-0.s.hdr\n",
      "main header entry name: CylinderPET-LM-00-sino-all.mhdr\n",
      "main header entry name: CylinderPET-LM-00-sino.mhdr\n",
      "sino entry name: CylinderPET-NonCompressed-sino.s\n",
      "sino entry name: pythonHistogram.s\n",
      "----------------dkey cylinder 1\n",
      "----------------siemens key CylinderPET-LM-01\n",
      "sino entry name: CylinderPET-LM-01-0.s\n",
      "header entry name: CylinderPET-LM-01-0.s.hdr\n",
      "sino entry name: CylinderPET-LM-01-0to2sec-0.s\n",
      "header entry name: CylinderPET-LM-01-0to2sec-0.s.hdr\n",
      "main header entry name: CylinderPET-LM-01-OPTOF.mhdr\n",
      "sino entry name: CylinderPET-LM-01-sino-0.s\n",
      "header entry name: CylinderPET-LM-01-sino-0.s.hdr\n",
      "main header entry name: CylinderPET-LM-01-sino-all.mhdr\n",
      "main header entry name: CylinderPET-LM-01-sino.mhdr\n",
      "----------------dkey cannula 0\n",
      "----------------siemens key KanylPET-LM-00\n",
      "sino entry name: CylinderPet-00-PythonHistogram.s\n",
      "sino entry name: KanylPet-00-PythonHistogram.s\n",
      "sino entry name: KanylPET-LM-00-0.s\n",
      "header entry name: KanylPET-LM-00-0.s.hdr\n",
      "sino entry name: KanylPET-LM-00-0to2sec-0.s\n",
      "header entry name: KanylPET-LM-00-0to2sec-0.s.hdr\n",
      "main header entry name: KanylPET-LM-00-OPTOF.mhdr\n",
      "sino entry name: KanylPET-LM-00-sino-0.s\n",
      "header entry name: KanylPET-LM-00-sino-0.s.hdr\n",
      "main header entry name: KanylPET-LM-00-sino-all.mhdr\n",
      "main header entry name: KanylPET-LM-00-sino.mhdr\n",
      "----------------dkey cannula 1\n",
      "----------------siemens key KanylPET-LM-01\n",
      "sino entry name: KanylPET-LM-01-0.s\n",
      "header entry name: KanylPET-LM-01-0.s.hdr\n",
      "sino entry name: KanylPET-LM-01-0to2sec-0.s\n",
      "header entry name: KanylPET-LM-01-0to2sec-0.s.hdr\n",
      "main header entry name: KanylPET-LM-01-OPTOF.mhdr\n",
      "sino entry name: KanylPET-LM-01-sino-0.s\n",
      "header entry name: KanylPET-LM-01-sino-0.s.hdr\n",
      "main header entry name: KanylPET-LM-01-sino-all.mhdr\n",
      "main header entry name: KanylPET-LM-01-sino.mhdr\n",
      "main header entry name: KanylPET-LM-01-umap.mhdr\n"
     ]
    }
   ],
   "source": [
    "sfile = {}\n",
    "mhdr = {}\n",
    "hdr = {}\n",
    "for dkey, path in sino_paths.items():\n",
    "    folder = \"/\".join(path.split(\"/\")[:-1])\n",
    "    siemens_key = path.split(\"/\")[-2]\n",
    "    highlight = \"----------------\"\n",
    "    print(highlight +\"dkey\", dkey)\n",
    "    print(highlight+\"siemens key\", siemens_key)\n",
    "    sfile[dkey] = siemens_key + \"-0.s\"\n",
    "    hdr[dkey] = siemens_key + \"-0.s.hdr\"\n",
    "    mhdr[dkey] = siemens_key + \"-sino.mhdr\"\n",
    "    with os.scandir(folder) as it:\n",
    "        for entry in it:\n",
    "            if entry.is_file():\n",
    "                if entry.name.endswith('.s'):\n",
    "                    print(\"sino entry name:\",  entry.name)\n",
    "                if entry.name.endswith('.s.hdr'):\n",
    "                    print(\"header entry name:\",  entry.name)\n",
    "                if entry.name.endswith('.mhdr'):\n",
    "                    print(\"main header entry name:\",  entry.name)"
   ]
  },
  {
   "cell_type": "code",
   "execution_count": null,
   "metadata": {},
   "outputs": [],
   "source": []
  },
  {
   "cell_type": "code",
   "execution_count": null,
   "metadata": {},
   "outputs": [],
   "source": []
  }
 ],
 "metadata": {
  "kernelspec": {
   "display_name": "Python 3",
   "language": "python",
   "name": "python3"
  },
  "language_info": {
   "codemirror_mode": {
    "name": "ipython",
    "version": 3
   },
   "file_extension": ".py",
   "mimetype": "text/x-python",
   "name": "python",
   "nbconvert_exporter": "python",
   "pygments_lexer": "ipython3",
   "version": "3.7.1"
  }
 },
 "nbformat": 4,
 "nbformat_minor": 4
}
