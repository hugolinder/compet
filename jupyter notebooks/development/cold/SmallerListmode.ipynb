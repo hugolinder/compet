{
 "cells": [
  {
   "cell_type": "code",
   "execution_count": 1,
   "metadata": {},
   "outputs": [],
   "source": [
    "import numpy as np\n",
    "\n",
    "#Hugo code\n",
    "import Utility\n",
    "import PythonKEX"
   ]
  },
  {
   "cell_type": "code",
   "execution_count": 2,
   "metadata": {},
   "outputs": [
    {
     "name": "stdout",
     "output_type": "stream",
     "text": [
      " return list mode paths, sinograms paths, phantom title (Cannula or Cylinder ), and paths to reconstructions \n"
     ]
    }
   ],
   "source": [
    "print(PythonKEX.define_KEX_dataset.__doc__)"
   ]
  },
  {
   "cell_type": "code",
   "execution_count": 5,
   "metadata": {},
   "outputs": [
    {
     "name": "stdout",
     "output_type": "stream",
     "text": [
      "output_path C:\\Users\\petct\\Desktop\\Hugo\\KEX_LM_1000ms/KanylPET-LM-00.l\n",
      "output_path C:\\Users\\petct\\Desktop\\Hugo\\KEX_LM_1000ms/KanylPET-LM-01.l\n",
      "output_path C:\\Users\\petct\\Desktop\\Hugo\\KEX_LM_1000ms/CylinderPET-LM-00.l\n",
      "output_path C:\\Users\\petct\\Desktop\\Hugo\\KEX_LM_1000ms/CylinderPET-LM-01.l\n"
     ]
    }
   ],
   "source": [
    "bIsKanyl = [True,False]\n",
    "destinationFolder = r\"C:\\Users\\petct\\Desktop\\Hugo\\KEX_LM_1000ms/\"\n",
    "for b in bIsKanyl:\n",
    "    #Get data list\n",
    "    LM_paths, sino_paths, phantom_str, recon_paths = PythonKEX.define_KEX_dataset(isKanyl=b)\n",
    "    for path in LM_paths:\n",
    "        with open(path, 'rb') as file:\n",
    "            LM = np.fromfile(file, dtype=np.uint32)\n",
    "        timeSlices = Utility.timeSlices(LM, timeTagsPerSlice=1000)\n",
    "        ts = timeSlices[0]\n",
    "        #write copy of timeslice \n",
    "        output_path = destinationFolder + path.split('/')[-1]\n",
    "        print(\"output_path\", output_path)\n",
    "        with open(output_path, 'wb') as f:\n",
    "            #fast\n",
    "            f.write(ts)\n",
    "            #slow alternative\n",
    "            #for event in input_data:\n",
    "                #f.write(struct.pack('=I', event))"
   ]
  },
  {
   "cell_type": "code",
   "execution_count": null,
   "metadata": {},
   "outputs": [],
   "source": []
  }
 ],
 "metadata": {
  "kernelspec": {
   "display_name": "Python 3",
   "language": "python",
   "name": "python3"
  },
  "language_info": {
   "codemirror_mode": {
    "name": "ipython",
    "version": 3
   },
   "file_extension": ".py",
   "mimetype": "text/x-python",
   "name": "python",
   "nbconvert_exporter": "python",
   "pygments_lexer": "ipython3",
   "version": "3.7.1"
  }
 },
 "nbformat": 4,
 "nbformat_minor": 2
}
