{
 "cells": [
  {
   "cell_type": "code",
   "execution_count": 19,
   "metadata": {},
   "outputs": [],
   "source": [
    "import numpy as np\n",
    "import importlib\n",
    "import matplotlib.pyplot as plt\n",
    "import os\n",
    "import shutil\n",
    "\n",
    "import representation\n",
    "import kex_data\n",
    "import kex_headers\n",
    "import listmode\n",
    "import petlink\n",
    "import position\n",
    "import e7tools\n",
    "import filefit as ff"
   ]
  },
  {
   "cell_type": "code",
   "execution_count": 20,
   "metadata": {},
   "outputs": [],
   "source": [
    "limo = kex_data.get_listmode()"
   ]
  },
  {
   "cell_type": "code",
   "execution_count": 21,
   "metadata": {},
   "outputs": [],
   "source": [
    "#limo = {k: v[:100*1000] for k,v in limo.items()} #subset for testing"
   ]
  },
  {
   "cell_type": "code",
   "execution_count": 22,
   "metadata": {},
   "outputs": [],
   "source": [
    "limo_recon = {k: listmode.get_fov_image_bins(v) for k,v in limo.items()}"
   ]
  },
  {
   "cell_type": "code",
   "execution_count": 23,
   "metadata": {},
   "outputs": [],
   "source": [
    "toflor = {k: v['tof_lor'] for k,v in limo_recon.items()}\n",
    "prompts = {k: v['tof_lor'][:, v['is_prompt']] for k,v in limo_recon.items()}"
   ]
  },
  {
   "cell_type": "code",
   "execution_count": 24,
   "metadata": {},
   "outputs": [],
   "source": [
    "limo_com = {k: position.listmode_center(v['fov_image_bins']) for k,v in limo_recon.items()}"
   ]
  },
  {
   "cell_type": "code",
   "execution_count": 25,
   "metadata": {},
   "outputs": [
    {
     "ename": "MemoryError",
     "evalue": "Unable to allocate 138. MiB for an array with shape (36099939,) and data type int32",
     "output_type": "error",
     "traceback": [
      "\u001b[1;31m---------------------------------------------------------------------------\u001b[0m",
      "\u001b[1;31mMemoryError\u001b[0m                               Traceback (most recent call last)",
      "\u001b[1;32m<ipython-input-25-519ffdaf1a55>\u001b[0m in \u001b[0;36m<module>\u001b[1;34m\u001b[0m\n\u001b[0;32m     10\u001b[0m         \u001b[0mtranslation\u001b[0m \u001b[1;33m=\u001b[0m \u001b[0mref\u001b[0m \u001b[1;33m-\u001b[0m \u001b[0mpos\u001b[0m \u001b[1;31m#move to reference, pos + (ref - pos) = ref + 0\u001b[0m\u001b[1;33m\u001b[0m\u001b[1;33m\u001b[0m\u001b[0m\n\u001b[0;32m     11\u001b[0m         \u001b[0mtranslation_mm\u001b[0m \u001b[1;33m=\u001b[0m \u001b[0mtranslation\u001b[0m\u001b[1;33m*\u001b[0m\u001b[0mkex_headers\u001b[0m\u001b[1;33m.\u001b[0m\u001b[0mMM_PER_PIXEL\u001b[0m\u001b[1;33m\u001b[0m\u001b[1;33m\u001b[0m\u001b[0m\n\u001b[1;32m---> 12\u001b[1;33m         \u001b[0mmoved_toflor\u001b[0m\u001b[1;33m,\u001b[0m \u001b[0mis_fov\u001b[0m \u001b[1;33m=\u001b[0m \u001b[0mrepresentation\u001b[0m\u001b[1;33m.\u001b[0m\u001b[0mmove_translation\u001b[0m\u001b[1;33m(\u001b[0m\u001b[0mprompts\u001b[0m\u001b[1;33m[\u001b[0m\u001b[0mdkey\u001b[0m\u001b[1;33m]\u001b[0m\u001b[1;33m,\u001b[0m \u001b[0mtranslation_mm\u001b[0m\u001b[1;33m)\u001b[0m\u001b[1;33m\u001b[0m\u001b[1;33m\u001b[0m\u001b[0m\n\u001b[0m\u001b[0;32m     13\u001b[0m         \u001b[0mmix\u001b[0m \u001b[1;33m=\u001b[0m \u001b[0mlistmode\u001b[0m\u001b[1;33m.\u001b[0m\u001b[0mjoin_gates\u001b[0m\u001b[1;33m(\u001b[0m\u001b[1;33m(\u001b[0m\u001b[0mmix\u001b[0m\u001b[1;33m,\u001b[0m \u001b[0mmoved_toflor\u001b[0m\u001b[1;33m[\u001b[0m\u001b[1;33m:\u001b[0m\u001b[1;33m,\u001b[0m \u001b[0mis_fov\u001b[0m\u001b[1;33m]\u001b[0m\u001b[1;33m)\u001b[0m\u001b[1;33m)\u001b[0m\u001b[1;33m\u001b[0m\u001b[1;33m\u001b[0m\u001b[0m\n\u001b[0;32m     14\u001b[0m         \u001b[0mmix\u001b[0m \u001b[1;33m=\u001b[0m \u001b[0mlistmode\u001b[0m\u001b[1;33m.\u001b[0m\u001b[0mjoin_gates\u001b[0m\u001b[1;33m(\u001b[0m\u001b[1;33m(\u001b[0m\u001b[0mmix\u001b[0m\u001b[1;33m,\u001b[0m \u001b[0mtoflor\u001b[0m\u001b[1;33m[\u001b[0m\u001b[0mdkey\u001b[0m\u001b[1;33m]\u001b[0m\u001b[1;33m[\u001b[0m\u001b[1;33m:\u001b[0m\u001b[1;33m,\u001b[0m \u001b[0mlimo_recon\u001b[0m\u001b[1;33m[\u001b[0m\u001b[0mdkey\u001b[0m\u001b[1;33m]\u001b[0m\u001b[1;33m[\u001b[0m\u001b[1;34m'is_prompt'\u001b[0m\u001b[1;33m]\u001b[0m\u001b[1;33m==\u001b[0m\u001b[1;32mFalse\u001b[0m\u001b[1;33m]\u001b[0m\u001b[1;33m)\u001b[0m\u001b[1;33m)\u001b[0m\u001b[1;33m\u001b[0m\u001b[1;33m\u001b[0m\u001b[0m\n",
      "\u001b[1;32m~\\Desktop\\Hugo\\Code\\PythonMEX\\representation.py\u001b[0m in \u001b[0;36mmove_translation\u001b[1;34m(toflor_bins_a, translation, scan_dict, verbose)\u001b[0m\n\u001b[0;32m     41\u001b[0m         \u001b[0mprint\u001b[0m\u001b[1;33m(\u001b[0m\u001b[1;34m\"image bins a\"\u001b[0m\u001b[1;33m,\u001b[0m \u001b[0mimage_bins_a\u001b[0m\u001b[1;33m)\u001b[0m\u001b[1;33m\u001b[0m\u001b[1;33m\u001b[0m\u001b[0m\n\u001b[0;32m     42\u001b[0m         \u001b[0mprint\u001b[0m\u001b[1;33m(\u001b[0m\u001b[1;34m\"image bins b\"\u001b[0m\u001b[1;33m,\u001b[0m \u001b[0mimage_bins_b\u001b[0m\u001b[1;33m)\u001b[0m\u001b[1;33m\u001b[0m\u001b[1;33m\u001b[0m\u001b[0m\n\u001b[1;32m---> 43\u001b[1;33m     \u001b[1;32mreturn\u001b[0m \u001b[0mtransform_toflor\u001b[0m\u001b[1;33m(\u001b[0m\u001b[0mtoflor_bins_a\u001b[0m\u001b[1;33m,\u001b[0m \u001b[0mnatural_units\u001b[0m\u001b[1;33m,\u001b[0m \u001b[0maxes\u001b[0m\u001b[1;33m,\u001b[0m \u001b[0mimage_bins_a\u001b[0m\u001b[1;33m,\u001b[0m \u001b[0mimage_bins_b\u001b[0m\u001b[1;33m,\u001b[0m \u001b[0mscan_dict\u001b[0m\u001b[1;33m,\u001b[0m \u001b[0mverbose\u001b[0m\u001b[1;33m=\u001b[0m\u001b[0mverbose\u001b[0m\u001b[1;33m)\u001b[0m\u001b[1;33m\u001b[0m\u001b[1;33m\u001b[0m\u001b[0m\n\u001b[0m\u001b[0;32m     44\u001b[0m \u001b[1;33m\u001b[0m\u001b[0m\n\u001b[0;32m     45\u001b[0m \u001b[1;32mdef\u001b[0m \u001b[0mget_img_bins2\u001b[0m\u001b[1;33m(\u001b[0m\u001b[0mtof_lor_bins\u001b[0m\u001b[1;33m,\u001b[0m \u001b[0mtimealign\u001b[0m\u001b[1;33m=\u001b[0m\u001b[1;32mTrue\u001b[0m\u001b[1;33m,\u001b[0m \u001b[0mverbose\u001b[0m\u001b[1;33m=\u001b[0m\u001b[1;32mFalse\u001b[0m\u001b[1;33m,\u001b[0m \u001b[0marc\u001b[0m\u001b[1;33m=\u001b[0m\u001b[1;32mTrue\u001b[0m\u001b[1;33m)\u001b[0m\u001b[1;33m:\u001b[0m\u001b[1;33m\u001b[0m\u001b[1;33m\u001b[0m\u001b[0m\n",
      "\u001b[1;32m~\\Desktop\\Hugo\\Code\\PythonMEX\\representation.py\u001b[0m in \u001b[0;36mtransform_toflor\u001b[1;34m(toflor_bins_a, natural_toflor_a, axes, image_a, image_b, scan_dict, verbose)\u001b[0m\n\u001b[0;32m     26\u001b[0m     \u001b[0mmidpoint\u001b[0m \u001b[1;33m=\u001b[0m \u001b[0mimage_b\u001b[0m \u001b[1;33m-\u001b[0m \u001b[0mt\u001b[0m\u001b[1;33m*\u001b[0m\u001b[0maxes\u001b[0m\u001b[1;33m[\u001b[0m\u001b[1;34m'T'\u001b[0m\u001b[1;33m]\u001b[0m\u001b[1;33m\u001b[0m\u001b[1;33m\u001b[0m\u001b[0m\n\u001b[0;32m     27\u001b[0m     \u001b[0mnatural_toflor_b\u001b[0m\u001b[1;33m[\u001b[0m\u001b[1;34m'rm'\u001b[0m\u001b[1;33m]\u001b[0m \u001b[1;33m=\u001b[0m \u001b[0mmidpoint\u001b[0m\u001b[1;33m[\u001b[0m\u001b[1;36m0\u001b[0m\u001b[1;33m]\u001b[0m\u001b[1;33m\u001b[0m\u001b[1;33m\u001b[0m\u001b[0m\n\u001b[1;32m---> 28\u001b[1;33m     \u001b[1;32mreturn\u001b[0m \u001b[0mget_toflor_bins\u001b[0m\u001b[1;33m(\u001b[0m\u001b[0mnatural_toflor_b\u001b[0m\u001b[1;33m,\u001b[0m \u001b[0mscan_dict\u001b[0m\u001b[1;33m,\u001b[0m \u001b[0mverbose\u001b[0m\u001b[1;33m)\u001b[0m \u001b[1;31m# from natural units to data bins\u001b[0m\u001b[1;33m\u001b[0m\u001b[1;33m\u001b[0m\u001b[0m\n\u001b[0m\u001b[0;32m     29\u001b[0m \u001b[1;33m\u001b[0m\u001b[0m\n\u001b[0;32m     30\u001b[0m \u001b[1;32mdef\u001b[0m \u001b[0mmove_translation\u001b[0m\u001b[1;33m(\u001b[0m\u001b[0mtoflor_bins_a\u001b[0m\u001b[1;33m,\u001b[0m \u001b[0mtranslation\u001b[0m\u001b[1;33m,\u001b[0m \u001b[0mscan_dict\u001b[0m\u001b[1;33m=\u001b[0m\u001b[1;32mNone\u001b[0m\u001b[1;33m,\u001b[0m \u001b[0mverbose\u001b[0m\u001b[1;33m=\u001b[0m\u001b[1;32mFalse\u001b[0m\u001b[1;33m)\u001b[0m\u001b[1;33m:\u001b[0m\u001b[1;33m\u001b[0m\u001b[1;33m\u001b[0m\u001b[0m\n",
      "\u001b[1;32m~\\Desktop\\Hugo\\Code\\PythonMEX\\representation.py\u001b[0m in \u001b[0;36mget_toflor_bins\u001b[1;34m(natural_toflor, scan_dict, verbose)\u001b[0m\n\u001b[0;32m    351\u001b[0m     \u001b[0mmi_bin\u001b[0m \u001b[1;33m=\u001b[0m \u001b[0mmin_mi\u001b[0m\u001b[1;33m[\u001b[0m\u001b[0msegment_bin\u001b[0m\u001b[1;33m]\u001b[0m \u001b[1;33m+\u001b[0m \u001b[0maxial_position\u001b[0m\u001b[1;33m\u001b[0m\u001b[1;33m\u001b[0m\u001b[0m\n\u001b[0;32m    352\u001b[0m     \u001b[0mis_mi_fov\u001b[0m \u001b[1;33m=\u001b[0m \u001b[1;33m(\u001b[0m\u001b[0mmi_bin\u001b[0m \u001b[1;33m>\u001b[0m \u001b[1;33m(\u001b[0m\u001b[0mmin_mi\u001b[0m\u001b[1;33m[\u001b[0m\u001b[0msegment_bin\u001b[0m\u001b[1;33m]\u001b[0m\u001b[1;33m-\u001b[0m\u001b[1;36m1\u001b[0m\u001b[1;33m)\u001b[0m\u001b[1;33m)\u001b[0m\u001b[1;33m*\u001b[0m\u001b[1;33m(\u001b[0m\u001b[0mmi_bin\u001b[0m \u001b[1;33m<\u001b[0m \u001b[0mupper_bound_mi\u001b[0m\u001b[1;33m[\u001b[0m\u001b[0msegment_bin\u001b[0m\u001b[1;33m]\u001b[0m\u001b[1;33m)\u001b[0m\u001b[1;33m\u001b[0m\u001b[1;33m\u001b[0m\u001b[0m\n\u001b[1;32m--> 353\u001b[1;33m     \u001b[0mtx_bin\u001b[0m \u001b[1;33m=\u001b[0m \u001b[0mget_bins\u001b[0m\u001b[1;33m(\u001b[0m\u001b[1;33m(\u001b[0m\u001b[0mnatural_toflor\u001b[0m\u001b[1;33m[\u001b[0m\u001b[1;34m\"tx\"\u001b[0m\u001b[1;33m]\u001b[0m\u001b[1;33m/\u001b[0m\u001b[0mscan_dict\u001b[0m\u001b[1;33m[\u001b[0m\u001b[1;34m\"tx rad\"\u001b[0m\u001b[1;33m]\u001b[0m\u001b[1;33m)\u001b[0m \u001b[1;33m-\u001b[0m\u001b[0mscan_dict\u001b[0m\u001b[1;33m[\u001b[0m\u001b[1;34m\"tx center\"\u001b[0m\u001b[1;33m]\u001b[0m\u001b[1;33m)\u001b[0m\u001b[1;33m\u001b[0m\u001b[1;33m\u001b[0m\u001b[0m\n\u001b[0m\u001b[0;32m    354\u001b[0m     \u001b[0mro\u001b[0m \u001b[1;33m=\u001b[0m \u001b[0mnatural_toflor\u001b[0m\u001b[1;33m[\u001b[0m\u001b[1;34m'ro'\u001b[0m\u001b[1;33m]\u001b[0m\u001b[1;33m\u001b[0m\u001b[1;33m\u001b[0m\u001b[0m\n\u001b[0;32m    355\u001b[0m     \u001b[0mis_ro_fov\u001b[0m \u001b[1;33m=\u001b[0m \u001b[1;33m(\u001b[0m\u001b[0mro\u001b[0m \u001b[1;33m<\u001b[0m \u001b[0mscan_dict\u001b[0m\u001b[1;33m[\u001b[0m\u001b[1;34m'radius'\u001b[0m\u001b[1;33m]\u001b[0m\u001b[1;33m)\u001b[0m\u001b[1;33m*\u001b[0m\u001b[1;33m(\u001b[0m\u001b[1;33m-\u001b[0m\u001b[0mro\u001b[0m \u001b[1;33m<\u001b[0m \u001b[0mscan_dict\u001b[0m\u001b[1;33m[\u001b[0m\u001b[1;34m'radius'\u001b[0m\u001b[1;33m]\u001b[0m\u001b[1;33m)\u001b[0m\u001b[1;33m\u001b[0m\u001b[1;33m\u001b[0m\u001b[0m\n",
      "\u001b[1;32m~\\Desktop\\Hugo\\Code\\PythonMEX\\representation.py\u001b[0m in \u001b[0;36mget_bins\u001b[1;34m(float_data)\u001b[0m\n\u001b[0;32m    325\u001b[0m \u001b[1;33m\u001b[0m\u001b[0m\n\u001b[0;32m    326\u001b[0m \u001b[1;32mdef\u001b[0m \u001b[0mget_bins\u001b[0m\u001b[1;33m(\u001b[0m\u001b[0mfloat_data\u001b[0m\u001b[1;33m)\u001b[0m\u001b[1;33m:\u001b[0m\u001b[1;33m\u001b[0m\u001b[1;33m\u001b[0m\u001b[0m\n\u001b[1;32m--> 327\u001b[1;33m     \u001b[1;32mreturn\u001b[0m \u001b[0mnp\u001b[0m\u001b[1;33m.\u001b[0m\u001b[0mround\u001b[0m\u001b[1;33m(\u001b[0m\u001b[0mfloat_data\u001b[0m\u001b[1;33m)\u001b[0m\u001b[1;33m.\u001b[0m\u001b[0mastype\u001b[0m\u001b[1;33m(\u001b[0m\u001b[0mint\u001b[0m\u001b[1;33m)\u001b[0m\u001b[1;33m\u001b[0m\u001b[1;33m\u001b[0m\u001b[0m\n\u001b[0m\u001b[0;32m    328\u001b[0m \u001b[1;33m\u001b[0m\u001b[0m\n\u001b[0;32m    329\u001b[0m \u001b[1;32mdef\u001b[0m \u001b[0mget_toflor_bins\u001b[0m\u001b[1;33m(\u001b[0m\u001b[0mnatural_toflor\u001b[0m\u001b[1;33m,\u001b[0m \u001b[0mscan_dict\u001b[0m\u001b[1;33m,\u001b[0m \u001b[0mverbose\u001b[0m\u001b[1;33m=\u001b[0m\u001b[1;32mFalse\u001b[0m\u001b[1;33m)\u001b[0m\u001b[1;33m:\u001b[0m\u001b[1;33m\u001b[0m\u001b[1;33m\u001b[0m\u001b[0m\n",
      "\u001b[1;31mMemoryError\u001b[0m: Unable to allocate 138. MiB for an array with shape (36099939,) and data type int32"
     ]
    }
   ],
   "source": [
    "#move gate 1 to gate 0\n",
    "ref = np.zeros(3)\n",
    "translation = np.zeros(3)\n",
    "limo_mix = {}\n",
    "for dkey,pos in limo_com.items():\n",
    "    if dkey.endswith('0'):\n",
    "        ref = pos\n",
    "        mix = toflor[dkey]\n",
    "    else:\n",
    "        translation = ref - pos #move to reference, pos + (ref - pos) = ref + 0\n",
    "        translation_mm = translation*kex_headers.MM_PER_PIXEL\n",
    "        moved_toflor, is_fov = representation.move_translation(prompts[dkey], translation_mm)\n",
    "        mix = listmode.join_gates((mix, moved_toflor[:, is_fov]))\n",
    "        mix = listmode.join_gates((mix, toflor[dkey][:, limo_recon[dkey]['is_prompt']==False]))\n",
    "        if dkey.endswith('1'):\n",
    "            pkey = dkey.split(\" \")[0] \n",
    "            limo_mix[pkey] = mix"
   ]
  },
  {
   "cell_type": "code",
   "execution_count": null,
   "metadata": {},
   "outputs": [],
   "source": [
    "#convert into sinogram\n",
    "shape = kex_headers.HISTOGRAM_SHAPE\n",
    "mc_sinograms = {k: listmode.get_histogram(v, shape, dtype=np.uint16) for k,v in limo_mix.items()}"
   ]
  },
  {
   "cell_type": "code",
   "execution_count": null,
   "metadata": {},
   "outputs": [],
   "source": [
    "hdrs = kex_data.get_sino_hdrs()\n",
    "mhdrs = kex_data.get_sino_mainhdrs()\n",
    "for h,m in zip(hdrs, mhdrs):\n",
    "    filling = [h,m]\n",
    "    mc_dir = r\"C:/Users/petct/Desktop/Hugo/Code/PythonMEX/motion_corrected\"\n",
    "    ff.prep_folder(mc_dir, filling)"
   ]
  },
  {
   "cell_type": "code",
   "execution_count": null,
   "metadata": {},
   "outputs": [],
   "source": [
    "#account for 2 gates of data in gate 0 timewindow of 61 seconds\n",
    "header_fix = True\n",
    "if not header_fix:\n",
    "    mc_sinograms = {k: v//2 for k, v in mc_sinograms.items()} #instead of double time in sinogram\n",
    "else:\n",
    "    header_paths = kex_data.get_sino_hdrs()\n",
    "    header_paths = ff.refolder_paths(paths=header_paths, folder=mc_dir)\n",
    "    for path in header_paths:\n",
    "        with open(path, 'rt') as f:\n",
    "            lines = f.readlines()\n",
    "            for k, line in enumerate(lines):\n",
    "                print(line[:-1])\n",
    "                keys = [\"!image duration (sec):=60\", \"%image duration from timing tags (msec):=60014\"]\n",
    "                for key in keys:\n",
    "                    if key in line:\n",
    "                        lines[k] = line.replace(\"60\", str(2*60))\n",
    "                        print(\"------to do: double time at k={}\".format(k))\n",
    "                        print(lines[k])\n",
    "                        break\n",
    "        with open(path, 'wt') as f:\n",
    "            for line in lines:\n",
    "                f.write(line)"
   ]
  },
  {
   "cell_type": "code",
   "execution_count": null,
   "metadata": {},
   "outputs": [],
   "source": [
    "#check before saving and reconstructing\n",
    "fig, axes = plt.subplots(ncols=2, figsize=(20,4))\n",
    "axes = dict(zip(kex_data.PHANTOM_KEYS, axes))\n",
    "for pkey, ax in axes.items():\n",
    "    tof= 0\n",
    "    mi = 50\n",
    "    im = ax.imshow(mc_sinograms[pkey][tof, mi])\n",
    "    ax.set_xlabel(\"transaxial angle\")\n",
    "    ax.set_ylabel(\"radial offset\")\n",
    "    fig.colorbar(im, ax=ax)"
   ]
  },
  {
   "cell_type": "code",
   "execution_count": null,
   "metadata": {},
   "outputs": [],
   "source": [
    "#save to ref\n",
    "ref = 0\n",
    "sino_paths = kex_data.get_sino_paths()\n",
    "sino_paths = ff.refolder_paths(mc_dir, sino_paths)\n",
    "sino_paths = dict(zip(kex_data.DATA_KEYS, sino_paths))\n",
    "for pkey in kex_data.PHANTOM_KEYS:\n",
    "    dkey = pkey + \" \" + kex_data.GATE_KEYS[ref]\n",
    "    output_path = sino_paths[dkey]\n",
    "    print(output_path)\n",
    "    with open(output_path, 'wb') as file:\n",
    "        sino = mc_sinograms[pkey].astype('uint16')\n",
    "        file.write(sino)"
   ]
  },
  {
   "cell_type": "code",
   "execution_count": null,
   "metadata": {
    "scrolled": true
   },
   "outputs": [],
   "source": [
    "#reconstruct with e7tools\n",
    "mc_mhdrs = ff.refolder_paths(mc_dir, kex_data.get_sino_mainhdrs())\n",
    "mc_mhdrs = dict(zip(kex_data.DATA_KEYS, mc_mhdrs))\n",
    "for pkey,dcr in zip(kex_data.PHANTOM_KEYS, kex_data.RECON_DCR[::2]):\n",
    "    dkey = pkey + \" \" + kex_data.GATE_KEYS[ref]\n",
    "    image_path = mc_dir + \"/\"+pkey\n",
    "    npath = kex_data.NORM_PATH\n",
    "    print(\"return code\", \n",
    "          e7tools.kex_recon(mc_mhdrs[dkey], npath, image_path, verbose=False, dcr=dcr))"
   ]
  },
  {
   "cell_type": "code",
   "execution_count": null,
   "metadata": {},
   "outputs": [],
   "source": [
    "#get reconstructions\n",
    "import filefit as ff\n",
    "vfiles = []\n",
    "with os.scandir(mc_dir) as it:\n",
    "    for entry in it:\n",
    "        if entry.is_file() and entry.name.endswith('.v'):\n",
    "            print(\"v file\", entry.name)\n",
    "            vfiles.append(entry.name)\n",
    "vfiles = dict(zip(kex_data.PHANTOM_KEYS, vfiles[::-1]))\n",
    "mc_recon = {k: ff.get_v_data(mc_dir+\"/\"+v) for k,v in vfiles.items()}"
   ]
  },
  {
   "cell_type": "code",
   "execution_count": null,
   "metadata": {},
   "outputs": [],
   "source": [
    "import volume_view as vv\n",
    "importlib.reload(vv)\n",
    "import visual\n",
    "importlib.reload(visual)\n",
    "def my_plot(img_dict, pos = [47,120,100], **imshowkwargs):\n",
    "    nims = len(img_dict)\n",
    "    fig, axes = plt.subplots(nrows=nims, ncols=3, figsize=(20, 7*nims))\n",
    "    for (key,img), row in zip(img_dict.items(), axes):\n",
    "        dimlabels = 'zyx'\n",
    "        views = vv.plot_views(img, \n",
    "                      position=pos,\n",
    "                      axes=row, \n",
    "                      dimlabels=dimlabels, \n",
    "                      img_title=key, **imshowkwargs)\n",
    "        visual.same_colorbar(fig, views, row, **imshowkwargs)"
   ]
  },
  {
   "cell_type": "code",
   "execution_count": null,
   "metadata": {},
   "outputs": [],
   "source": [
    "#my_plot(mc_recon, [47,120, 100], **{'clim':[0, 1600]})\n",
    "my_plot(mc_recon)"
   ]
  },
  {
   "cell_type": "code",
   "execution_count": null,
   "metadata": {},
   "outputs": [],
   "source": [
    "importlib.reload(kex_data)\n",
    "ref_v_recon = kex_data.get_v_data()\n",
    "_,_, dicom_paths = kex_data.paths()\n",
    "print(dicom_paths)\n",
    "print(ref_v_recon.keys())"
   ]
  },
  {
   "cell_type": "code",
   "execution_count": null,
   "metadata": {},
   "outputs": [],
   "source": [
    "ref_dict = {pkey: ref_v_recon[pkey+\" 0\"] for pkey in kex_data.PHANTOM_KEYS}\n",
    "#my_plot(ref_dict, [47,120, 100], **{'clim':[0, 1600]})\n",
    "my_plot(ref_dict)"
   ]
  },
  {
   "cell_type": "code",
   "execution_count": null,
   "metadata": {},
   "outputs": [],
   "source": []
  }
 ],
 "metadata": {
  "kernelspec": {
   "display_name": "Python 3",
   "language": "python",
   "name": "python3"
  },
  "language_info": {
   "codemirror_mode": {
    "name": "ipython",
    "version": 3
   },
   "file_extension": ".py",
   "mimetype": "text/x-python",
   "name": "python",
   "nbconvert_exporter": "python",
   "pygments_lexer": "ipython3",
   "version": "3.7.1"
  }
 },
 "nbformat": 4,
 "nbformat_minor": 4
}
