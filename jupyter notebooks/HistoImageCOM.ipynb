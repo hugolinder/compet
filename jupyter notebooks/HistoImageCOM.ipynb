{
 "cells": [
  {
   "cell_type": "code",
   "execution_count": 1,
   "metadata": {},
   "outputs": [
    {
     "ename": "ModuleNotFoundError",
     "evalue": "No module named 'Datasets'",
     "output_type": "error",
     "traceback": [
      "\u001b[1;31m---------------------------------------------------------------------------\u001b[0m",
      "\u001b[1;31mModuleNotFoundError\u001b[0m                       Traceback (most recent call last)",
      "\u001b[1;32m<ipython-input-1-1ce5c882a0bb>\u001b[0m in \u001b[0;36m<module>\u001b[1;34m\u001b[0m\n\u001b[0;32m     17\u001b[0m \u001b[1;31m#Hugo code\u001b[0m\u001b[1;33m\u001b[0m\u001b[1;33m\u001b[0m\u001b[1;33m\u001b[0m\u001b[0m\n\u001b[0;32m     18\u001b[0m \u001b[1;32mimport\u001b[0m \u001b[0mUtility\u001b[0m\u001b[1;33m\u001b[0m\u001b[1;33m\u001b[0m\u001b[0m\n\u001b[1;32m---> 19\u001b[1;33m \u001b[1;32mimport\u001b[0m \u001b[0mDatasets\u001b[0m\u001b[1;33m\u001b[0m\u001b[1;33m\u001b[0m\u001b[0m\n\u001b[0m",
      "\u001b[1;31mModuleNotFoundError\u001b[0m: No module named 'Datasets'"
     ]
    }
   ],
   "source": [
    "import numpy as np\n",
    "\n",
    "#visuals\n",
    "import matplotlib.pyplot as plt\n",
    "import matplotlib.image as mpimg\n",
    "from mpl_toolkits.mplot3d import Axes3D\n",
    "import matplotlib\n",
    "matplotlib.rcParams.update({'font.size': 10})\n",
    "\n",
    "#Interactive\n",
    "from ipywidgets.widgets import * \n",
    "import ipywidgets as widgets\n",
    "\n",
    "#is vectorization useful here?\n",
    "import time\n",
    "\n",
    "#Hugo code\n",
    "import Utility\n",
    "import Datasets "
   ]
  },
  {
   "cell_type": "code",
   "execution_count": null,
   "metadata": {},
   "outputs": [],
   "source": [
    "#load data\n",
    "\n",
    "#split into timeslices\n",
    "\n",
    "# convert each LM timeslice to histo image (list mode histo image bins)\n",
    "\n",
    "#new!!! normalize sinogram\n",
    "\n",
    "# calculate center of mass (for valid image points in FOV)\n",
    "\n",
    "#calculate center of mass for reconstruction\n",
    "\n",
    "# plot time curves for each dimension and compare with recon COM\n",
    "\n",
    "#plot the points in 3D"
   ]
  },
  {
   "cell_type": "code",
   "execution_count": null,
   "metadata": {},
   "outputs": [],
   "source": [
    "#load data\n",
    "#define dataset (phantom)\n",
    "LM_data, LM_paths = Datasets.KEX_listmode_files()"
   ]
  },
  {
   "cell_type": "code",
   "execution_count": null,
   "metadata": {},
   "outputs": [],
   "source": [
    "#split into timeslices\n",
    "#can be made more efficient\n",
    "print(Utility.timeSlices.__doc__)\n",
    "#each time tag is 1 ms\n",
    "timeTagsPerSlice = 1000\n",
    "time_slices = []\n",
    "first_events = []\n",
    "for L in LM_data:\n",
    "    #print(L)\n",
    "    ts = Utility.timeSlices(L, timeTagsPerSlice=timeTagsPerSlice)\n",
    "    time_slices.append(ts)"
   ]
  },
  {
   "cell_type": "code",
   "execution_count": null,
   "metadata": {},
   "outputs": [],
   "source": [
    "#calculate COM of recon for comparison\n",
    "recon_COM = []\n",
    "recon, recon_path = Datasets.KEX_reconstructions()\n",
    "for r in recon:\n",
    "    com =Utility.CenterOfMassMultiplication(r, verbose=False, convert_to_datatype=np.int64)\n",
    "    print(\"center of mass\", com)\n",
    "    recon_COM.append(com)"
   ]
  },
  {
   "cell_type": "code",
   "execution_count": null,
   "metadata": {},
   "outputs": [],
   "source": [
    "#calculate center of mass for each time slice of histo image\n",
    "#this takes some time\n",
    "verbose = False\n",
    "if verbose:\n",
    "    print(\"documentation\\n\", Utility.events.__doc__)\n",
    "    print(Utility.binAddresToProjectionSpace.__doc__)\n",
    "    print(Utility.imageBinFromHistogramBin.__doc__)\n",
    "    print(Utility.bValidBin.__doc__)\n",
    "time_a = time.time()\n",
    "COM_traces = []\n",
    "total_event_count = 0\n",
    "if True:\n",
    "    for ts in time_slices:\n",
    "        COM = np.zeros((3,len(ts)))\n",
    "        #this step can maybe be vectorized? No, unfortunately, the number of events per time slice differs.\n",
    "        #but it might be possible at a prior step. Do not split the data into timeslices before necessary\n",
    "        #so I need to find the index of the first event per time slice. \n",
    "        #I fail to see the benefits of this, as a for loop would still be necessary  \n",
    "\n",
    "        for k,mini_gate in enumerate(ts):\n",
    "            events = Utility.events(mini_gate)\n",
    "            total_event_count += len(events)\n",
    "            histogram_bins = Utility.binAddresToProjectionSpace(np.array(events,dtype=int))\n",
    "            histo_image_bins = Utility.imageBinFromHistogramBin(histogram_bins, delays=True)\n",
    "            valid_image_bins = histo_image_bins[:,Utility.bValidBin(histo_image_bins, Utility.IMAGE_SHAPE)]\n",
    "            COM[:,k] = np.mean(valid_image_bins, axis=1)\n",
    "        COM_traces.append(COM)\n",
    "        \n",
    "        # elapsed time 26.202388763427734 for 74789598events\n",
    "        # elapsed time 12.284845113754272 for 33629375events\n",
    "else:\n",
    "    for k,L in enumerate(LM_data):\n",
    "        events = Utility.events(L)\n",
    "        histogram_bins = Utility.binAddresToProjectionSpace(np.array(events,dtype=int))\n",
    "        histo_image_bins = Utility.imageBinFromHistogramBin(histogram_bins, delays=True)\n",
    "        bValidBin = Utility.bValidBin(histo_image_bins, Utility.IMAGE_SHAPE)\n",
    "        event_count = 0\n",
    "        valid_event_count = 0\n",
    "        first_event = [event_count]\n",
    "        first_valid_event = [valid_event_count]\n",
    "        for j,ts in enumerate(time_slices[k]):\n",
    "            number_of_events_in_slice = len(ts)\n",
    "            valid_event_count += np.sum(bValidBin[event_count:event_count+number_of_events_in_slice])\n",
    "            first_valid_event.append(valid_event_count)\n",
    "            event_count += number_of_events_in_slice\n",
    "            first_event.append(event_count)\n",
    "        \n",
    "        valid_image_bins = histo_image_bins[:,bValidBin]\n",
    "        \n",
    "        split_image_bins = np.split( valid_image_bins, first_valid_event[1:-1],axis=1)\n",
    "        COM = np.zeros((3,len(split_image_bins)))\n",
    "        for k,img_bins in enumerate(split_image_bins):\n",
    "            if len(img_bins) > 0:\n",
    "                COM[:,k] = np.mean(img_bins, axis=1)\n",
    "        COM_traces.append(COM)\n",
    "        total_event_count += event_count\n",
    "        \n",
    "        #slightly faster, but does not work correctly\n",
    "        # elapsed time 24.627336025238037 for 75366047events\n",
    "time_b = time.time()\n",
    "print(\"elapsed time \" + str(time_b-time_a) +\" for \" + str(total_event_count) + \"events\")"
   ]
  },
  {
   "cell_type": "code",
   "execution_count": null,
   "metadata": {},
   "outputs": [],
   "source": [
    "print(COM_traces[0].shape)\n",
    "print(recon_COM[1])\n"
   ]
  },
  {
   "cell_type": "code",
   "execution_count": null,
   "metadata": {},
   "outputs": [],
   "source": [
    "#plot the COM\n",
    "plt.figure(figsize=(15,10))\n",
    "xlabel = \"time slice number\\n\" + str(timeTagsPerSlice) + \" ms per slice\"\n",
    "legends = [\"histo image\", \"recon\"]\n",
    "reset_ylim = [False,True]\n",
    "columns = len(reset_ylim)\n",
    "\n",
    "for d,dim_str in enumerate(Utility.IMAGE_DIMENSION_TITLES):\n",
    "\n",
    "    for k,redo_y in enumerate(reset_ylim):\n",
    "        plot_legends = []\n",
    "        hline_legends = []\n",
    "        b = 0\n",
    "        plt.subplot(3,columns,columns*d+1+k)\n",
    "        if redo_y:\n",
    "                plt.ylim(0,Utility.IMAGE_SHAPE[d])\n",
    "        for gate_number, com in enumerate(COM_traces):\n",
    "            a = b\n",
    "            b += len(com[d])\n",
    "            plt.plot(np.arange(a,b), com[d])\n",
    "            plot_legends.append(\"histo. image gate \" + str(gate_number))\n",
    "            plt.hlines(recon_COM[gate_number][d], a, b)\n",
    "            hline_legends.append(\"recon. gate \" + str(gate_number))\n",
    "        plt.legend(plot_legends+hline_legends)\n",
    "        plt.ylabel(dim_str)\n",
    "        plt.xlabel(xlabel)\n",
    "    \n",
    "plt.suptitle(phantom_str)\n",
    "plt.show()"
   ]
  },
  {
   "cell_type": "code",
   "execution_count": null,
   "metadata": {},
   "outputs": [],
   "source": [
    "print(recon_COM[0][1])\n",
    "print(recon_COM[1][1])"
   ]
  },
  {
   "cell_type": "code",
   "execution_count": null,
   "metadata": {},
   "outputs": [],
   "source": []
  },
  {
   "cell_type": "code",
   "execution_count": null,
   "metadata": {},
   "outputs": [],
   "source": []
  }
 ],
 "metadata": {
  "kernelspec": {
   "display_name": "Python 3",
   "language": "python",
   "name": "python3"
  },
  "language_info": {
   "codemirror_mode": {
    "name": "ipython",
    "version": 3
   },
   "file_extension": ".py",
   "mimetype": "text/x-python",
   "name": "python",
   "nbconvert_exporter": "python",
   "pygments_lexer": "ipython3",
   "version": "3.7.1"
  }
 },
 "nbformat": 4,
 "nbformat_minor": 2
}
