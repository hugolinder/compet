{
 "cells": [
  {
   "cell_type": "code",
   "execution_count": 1,
   "metadata": {},
   "outputs": [],
   "source": [
    "import numpy as np\n",
    "import importlib\n",
    "import matplotlib.pyplot as plt\n",
    "import os\n",
    "import shutil\n",
    "\n",
    "import representation\n",
    "import kex_data\n",
    "import kex_headers\n",
    "import listmode\n",
    "import petlink\n",
    "import position\n",
    "import e7tools"
   ]
  },
  {
   "cell_type": "code",
   "execution_count": null,
   "metadata": {},
   "outputs": [],
   "source": [
    "###### plan\n",
    "# load sinograms of gate 0 of each phantom\n",
    "# register data from gate 1 to gate 0 (including randoms)\n",
    "# add the new data to the sinogram\n",
    "# double check\n",
    "# save"
   ]
  },
  {
   "cell_type": "code",
   "execution_count": 2,
   "metadata": {},
   "outputs": [],
   "source": [
    "sinograms, _ = kex_data.sinograms()"
   ]
  },
  {
   "cell_type": "code",
   "execution_count": 2,
   "metadata": {},
   "outputs": [],
   "source": [
    "norm_sino, sino_paths = kex_data.norm_sinograms()\n",
    "dkeys = kex_data.DATA_KEYS\n",
    "norm_sino = dict(zip(dkeys, norm_sino))"
   ]
  },
  {
   "cell_type": "code",
   "execution_count": 3,
   "metadata": {},
   "outputs": [
    {
     "name": "stdout",
     "output_type": "stream",
     "text": [
      "['C:/Users/petct/Desktop/Hugo/Code/PythonMEX/normalised_sinograms/CylinderPET-00-sino-norm_00.s', 'C:/Users/petct/Desktop/Hugo/Code/PythonMEX/normalised_sinograms/CylinderPET-01-sino-norm_00.s', 'C:/Users/petct/Desktop/Hugo/Code/PythonMEX/normalised_sinograms/KanylPET-00-sino-norm_00.s', 'C:/Users/petct/Desktop/Hugo/Code/PythonMEX/normalised_sinograms/KanylPET-01-sino-norm_00.s']\n"
     ]
    }
   ],
   "source": [
    "print(sino_paths)"
   ]
  },
  {
   "cell_type": "code",
   "execution_count": 4,
   "metadata": {},
   "outputs": [
    {
     "name": "stdout",
     "output_type": "stream",
     "text": [
      "folder C:/Users/petct/Desktop/Hugo/Code/PythonMEX/normalised_sinograms\n",
      "sinos ['CylinderPET-00-sino-norm_00.s', 'CylinderPET-01-sino-norm_00.s', 'KanylPET-00-sino-norm_00.s', 'KanylPET-01-sino-norm_00.s'] \n",
      "hdrs ['CylinderPET-00-sino-norm_00.s.hdr', 'CylinderPET-01-sino-norm_00.s.hdr', 'KanylPET-00-sino-norm_00.s.hdr', 'KanylPET-01-sino-norm_00.s.hdr'] \n",
      "mhdrs ['CylinderPET-00-sino-norm.mhdr', 'CylinderPET-01-sino-norm.mhdr', 'KanylPET-00-sino-norm.mhdr', 'KanylPET-01-sino-norm.mhdr']\n"
     ]
    }
   ],
   "source": [
    "#get file paths\n",
    "src = \"/\".join(sino_paths[0].split(\"/\")[:-1])\n",
    "print(\"folder\", src)\n",
    "mhdrs = []\n",
    "hdrs = []\n",
    "sfiles = []\n",
    "with os.scandir(src) as it:\n",
    "    for entry in it:\n",
    "        if entry.is_file():\n",
    "            if entry.name.endswith('.s'):\n",
    "                #print(\"sino entry name:\",  entry.name)\n",
    "                sfiles.append(entry.name)\n",
    "            if entry.name.endswith('.s.hdr'):\n",
    "                #print(\"header entry name:\",  entry.name)\n",
    "                hdrs.append(entry.name)\n",
    "            if entry.name.endswith('.mhdr'):\n",
    "                #print(\"main header entry name:\",  entry.name)\n",
    "                mhdrs.append(entry.name)   \n",
    "print(\"sinos\", sfiles, \"\\nhdrs\", hdrs, \"\\nmhdrs\", mhdrs) #nicely sorted, according to the dkeys"
   ]
  },
  {
   "cell_type": "code",
   "execution_count": 5,
   "metadata": {},
   "outputs": [],
   "source": [
    "mhdrs = dict(zip(dkeys, mhdrs))\n",
    "hdrs = dict(zip(dkeys, hdrs))\n",
    "sfiles = dict(zip(dkeys, sfiles))"
   ]
  },
  {
   "cell_type": "code",
   "execution_count": 6,
   "metadata": {},
   "outputs": [],
   "source": [
    "def prep_folder(dirname, filling):\n",
    "    if not os.path.exists(dirname):\n",
    "        os.mkdir(dirname)\n",
    "    for path in filling:\n",
    "        shutil.copy(path, dirname, follow_symlinks=True)"
   ]
  },
  {
   "cell_type": "code",
   "execution_count": 23,
   "metadata": {},
   "outputs": [],
   "source": [
    "for key in dkeys:\n",
    "    filling = [mhdrs[key], hdrs[key]]\n",
    "    for k,f in enumerate(filling):\n",
    "        filling[k] = src + \"/\" + f\n",
    "    mc_dir = r\"C:/Users/petct/Desktop/Hugo/Code/PythonMEX/motion_corrected\"\n",
    "    prep_folder(mc_dir, filling)"
   ]
  },
  {
   "cell_type": "code",
   "execution_count": 8,
   "metadata": {},
   "outputs": [],
   "source": [
    "# plan\n",
    "# motion correction (basically done)\n",
    "# easy save (to folder, copy headers)\n",
    "# reconstruct (e7 tools)\n",
    "# look (plotting)"
   ]
  },
  {
   "cell_type": "code",
   "execution_count": 9,
   "metadata": {},
   "outputs": [],
   "source": [
    "limo = kex_data.get_listmode()"
   ]
  },
  {
   "cell_type": "code",
   "execution_count": 10,
   "metadata": {},
   "outputs": [],
   "source": [
    "limo_recon = {key: listmode.get_fov_image_bins(limo[key]) for key in dkeys}"
   ]
  },
  {
   "cell_type": "code",
   "execution_count": 11,
   "metadata": {},
   "outputs": [],
   "source": [
    "normfactors = kex_data.get_keyed_normfactors()\n",
    "toflor = {k: v['tof_lor'] for k,v in limo_recon.items()}\n",
    "is_prompt = {k: v['is_prompt'] for k,v in limo_recon.items()}\n",
    "limo_norm = {k: listmode.get_norms(toflor[k], is_prompt[k], v) for k,v in normfactors.items()}"
   ]
  },
  {
   "cell_type": "code",
   "execution_count": 12,
   "metadata": {},
   "outputs": [],
   "source": [
    "fov_limo_norm = {k: v[limo_recon[k]['is_image_fov']] for k,v in limo_norm.items()}\n",
    "limo_com = {k: position.listmode_center(v['fov_image_bins'], masses=fov_limo_norm[k]) for k,v in limo_recon.items()}"
   ]
  },
  {
   "cell_type": "code",
   "execution_count": 13,
   "metadata": {},
   "outputs": [],
   "source": [
    "prompts = {k: v['tof_lor'][:, v['is_prompt']] for k,v in limo_recon.items()}"
   ]
  },
  {
   "cell_type": "code",
   "execution_count": 14,
   "metadata": {},
   "outputs": [],
   "source": [
    "#move gate 1 to gate 0\n",
    "ref = np.zeros(3)\n",
    "translation = np.zeros(3)\n",
    "\n",
    "limo_mix = {}\n",
    "norm_mix = {}\n",
    "\n",
    "\n",
    "for dkey,pos in limo_com.items():\n",
    "    if dkey.endswith('0'):\n",
    "        ref = pos\n",
    "        mix = prompts[dkey]\n",
    "        norms = limo_norm[dkey]\n",
    "    else:\n",
    "        translation = ref - pos #move to reference, pos + (ref - pos) = ref + 0\n",
    "        translation_mm = translation*kex_headers.MM_PER_PIXEL\n",
    "        moved_toflor, is_fov = representation.move_translation(prompts[dkey], translation_mm)\n",
    "        norms = listmode.join_gates((norms, limo_norm[dkey][is_fov]))\n",
    "        mix = listmode.join_gates((mix, moved_toflor[:, is_fov]))\n",
    "        if dkey.endswith('1'):\n",
    "            pkey = dkey.split(\" \")[0] \n",
    "            limo_mix[pkey] = mix\n",
    "            norm_mix[pkey] = norms"
   ]
  },
  {
   "cell_type": "code",
   "execution_count": 15,
   "metadata": {},
   "outputs": [],
   "source": [
    "shape = kex_headers.HISTOGRAM_SHAPE_NO_DELAYS\n",
    "mc_sinograms = {k: listmode.get_histogram(v, shape, weights=norm_mix[k]) for k,v in limo_mix.items()}"
   ]
  },
  {
   "cell_type": "code",
   "execution_count": 28,
   "metadata": {},
   "outputs": [
    {
     "data": {
      "image/png": "[encoded data removed]",
      "text/plain": [
       "<Figure size 1440x288 with 4 Axes>"
      ]
     },
     "metadata": {
      "needs_background": "light"
     },
     "output_type": "display_data"
    }
   ],
   "source": [
    "#check before saving and reconstructing\n",
    "fig, axes = plt.subplots(ncols=2, figsize=(20,4))\n",
    "axes = dict(zip(kex_data.PHANTOM_KEYS, axes))\n",
    "for pkey, ax in axes.items():\n",
    "    tof= 0\n",
    "    mi = 50\n",
    "    im = ax.imshow(mc_sinograms[pkey][tof, mi])\n",
    "    fig.colorbar(im, ax=ax)"
   ]
  },
  {
   "cell_type": "code",
   "execution_count": 24,
   "metadata": {},
   "outputs": [
    {
     "name": "stdout",
     "output_type": "stream",
     "text": [
      "C:/Users/petct/Desktop/Hugo/Code/PythonMEX/motion_corrected/CylinderPET-00-sino-norm_00.s\n",
      "C:/Users/petct/Desktop/Hugo/Code/PythonMEX/motion_corrected/KanylPET-00-sino-norm_00.s\n"
     ]
    }
   ],
   "source": [
    "#save to ref\n",
    "ref = 0\n",
    "for pkey in kex_data.PHANTOM_KEYS:\n",
    "    dkey = pkey + \" \" + kex_data.GATE_KEYS[ref]\n",
    "    output_path = mc_dir + \"/\" + sfiles[dkey]\n",
    "    print(output_path)\n",
    "    with open(output_path, 'wb') as file:\n",
    "        sino = mc_sinograms[pkey]\n",
    "        file.write(sino)"
   ]
  },
  {
   "cell_type": "code",
   "execution_count": 32,
   "metadata": {},
   "outputs": [],
   "source": [
    "#reconstruct"
   ]
  },
  {
   "cell_type": "code",
   "execution_count": 40,
   "metadata": {},
   "outputs": [
    {
     "name": "stdout",
     "output_type": "stream",
     "text": [
      "stdout\n",
      " b''\n",
      "stderr\n",
      " b\"I 05/26/2020 15:35:21.656 (UTC+01:00) Intel(R) Core(TM) i7-7820HQ CPU @ 2.90GHz (1x)    memory: 32629 MByte\n",
      "I 05/26/2020 15:35:21.656 (UTC+01:00) Number of NUMA nodes: 1\n",
      "I 05/26/2020 15:35:21.656 (UTC+01:00) Number of physical processor packages: 1\n",
      "I 05/26/2020 15:35:21.656 (UTC+01:00) Number of processor cores: 4\n",
      "I 05/26/2020 15:35:21.656 (UTC+01:00) Number of logical processors: 8\n",
      "I 05/26/2020 15:35:21.656 (UTC+01:00) Number of processor L1/L2/L3 caches: 8/4/1 \n",
      "I 05/26/2020 15:35:21.656 (UTC+01:00) Hyper-Threadingin BIOS Enabled.\n",
      "I 05/26/2020 15:35:21.656 (UTC+01:00)  supported CPU features: MMX,SSE,SSE2,SSE3,SSE4.1,SSE4.2,AVX\n",
      "I 05/26/2020 15:35:21.928 (UTC+01:00) GPU Driver Version: 24.20.100.6286\n",
      "I 05/26/2020 15:35:21.929 (UTC+01:00) GPU Driver supported CUDA Version: 9010\n",
      "I 05/26/2020 15:35:21.929 (UTC+01:00) CUDA Run-time Version Used: 5000\n",
      "I 05/26/2020 15:35:21.930 (UTC+01:00) Quadro M620 1017 MHz (Compute Capability 5.0)\n",
      "I 05/26/2020 15:35:21.930 (UTC+01:00)  global memory: 2048 MB, shared memory: 48 KB, constant memory: 64 KB\n",
      "I 05/26/2020 15:35:21.930 (UTC+01:00)  registers: 65536\n",
      "I 05/26/2020 15:35:21.930 (UTC+01:00)  multi processors: 4\n",
      "I 05/26/2020 15:35:21.930 (UTC+01:00)  maxThreadsPerBlock: 1024\n",
      "I 05/26/2020 15:35:21.930 (UTC+01:00)  maxThreadsDim: 1024, 1024, 64\n",
      "I 05/26/2020 15:35:21.930 (UTC+01:00)  maxGridSize: 2147483647, 65535, 65535\n",
      "I 05/26/2020 15:35:21.930 (UTC+01:00)  concurrentKernels: 1\n",
      "I 05/26/2020 15:35:21.930 (UTC+01:00)  ECCEnabled: 0\n",
      "I 05/26/2020 15:35:21.930 (UTC+01:00)  tccDriver: 0\n",
      "I 05/26/2020 15:35:21.930 (UTC+01:00)  maxThreadsPerMultiProcessor: 2048\n",
      "I 05/26/2020 15:35:21.930 (UTC+01:00)  computeMode: 0\n",
      "I 05/26/2020 15:35:21.930 (UTC+01:00) code compiled on: Oct 26 2015 17:33:15 (GMT+1:00)\n",
      "I 05/26/2020 15:35:21.930 (UTC+01:00) build label: No version information\n",
      "I 05/26/2020 15:35:21.930 (UTC+01:00) current date and time (GMT): Tue May 26 13:35:21 2020\n",
      "I 05/26/2020 15:35:21.930 (UTC+01:00) command line: C:/Users/petct/Desktop/Siemense7tools/Siemense7tools/C-Siemens-PET-VG60/bin.win64-VG60/e7_recon --tof --mash4 --algo op-osem --is 3,21 -n C:/Users/petct/Desktop/KanylPET-Converted/KanylPET-norm.n.hdr --gf --quant 1 -w 200 --fltr GAUSSIAN,5,5 -l 72 --fl --ecf --izoom 1 --force --rs -e C:/Users/petct/Desktop/Hugo/Code/PythonMEX/motion_corrected/CylinderPET-00-sino-norm.mhdr --oi C:/Users/petct/Desktop/Hugo/Code/PythonMEX/motion_corrected/cylinder \n",
      "I 05/26/2020 15:35:21.933 (UTC+01:00)  loading the 3d emission scan (matrix 0)\n",
      "I 05/26/2020 15:35:21.933 (UTC+01:00)   load sinogram 'C:/Users/petct/Desktop/Hugo/Code/PythonMEX/motion_corrected/CylinderPET-00-sino-norm.mhdr'\n",
      "I 05/26/2020 15:35:21.933 (UTC+01:00)    matrix number=0\n",
      "I 05/26/2020 15:35:21.937 (UTC+01:00)     load subheader C:/Users/petct/Desktop/Hugo/Code/PythonMEX/motion_corrected/CylinderPET-00-sino-norm_00.s.hdr\n",
      "I 05/26/2020 15:35:21.954 (UTC+01:00)     relative start time (sec): 0\n",
      "I 05/26/2020 15:35:21.955 (UTC+01:00)     bedpos is set to 801.48\n",
      "I 05/26/2020 15:35:21.955 (UTC+01:00)     patient orientation: head first\n",
      "I 05/26/2020 15:35:21.955 (UTC+01:00)     bed moving direction: in\n",
      "I 05/26/2020 15:35:21.955 (UTC+01:00)     load data file C:/Users/petct/Desktop/Hugo/Code/PythonMEX/motion_corrected/CylinderPET-00-sino-norm_00.s\n",
      "I 05/26/2020 15:35:21.955 (UTC+01:00)     load sinogram 1 (TOF trues (0))\n",
      "I 05/26/2020 15:35:22.114 (UTC+01:00)     load sinogram 2 (TOF trues (+1))\n",
      "I 05/26/2020 15:35:22.272 (UTC+01:00)     load sinogram 3 (TOF trues (-1))\n",
      "I 05/26/2020 15:35:22.429 (UTC+01:00)     load sinogram 4 (TOF trues (+2))\n",
      "I 05/26/2020 15:35:22.579 (UTC+01:00)     load sinogram 5 (TOF trues (-2))\n",
      "I 05/26/2020 15:35:22.729 (UTC+01:00)     load sinogram 6 (TOF trues (+3))\n",
      "I 05/26/2020 15:35:22.886 (UTC+01:00)     load sinogram 7 (TOF trues (-3))\n",
      "I 05/26/2020 15:35:23.050 (UTC+01:00)     load sinogram 8 (TOF trues (+4))\n",
      "I 05/26/2020 15:35:23.210 (UTC+01:00)     load sinogram 9 (TOF trues (-4))\n",
      "I 05/26/2020 15:35:23.372 (UTC+01:00)     load sinogram 10 (TOF trues (+5))\n",
      "I 05/26/2020 15:35:23.534 (UTC+01:00)     load sinogram 11 (TOF trues (-5))\n",
      "I 05/26/2020 15:35:23.764 (UTC+01:00)     load sinogram 12 (TOF trues (+6))\n",
      "I 05/26/2020 15:35:23.956 (UTC+01:00)     load sinogram 13 (TOF trues (-6))\n",
      "I 05/26/2020 15:35:24.138 (UTC+01:00)    RhoSamples=400\n",
      "I 05/26/2020 15:35:24.139 (UTC+01:00)    BinSizeRho=2.005mm\n",
      "I 05/26/2020 15:35:24.139 (UTC+01:00)    ThetaSamples=168\n",
      "I 05/26/2020 15:35:24.139 (UTC+01:00)    mash factor=2\n",
      "I 05/26/2020 15:35:24.139 (UTC+01:00)    plane separation=2.027mm\n",
      "I 05/26/2020 15:35:24.139 (UTC+01:00)    axes=5\n",
      "I 05/26/2020 15:35:24.139 (UTC+01:00)    axis table=621 {109,194,150,106,62}\n",
      "I 05/26/2020 15:35:24.139 (UTC+01:00)    span=11\n",
      "I 05/26/2020 15:35:24.139 (UTC+01:00)    maximum ring difference=49\n",
      "I 05/26/2020 15:35:24.139 (UTC+01:00)    intrinsic tilt=0 degrees\n",
      "I 05/26/2020 15:35:24.139 (UTC+01:00)    bed position=801.48mm\n",
      "I 05/26/2020 15:35:24.139 (UTC+01:00)    scan start time=0 sec\n",
      "I 05/26/2020 15:35:24.139 (UTC+01:00)    scan frame duration=60 sec (1 min)\n",
      "I 05/26/2020 15:35:24.139 (UTC+01:00)    scan gate duration=0 sec (0 min)\n",
      "I 05/26/2020 15:35:24.139 (UTC+01:00)    isotope halflife=6586.2 sec\n",
      "I 05/26/2020 15:35:24.139 (UTC+01:00)    lld=435 KeV\n",
      "I 05/26/2020 15:35:24.139 (UTC+01:00)    uld=650 KeV\n",
      "I 05/26/2020 15:35:24.139 (UTC+01:00)    corrections applied=normalization, randoms subtraction\n",
      "E 05/26/2020 15:35:24.140 (UTC+01:00) ** corrected sinogram is not supported in this version\n",
      "E 05/26/2020 15:35:24.364 (UTC+01:00) ** corrected sinogram is not supported in this version (The system could not find the environment option that was entered.)\n",
      "Error: corrected sinogram is not supported in this version (The system could not find the environment option that was entered.)\n",
      "\n",
      "I 05/26/2020 15:35:24.470 (UTC+01:00) Memory Usage of Process ----------------------------------\n",
      "I 05/26/2020 15:35:24.470 (UTC+01:00)  PageFaultCount:             537016\n",
      "I 05/26/2020 15:35:24.473 (UTC+01:00)  PeakWorkingSetSize:         2.14173e+006 KB\n",
      "I 05/26/2020 15:35:24.473 (UTC+01:00)  WorkingSetSize:             22400 KB\n",
      "I 05/26/2020 15:35:24.473 (UTC+01:00)  QuotaPeakPagedPoolUsage:    16644.4 KB\n",
      "I 05/26/2020 15:35:24.473 (UTC+01:00)  QuotaPagedPoolUsage:        16641.1 KB\n",
      "I 05/26/2020 15:35:24.473 (UTC+01:00)  QuotaPeakNonPagedPoolUsage: 2511.98 KB\n",
      "I 05/26/2020 15:35:24.473 (UTC+01:00)  QuotaNonPagedPoolUsage:     2503.18 KB\n",
      "I 05/26/2020 15:35:24.473 (UTC+01:00)  PagefileUsage:              29756 KB\n",
      "I 05/26/2020 15:35:24.473 (UTC+01:00)  PeakPagefileUsage:          2.15328e+006 KB\n",
      "I 05/26/2020 15:35:24.476 (UTC+01:00) System Performance Information ---------------------------\n",
      "I 05/26/2020 15:35:24.476 (UTC+01:00)  CommitTotal:                18013737 pages (68.7169 GB)\n",
      "I 05/26/2020 15:35:24.476 (UTC+01:00)  CommitLimit:                33242999 pages (126.812 GB)\n",
      "I 05/26/2020 15:35:24.476 (UTC+01:00)  CommitPeak:                 33487677 pages (127.745 GB)\n",
      "I 05/26/2020 15:35:24.476 (UTC+01:00)  PhysicalTotal:              8353131 pages (31.8647 GB)\n",
      "I 05/26/2020 15:35:24.476 (UTC+01:00)  PhysicalAvailable:          2285065 pages (8.71683 GB)\n",
      "I 05/26/2020 15:35:24.476 (UTC+01:00)  SystemCache:                856560 pages (3.26752 GB)\n",
      "I 05/26/2020 15:35:24.476 (UTC+01:00)  KernelTotal:                419513 pages (1638.72 MB)\n",
      "I 05/26/2020 15:35:24.476 (UTC+01:00)  KernelPaged:                160828 pages (628.234 MB)\n",
      "I 05/26/2020 15:35:24.476 (UTC+01:00)  KernelNonpaged:             258685 pages (1010.49 MB)\n",
      "I 05/26/2020 15:35:24.476 (UTC+01:00)  PageSize:                   4096 bytes (4 KB)\n",
      "I 05/26/2020 15:35:24.476 (UTC+01:00)  HandleCount:                148525\n",
      "I 05/26/2020 15:35:24.476 (UTC+01:00)  ProcessCount:               316\n",
      "I 05/26/2020 15:35:24.476 (UTC+01:00)  ThreadCount:                3458\n",
      "I 05/26/2020 15:35:24.476 (UTC+01:00) ----------------------------------------------------------\n",
      "I 05/26/2020 15:35:24.476 (UTC+01:00)  log file closing after 00:00:00 (hh:mm:ss) sec\n",
      "I 05/26/2020 15:35:24.476 (UTC+01:00)  \n",
      "\"\n",
      "stdout\n",
      " b''\n",
      "stderr\n",
      " b\"I 05/26/2020 15:35:24.741 (UTC+01:00) Intel(R) Core(TM) i7-7820HQ CPU @ 2.90GHz (1x)    memory: 32629 MByte\n",
      "I 05/26/2020 15:35:24.741 (UTC+01:00) Number of NUMA nodes: 1\n",
      "I 05/26/2020 15:35:24.741 (UTC+01:00) Number of physical processor packages: 1\n",
      "I 05/26/2020 15:35:24.741 (UTC+01:00) Number of processor cores: 4\n",
      "I 05/26/2020 15:35:24.741 (UTC+01:00) Number of logical processors: 8\n",
      "I 05/26/2020 15:35:24.741 (UTC+01:00) Number of processor L1/L2/L3 caches: 8/4/1 \n",
      "I 05/26/2020 15:35:24.741 (UTC+01:00) Hyper-Threadingin BIOS Enabled.\n",
      "I 05/26/2020 15:35:24.741 (UTC+01:00)  supported CPU features: MMX,SSE,SSE2,SSE3,SSE4.1,SSE4.2,AVX\n",
      "I 05/26/2020 15:35:25.001 (UTC+01:00) GPU Driver Version: 24.20.100.6286\n",
      "I 05/26/2020 15:35:25.003 (UTC+01:00) GPU Driver supported CUDA Version: 9010\n",
      "I 05/26/2020 15:35:25.003 (UTC+01:00) CUDA Run-time Version Used: 5000\n",
      "I 05/26/2020 15:35:25.003 (UTC+01:00) Quadro M620 1017 MHz (Compute Capability 5.0)\n",
      "I 05/26/2020 15:35:25.003 (UTC+01:00)  global memory: 2048 MB, shared memory: 48 KB, constant memory: 64 KB\n",
      "I 05/26/2020 15:35:25.003 (UTC+01:00)  registers: 65536\n",
      "I 05/26/2020 15:35:25.003 (UTC+01:00)  multi processors: 4\n",
      "I 05/26/2020 15:35:25.003 (UTC+01:00)  maxThreadsPerBlock: 1024\n",
      "I 05/26/2020 15:35:25.003 (UTC+01:00)  maxThreadsDim: 1024, 1024, 64\n",
      "I 05/26/2020 15:35:25.003 (UTC+01:00)  maxGridSize: 2147483647, 65535, 65535\n",
      "I 05/26/2020 15:35:25.003 (UTC+01:00)  concurrentKernels: 1\n",
      "I 05/26/2020 15:35:25.003 (UTC+01:00)  ECCEnabled: 0\n",
      "I 05/26/2020 15:35:25.003 (UTC+01:00)  tccDriver: 0\n",
      "I 05/26/2020 15:35:25.003 (UTC+01:00)  maxThreadsPerMultiProcessor: 2048\n",
      "I 05/26/2020 15:35:25.003 (UTC+01:00)  computeMode: 0\n",
      "I 05/26/2020 15:35:25.003 (UTC+01:00) code compiled on: Oct 26 2015 17:33:15 (GMT+1:00)\n",
      "I 05/26/2020 15:35:25.004 (UTC+01:00) build label: No version information\n",
      "I 05/26/2020 15:35:25.004 (UTC+01:00) current date and time (GMT): Tue May 26 13:35:25 2020\n",
      "I 05/26/2020 15:35:25.004 (UTC+01:00) command line: C:/Users/petct/Desktop/Siemense7tools/Siemense7tools/C-Siemens-PET-VG60/bin.win64-VG60/e7_recon --tof --mash4 --algo op-osem --is 3,21 -n C:/Users/petct/Desktop/KanylPET-Converted/KanylPET-norm.n.hdr --gf --quant 1 -w 200 --fltr GAUSSIAN,5,5 -l 72 --fl --ecf --izoom 1 --force --rs -e C:/Users/petct/Desktop/Hugo/Code/PythonMEX/motion_corrected/KanylPET-00-sino-norm.mhdr --oi C:/Users/petct/Desktop/Hugo/Code/PythonMEX/motion_corrected/cannula \n",
      "I 05/26/2020 15:35:25.006 (UTC+01:00)  loading the 3d emission scan (matrix 0)\n",
      "I 05/26/2020 15:35:25.006 (UTC+01:00)   load sinogram 'C:/Users/petct/Desktop/Hugo/Code/PythonMEX/motion_corrected/KanylPET-00-sino-norm.mhdr'\n",
      "I 05/26/2020 15:35:25.006 (UTC+01:00)    matrix number=0\n",
      "I 05/26/2020 15:35:25.008 (UTC+01:00)     load subheader C:/Users/petct/Desktop/Hugo/Code/PythonMEX/motion_corrected/KanylPET-00-sino-norm_00.s.hdr\n",
      "I 05/26/2020 15:35:25.030 (UTC+01:00)     relative start time (sec): 0\n",
      "I 05/26/2020 15:35:25.030 (UTC+01:00)     bedpos is set to 42.98\n",
      "I 05/26/2020 15:35:25.031 (UTC+01:00)     patient orientation: head first\n",
      "I 05/26/2020 15:35:25.031 (UTC+01:00)     bed moving direction: in\n",
      "I 05/26/2020 15:35:25.031 (UTC+01:00)     load data file C:/Users/petct/Desktop/Hugo/Code/PythonMEX/motion_corrected/KanylPET-00-sino-norm_00.s\n",
      "I 05/26/2020 15:35:25.031 (UTC+01:00)     load sinogram 1 (TOF trues (0))\n",
      "I 05/26/2020 15:35:25.202 (UTC+01:00)     load sinogram 2 (TOF trues (+1))\n",
      "I 05/26/2020 15:35:25.388 (UTC+01:00)     load sinogram 3 (TOF trues (-1))\n",
      "I 05/26/2020 15:35:25.571 (UTC+01:00)     load sinogram 4 (TOF trues (+2))\n",
      "I 05/26/2020 15:35:25.758 (UTC+01:00)     load sinogram 5 (TOF trues (-2))\n",
      "I 05/26/2020 15:35:25.943 (UTC+01:00)     load sinogram 6 (TOF trues (+3))\n",
      "I 05/26/2020 15:35:26.122 (UTC+01:00)     load sinogram 7 (TOF trues (-3))\n",
      "I 05/26/2020 15:35:26.312 (UTC+01:00)     load sinogram 8 (TOF trues (+4))\n",
      "I 05/26/2020 15:35:26.489 (UTC+01:00)     load sinogram 9 (TOF trues (-4))\n",
      "I 05/26/2020 15:35:26.671 (UTC+01:00)     load sinogram 10 (TOF trues (+5))\n",
      "I 05/26/2020 15:35:26.857 (UTC+01:00)     load sinogram 11 (TOF trues (-5))\n",
      "I 05/26/2020 15:35:27.043 (UTC+01:00)     load sinogram 12 (TOF trues (+6))\n",
      "I 05/26/2020 15:35:27.233 (UTC+01:00)     load sinogram 13 (TOF trues (-6))\n",
      "I 05/26/2020 15:35:27.421 (UTC+01:00)    RhoSamples=400\n",
      "I 05/26/2020 15:35:27.421 (UTC+01:00)    BinSizeRho=2.005mm\n",
      "I 05/26/2020 15:35:27.421 (UTC+01:00)    ThetaSamples=168\n",
      "I 05/26/2020 15:35:27.421 (UTC+01:00)    mash factor=2\n",
      "I 05/26/2020 15:35:27.421 (UTC+01:00)    plane separation=2.027mm\n",
      "I 05/26/2020 15:35:27.421 (UTC+01:00)    axes=5\n",
      "I 05/26/2020 15:35:27.421 (UTC+01:00)    axis table=621 {109,194,150,106,62}\n",
      "I 05/26/2020 15:35:27.421 (UTC+01:00)    span=11\n",
      "I 05/26/2020 15:35:27.421 (UTC+01:00)    maximum ring difference=49\n",
      "I 05/26/2020 15:35:27.421 (UTC+01:00)    intrinsic tilt=0 degrees\n",
      "I 05/26/2020 15:35:27.421 (UTC+01:00)    bed position=42.98mm\n",
      "I 05/26/2020 15:35:27.421 (UTC+01:00)    scan start time=0 sec\n",
      "I 05/26/2020 15:35:27.421 (UTC+01:00)    scan frame duration=60 sec (1 min)\n",
      "I 05/26/2020 15:35:27.422 (UTC+01:00)    scan gate duration=0 sec (0 min)\n",
      "I 05/26/2020 15:35:27.422 (UTC+01:00)    isotope halflife=6586.2 sec\n",
      "I 05/26/2020 15:35:27.422 (UTC+01:00)    lld=435 KeV\n",
      "I 05/26/2020 15:35:27.422 (UTC+01:00)    uld=650 KeV\n",
      "I 05/26/2020 15:35:27.422 (UTC+01:00)    corrections applied=normalization, randoms subtraction\n",
      "E 05/26/2020 15:35:27.422 (UTC+01:00) ** corrected sinogram is not supported in this version\n",
      "E 05/26/2020 15:35:27.650 (UTC+01:00) ** corrected sinogram is not supported in this version (The system could not find the environment option that was entered.)\n",
      "Error: corrected sinogram is not supported in this version (The system could not find the environment option that was entered.)\n",
      "\n",
      "I 05/26/2020 15:35:27.747 (UTC+01:00) Memory Usage of Process ----------------------------------\n",
      "I 05/26/2020 15:35:27.747 (UTC+01:00)  PageFaultCount:             537001\n",
      "I 05/26/2020 15:35:27.747 (UTC+01:00)  PeakWorkingSetSize:         2.14167e+006 KB\n",
      "I 05/26/2020 15:35:27.747 (UTC+01:00)  WorkingSetSize:             22344 KB\n",
      "I 05/26/2020 15:35:27.747 (UTC+01:00)  QuotaPeakPagedPoolUsage:    16644.4 KB\n",
      "I 05/26/2020 15:35:27.747 (UTC+01:00)  QuotaPagedPoolUsage:        16641.1 KB\n",
      "I 05/26/2020 15:35:27.748 (UTC+01:00)  QuotaPeakNonPagedPoolUsage: 2511.97 KB\n",
      "I 05/26/2020 15:35:27.748 (UTC+01:00)  QuotaNonPagedPoolUsage:     2503.18 KB\n",
      "I 05/26/2020 15:35:27.748 (UTC+01:00)  PagefileUsage:              29708 KB\n",
      "I 05/26/2020 15:35:27.748 (UTC+01:00)  PeakPagefileUsage:          2.15324e+006 KB\n",
      "I 05/26/2020 15:35:27.752 (UTC+01:00) System Performance Information ---------------------------\n",
      "I 05/26/2020 15:35:27.752 (UTC+01:00)  CommitTotal:                18011264 pages (68.7075 GB)\n",
      "I 05/26/2020 15:35:27.752 (UTC+01:00)  CommitLimit:                33242999 pages (126.812 GB)\n",
      "I 05/26/2020 15:35:27.752 (UTC+01:00)  CommitPeak:                 33487677 pages (127.745 GB)\n",
      "I 05/26/2020 15:35:27.752 (UTC+01:00)  PhysicalTotal:              8353131 pages (31.8647 GB)\n",
      "I 05/26/2020 15:35:27.752 (UTC+01:00)  PhysicalAvailable:          2285569 pages (8.71875 GB)\n",
      "I 05/26/2020 15:35:27.752 (UTC+01:00)  SystemCache:                1111267 pages (4.23915 GB)\n",
      "I 05/26/2020 15:35:27.752 (UTC+01:00)  KernelTotal:                420019 pages (1640.7 MB)\n",
      "I 05/26/2020 15:35:27.752 (UTC+01:00)  KernelPaged:                161315 pages (630.137 MB)\n",
      "I 05/26/2020 15:35:27.752 (UTC+01:00)  KernelNonpaged:             258704 pages (1010.56 MB)\n",
      "I 05/26/2020 15:35:27.752 (UTC+01:00)  PageSize:                   4096 bytes (4 KB)\n",
      "I 05/26/2020 15:35:27.753 (UTC+01:00)  HandleCount:                148514\n",
      "I 05/26/2020 15:35:27.753 (UTC+01:00)  ProcessCount:               316\n",
      "I 05/26/2020 15:35:27.753 (UTC+01:00)  ThreadCount:                3457\n",
      "I 05/26/2020 15:35:27.753 (UTC+01:00) ----------------------------------------------------------\n",
      "I 05/26/2020 15:35:27.753 (UTC+01:00)  log file closing after 00:00:00 (hh:mm:ss) sec\n",
      "I 05/26/2020 15:35:27.753 (UTC+01:00)  \n",
      "\"\n"
     ]
    }
   ],
   "source": [
    "for pkey in kex_data.PHANTOM_KEYS:\n",
    "    dkey = pkey + \" \" + kex_data.GATE_KEYS[ref]\n",
    "    output_path = mc_dir + \"/\" + mhdrs[dkey]\n",
    "    image_path = mc_dir + \"/\"+pkey\n",
    "    e7tools.recon(output_path, kex_data.NORM_PATH, image_path, verbose=True)"
   ]
  }
 ],
 "metadata": {
  "kernelspec": {
   "display_name": "Python 3",
   "language": "python",
   "name": "python3"
  },
  "language_info": {
   "codemirror_mode": {
    "name": "ipython",
    "version": 3
   },
   "file_extension": ".py",
   "mimetype": "text/x-python",
   "name": "python",
   "nbconvert_exporter": "python",
   "pygments_lexer": "ipython3",
   "version": "3.7.1"
  }
 },
 "nbformat": 4,
 "nbformat_minor": 4
}
