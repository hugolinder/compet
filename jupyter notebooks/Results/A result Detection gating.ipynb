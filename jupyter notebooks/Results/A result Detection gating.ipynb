{
 "cells": [
  {
   "cell_type": "code",
   "execution_count": 1,
   "metadata": {},
   "outputs": [],
   "source": [
    "import numpy as np\n",
    "import matplotlib.pyplot as plt\n",
    "import importlib\n",
    "\n",
    "import kex_data\n",
    "import kex_headers\n",
    "import petlink\n",
    "import representation\n",
    "import position\n",
    "import listmode\n",
    "import visual\n",
    "import time\n",
    "import importlib"
   ]
  },
  {
   "cell_type": "code",
   "execution_count": 2,
   "metadata": {},
   "outputs": [
    {
     "name": "stdout",
     "output_type": "stream",
     "text": [
      "paths\n",
      " ['C:/Users/petct/Desktop/CylinderPET-Converted/CylinderPET-LM-00/CylinderPET-LM-00.l', 'C:/Users/petct/Desktop/CylinderPET-Converted/CylinderPET-LM-01/CylinderPET-LM-01.l', 'C:/Users/petct/Desktop/KanylPET-Converted/KanylPET-LM-00/KanylPET-LM-00.l', 'C:/Users/petct/Desktop/KanylPET-Converted/KanylPET-LM-01/KanylPET-LM-01.l']\n",
      "keys\n",
      " ['cylinder 0', 'cylinder 1', 'cannula 0', 'cannula 1']\n"
     ]
    }
   ],
   "source": [
    "listmode_dataset, listmode_paths = kex_data.listmode()\n",
    "\n",
    "phantoms = [\"cylinder\", \"cannula\"]\n",
    "gates = [\"0\", \"1\"]\n",
    "keys = []\n",
    "for p in phantoms:\n",
    "    for g in gates:\n",
    "        keys.append(p + \" \" + g)\n",
    "print(\"paths\\n\", listmode_paths)\n",
    "print(\"keys\\n\", keys)\n",
    "limo_dict = dict(zip(keys, listmode_dataset))"
   ]
  },
  {
   "cell_type": "code",
   "execution_count": 3,
   "metadata": {},
   "outputs": [],
   "source": [
    "#take the mean normalization of the gates, for the whole list\n",
    "normfactors, _ = kex_data.get_norm_factors()\n",
    "normfactors = dict(zip(keys, normfactors))"
   ]
  },
  {
   "cell_type": "code",
   "execution_count": 4,
   "metadata": {},
   "outputs": [
    {
     "name": "stdout",
     "output_type": "stream",
     "text": [
      "elapsed time 13.282025575637817\n",
      "elapsed time 13.271548509597778\n",
      "elapsed time 29.160979509353638\n",
      "elapsed time 26.789400815963745\n"
     ]
    }
   ],
   "source": [
    "importlib.reload(listmode)\n",
    "limo_recon = {}\n",
    "toflor = {}\n",
    "norms = {}\n",
    "for key in keys:\n",
    "    time_a = time.time()\n",
    "    limo_recon[key] = listmode.get_fov_image_bins(limo_dict[key])\n",
    "    argu = {'tof_lor_bins':limo_recon[key]['tof_lor'],\n",
    "           'is_prompt':limo_recon[key]['is_prompt'],\n",
    "           'normfactors':normfactors[key]}\n",
    "    norms[key] = listmode.get_norms(**argu)\n",
    "    time_b = time.time()\n",
    "    print(\"elapsed time\", time_b-time_a)"
   ]
  },
  {
   "cell_type": "code",
   "execution_count": null,
   "metadata": {},
   "outputs": [],
   "source": [
    "#apply median filter on signal\n",
    "#remove outliers (statistics)"
   ]
  },
  {
   "cell_type": "code",
   "execution_count": null,
   "metadata": {},
   "outputs": [],
   "source": []
  }
 ],
 "metadata": {
  "kernelspec": {
   "display_name": "Python 3",
   "language": "python",
   "name": "python3"
  },
  "language_info": {
   "codemirror_mode": {
    "name": "ipython",
    "version": 3
   },
   "file_extension": ".py",
   "mimetype": "text/x-python",
   "name": "python",
   "nbconvert_exporter": "python",
   "pygments_lexer": "ipython3",
   "version": "3.7.1"
  }
 },
 "nbformat": 4,
 "nbformat_minor": 4
}
