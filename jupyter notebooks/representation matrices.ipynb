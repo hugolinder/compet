{
 "cells": [
  {
   "cell_type": "code",
   "execution_count": 1,
   "metadata": {},
   "outputs": [
    {
     "data": {
      "text/plain": [
       "<module 'representation' from 'C:\\\\Users\\\\petct\\\\Desktop\\\\Hugo\\\\Code\\\\PythonMEX\\\\representation.py'>"
      ]
     },
     "execution_count": 1,
     "metadata": {},
     "output_type": "execute_result"
    }
   ],
   "source": [
    "import representation\n",
    "import numpy as np\n",
    "\n",
    "import importlib\n",
    "importlib.reload(representation)"
   ]
  },
  {
   "cell_type": "code",
   "execution_count": 2,
   "metadata": {},
   "outputs": [],
   "source": [
    "tx = np.pi/3\n",
    "tilt = {'ro':0, 'radius':1, 'rd':0.2}\n",
    "A = representation.axes_matrix(tx, **tilt)"
   ]
  },
  {
   "cell_type": "code",
   "execution_count": 3,
   "metadata": {},
   "outputs": [
    {
     "name": "stdout",
     "output_type": "stream",
     "text": [
      "[[ 0.86172748  0.5         0.        ]\n",
      " [-0.4975186   0.8660254   0.        ]\n",
      " [ 0.09950372  0.          1.        ]]\n"
     ]
    }
   ],
   "source": [
    "print(A)"
   ]
  },
  {
   "cell_type": "code",
   "execution_count": 4,
   "metadata": {},
   "outputs": [
    {
     "name": "stdout",
     "output_type": "stream",
     "text": [
      "[[ 0.87034476 -0.50249378  0.        ]\n",
      " [ 0.5         0.8660254   0.        ]\n",
      " [-0.08660254  0.05        1.        ]]\n"
     ]
    }
   ],
   "source": [
    "B = representation.axes_matrix_inverse(tx, **tilt)\n",
    "print(B)"
   ]
  },
  {
   "cell_type": "code",
   "execution_count": 5,
   "metadata": {},
   "outputs": [
    {
     "name": "stdout",
     "output_type": "stream",
     "text": [
      "[[1 0 0]\n",
      " [0 1 0]\n",
      " [0 0 1]]\n"
     ]
    }
   ],
   "source": [
    "print(np.round(np.dot(A,B)).astype(int))"
   ]
  },
  {
   "cell_type": "code",
   "execution_count": 6,
   "metadata": {},
   "outputs": [
    {
     "name": "stdout",
     "output_type": "stream",
     "text": [
      "[[ 4.  3.  0.]\n",
      " [-3.  4.  0.]\n",
      " [ 2.  0.  1.]]\n",
      "inverse?\n",
      " [[ 4. -3.  0.]\n",
      " [ 3.  4.  0.]\n",
      " [-8.  6.  1.]]\n",
      "dot prod\n",
      " [[25.  0.  0.]\n",
      " [ 0. 25.  0.]\n",
      " [ 0.  0.  1.]]\n"
     ]
    }
   ],
   "source": [
    "x,y,a,b = 1,2,3,4\n",
    "A = representation.data_to_image_matrix(a,b,x,y)\n",
    "B = representation.image_to_data_matrix(a,b,x,y)\n",
    "C = np.dot(A,B)\n",
    "print(A)\n",
    "print(\"inverse?\\n\",B) #only if xx+yy=aa+bb=1\n",
    "print(\"dot prod\\n\", C) "
   ]
  },
  {
   "cell_type": "code",
   "execution_count": 7,
   "metadata": {},
   "outputs": [
    {
     "name": "stdout",
     "output_type": "stream",
     "text": [
      "[[ 20.   3.   0.]\n",
      " [-15.   4.   0.]\n",
      " [  2.   0.   1.]]\n",
      "inverse?\n",
      " [[ 0.8 -0.6  0. ]\n",
      " [ 3.   4.   0. ]\n",
      " [-1.6  1.2  1. ]]\n",
      "dot prod\n",
      " [[25.  0.  0.]\n",
      " [ 0. 25.  0.]\n",
      " [ 0.  0.  1.]]\n"
     ]
    }
   ],
   "source": [
    "x,y,a,b = 5,2,3,4\n",
    "A = representation.data_to_image_matrix(a,b,x,y)\n",
    "B = representation.image_to_data_matrix(a,b,x,y)\n",
    "C = np.dot(A,B)\n",
    "print(A)\n",
    "print(\"inverse?\\n\",B) #only if xx+yy=aa+bb=1\n",
    "print(\"dot prod\\n\", C) "
   ]
  },
  {
   "cell_type": "code",
   "execution_count": 8,
   "metadata": {},
   "outputs": [
    {
     "name": "stdout",
     "output_type": "stream",
     "text": [
      "[[ 0.70062927  0.5         0.        ]\n",
      " [-0.4045085   0.8660254   0.        ]\n",
      " [ 0.58778525  0.          1.        ]]\n",
      "inverse?\n",
      " [[ 1.07046627 -0.61803399  0.        ]\n",
      " [ 0.5         0.8660254   0.        ]\n",
      " [-0.62920429  0.36327126  1.        ]]\n",
      "dot prod\n",
      " [[ 1.00000000e+00  0.00000000e+00  0.00000000e+00]\n",
      " [ 0.00000000e+00  1.00000000e+00  0.00000000e+00]\n",
      " [ 0.00000000e+00 -5.55111512e-17  1.00000000e+00]]\n"
     ]
    }
   ],
   "source": [
    "tx, ax = np.pi/3, np.pi/5\n",
    "kwargs = {'cos_ax': np.cos(ax), \n",
    " 'sin_ax': np.sin(ax), \n",
    " 'cos_tx': np.cos(tx), \n",
    " 'sin_tx': np.sin(tx)}\n",
    "A = representation.data_to_image_matrix(**kwargs)\n",
    "B = representation.image_to_data_matrix(**kwargs)\n",
    "C = np.dot(A,B)\n",
    "print(A)\n",
    "print(\"inverse?\\n\",B) #only if xx+yy=aa+bb=1\n",
    "print(\"dot prod\\n\", C) "
   ]
  },
  {
   "cell_type": "code",
   "execution_count": 22,
   "metadata": {},
   "outputs": [
    {
     "name": "stdout",
     "output_type": "stream",
     "text": [
      "[[ 0.84904286  0.5         0.        ]\n",
      " [-0.49019513  0.8660254   0.        ]\n",
      " [ 0.19706586  0.          1.        ]]\n",
      "inverse?\n",
      " [[ 0.88334763 -0.51000099  0.        ]\n",
      " [ 0.5         0.8660254   0.        ]\n",
      " [-0.17407766  0.10050378  1.        ]]\n",
      "dot prod\n",
      " [[1.00000000e+00 5.55111512e-17 0.00000000e+00]\n",
      " [0.00000000e+00 1.00000000e+00 0.00000000e+00]\n",
      " [2.77555756e-17 1.38777878e-17 1.00000000e+00]]\n"
     ]
    }
   ],
   "source": [
    "importlib.reload(representation)\n",
    "kwargs = {'tx': np.pi/3, 'radius': 1, 'ro':0.1, 'rd':0.4}\n",
    "A = representation.axes_matrix(**kwargs)\n",
    "B = representation.axes_matrix_inverse(**kwargs)\n",
    "C = np.dot(A,B)\n",
    "print(A)\n",
    "print(\"inverse?\\n\",B) #only if xx+yy=aa+bb=1\n",
    "print(\"dot prod\\n\", C) "
   ]
  },
  {
   "cell_type": "code",
   "execution_count": 9,
   "metadata": {},
   "outputs": [
    {
     "name": "stdout",
     "output_type": "stream",
     "text": [
      "[1.         1.73205081 1.        ]\n"
     ]
    }
   ],
   "source": [
    "xyz = [0,2,1]\n",
    "trm = np.dot(A,xyz)\n",
    "print(trm)"
   ]
  },
  {
   "cell_type": "code",
   "execution_count": 47,
   "metadata": {},
   "outputs": [
    {
     "name": "stdout",
     "output_type": "stream",
     "text": [
      "(3, 5)\n",
      "(3, 5)\n",
      "[[1.         1.         1.         1.         1.        ]\n",
      " [1.73205081 1.73205081 1.73205081 1.73205081 1.73205081]\n",
      " [1.         1.         1.         1.         1.        ]]\n"
     ]
    }
   ],
   "source": [
    "XYZ = np.array([xyz, xyz, xyz, xyz, xyz]).T\n",
    "trm = np.dot(A, XYZ)\n",
    "print(XYZ.shape)\n",
    "print(trm.shape)\n",
    "print(trm)"
   ]
  },
  {
   "cell_type": "code",
   "execution_count": 48,
   "metadata": {},
   "outputs": [
    {
     "name": "stdout",
     "output_type": "stream",
     "text": [
      "(3, 5)\n",
      "(5, 3, 5)\n"
     ]
    }
   ],
   "source": [
    "XYZ = np.array([xyz, xyz, xyz, xyz, xyz]).T\n",
    "trm = np.tensordot([A]*5, XYZ, axes=(1, 0))\n",
    "print(XYZ.shape)\n",
    "print(trm.shape)\n",
    "#print(trm)"
   ]
  },
  {
   "cell_type": "code",
   "execution_count": 49,
   "metadata": {},
   "outputs": [
    {
     "data": {
      "text/plain": [
       "(5, 3)"
      ]
     },
     "execution_count": 49,
     "metadata": {},
     "output_type": "execute_result"
    }
   ],
   "source": [
    "np.sum([A]*5, axis=1).shape"
   ]
  },
  {
   "cell_type": "code",
   "execution_count": 61,
   "metadata": {},
   "outputs": [
    {
     "name": "stdout",
     "output_type": "stream",
     "text": [
      "[[1.  0.1]\n",
      " [0.  1. ]]\n",
      "simple dot [2.3 3. ]\n"
     ]
    },
    {
     "ename": "ValueError",
     "evalue": "shapes (3,2,2) and (3,2) not aligned: 2 (dim 2) != 3 (dim 0)",
     "output_type": "error",
     "traceback": [
      "\u001b[1;31m---------------------------------------------------------------------------\u001b[0m",
      "\u001b[1;31mValueError\u001b[0m                                Traceback (most recent call last)",
      "\u001b[1;32m<ipython-input-61-1e47c2e0fe9b>\u001b[0m in \u001b[0;36m<module>\u001b[1;34m\u001b[0m\n\u001b[0;32m      6\u001b[0m \u001b[0mB\u001b[0m \u001b[1;33m=\u001b[0m \u001b[0mnp\u001b[0m\u001b[1;33m.\u001b[0m\u001b[0marray\u001b[0m\u001b[1;33m(\u001b[0m\u001b[1;33m[\u001b[0m\u001b[0mA\u001b[0m\u001b[1;33m,\u001b[0m \u001b[1;36m2\u001b[0m\u001b[1;33m*\u001b[0m\u001b[0mA\u001b[0m\u001b[1;33m,\u001b[0m \u001b[1;36m3\u001b[0m\u001b[1;33m*\u001b[0m\u001b[0mA\u001b[0m\u001b[1;33m]\u001b[0m\u001b[1;33m)\u001b[0m\u001b[1;33m\u001b[0m\u001b[1;33m\u001b[0m\u001b[0m\n\u001b[0;32m      7\u001b[0m \u001b[0mL\u001b[0m \u001b[1;33m=\u001b[0m \u001b[0mnp\u001b[0m\u001b[1;33m.\u001b[0m\u001b[0marray\u001b[0m\u001b[1;33m(\u001b[0m\u001b[1;33m[\u001b[0m\u001b[0mxy\u001b[0m\u001b[1;33m]\u001b[0m\u001b[1;33m*\u001b[0m\u001b[1;36m3\u001b[0m\u001b[1;33m)\u001b[0m\u001b[1;33m\u001b[0m\u001b[1;33m\u001b[0m\u001b[0m\n\u001b[1;32m----> 8\u001b[1;33m \u001b[0mprint\u001b[0m\u001b[1;33m(\u001b[0m\u001b[0mnp\u001b[0m\u001b[1;33m.\u001b[0m\u001b[0mdot\u001b[0m\u001b[1;33m(\u001b[0m\u001b[0mB\u001b[0m\u001b[1;33m,\u001b[0m\u001b[0mL\u001b[0m\u001b[1;33m)\u001b[0m\u001b[1;33m)\u001b[0m\u001b[1;33m\u001b[0m\u001b[1;33m\u001b[0m\u001b[0m\n\u001b[0m",
      "\u001b[1;32m<__array_function__ internals>\u001b[0m in \u001b[0;36mdot\u001b[1;34m(*args, **kwargs)\u001b[0m\n",
      "\u001b[1;31mValueError\u001b[0m: shapes (3,2,2) and (3,2) not aligned: 2 (dim 2) != 3 (dim 0)"
     ]
    }
   ],
   "source": [
    "A = np.eye(2)\n",
    "A[0,1] = 0.1\n",
    "print(A)\n",
    "xy = np.array([2, 3])\n",
    "print(\"simple dot\", np.dot(A,xy))\n",
    "B = np.array([A, 2*A, 3*A])\n",
    "L = np.array([xy]*3)\n",
    "print(np.dot(B,L))"
   ]
  },
  {
   "cell_type": "code",
   "execution_count": 62,
   "metadata": {},
   "outputs": [
    {
     "name": "stdout",
     "output_type": "stream",
     "text": [
      "(3, 2, 2) (3, 2)\n",
      "(0,0)\n",
      " [[[12.  18. ]\n",
      "  [ 1.2  1.8]]\n",
      "\n",
      " [[ 0.   0. ]\n",
      "  [12.  18. ]]]\n",
      "(1,1)\n",
      " [[[2.  2.  2. ]\n",
      "  [3.2 3.2 3.2]]\n",
      "\n",
      " [[4.  4.  4. ]\n",
      "  [6.4 6.4 6.4]]\n",
      "\n",
      " [[6.  6.  6. ]\n",
      "  [9.6 9.6 9.6]]]\n",
      "(2,1)\n",
      " [[[2.3 2.3 2.3]\n",
      "  [3.  3.  3. ]]\n",
      "\n",
      " [[4.6 4.6 4.6]\n",
      "  [6.  6.  6. ]]\n",
      "\n",
      " [[6.9 6.9 6.9]\n",
      "  [9.  9.  9. ]]]\n",
      "((0,2), (0,1)) \n",
      " [13.8 18. ]\n"
     ]
    }
   ],
   "source": [
    "print(B.shape, L.shape)\n",
    "print(\"(0,0)\\n\",np.tensordot(B,L, axes=[0,0]))\n",
    "#print(\"(1,0)\\n\",np.tensordot(B,L, axes=[1,0]))\n",
    "print(\"(1,1)\\n\", np.tensordot(B,L, axes=[1,1]))\n",
    "#print(\"(0,1)\\n\",np.tensordot(B,L, axes=[0,1]))\n",
    "print(\"(2,1)\\n\", np.tensordot(B,L, axes=[2,1]))\n",
    "#print(\"((1,2),1)\\n\", np.tensordot(B,L, axes=[(1,2),1]))\n",
    "#print(\"((1,2),0)\\n\", np.tensordot(B,L, axes=[(1,2),0]))\n",
    "print(\"((0,2), (0,1)) \\n\", np.tensordot(B,L, axes=((0,2), (0,1)) ))"
   ]
  },
  {
   "cell_type": "code",
   "execution_count": 63,
   "metadata": {},
   "outputs": [
    {
     "name": "stdout",
     "output_type": "stream",
     "text": [
      "[[2.3 3. ]\n",
      " [4.6 6. ]\n",
      " [6.9 9. ]]\n"
     ]
    }
   ],
   "source": [
    "my_dot = np.zeros((3,2))\n",
    "for n in range(3):\n",
    "    for i in range(2):\n",
    "        my_dot[n,i] = np.sum(B[n,i,:]*L[n,:])\n",
    "print(my_dot)"
   ]
  },
  {
   "cell_type": "code",
   "execution_count": 64,
   "metadata": {},
   "outputs": [
    {
     "name": "stdout",
     "output_type": "stream",
     "text": [
      "[[2.3 3. ]\n",
      " [4.6 6. ]\n",
      " [6.9 9. ]]\n"
     ]
    }
   ],
   "source": [
    "my_dot2 = np.sum(B*np.expand_dims(L, 1), axis=-1)\n",
    "print(my_dot2)"
   ]
  },
  {
   "cell_type": "code",
   "execution_count": 65,
   "metadata": {},
   "outputs": [
    {
     "name": "stdout",
     "output_type": "stream",
     "text": [
      "(3, 2, 3)\n",
      "[[[2.3 2.3 2.3]\n",
      "  [3.  3.  3. ]]\n",
      "\n",
      " [[4.6 4.6 4.6]\n",
      "  [6.  6.  6. ]]\n",
      "\n",
      " [[6.9 6.9 6.9]\n",
      "  [9.  9.  9. ]]]\n"
     ]
    }
   ],
   "source": [
    "np_dot = np.tensordot(B,L, axes=(2,1))\n",
    "print(np_dot.shape)\n",
    "print(np_dot)"
   ]
  },
  {
   "cell_type": "code",
   "execution_count": 66,
   "metadata": {},
   "outputs": [
    {
     "ename": "ValueError",
     "evalue": "fewer operands provided to einstein sum function than specified in the subscripts string",
     "output_type": "error",
     "traceback": [
      "\u001b[1;31m---------------------------------------------------------------------------\u001b[0m",
      "\u001b[1;31mValueError\u001b[0m                                Traceback (most recent call last)",
      "\u001b[1;32m<ipython-input-66-d646b7a09915>\u001b[0m in \u001b[0;36m<module>\u001b[1;34m\u001b[0m\n\u001b[1;32m----> 1\u001b[1;33m \u001b[0mnp\u001b[0m\u001b[1;33m.\u001b[0m\u001b[0meinsum\u001b[0m\u001b[1;33m(\u001b[0m\u001b[1;34m'nij->nj'\u001b[0m\u001b[1;33m,\u001b[0m \u001b[0mB\u001b[0m\u001b[1;33m,\u001b[0m\u001b[0mL\u001b[0m\u001b[1;33m)\u001b[0m\u001b[1;33m\u001b[0m\u001b[1;33m\u001b[0m\u001b[0m\n\u001b[0m",
      "\u001b[1;32m<__array_function__ internals>\u001b[0m in \u001b[0;36meinsum\u001b[1;34m(*args, **kwargs)\u001b[0m\n",
      "\u001b[1;32m~\\AppData\\Local\\Continuum\\anaconda3\\lib\\site-packages\\numpy\\core\\einsumfunc.py\u001b[0m in \u001b[0;36meinsum\u001b[1;34m(*operands, **kwargs)\u001b[0m\n\u001b[0;32m   1354\u001b[0m     \u001b[1;31m# If no optimization, run pure einsum\u001b[0m\u001b[1;33m\u001b[0m\u001b[1;33m\u001b[0m\u001b[1;33m\u001b[0m\u001b[0m\n\u001b[0;32m   1355\u001b[0m     \u001b[1;32mif\u001b[0m \u001b[0moptimize_arg\u001b[0m \u001b[1;32mis\u001b[0m \u001b[1;32mFalse\u001b[0m\u001b[1;33m:\u001b[0m\u001b[1;33m\u001b[0m\u001b[1;33m\u001b[0m\u001b[0m\n\u001b[1;32m-> 1356\u001b[1;33m         \u001b[1;32mreturn\u001b[0m \u001b[0mc_einsum\u001b[0m\u001b[1;33m(\u001b[0m\u001b[1;33m*\u001b[0m\u001b[0moperands\u001b[0m\u001b[1;33m,\u001b[0m \u001b[1;33m**\u001b[0m\u001b[0mkwargs\u001b[0m\u001b[1;33m)\u001b[0m\u001b[1;33m\u001b[0m\u001b[1;33m\u001b[0m\u001b[0m\n\u001b[0m\u001b[0;32m   1357\u001b[0m \u001b[1;33m\u001b[0m\u001b[0m\n\u001b[0;32m   1358\u001b[0m     \u001b[0mvalid_einsum_kwargs\u001b[0m \u001b[1;33m=\u001b[0m \u001b[1;33m[\u001b[0m\u001b[1;34m'out'\u001b[0m\u001b[1;33m,\u001b[0m \u001b[1;34m'dtype'\u001b[0m\u001b[1;33m,\u001b[0m \u001b[1;34m'order'\u001b[0m\u001b[1;33m,\u001b[0m \u001b[1;34m'casting'\u001b[0m\u001b[1;33m]\u001b[0m\u001b[1;33m\u001b[0m\u001b[1;33m\u001b[0m\u001b[0m\n",
      "\u001b[1;31mValueError\u001b[0m: fewer operands provided to einstein sum function than specified in the subscripts string"
     ]
    }
   ],
   "source": [
    "np.einsum('nij->nj', B,L)"
   ]
  },
  {
   "cell_type": "code",
   "execution_count": 60,
   "metadata": {},
   "outputs": [
    {
     "name": "stdout",
     "output_type": "stream",
     "text": [
      "A\n",
      " [[[ 0.70062927  0.70062927]\n",
      "  [ 0.5         0.5       ]\n",
      "  [ 0.          0.        ]]\n",
      "\n",
      " [[-0.4045085  -0.4045085 ]\n",
      "  [ 0.8660254   0.8660254 ]\n",
      "  [ 0.          0.        ]]\n",
      "\n",
      " [[ 0.58778525  0.58778525]\n",
      "  [ 0.          0.        ]\n",
      "  [ 1.          1.        ]]]\n",
      "(3, 3, 2)\n",
      "inverse?\n",
      " [[[ 1.07046627  1.07046627]\n",
      "  [-0.61803399 -0.61803399]\n",
      "  [ 0.          0.        ]]\n",
      "\n",
      " [[ 0.5         0.5       ]\n",
      "  [ 0.8660254   0.8660254 ]\n",
      "  [ 0.          0.        ]]\n",
      "\n",
      " [[-0.62920429 -0.62920429]\n",
      "  [ 0.36327126  0.36327126]\n",
      "  [ 1.          1.        ]]]\n"
     ]
    }
   ],
   "source": [
    "tx, ax = [np.pi/3]*2, [np.pi/5]*2\n",
    "kwargs = {'cos_ax': np.cos(ax), \n",
    " 'sin_ax': np.sin(ax), \n",
    " 'cos_tx': np.cos(tx), \n",
    " 'sin_tx': np.sin(tx)}\n",
    "A = representation.data_to_image_matrix(**kwargs)\n",
    "print(\"A\\n\",A)\n",
    "print(A.shape)\n",
    "B = representation.image_to_data_matrix(**kwargs)\n",
    "print(\"inverse?\\n\",B) #only if xx+yy=aa+bb=1"
   ]
  },
  {
   "cell_type": "code",
   "execution_count": null,
   "metadata": {},
   "outputs": [],
   "source": []
  },
  {
   "cell_type": "code",
   "execution_count": null,
   "metadata": {},
   "outputs": [],
   "source": []
  },
  {
   "cell_type": "code",
   "execution_count": null,
   "metadata": {},
   "outputs": [],
   "source": []
  }
 ],
 "metadata": {
  "kernelspec": {
   "display_name": "Python 3",
   "language": "python",
   "name": "python3"
  },
  "language_info": {
   "codemirror_mode": {
    "name": "ipython",
    "version": 3
   },
   "file_extension": ".py",
   "mimetype": "text/x-python",
   "name": "python",
   "nbconvert_exporter": "python",
   "pygments_lexer": "ipython3",
   "version": "3.8.1"
  }
 },
 "nbformat": 4,
 "nbformat_minor": 4
}
