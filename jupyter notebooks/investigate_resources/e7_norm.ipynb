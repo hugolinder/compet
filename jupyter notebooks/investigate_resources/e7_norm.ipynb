{
 "cells": [
  {
   "cell_type": "code",
   "execution_count": 25,
   "metadata": {},
   "outputs": [
    {
     "data": {
      "text/plain": [
       "<module 'kex_data' from 'C:\\\\Users\\\\petct\\\\Desktop\\\\Hugo\\\\Code\\\\PythonMEX\\\\kex_data.py'>"
      ]
     },
     "execution_count": 25,
     "metadata": {},
     "output_type": "execute_result"
    }
   ],
   "source": [
    "import filefit\n",
    "import kex_data\n",
    "import e7tools\n",
    "import importlib\n",
    "importlib.reload(kex_data)"
   ]
  },
  {
   "cell_type": "code",
   "execution_count": 7,
   "metadata": {},
   "outputs": [],
   "source": [
    "# plan\n",
    "# how does it work? \n",
    "#       what is the bare minimum of input?\n",
    "#       does it create new files? (start with not force) (it seems to be changing the norm file)\n",
    "# what happens when changing the emission input to normalized emission?"
   ]
  },
  {
   "cell_type": "code",
   "execution_count": 34,
   "metadata": {},
   "outputs": [
    {
     "name": "stdout",
     "output_type": "stream",
     "text": [
      "emissions\n",
      " ['C:/Users/petct/Desktop/CylinderPET-Converted/CylinderPET-LM-00/CylinderPET-LM-00-sino.mhdr', 'C:/Users/petct/Desktop/CylinderPET-Converted/CylinderPET-LM-01/CylinderPET-LM-01-sino.mhdr', 'C:/Users/petct/Desktop/KanylPET-Converted/KanylPET-LM-00/KanylPET-LM-00-sino.mhdr', 'C:/Users/petct/Desktop/KanylPET-Converted/KanylPET-LM-01/KanylPET-LM-01-sino.mhdr']\n",
      "norm\n",
      " C:/Users/petct/Desktop/KanylPET-Converted/KanylPET-norm.n.hdr\n",
      "images\n",
      " ['C:/Users/petct/Desktop/CylinderPET-Converted/CylinderPET-LM-00/CylinderPET-LM-00-OPTOF.mhdr', 'C:/Users/petct/Desktop/CylinderPET-Converted/CylinderPET-LM-01/CylinderPET-LM-01-OPTOF.mhdr', 'C:/Users/petct/Desktop/KanylPET-Converted/KanylPET-LM-00/KanylPET-LM-00-OPTOF.mhdr', 'C:/Users/petct/Desktop/KanylPET-Converted/KanylPET-LM-01/KanylPET-LM-01-OPTOF.mhdr']\n"
     ]
    }
   ],
   "source": [
    "emissions = kex_data.get_sino_mainhdrs()\n",
    "print(\"emissions\\n\", emissions)\n",
    "norm_hdr = kex_data.NORM_PATH\n",
    "print(\"norm\\n\", norm_hdr)\n",
    "dicom_paths = kex_data.paths(both = True)[-1]\n",
    "v_paths = [path[:-len(\"-DICOM\")] for path in dicom_paths]\n",
    "v_mhdrs = [kex_data.get_v_mhdr(path) for path in v_paths]\n",
    "print(\"images\\n\", v_mhdrs)"
   ]
  },
  {
   "cell_type": "code",
   "execution_count": 35,
   "metadata": {},
   "outputs": [],
   "source": [
    "workplace= r\"C:/Users/petct/Desktop/Hugo/Code/PythonMEX/e7_recon\"\n",
    "filling = [norm_hdr, norm_hdr.replace(\".hdr\", \"\")]\n",
    "filefit.prep_folder(workplace, filling)\n",
    "norm_hdr = filefit.refolder_path(workplace, norm_hdr)"
   ]
  },
  {
   "cell_type": "code",
   "execution_count": 21,
   "metadata": {},
   "outputs": [
    {
     "name": "stdout",
     "output_type": "stream",
     "text": [
      "stdout\n",
      " b'\n",
      "                                                   (c) 2007-2015 Siemens Healthcare MI\n",
      "\n",
      "e7_norm - compute normalization components\n",
      "\n",
      "Usage:\n",
      "\n",
      " e7_norm (--act activity -i image --itime injectionTime -e emission[,r,t,dim]\n",
      "          -u u-map -s scatter[,r,t,dim] -n norm[,r,t] --ccf ccf\n",
      "          --rad phantom_radius --tof --gpu 0|1,2,... --vol phantom_vol\n",
      "          [--prj none|ifore|issrb|fwdpj] [--fsum] [--force] [-d path]\n",
      "          [-l a[,path]] [--resrv ip,port,port])|-v|-h|-?\n",
      "\n",
      "  --act   injected activity in the calibration phantom, unit (Bq). This value \n",
      "          is used in ECF calculation.\n",
      "           Example: --act 60000.0\n",
      "  -i      name of image input file. Supported formats are ECAT7, Interfile and\n",
      "          flat (IEEE-float, little endian). In case of a flat-file, the geometry\n",
      "          of the gantry needs to be specified by the \"--model\" switch. The width\n",
      "          and height of the image are assumed to be the same as the projection\n",
      "          width of the gantry if this information is not available from the file\n",
      "          header. The additional switch \"-w\" can be used to specify/overwrite\n",
      "          this behaviour.\n",
      "           Examples: -i file.v          (ECAT7)\n",
      "                     -i file.mhdr       (Interfile)\n",
      "                     -i file.dat        (flat)\n",
      "                     -i file.dat -w 128 (flat with dimensions)\n",
      "  --itime tracer injection time relative to 1.1.1970, 00:00:00,GMT-0 in\n",
      "          seconds.\n",
      "          This value is used in ECF calculation.\n",
      "           Example: --itime 1150860345\n",
      "  -e      name of the emission input file. Supported formats are ECAT7,\n",
      "          Interfile and flat (IEEE-float or 16 bit signed int, little endian).\n",
      "          In case of a flat-file, the geometry of the gantry needs to be\n",
      "          specified by the \"--model\" switch. If the radial or azimuthal\n",
      "          dimension of the sinogram in a flat file is different from the\n",
      "          standard values of the gantry, both values can be specified after the\n",
      "          filename. If flat files are used, the dimensionality of the sinogram\n",
      "          can be specified as \"2d\" or \"3d\". The default value in this case is\n",
      "          \"3d\". emission files are assumed to be not arc-corrected if this\n",
      "          information is not available from the file header. The switches\n",
      "          \"--enarc\" or \"--earc\" can be used instead of \"-e\" to specify/overwrite\n",
      "          this behaviour for cylindrical detector systems.\n",
      "           Examples: -e file.s             (ECAT7)\n",
      "                     -e file.mhdr          (Interfile)\n",
      "                     -e file.dat           (flat, not arc-corrected)\n",
      "                     -e file.dat,144,72,2d (flat with dimen., not arc-correc.)\n",
      "                     --enarc file.s        (ECAT7, not arc-corrected)\n",
      "  -s      name of the scatter input file. Supported formats are ECAT7,\n",
      "          Interfile and flat (IEEE-float or 16 bit signed int, little endian).\n",
      "          In case of a flat-file, the geometry of the gantry needs to be\n",
      "          specified by the \"--model\" switch. If the radial or azimuthal\n",
      "          dimension of the sinogram in a flat file is different from the\n",
      "          standard values of the gantry, both values can be specified after the\n",
      "          filename. If flat files are used, the dimensionality of the sinogram\n",
      "          can be specified as \"2d\" or \"3d\". The default value in this case is\n",
      "          \"3d\". scatter files are assumed to be not arc-corrected if this\n",
      "          information is not available from the file header. The switches\n",
      "          \"--snarc\" or \"--sarc\" can be used instead of \"-s\" to specify/overwrite\n",
      "          this behaviour for cylindrical detector systems.\n",
      "           Examples: -s file.s             (ECAT7)\n",
      "                     -s file.mhdr          (Interfile)\n",
      "                     -s file.dat           (flat, not arc-corrected)\n",
      "                     -s file.dat,144,72,2d (flat with dimen., not arc-correc.)\n",
      "                     --snarc file.s        (ECAT7, not arc-corrected)\n",
      "  -u      name of u-map input file. Supported formats are ECAT7, Interfile and\n",
      "          flat (IEEE-float, little endian). In case of a flat-file, the geometry\n",
      "          of the gantry needs to be specified by the \"--model\" switch. The width\n",
      "          and height of the u-map are assumed to be the same as the projection\n",
      "          width of the gantry if this information is not available from the file\n",
      "          header. The additional switch \"-w\" can be used to specify/overwrite\n",
      "          this behaviour. Currently only twp u-maps input is supported. If two\n",
      "          u-maps are defined, the sum of first and second u-map will be used as\n",
      "          final u-map, the first u-map will be used for mask generation in\n",
      "          scatter simulation only\n",
      "           Examples: -u file.v          (ECAT7)\n",
      "                     -u file.mhdr       (Interfile)\n",
      "                     -u file.dat        (flat)\n",
      "                     -u file.dat -w 128 (flat with dimensions)\n",
      "                     -u file1.mhdr,file2.mhdr (multiple file input)\n",
      "  -n      name of the norm input file. Supported formats are ECAT7, Interfile\n",
      "          and flat (IEEE-float or 16 bit signed int, little endian). In case of\n",
      "          a flat-file, the geometry of the gantry needs to be specified by the\n",
      "          \"--model\" switch. If the radial or azimuthal dimension of the sinogram\n",
      "          in a flat file is different from the standard values of the gantry,\n",
      "          both values can be specified after the filename. Norm files are\n",
      "          assumed to be not arc-corrected.\n",
      "           Examples: -n file.s          (ECAT7)\n",
      "                     -n file.nhdr       (Interfile)\n",
      "                     -n file.dat        (flat)\n",
      "                     -n file.dat,144,72 (flat with dimensions)\n",
      "  --ccf   cross calibration factor used in ECF computation. The default value\n",
      "          is 1.0.\n",
      "           Example: -ccf 1.0\n",
      "  --rad   radius of phantom. The default value is 100.0 with unit in mm.\n",
      "           Example: --rad 100.0\n",
      "  --vol   calibration phantom volume in (ml) used in ECF computation. This\n",
      "          value depends on which phantom we use for the system calibration.\n",
      "           Example: --vol 6189.0\n",
      "  --tof   reconstruct TOF datasets by TOF algorithms. If this switch is not\n",
      "          used, the time-of-flight bins in a TOF dataset are just added up. The\n",
      "          TOF processing in the reconstruction can\\'t be used in combination with\n",
      "          DIFT.\n",
      "  --fsum  caclulate crystal efficiency by fan sum algorithm. If this switch is\n",
      "          not available, iterative algorithm will be applied.\n",
      "          Example: --fsum\n",
      "  --gpu   use the NVidia 8x GPU for calculation support\n",
      "          Examples: --gpu 0 (use all devices available)\n",
      "                    --gpu 1 (use the first device)\n",
      "                    --gpu 2 (use the second device)\n",
      "                    --gpu 1,2,3 (use the first, second and third devices)\n",
      "  --force overwrite existing files\n",
      "  --prj   algorithm for the calculation of the 3d  from the 2d . The default\n",
      "          algorithm is 2d-forward projection followed by inverse fourier\n",
      "          rebinning. This switch is also used in the calculation of a 3d\n",
      "          sinogram from a 2d sinogram. In this case are only the parameters\n",
      "          \"issrb\" and \"ifore\" allowed.\n",
      "           none    don\\'t calculate 3d \n",
      "           issrb   inverse single slice rebinning from 2d sinogram\n",
      "           ifore   inverse fourier rebinning from 2d sinogram\n",
      "           fwdpj   3d-forward projection from image\n",
      "           Example: --prj issrb\n",
      "  -d      serveral files with intermediate results are stored in the specified\n",
      "          directory during reconstruction. The files that may be created are:\n",
      "           acf_00               ACF\n",
      "           second_acf_00        second ACF for scatter scaling\n",
      "           emis_00              emission\n",
      "           emis_corr_00         corrected emission\n",
      "           image_00             image\n",
      "           norm3d_00            3d-norm\n",
      "           scatter_estim2d_00   2d scatter sinogram\n",
      "           umap_00              u-map\n",
      "           smoothed_rand_00     smoothed random\n",
      "          where \"_00\" is replaced by the frame number.\n",
      "           Example: -d C:\\\\my_directory\n",
      "  -l      output logging information. The first parameter specifies the level\n",
      "          of detail from 0 to 7 in its first digit. The second digit specifies\n",
      "          the output destination: 0=no logging, 1=logging to file, 2=logging to\n",
      "          screen, 3=logging to file and screen. The optional second parameter\n",
      "          specifies a path for the log files. The default path is stored in the\n",
      "          registry variable \"\" (Windows) or the environment variable \"\"\n",
      "          (Linux/Solaris/Mac OS X). If these are not defined, the local\n",
      "          directory is used. The program creates one log file for each day of\n",
      "          the month. After one month old log files are overwritten. The default\n",
      "          parameter is \"72\". The optional third parameter indicates the\n",
      "          reconstruction server number which is to be included in the filename\n",
      "          of the log file. The second parameter must be used if the third\n",
      "          parameter is provided. The parameters for this command should be in\n",
      "          the format: [-l a[,path[,serverid]]] where \\'a\\' is the log code, \\'path\\'\n",
      "          is the log path, and \\'serverid\\' is the id of the reconstruction\n",
      "          server.\n",
      "           Examples: -l 72          (output very detailed to screen)\n",
      "                     -l 73,C:\\\\      (output very detailed to screen and file)\n",
      "                     -l 73,C:\\\\,0001 (output very detailed to screen and file for\n",
      "          reconstruction server 1)\n",
      "                     -l 31          (output medium detailed to file in default\n",
      "                                     directory)\n",
      "  --resrv this switch is used internally to enable communication between the\n",
      "          e7-Tool and the reconstruction server.\n",
      "  -v      prints the date and time when the program was compiled and the used\n",
      "          compiler version\n",
      "  -h      print this information\n",
      "  -?      print short help\n",
      "'\n",
      "stderr\n",
      " b''\n"
     ]
    },
    {
     "data": {
      "text/plain": [
       "0"
      ]
     },
     "execution_count": 21,
     "metadata": {},
     "output_type": "execute_result"
    }
   ],
   "source": [
    "e7tools.run_tool('e7_norm -h')"
   ]
  },
  {
   "cell_type": "code",
   "execution_count": 137,
   "metadata": {},
   "outputs": [
    {
     "name": "stdout",
     "output_type": "stream",
     "text": [
      "['--', '-', '--', '-', '-', '-', '-', '--', '--', '--', '--', '--', '--', '--', '--', '-', '-']\n",
      "{'act': 2, 'i': 1, 'itime': 2, 'e': 1, 'u': 1, 's': 1, 'n': 1, 'ccf': 2, 'rad': 2, 'tof': 2, 'gpu': 2, 'vol': 2, 'prj': 2, 'fsum': 2, 'force': 2, 'd': 1, 'l': 1}\n",
      "{'act': None, 'i': None, 'itime': None, 'e': None, 'u': None, 's': None, 'n': None, 'ccf': None, 'rad': None, 'tof': None, 'gpu': None, 'vol': None, 'prj': None, 'fsum': None, 'force': None, 'd': None, 'l': None}\n"
     ]
    }
   ],
   "source": [
    "params = ['act', 'i', 'itime', 'e', 'u', 's', 'n', 'ccf', 'rad', 'tof', 'gpu', 'vol', 'prj', 'fsum', 'force', 'd', 'l']\n",
    "num_dashes = [2, 1, 2, 1, 1, 1, 1, 2, 2, 2, 2, 2, 2, 2, 2, 1, 1]\n",
    "dashes = ['-'*n for n in num_dashes]\n",
    "print(dashes)\n",
    "print(dict(zip(params, num_dashes)))\n",
    "param_values = [None]*len(params)\n",
    "param_key_values = dict(zip(params, param_values))\n",
    "print(param_key_values)"
   ]
  },
  {
   "cell_type": "code",
   "execution_count": 44,
   "metadata": {},
   "outputs": [],
   "source": [
    "def build_param_str(params, num_dashes):\n",
    "    param_str = \"\"\n",
    "    for (key, value), n in zip(params.items(), num_dashes):\n",
    "        if value is not None:\n",
    "            param_str = param_str + \" {}{} {} \".format('-'*n, key, value) \n",
    "    return param_str"
   ]
  },
  {
   "cell_type": "code",
   "execution_count": 150,
   "metadata": {},
   "outputs": [
    {
     "name": "stdout",
     "output_type": "stream",
     "text": [
      "param_str: \n",
      "param_str:  --act 1000  -i C:/Users/petct/Desktop/KanylPET-Converted/KanylPET-LM-00/KanylPET-LM-00-OPTOF.mhdr  --itime 1500000000000  -n C:/Users/petct/Desktop/Hugo/Code/PythonMEX/e7_recon/KanylPET-norm.n.hdr  --ccf 10  --rad 100  --tof   --vol 7000  --prj ifore  --fsum   --force   -d C:/Users/petct/Desktop/Hugo/Code/PythonMEX/e7_recon \n"
     ]
    }
   ],
   "source": [
    "param_map = dict(zip(params, param_values))\n",
    "param_str = build_param_str(param_map, num_dashes)\n",
    "print(\"param_str:\", param_str)\n",
    "param_map['e'] == emissions[0]\n",
    "param_map['n'] = norm_hdr\n",
    "param_map['i'] = v_mhdrs[2]\n",
    "#param_map['i'] = dicom_paths[2] a folder, but e7_norm requires  files\n",
    "param_map['act'] = 1000\n",
    "param_map['itime'] = 1500000000000\n",
    "param_map['d'] = workplace\n",
    "param_str = build_param_str(param_map, num_dashes)\n",
    "param_map['force'] = \"\"\n",
    "param_map['tof'] = \"\"\n",
    "param_map['rad'] = 100\n",
    "param_map['vol'] = 7000\n",
    "param_map['prj'] = 'ifore'\n",
    "param_map['fsum'] = \"\"\n",
    "param_map['ccf'] = 10\n",
    "param_str = build_param_str(param_map, num_dashes)\n",
    "print(\"param_str:\", param_str)"
   ]
  },
  {
   "cell_type": "code",
   "execution_count": 151,
   "metadata": {},
   "outputs": [
    {
     "name": "stdout",
     "output_type": "stream",
     "text": [
      "stdout\n",
      " b''\n",
      "stderr\n",
      " b'I 06/03/2020 09:15:32.886 (UTC+01:00) Intel(R) Core(TM) i7-7820HQ CPU @ 2.90GHz (1x)    memory: 32629 MByte\n",
      "I 06/03/2020 09:15:32.886 (UTC+01:00) Number of NUMA nodes: 1\n",
      "I 06/03/2020 09:15:32.886 (UTC+01:00) Number of physical processor packages: 1\n",
      "I 06/03/2020 09:15:32.886 (UTC+01:00) Number of processor cores: 4\n",
      "I 06/03/2020 09:15:32.886 (UTC+01:00) Number of logical processors: 8\n",
      "I 06/03/2020 09:15:32.886 (UTC+01:00) Number of processor L1/L2/L3 caches: 8/4/1 \n",
      "I 06/03/2020 09:15:32.886 (UTC+01:00) Hyper-Threadingin BIOS Enabled.\n",
      "I 06/03/2020 09:15:32.886 (UTC+01:00)  supported CPU features: MMX,SSE,SSE2,SSE3,SSE4.1,SSE4.2,AVX\n",
      "I 06/03/2020 09:15:33.399 (UTC+01:00) GPU Driver Version: 24.20.100.6286\n",
      "I 06/03/2020 09:15:33.400 (UTC+01:00) GPU Driver supported CUDA Version: 9010\n",
      "I 06/03/2020 09:15:33.400 (UTC+01:00) CUDA Run-time Version Used: 5000\n",
      "I 06/03/2020 09:15:33.400 (UTC+01:00) Quadro M620 1017 MHz (Compute Capability 5.0)\n",
      "I 06/03/2020 09:15:33.400 (UTC+01:00)  global memory: 2048 MB, shared memory: 48 KB, constant memory: 64 KB\n",
      "I 06/03/2020 09:15:33.400 (UTC+01:00)  registers: 65536\n",
      "I 06/03/2020 09:15:33.400 (UTC+01:00)  multi processors: 4\n",
      "I 06/03/2020 09:15:33.400 (UTC+01:00)  maxThreadsPerBlock: 1024\n",
      "I 06/03/2020 09:15:33.400 (UTC+01:00)  maxThreadsDim: 1024, 1024, 64\n",
      "I 06/03/2020 09:15:33.400 (UTC+01:00)  maxGridSize: 2147483647, 65535, 65535\n",
      "I 06/03/2020 09:15:33.400 (UTC+01:00)  concurrentKernels: 1\n",
      "I 06/03/2020 09:15:33.400 (UTC+01:00)  ECCEnabled: 0\n",
      "I 06/03/2020 09:15:33.400 (UTC+01:00)  tccDriver: 0\n",
      "I 06/03/2020 09:15:33.400 (UTC+01:00)  maxThreadsPerMultiProcessor: 2048\n",
      "I 06/03/2020 09:15:33.400 (UTC+01:00)  computeMode: 0\n",
      "I 06/03/2020 09:15:33.400 (UTC+01:00) code compiled on: Oct 26 2015 17:33:15 (GMT+1:00)\n",
      "I 06/03/2020 09:15:33.401 (UTC+01:00) build label: No version information\n",
      "I 06/03/2020 09:15:33.401 (UTC+01:00) current date and time (GMT): Wed Jun 03 07:15:33 2020\n",
      "I 06/03/2020 09:15:33.401 (UTC+01:00) command line: C:/Users/petct/Desktop/Siemense7tools/Siemense7tools/C-Siemens-PET-VG60/bin.win64-VG60/e7_norm --act 1000 -i C:/Users/petct/Desktop/KanylPET-Converted/KanylPET-LM-00/KanylPET-LM-00-OPTOF.mhdr --itime 1500000000000 -n C:/Users/petct/Desktop/Hugo/Code/PythonMEX/e7_recon/KanylPET-norm.n.hdr --ccf 10 --rad 100 --tof --vol 7000 --prj ifore --fsum --force -d C:/Users/petct/Desktop/Hugo/Code/PythonMEX/e7_recon \n",
      "I 06/03/2020 09:15:33.405 (UTC+01:00) start calculate ECF value\n",
      "I 06/03/2020 09:15:33.406 (UTC+01:00) Load emission sinogram subheader interfile: C:/Users/petct/Desktop/KanylPET-Converted/KanylPET-LM-00/KanylPET-LM-00-OPTOF_000_000.v.hdr\n",
      "I 06/03/2020 09:15:33.433 (UTC+01:00) The calculated specific activity is 2857.14\n",
      "I 06/03/2020 09:15:33.434 (UTC+01:00) Planes are accumulated in Z direction\n",
      "I 06/03/2020 09:15:33.435 (UTC+01:00) Finding center of image(s)...\n",
      "I 06/03/2020 09:15:33.435 (UTC+01:00) Computing ROI values from the image(s)....\n",
      "I 06/03/2020 09:15:33.435 (UTC+01:00) The mean value in the ROI is 3056.35\n",
      "I 06/03/2020 09:15:33.440 (UTC+01:00)  The calculated ECF is 9.04254\n",
      "I 06/03/2020 09:15:33.440 (UTC+01:00)  Update ECF value in the norm header\n",
      "I 06/03/2020 09:15:33.452 (UTC+01:00)  \n",
      "I 06/03/2020 09:15:33.452 (UTC+01:00) gantry model values that may have been used:\n",
      "I 06/03/2020 09:15:33.452 (UTC+01:00)  model number=1104\n",
      "I 06/03/2020 09:15:33.452 (UTC+01:00)  defaultElements()=400\n",
      "I 06/03/2020 09:15:33.452 (UTC+01:00)  binSize()=0.2005cm\n",
      "I 06/03/2020 09:15:33.452 (UTC+01:00)  defaultAngles()=336\n",
      "I 06/03/2020 09:15:33.452 (UTC+01:00)  directPlanes()=55\n",
      "I 06/03/2020 09:15:33.452 (UTC+01:00)  crystalsPerRing()=672\n",
      "I 06/03/2020 09:15:33.452 (UTC+01:00)  planeSep()=0.2027cm\n",
      "I 06/03/2020 09:15:33.452 (UTC+01:00)  defPlaneDefSpan3D()=11 (after re-spanning: 11)\n",
      "I 06/03/2020 09:15:33.452 (UTC+01:00)  defRingDiffMax()=49\n",
      "I 06/03/2020 09:15:33.452 (UTC+01:00)  defAngularComp()=2\n",
      "I 06/03/2020 09:15:33.452 (UTC+01:00)  optimumBedOverlap3D()=47\n",
      "I 06/03/2020 09:15:33.452 (UTC+01:00)  crystalRadius()=42.76cm\n",
      "I 06/03/2020 09:15:33.452 (UTC+01:00)  sinogramDepthOfInteraction()=0.67cm\n",
      "I 06/03/2020 09:15:33.452 (UTC+01:00)  LORDepthOfInteraction()=0.96cm\n",
      "I 06/03/2020 09:15:33.452 (UTC+01:00)  sinogramIntrinsicTilt()=0 degrees\n",
      "I 06/03/2020 09:15:33.452 (UTC+01:00)  transCrystals()=13\n",
      "I 06/03/2020 09:15:33.452 (UTC+01:00)  axialCrystals()=13\n",
      "I 06/03/2020 09:15:33.452 (UTC+01:00)  transBlocks()=4\n",
      "I 06/03/2020 09:15:33.452 (UTC+01:00)  axialBlocks()=4\n",
      "I 06/03/2020 09:15:33.452 (UTC+01:00)  bucketsPerRing()=12\n",
      "I 06/03/2020 09:15:33.452 (UTC+01:00)  transBlockGaps()=1\n",
      "I 06/03/2020 09:15:33.452 (UTC+01:00)  axialBlockGaps()=1\n",
      "I 06/03/2020 09:15:33.452 (UTC+01:00)  isRingArch()=true\n",
      "I 06/03/2020 09:15:33.452 (UTC+01:00)  isPETOnlyArch()=false\n",
      "I 06/03/2020 09:15:33.452 (UTC+01:00)  needsAxialArcCorrection()=false\n",
      "I 06/03/2020 09:15:33.453 (UTC+01:00)  defaultLLD()=435 keV\n",
      "I 06/03/2020 09:15:33.453 (UTC+01:00)  defaultULD()=650 keV\n",
      "I 06/03/2020 09:15:33.453 (UTC+01:00)  maxScatterZfOV()=40cm\n",
      "I 06/03/2020 09:15:33.453 (UTC+01:00)  tofNumBin()=13\n",
      "I 06/03/2020 09:15:33.453 (UTC+01:00)  TOFMashFactor()=1\n",
      "I 06/03/2020 09:15:33.453 (UTC+01:00)  tofResolution()=0.58ns\n",
      "I 06/03/2020 09:15:33.453 (UTC+01:00)  tofOffset()=0.039ns\n",
      "I 06/03/2020 09:15:33.453 (UTC+01:00)  tofBinSize()=0.3125ns\n",
      "I 06/03/2020 09:15:33.453 (UTC+01:00)  tofScatResolution()=0.6ns\n",
      "I 06/03/2020 09:15:33.453 (UTC+01:00)  nCrystalLayers()=1\n",
      "I 06/03/2020 09:15:33.453 (UTC+01:00)   crystalLayerMaterial(0)=LSO\n",
      "I 06/03/2020 09:15:33.453 (UTC+01:00)   crystalLayerDepth(0)=2cm\n",
      "I 06/03/2020 09:15:33.453 (UTC+01:00)   crystalLayerFWHMErgRes(0)=16%\n",
      "I 06/03/2020 09:15:33.453 (UTC+01:00)   crystalLayerBackgroundErgRatio(0)=0%\n",
      "I 06/03/2020 09:15:33.453 (UTC+01:00)  serviceOnBack()=1\n",
      "I 06/03/2020 09:15:33.453 (UTC+01:00)  coincidenceWindow()=4062.5ps\n",
      "I 06/03/2020 09:15:33.453 (UTC+01:00)  cbmRampupSlices()=54\n",
      "I 06/03/2020 09:15:33.453 (UTC+01:00)  minBedOverlap()=47\n",
      "I 06/03/2020 09:15:33.453 (UTC+01:00)  maxBedOverlap()=47\n",
      "I 06/03/2020 09:15:33.453 (UTC+01:00)  maxImageSize()=400\n",
      "I 06/03/2020 09:15:33.453 (UTC+01:00)  \n",
      "I 06/03/2020 09:15:33.453 (UTC+01:00) processing time 00:00:00.0527344 (hh:mm:ss)\n",
      "I 06/03/2020 09:15:33.546 (UTC+01:00) Memory Usage of Process ----------------------------------\n",
      "I 06/03/2020 09:15:33.546 (UTC+01:00)  PageFaultCount:             10540\n",
      "I 06/03/2020 09:15:33.546 (UTC+01:00)  PeakWorkingSetSize:         39320 KB\n",
      "I 06/03/2020 09:15:33.546 (UTC+01:00)  WorkingSetSize:             21736 KB\n",
      "I 06/03/2020 09:15:33.547 (UTC+01:00)  QuotaPeakPagedPoolUsage:    16645.2 KB\n",
      "I 06/03/2020 09:15:33.547 (UTC+01:00)  QuotaPagedPoolUsage:        16641.8 KB\n",
      "I 06/03/2020 09:15:33.547 (UTC+01:00)  QuotaPeakNonPagedPoolUsage: 2503.84 KB\n",
      "I 06/03/2020 09:15:33.547 (UTC+01:00)  QuotaNonPagedPoolUsage:     2503.31 KB\n",
      "I 06/03/2020 09:15:33.547 (UTC+01:00)  PagefileUsage:              29544 KB\n",
      "I 06/03/2020 09:15:33.547 (UTC+01:00)  PeakPagefileUsage:          47228 KB\n",
      "I 06/03/2020 09:15:33.550 (UTC+01:00) System Performance Information ---------------------------\n",
      "I 06/03/2020 09:15:33.550 (UTC+01:00)  CommitTotal:                25392946 pages (96.8664 GB)\n",
      "I 06/03/2020 09:15:33.550 (UTC+01:00)  CommitLimit:                33517574 pages (127.859 GB)\n",
      "I 06/03/2020 09:15:33.550 (UTC+01:00)  CommitPeak:                 33514819 pages (127.849 GB)\n",
      "I 06/03/2020 09:15:33.550 (UTC+01:00)  PhysicalTotal:              8353131 pages (31.8647 GB)\n",
      "I 06/03/2020 09:15:33.550 (UTC+01:00)  PhysicalAvailable:          5082683 pages (19.3889 GB)\n",
      "I 06/03/2020 09:15:33.550 (UTC+01:00)  SystemCache:                2795317 pages (10.6633 GB)\n",
      "I 06/03/2020 09:15:33.550 (UTC+01:00)  KernelTotal:                479361 pages (1872.5 MB)\n",
      "I 06/03/2020 09:15:33.550 (UTC+01:00)  KernelPaged:                181382 pages (708.523 MB)\n",
      "I 06/03/2020 09:15:33.550 (UTC+01:00)  KernelNonpaged:             297979 pages (1163.98 MB)\n",
      "I 06/03/2020 09:15:33.550 (UTC+01:00)  PageSize:                   4096 bytes (4 KB)\n",
      "I 06/03/2020 09:15:33.550 (UTC+01:00)  HandleCount:                162674\n",
      "I 06/03/2020 09:15:33.550 (UTC+01:00)  ProcessCount:               311\n",
      "I 06/03/2020 09:15:33.550 (UTC+01:00)  ThreadCount:                3189\n",
      "I 06/03/2020 09:15:33.550 (UTC+01:00) ----------------------------------------------------------\n",
      "I 06/03/2020 09:15:33.550 (UTC+01:00)  log file closing after 00:00:00 (hh:mm:ss) sec\n",
      "I 06/03/2020 09:15:33.550 (UTC+01:00)  \n",
      "'\n"
     ]
    },
    {
     "data": {
      "text/plain": [
       "0"
      ]
     },
     "execution_count": 151,
     "metadata": {},
     "output_type": "execute_result"
    }
   ],
   "source": [
    "e7tools.run_tool(\"e7_norm \" + param_str)"
   ]
  },
  {
   "cell_type": "code",
   "execution_count": 133,
   "metadata": {},
   "outputs": [],
   "source": [
    "# The calculated ECF is 21.1398\n",
    "# 23.9099\n",
    "# 21.1398"
   ]
  },
  {
   "cell_type": "code",
   "execution_count": 134,
   "metadata": {},
   "outputs": [],
   "source": [
    "n_path = norm_hdr.replace(\".hdr\", \"\")\n",
    "import numpy as np\n",
    "with open(n_path, 'rb') as f:\n",
    "    norm_components = np.fromfile(n_path, dtype=np.float32)"
   ]
  },
  {
   "cell_type": "code",
   "execution_count": 135,
   "metadata": {},
   "outputs": [],
   "source": [
    "#norm_components2 = norm_components"
   ]
  },
  {
   "cell_type": "code",
   "execution_count": 136,
   "metadata": {},
   "outputs": [
    {
     "name": "stdout",
     "output_type": "stream",
     "text": [
      "0.0\n"
     ]
    }
   ],
   "source": [
    "diff = norm_components2 - norm_components\n",
    "print(np.sum(diff))"
   ]
  },
  {
   "cell_type": "code",
   "execution_count": null,
   "metadata": {},
   "outputs": [],
   "source": []
  },
  {
   "cell_type": "code",
   "execution_count": null,
   "metadata": {},
   "outputs": [],
   "source": []
  }
 ],
 "metadata": {
  "kernelspec": {
   "display_name": "Python 3",
   "language": "python",
   "name": "python3"
  },
  "language_info": {
   "codemirror_mode": {
    "name": "ipython",
    "version": 3
   },
   "file_extension": ".py",
   "mimetype": "text/x-python",
   "name": "python",
   "nbconvert_exporter": "python",
   "pygments_lexer": "ipython3",
   "version": "3.7.1"
  }
 },
 "nbformat": 4,
 "nbformat_minor": 4
}
