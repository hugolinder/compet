{
 "cells": [
  {
   "cell_type": "code",
   "execution_count": 1,
   "metadata": {},
   "outputs": [],
   "source": [
    "import numpy as np\n",
    "from math import *\n",
    "import matplotlib.pyplot as plt\n",
    "import matplotlib\n",
    "\n",
    "matplotlib.rcParams.update({'font.size': 10})\n",
    "\n",
    "#Hugo Code\n",
    "import Utility\n",
    "import PythonKEX \n",
    "\n",
    "\n",
    "# ipywidgets for some interactive plots\n",
    "from ipywidgets.widgets import * \n",
    "import ipywidgets as widgets"
   ]
  },
  {
   "cell_type": "code",
   "execution_count": 2,
   "metadata": {},
   "outputs": [
    {
     "name": "stdout",
     "output_type": "stream",
     "text": [
      "['C:/Users/petct/Desktop/CylinderPET-Converted/CylinderPET-LM-00/CylinderPET-LM-00-sino-0.s', 'C:/Users/petct/Desktop/CylinderPET-Converted/CylinderPET-LM-01/CylinderPET-LM-01-sino-0.s']\n"
     ]
    }
   ],
   "source": [
    "LM_paths, sino_paths, title, recon_paths = PythonKEX.define_KEX_dataset(isKanyl=False,TOF=True, recon_str=\"OP\")\n",
    "print(sino_paths)"
   ]
  },
  {
   "cell_type": "code",
   "execution_count": 3,
   "metadata": {},
   "outputs": [],
   "source": [
    "sinogram_1D = []\n",
    "sinogram_4D = []\n",
    "for k, s_path in enumerate(sino_paths):\n",
    "    with open(s_path, \"rb\") as file:\n",
    "        sinogram_1D.append(np.fromfile(file, dtype=np.uint16))\n",
    "        sinogram_4D.append(np.reshape(sinogram_1D[k], Utility.HISTOGRAM_SHAPE))"
   ]
  },
  {
   "cell_type": "code",
   "execution_count": 4,
   "metadata": {},
   "outputs": [],
   "source": [
    "mi_widget = widgets.IntSlider(\n",
    "    value=50,\n",
    "    min=0,\n",
    "    max=Utility.NUMBER_OF_SINOGRAMS-1,\n",
    "    step=1,\n",
    "    description='Michelgram index:',\n",
    "    disabled=False,\n",
    "    continuous_update=True,\n",
    "    orientation='horizontal',\n",
    "    readout=True,\n",
    "    readout_format='d'\n",
    ")\n",
    "\n",
    "def sinogramPlot(mi):\n",
    "    plot_scale = 5\n",
    "    plt.figure(figsize=(plot_scale*len(sino_paths)*1.3,plot_scale))\n",
    "    tof = 0\n",
    "    for k in range(0, len(sino_paths)):\n",
    "        plt.subplot(1,len(sino_paths),k+1)\n",
    "        plt.imshow(sinogram_4D[k][tof,mi,:,:])\n",
    "        plt.xlabel(Utility.HISTOGRAM_DIMENSION_TITLES[3])\n",
    "        plt.ylabel(Utility.HISTOGRAM_DIMENSION_TITLES[2])\n",
    "        plt.title(sino_paths[k].split('/')[-1] + \" at \" +\n",
    "                  Utility.HISTOGRAM_DIMENSION_TITLES[0] + str(tof) + \", \" + \n",
    "                  Utility.HISTOGRAM_DIMENSION_TITLES[1] + str(mi)\n",
    "                  )\n",
    "    plt.show()\n"
   ]
  },
  {
   "cell_type": "code",
   "execution_count": 5,
   "metadata": {},
   "outputs": [
    {
     "data": {
      "application/vnd.jupyter.widget-view+json": {
       "model_id": "37f4b4da494a403ea741308a43bd3098",
       "version_major": 2,
       "version_minor": 0
      },
      "text/plain": [
       "interactive(children=(IntSlider(value=50, description='Michelgram index:', max=620), Output()), _dom_classes=(…"
      ]
     },
     "metadata": {},
     "output_type": "display_data"
    }
   ],
   "source": [
    "matplotlib.rcParams.update({'font.size': 10})\n",
    "interact(sinogramPlot, mi=mi_widget);"
   ]
  },
  {
   "cell_type": "code",
   "execution_count": 6,
   "metadata": {},
   "outputs": [
    {
     "name": "stdout",
     "output_type": "stream",
     "text": [
      "ro coms\n",
      " [[194.37931034]\n",
      " [224.6875    ]]\n",
      "to pixels\n",
      " [[ 97.18965517]\n",
      " [112.34375   ]]\n"
     ]
    }
   ],
   "source": [
    "tof = 0\n",
    "mi = 50\n",
    "tx = Utility.NUMBER_OF_VIEWS//2\n",
    "ro_coms = []\n",
    "for k in range(2):\n",
    "    ro_coms.append(Utility.CenterOfMassMultiplication(sinogram_4D[k][tof,mi,tx]))\n",
    "ro_coms = np.array(ro_coms)\n",
    "print(\"ro coms\\n\", ro_coms)\n",
    "print(\"to pixels\\n\", ro_coms/2)\n",
    "\n",
    "#print(Utility.)\n",
    "#(sinogram_4D[k][tof,mi,Utility.NUMBER_OF_VIEWS//2]))"
   ]
  },
  {
   "cell_type": "code",
   "execution_count": 7,
   "metadata": {},
   "outputs": [],
   "source": [
    "seg_widget = widgets.IntSlider(\n",
    "    value=0,\n",
    "    min=0,\n",
    "    max=Utility.SEGMENT_TABLE.shape[0]-1,\n",
    "    step=1,\n",
    "    description='segment bin:',\n",
    "    disabled=False,\n",
    "    continuous_update=False,\n",
    "    orientation='horizontal',\n",
    "    readout=True,\n",
    "    readout_format='d'\n",
    ")\n",
    "\n",
    "#needs to be updated depending on segment\n",
    "ao_widget = widgets.IntSlider(\n",
    "    value=50,\n",
    "    min=(Utility.SEGMENT_TABLE[0] - Utility.SEGMENT_TABLE[seg_widget.value])//2,\n",
    "    max=(Utility.SEGMENT_TABLE[0] + Utility.SEGMENT_TABLE[seg_widget.value])//2, \n",
    "    step=1,\n",
    "    description='axial bin:',\n",
    "    disabled=False,\n",
    "    continuous_update=False,\n",
    "    orientation='horizontal',\n",
    "    readout=True,\n",
    "    readout_format='d'\n",
    ")\n",
    "\n",
    "def updateAOWidget(*args):\n",
    "    ao_widget.min = (Utility.SEGMENT_TABLE[0] - Utility.SEGMENT_TABLE[seg_widget.value])//2\n",
    "    ao_widget.max = (Utility.SEGMENT_TABLE[0] + Utility.SEGMENT_TABLE[seg_widget.value])//2 \n",
    "\n",
    "seg_widget.observe(updateAOWidget, 'value')\n",
    "\n",
    "def sinogramPlot2(segment_index, axial_index, bSaveFile=False):\n",
    "    plot_scale = 5\n",
    "    plt.figure(figsize=(plot_scale*len(sino_paths)*2,plot_scale))\n",
    "    tof = 0\n",
    "    #find the axial offset, within the range specified by the segment\n",
    "    mi = Utility.mi_from_seg_ao(segment_index=segment_index, axial_index=axial_index)\n",
    "    print(\"mi index = \", mi)\n",
    "    for k in range(0, len(sino_paths)):\n",
    "        plt.subplot(1,len(sino_paths),k+1)\n",
    "        plt.imshow(sinogram_4D[k][tof,mi,:,:])\n",
    "        plt.xlabel(Utility.HISTOGRAM_DIMENSION_TITLES[3])\n",
    "        plt.ylabel(Utility.HISTOGRAM_DIMENSION_TITLES[2])\n",
    "        plt.title(sino_paths[k].split('/')[-1] + \" at \" +\n",
    "                  Utility.HISTOGRAM_DIMENSION_TITLES[0] + str(tof) + \", \" + \n",
    "                  Utility.HISTOGRAM_DIMENSION_TITLES[1] + str(mi)\n",
    "                  )\n",
    "    plt.suptitle(\"sinogram at axial bin \" + str(axial_index) + \", segment bin \" + str(segment_index))\n",
    "    if bSaveFile:\n",
    "        img_folder = r\"C:/Users/petct/Desktop/Hugo/Code/KEX_LM/img/\"\n",
    "        img_str = sino_paths[0].split('/')[-1].split('PET')[0] + \"At\" + \"TOF\" + str(tof) +\"ao\" + str(axial_index) + \"seg\"+str(segment_index)\n",
    "        plt.savefig(fname=img_folder+img_str)\n",
    "    plt.show()"
   ]
  },
  {
   "cell_type": "code",
   "execution_count": 8,
   "metadata": {},
   "outputs": [
    {
     "data": {
      "application/vnd.jupyter.widget-view+json": {
       "model_id": "1933f768f8d9421f8dc902d3c255265c",
       "version_major": 2,
       "version_minor": 0
      },
      "text/plain": [
       "interactive(children=(IntSlider(value=0, continuous_update=False, description='segment bin:', max=8), IntSlide…"
      ]
     },
     "metadata": {},
     "output_type": "display_data"
    }
   ],
   "source": [
    "#kanyl is interesting at axial bin 48\n",
    "#note the lower sensitivity of the second sinogram (kanyl), although not visibly different in Cylinder\n",
    "interact(sinogramPlot2, segment_index=seg_widget, axial_index=ao_widget, bSaveFile=False);"
   ]
  },
  {
   "cell_type": "code",
   "execution_count": 9,
   "metadata": {},
   "outputs": [
    {
     "name": "stdout",
     "output_type": "stream",
     "text": [
      "109\n"
     ]
    }
   ],
   "source": [
    "\n",
    "print((13*4+(4-1))*2-1)"
   ]
  },
  {
   "cell_type": "code",
   "execution_count": 10,
   "metadata": {},
   "outputs": [],
   "source": [
    "#look at histogram at fixed tof, transaxial angle and segment\n",
    "def histogramDirectionView(segment_index=0, transaxial_angle=0, tof=0, bSaveFile=False):\n",
    "    mi_low, mi_high = Utility.mi_bounds_from_seg(segment_index=segment_index)\n",
    "    plt.figure(figsize=(15,10))\n",
    "    #tof = Utility.TOF_OFFSET_MAP[tof]+ len(Utility.TOF_OFFSET_MAP)//2\n",
    "    for k in range(0, len(sino_paths)):\n",
    "            plt.subplot(len(sino_paths),1,k+1)\n",
    "            plt.imshow(sinogram_4D[k][tof,mi_low:mi_high,transaxial_angle,:])\n",
    "            plt.xlabel(Utility.HISTOGRAM_DIMENSION_TITLES[3])\n",
    "            plt.ylabel(Utility.HISTOGRAM_DIMENSION_TITLES[1] + \" in segment\")\n",
    "            plt.title(sino_paths[k].split('/')[-1])\n",
    "\n",
    "    plt.suptitle(\"histograms at segment bin \" + \n",
    "                 str(segment_index) + \", \" + \n",
    "                 Utility.HISTOGRAM_DIMENSION_TITLES[0] + str(tof) + \", \" + \n",
    "                 Utility.HISTOGRAM_DIMENSION_TITLES[2] + str(transaxial_angle))\n",
    "    if bSaveFile:\n",
    "        img_folder = r\"C:/Users/petct/Desktop/Hugo/Code/KEX_LM/img/\"\n",
    "        img_str = sino_paths[0].split('/')[-1].split('PET')[0] + \"At\" + \"TOF\" + str(tof) +\"txAngle\" + str(transaxial_angle) + \"seg\"+str(segment_index)\n",
    "        plt.savefig(fname=img_folder+img_str)\n",
    "    plt.show()"
   ]
  },
  {
   "cell_type": "code",
   "execution_count": 11,
   "metadata": {},
   "outputs": [
    {
     "data": {
      "image/png": "[encoded data removed]",
      "text/plain": [
       "<Figure size 1080x720 with 2 Axes>"
      ]
     },
     "metadata": {
      "needs_background": "light"
     },
     "output_type": "display_data"
    }
   ],
   "source": [
    "histogramDirectionView(segment_index=0, transaxial_angle=100, tof=0)"
   ]
  },
  {
   "cell_type": "code",
   "execution_count": 12,
   "metadata": {},
   "outputs": [
    {
     "ename": "AttributeError",
     "evalue": "module 'Utility' has no attribute 'DIM_TITLES'",
     "output_type": "error",
     "traceback": [
      "\u001b[1;31m---------------------------------------------------------------------------\u001b[0m",
      "\u001b[1;31mAttributeError\u001b[0m                            Traceback (most recent call last)",
      "\u001b[1;32m<ipython-input-12-b286fcb00081>\u001b[0m in \u001b[0;36m<module>\u001b[1;34m\u001b[0m\n\u001b[0;32m      1\u001b[0m \u001b[0mseg_widget\u001b[0m \u001b[1;33m=\u001b[0m \u001b[0mwidgets\u001b[0m\u001b[1;33m.\u001b[0m\u001b[0mIntSlider\u001b[0m\u001b[1;33m(\u001b[0m\u001b[0mmin\u001b[0m\u001b[1;33m=\u001b[0m\u001b[1;36m0\u001b[0m\u001b[1;33m,\u001b[0m \u001b[0mmax\u001b[0m\u001b[1;33m=\u001b[0m\u001b[0mlen\u001b[0m\u001b[1;33m(\u001b[0m\u001b[0mUtility\u001b[0m\u001b[1;33m.\u001b[0m\u001b[0mSEGMENT_TABLE\u001b[0m\u001b[1;33m)\u001b[0m\u001b[1;33m-\u001b[0m\u001b[1;36m1\u001b[0m\u001b[1;33m,\u001b[0m\u001b[0mdescription\u001b[0m\u001b[1;33m=\u001b[0m\u001b[1;34m'segment bin'\u001b[0m\u001b[1;33m,\u001b[0m\u001b[0mcontinuous_update\u001b[0m\u001b[1;33m=\u001b[0m\u001b[1;32mFalse\u001b[0m\u001b[1;33m)\u001b[0m\u001b[1;33m\u001b[0m\u001b[1;33m\u001b[0m\u001b[0m\n\u001b[1;32m----> 2\u001b[1;33m \u001b[0mtx_widget\u001b[0m \u001b[1;33m=\u001b[0m \u001b[0mwidgets\u001b[0m\u001b[1;33m.\u001b[0m\u001b[0mIntSlider\u001b[0m\u001b[1;33m(\u001b[0m\u001b[0mmin\u001b[0m\u001b[1;33m=\u001b[0m\u001b[1;36m0\u001b[0m\u001b[1;33m,\u001b[0m \u001b[0mmax\u001b[0m\u001b[1;33m=\u001b[0m\u001b[0mUtility\u001b[0m\u001b[1;33m.\u001b[0m\u001b[0mNUMBER_OF_VIEWS\u001b[0m\u001b[1;33m-\u001b[0m\u001b[1;36m1\u001b[0m\u001b[1;33m,\u001b[0m\u001b[0mdescription\u001b[0m\u001b[1;33m=\u001b[0m\u001b[0mUtility\u001b[0m\u001b[1;33m.\u001b[0m\u001b[0mDIM_TITLES\u001b[0m\u001b[1;33m[\u001b[0m\u001b[1;36m2\u001b[0m\u001b[1;33m]\u001b[0m\u001b[1;33m,\u001b[0m\u001b[0mcontinuous_update\u001b[0m\u001b[1;33m=\u001b[0m\u001b[1;32mFalse\u001b[0m\u001b[1;33m)\u001b[0m\u001b[1;33m\u001b[0m\u001b[1;33m\u001b[0m\u001b[0m\n\u001b[0m\u001b[0;32m      3\u001b[0m \u001b[0mtof_widget\u001b[0m \u001b[1;33m=\u001b[0m \u001b[0mwidgets\u001b[0m\u001b[1;33m.\u001b[0m\u001b[0mIntSlider\u001b[0m\u001b[1;33m(\u001b[0m\u001b[0mmin\u001b[0m\u001b[1;33m=\u001b[0m\u001b[1;36m0\u001b[0m\u001b[1;33m,\u001b[0m \u001b[0mmax\u001b[0m \u001b[1;33m=\u001b[0m \u001b[0mlen\u001b[0m\u001b[1;33m(\u001b[0m\u001b[0mUtility\u001b[0m\u001b[1;33m.\u001b[0m\u001b[0mTOF_OFFSET_MAP\u001b[0m\u001b[1;33m)\u001b[0m\u001b[1;33m-\u001b[0m\u001b[1;36m1\u001b[0m\u001b[1;33m,\u001b[0m \u001b[0mdescription\u001b[0m\u001b[1;33m=\u001b[0m\u001b[0mUtility\u001b[0m\u001b[1;33m.\u001b[0m\u001b[0mDIM_TITLES\u001b[0m\u001b[1;33m[\u001b[0m\u001b[1;36m0\u001b[0m\u001b[1;33m]\u001b[0m\u001b[1;33m,\u001b[0m \u001b[0mcontinuous_update\u001b[0m\u001b[1;33m=\u001b[0m\u001b[1;32mFalse\u001b[0m\u001b[1;33m)\u001b[0m\u001b[1;33m\u001b[0m\u001b[1;33m\u001b[0m\u001b[0m\n\u001b[0;32m      4\u001b[0m \u001b[0minteract\u001b[0m\u001b[1;33m(\u001b[0m\u001b[0mhistogramDirectionView\u001b[0m\u001b[1;33m,\u001b[0m \u001b[0msegment_index\u001b[0m\u001b[1;33m=\u001b[0m\u001b[0mseg_widget\u001b[0m\u001b[1;33m,\u001b[0m \u001b[0mtransaxial_angle\u001b[0m\u001b[1;33m=\u001b[0m\u001b[0mtx_widget\u001b[0m\u001b[1;33m,\u001b[0m \u001b[0mtof\u001b[0m\u001b[1;33m=\u001b[0m\u001b[0mtof_widget\u001b[0m\u001b[1;33m,\u001b[0m\u001b[0mbSaveFile\u001b[0m\u001b[1;33m=\u001b[0m\u001b[1;32mFalse\u001b[0m\u001b[1;33m)\u001b[0m\u001b[1;33m;\u001b[0m\u001b[1;33m\u001b[0m\u001b[1;33m\u001b[0m\u001b[0m\n",
      "\u001b[1;31mAttributeError\u001b[0m: module 'Utility' has no attribute 'DIM_TITLES'"
     ]
    }
   ],
   "source": [
    "seg_widget = widgets.IntSlider(min=0, max=len(Utility.SEGMENT_TABLE)-1,description='segment bin',continuous_update=False)\n",
    "tx_widget = widgets.IntSlider(min=0, max=Utility.NUMBER_OF_VIEWS-1,description=Utility.DIM_TITLES[2],continuous_update=False)\n",
    "tof_widget = widgets.IntSlider(min=0, max = len(Utility.TOF_OFFSET_MAP)-1, description=Utility.DIM_TITLES[0], continuous_update=False)\n",
    "interact(histogramDirectionView, segment_index=seg_widget, transaxial_angle=tx_widget, tof=tof_widget,bSaveFile=False);"
   ]
  },
  {
   "cell_type": "code",
   "execution_count": null,
   "metadata": {},
   "outputs": [],
   "source": [
    "print()\n",
    "mi_tup = np.nonzero(Utility.AXIAL_INDEX_MAP[Utility.SEGMENT_INDEX_MAP == 8] == 54)\n",
    "print(mi_tup)\n",
    "print(mi_tup[0][0])"
   ]
  },
  {
   "cell_type": "code",
   "execution_count": null,
   "metadata": {},
   "outputs": [],
   "source": [
    "#look at \"orthogonal sinograms (axial offset, tilt)\" indexed by ro, tx\n",
    "def orthogonalSinogramPlot(ro,tx,bSaveFile=False):\n",
    "    \n",
    "    shape = (len(Utility.SEGMENT_TABLE), Utility.SEGMENT_TABLE[0])\n",
    "    plot_scale = 3\n",
    "    plt.figure(figsize=(plot_scale*len(sino_paths)*4,plot_scale))\n",
    "    tof = 0\n",
    "    for k in range(0, len(sino_paths)):\n",
    "        plt.subplot(1,len(sino_paths),k+1)\n",
    "        o_sinogram = np.ones(shape, dtype=np.ushort)\n",
    "        o_sinogram = o_sinogram*15\n",
    "        data = sinogram_4D[k][tof,:,tx,ro]\n",
    "        o_sinogram[Utility.SEGMENT_OFFSET_MAP[Utility.SEGMENT_INDEX_MAP]+4, Utility.AXIAL_INDEX_MAP] = data\n",
    "        \n",
    "        plt.imshow(o_sinogram)\n",
    "        plt.xlabel(\"axial offset bin\")\n",
    "        plt.ylabel(\"ring difference bin\")\n",
    "        plt.title(sino_paths[k].split('/')[-1] \n",
    "                  )\n",
    "    plt.suptitle(\" orthogonal sinograms at \" +\n",
    "                  Utility.DIM_TITLES[2] + str(tx) + \", \" + \n",
    "                  Utility.DIM_TITLES[3] + str(ro))\n",
    "    if bSaveFile:\n",
    "        img_folder = r\"C:/Users/petct/Desktop/Hugo/Code/KEX_LM/img/\"\n",
    "        img_str = sino_paths[0].split('/')[-1].split('PET')[0] + \"OrthoSinoAt\" + \"TOF\" + str(tof) +\"txAngle\" + str(tx) + \"ro\"+str(ro)\n",
    "        plt.savefig(fname=img_folder+img_str)\n",
    "        print(\"figure saved to \" + img_folder + img_str)\n",
    "        \n",
    "    plt.show()\n",
    "\n",
    "    #print(\"axial index=\", Utility.AXIAL_INDEX_MAP[mi])\n",
    "    #print(\"segment offset=\", Utility.SEGMENT_OFFSET_MAP[Utility.SEGMENT_INDEX_MAP[mi]]\n"
   ]
  },
  {
   "cell_type": "code",
   "execution_count": null,
   "metadata": {},
   "outputs": [],
   "source": [
    "#kanyl is interesting at ro=200, tx = 0,167 and ro=275,tx = 70:100\n",
    "ro_widget = widgets.IntSlider(min=0, max=Utility.NUMBER_OF_PROJECTIONS-1, description = Utility.DIM_TITLES[3])\n",
    "tx_widget=widgets.IntSlider(min=0, max=Utility.NUMBER_OF_VIEWS-1, description=Utility.DIM_TITLES[2])\n",
    "\n",
    "interact(orthogonalSinogramPlot, ro=ro_widget, tx=tx_widget);"
   ]
  },
  {
   "cell_type": "code",
   "execution_count": null,
   "metadata": {},
   "outputs": [],
   "source": [
    "#CenterOfMass = Utility.CenterOfMassMultiplication(sinogram_4D, axis=(1,2,3,4))"
   ]
  },
  {
   "cell_type": "code",
   "execution_count": null,
   "metadata": {},
   "outputs": [],
   "source": [
    "#print(CenterOfMass)"
   ]
  },
  {
   "cell_type": "code",
   "execution_count": null,
   "metadata": {},
   "outputs": [],
   "source": [
    "#what happens if we let the direction vary?\n",
    "tx_widget = widgets.IntSlider(0,Utility.NUMBER_OF_VIEWS)\n",
    "segment_slider = widgets.IntSlider(0, Utility.NUMBER_OF_SEGMENTS)\n",
    "ro_widget = widget.IntSlider(0, Utility.NUMBER_OF_PROJECTIONS)\n",
    "tof_widget = widget.IntSlider(0, Utility.NUMBER_OF_TOFBINS)\n",
    "ao_slider = widget.IntSlider(0, Utility.SEGMENT_TABLE[0])\n",
    "\n",
    "view = np.zeros((Utility.NUMBER_OF_SEGMENTS, Utility.NUMBER_OF_VIEWS))\n",
    "\n",
    "def f(tof, ao, ro):\n",
    "    \n",
    "    \n",
    "    data = sinogram_4D[tof,Utility.,ro]\n",
    "    \n",
    "    view[]"
   ]
  },
  {
   "cell_type": "code",
   "execution_count": 8,
   "metadata": {},
   "outputs": [
    {
     "data": {
      "text/plain": [
       "array([ 4, 10, 33])"
      ]
     },
     "execution_count": 8,
     "metadata": {},
     "output_type": "execute_result"
    }
   ],
   "source": [
    "import numpy as np\n",
    "A = np.array([1,2,3])\n",
    "B = [4,5,11]\n",
    "B*A"
   ]
  },
  {
   "cell_type": "code",
   "execution_count": null,
   "metadata": {},
   "outputs": [],
   "source": []
  }
 ],
 "metadata": {
  "kernelspec": {
   "display_name": "Python 3",
   "language": "python",
   "name": "python3"
  },
  "language_info": {
   "codemirror_mode": {
    "name": "ipython",
    "version": 3
   },
   "file_extension": ".py",
   "mimetype": "text/x-python",
   "name": "python",
   "nbconvert_exporter": "python",
   "pygments_lexer": "ipython3",
   "version": "3.7.1"
  }
 },
 "nbformat": 4,
 "nbformat_minor": 2
}
