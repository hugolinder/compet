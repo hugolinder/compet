{
 "cells": [
  {
   "cell_type": "code",
   "execution_count": 13,
   "metadata": {},
   "outputs": [],
   "source": [
    "import numpy as np\n",
    "import kex_data, kex_headers\n",
    "import filefit \n",
    "import os"
   ]
  },
  {
   "cell_type": "code",
   "execution_count": 16,
   "metadata": {},
   "outputs": [],
   "source": [
    "def detof(sino_path, output_path, sino_shape, dtype=np.float32):\n",
    "    with open(sino_path, 'rb' ) as file:\n",
    "        sino_data = np.fromfile(file, dtype=dtype)\n",
    "    tof_michelogram = np.reshape(sino_data, sino_shape)\n",
    "    michelogram = np.sum(tof_michelogram, axis=0)\n",
    "    with open(output_path, 'wb') as file:\n",
    "        file.write(michelogram.flatten())"
   ]
  },
  {
   "cell_type": "code",
   "execution_count": 21,
   "metadata": {},
   "outputs": [
    {
     "name": "stdout",
     "output_type": "stream",
     "text": [
      "C:/Users/petct/Desktop/Hugo/Code/PythonMEX/normalised_sinograms//CylinderPET-00-sino-norm_00.s\n",
      "C:/Users/petct/Desktop/Hugo/Code/PythonMEX/normalised_sinograms//CylinderPET-01-sino-norm_00.s\n",
      "C:/Users/petct/Desktop/Hugo/Code/PythonMEX/normalised_sinograms//KanylPET-00-sino-norm_00.s\n",
      "C:/Users/petct/Desktop/Hugo/Code/PythonMEX/normalised_sinograms//KanylPET-01-sino-norm_00.s\n"
     ]
    }
   ],
   "source": [
    "#normalized sinograms\n",
    "source_folder = r\"C:/Users/petct/Desktop/Hugo/Code/PythonMEX/normalised_sinograms/\"\n",
    "new_folder = \"/\".join(source_folder.split('/')[:-1]) + \"/detof_sinograms\"\n",
    "print(new_folder)\n",
    "filefit.prep_folder(new_folder, [])\n",
    "with os.scandir(source_folder) as it:\n",
    "    for entry in it:\n",
    "        if entry.name.endswith('.s'):\n",
    "            sino_path = \"/\".join((source_folder, entry.name))\n",
    "            print(sino_path)\n",
    "            dest = filefit.refolder_path(new_folder, sino_path)\n",
    "            shape = kex_headers.HISTOGRAM_SHAPE_NO_DELAYS\n",
    "            detof(sino_path, dest, shape)"
   ]
  },
  {
   "cell_type": "code",
   "execution_count": 24,
   "metadata": {},
   "outputs": [
    {
     "name": "stdout",
     "output_type": "stream",
     "text": [
      "C:/Users/petct/Desktop/Hugo/Code/PythonMEX/normfactors/detof_sinograms\n"
     ]
    }
   ],
   "source": [
    "source_folder = r\"C:/Users/petct/Desktop/Hugo/Code/PythonMEX/normfactors/\"\n",
    "new_folder = source_folder + \"detof_sinograms\"\n",
    "print(new_folder)\n",
    "filefit.prep_folder(new_folder, [])\n",
    "sino_path = source_folder + \"norm_uniform_sino_00.s\"\n",
    "dest = filefit.refolder_path(new_folder, sino_path)\n",
    "detof(sino_path, dest, shape)"
   ]
  },
  {
   "cell_type": "code",
   "execution_count": null,
   "metadata": {},
   "outputs": [],
   "source": []
  }
 ],
 "metadata": {
  "kernelspec": {
   "display_name": "Python 3",
   "language": "python",
   "name": "python3"
  },
  "language_info": {
   "codemirror_mode": {
    "name": "ipython",
    "version": 3
   },
   "file_extension": ".py",
   "mimetype": "text/x-python",
   "name": "python",
   "nbconvert_exporter": "python",
   "pygments_lexer": "ipython3",
   "version": "3.7.1"
  }
 },
 "nbformat": 4,
 "nbformat_minor": 4
}
