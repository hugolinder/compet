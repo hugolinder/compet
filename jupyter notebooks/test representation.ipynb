{
 "cells": [
  {
   "cell_type": "code",
   "execution_count": 4,
   "metadata": {},
   "outputs": [],
   "source": [
    "import numpy as np\n",
    "import importlib\n",
    "import matplotlib.pyplot as plt\n",
    "\n",
    "import representation\n",
    "import kex_data\n",
    "import kex_headers\n",
    "import listmode\n",
    "import petlink\n",
    "import position"
   ]
  },
  {
   "cell_type": "code",
   "execution_count": 5,
   "metadata": {},
   "outputs": [],
   "source": [
    "# test if copy to representation from kex_headers worked\n",
    "mi_rm, mi_seg = kex_headers.get_mi_maps()"
   ]
  },
  {
   "cell_type": "code",
   "execution_count": 6,
   "metadata": {},
   "outputs": [
    {
     "name": "stdout",
     "output_type": "stream",
     "text": [
      "[109  97  97  75  75  53  53  31  31]\n",
      "621\n"
     ]
    }
   ],
   "source": [
    "print(kex_headers.SEGMENT_TABLE)\n",
    "num_sino = np.sum(kex_headers.SEGMENT_TABLE)\n",
    "print(num_sino)\n",
    "#print(np.empty(num_sino, dtype=int))\n",
    "rm2, seg2 = representation.get_mi_maps(seg_tab=kex_headers.SEGMENT_TABLE)"
   ]
  },
  {
   "cell_type": "code",
   "execution_count": 7,
   "metadata": {},
   "outputs": [
    {
     "name": "stdout",
     "output_type": "stream",
     "text": [
      "test passed\n"
     ]
    }
   ],
   "source": [
    "error_count = 0\n",
    "if np.sum(rm2-mi_rm) != 0:\n",
    "    error_count += 0\n",
    "if np.sum(mi_seg-seg2) != 0:\n",
    "    error_count += 0\n",
    "\n",
    "if error_count > 0:\n",
    "    print(\"error count\", error_count)\n",
    "else: \n",
    "    print(\"test passed\")"
   ]
  },
  {
   "cell_type": "code",
   "execution_count": 8,
   "metadata": {},
   "outputs": [
    {
     "data": {
      "text/plain": [
       "array([ 0,  1, -1,  2, -2,  3, -3,  4, -4,  5, -5,  6, -6,  7],\n",
       "      dtype=int32)"
      ]
     },
     "execution_count": 8,
     "metadata": {},
     "output_type": "execute_result"
    }
   ],
   "source": [
    "representation.get_offset_map(14)"
   ]
  },
  {
   "cell_type": "code",
   "execution_count": 9,
   "metadata": {},
   "outputs": [
    {
     "name": "stdout",
     "output_type": "stream",
     "text": [
      "[[1 2]\n",
      " [1 2]\n",
      " [1 2]]\n"
     ]
    }
   ],
   "source": [
    "A = [[1,2]]\n",
    "print(np.array(A + A + A +[]))"
   ]
  },
  {
   "cell_type": "code",
   "execution_count": 25,
   "metadata": {},
   "outputs": [
    {
     "name": "stdout",
     "output_type": "stream",
     "text": [
      "[ 2  6  1 20 70]\n"
     ]
    }
   ],
   "source": [
    "importlib.reload(representation)\n",
    "toflor = np.array([2, 109, 20, 70])\n",
    "sino_shape = kex_headers.HISTOGRAM_SHAPE\n",
    "seg_tab = kex_headers.SEGMENT_TABLE\n",
    "toflor2 = representation.untangle_mi(lorbins=toflor, seg_tab=seg_tab, tof=True)\n",
    "print(toflor2)"
   ]
  },
  {
   "cell_type": "code",
   "execution_count": 26,
   "metadata": {},
   "outputs": [
    {
     "name": "stdout",
     "output_type": "stream",
     "text": [
      "{'rm': 12.162, 'rd': 44.594, 'tx': 0.39269908169872414, 'ro': -244.16842431661323, 'tof': -81.974500234375}\n"
     ]
    }
   ],
   "source": [
    "toflor3 = representation.get_natural_toflor_units(toflor, kex_headers.SCAN_DICT)\n",
    "print(toflor3)"
   ]
  },
  {
   "cell_type": "code",
   "execution_count": 27,
   "metadata": {},
   "outputs": [
    {
     "data": {
      "text/plain": [
       "-1"
      ]
     },
     "execution_count": 27,
     "metadata": {},
     "output_type": "execute_result"
    }
   ],
   "source": [
    "-1 // 2"
   ]
  },
  {
   "cell_type": "code",
   "execution_count": 28,
   "metadata": {},
   "outputs": [],
   "source": [
    "importlib.reload(representation);"
   ]
  },
  {
   "cell_type": "code",
   "execution_count": 37,
   "metadata": {},
   "outputs": [
    {
     "data": {
      "text/plain": [
       "[<matplotlib.lines.Line2D at 0x199c8243630>]"
      ]
     },
     "execution_count": 37,
     "metadata": {},
     "output_type": "execute_result"
    },
    {
     "data": {
      "image/png": "[encoded data removed]",
      "text/plain": [
       "<Figure size 432x288 with 1 Axes>"
      ]
     },
     "metadata": {
      "needs_background": "light"
     },
     "output_type": "display_data"
    }
   ],
   "source": [
    "plt.plot(representation.arc_radial_offset(400, kex_headers.SCAN_DICT['ro rad'], 1))"
   ]
  },
  {
   "cell_type": "code",
   "execution_count": 38,
   "metadata": {},
   "outputs": [
    {
     "data": {
      "text/plain": [
       "<module 'representation' from 'C:\\\\Users\\\\petct\\\\Desktop\\\\Hugo\\\\Code\\\\PythonMEX\\\\representation.py'>"
      ]
     },
     "execution_count": 38,
     "metadata": {},
     "output_type": "execute_result"
    }
   ],
   "source": [
    "importlib.reload(representation)"
   ]
  },
  {
   "cell_type": "code",
   "execution_count": 39,
   "metadata": {},
   "outputs": [],
   "source": [
    "lm_dataset, lm_paths = kex_data.listmode()"
   ]
  },
  {
   "cell_type": "code",
   "execution_count": 40,
   "metadata": {},
   "outputs": [],
   "source": [
    "test_lm = lm_dataset[-1][:100000]"
   ]
  },
  {
   "cell_type": "code",
   "execution_count": 41,
   "metadata": {},
   "outputs": [],
   "source": [
    "arc_dict = listmode.get_fov_image_bins(test_lm, arc=True)\n",
    "narc_dict = listmode.get_fov_image_bins(test_lm, arc=False)"
   ]
  },
  {
   "cell_type": "code",
   "execution_count": 94,
   "metadata": {},
   "outputs": [
    {
     "name": "stdout",
     "output_type": "stream",
     "text": [
      "com [ 47.54650084 112.69368836  98.56057267]\n",
      "com [ 47.9043544  136.49691146  98.98887232]\n"
     ]
    }
   ],
   "source": [
    "dictionaries = [arc_dict, narc_dict]\n",
    "\n",
    "for d in dictionaries:\n",
    "    print(\"com\", np.mean(d['fov_image_bins'], axis=1))"
   ]
  },
  {
   "cell_type": "code",
   "execution_count": 95,
   "metadata": {},
   "outputs": [],
   "source": [
    "recons, rpaths = kex_data.reconstructions()"
   ]
  },
  {
   "cell_type": "code",
   "execution_count": 96,
   "metadata": {},
   "outputs": [
    {
     "name": "stdout",
     "output_type": "stream",
     "text": [
      "com (54.54506671013993, 99.88068266317335, 100.24432682118665)\n",
      "com (54.481116045841475, 109.80538882233014, 100.19990990583808)\n",
      "com (47.5012789338229, 120.45245851191282, 99.0732076186318)\n",
      "com (47.53629536274702, 137.43006472480766, 99.00728627556309)\n"
     ]
    }
   ],
   "source": [
    "rcom = []\n",
    "for r in recons:\n",
    "    c = position.center_of_mass(r)\n",
    "    print(\"com\", c)\n",
    "    rcom.append(c)"
   ]
  },
  {
   "cell_type": "code",
   "execution_count": 97,
   "metadata": {},
   "outputs": [
    {
     "name": "stdout",
     "output_type": "stream",
     "text": [
      "com (47.11254839339667, 112.19156317851275, 98.06455133433663)\n",
      "com (47.46944867688672, 135.99636182717126, 98.48881080464774)\n"
     ]
    }
   ],
   "source": [
    "shape = kex_headers.IMAGE_SHAPE\n",
    "\n",
    "histos = []\n",
    "for d in dictionaries:\n",
    "    histos.append(listmode.get_histogram(d['fov_image_bins'], shape=shape))\n",
    "for h in histos:\n",
    "    print(\"com\", position.center_of_mass(h))"
   ]
  },
  {
   "cell_type": "code",
   "execution_count": 98,
   "metadata": {},
   "outputs": [
    {
     "name": "stdout",
     "output_type": "stream",
     "text": [
      "dict_keys(['is_event', 'events', 'tof_lor', 'is_prompt', 'prompts', 'prompt_image_bins', 'is_image_fov', 'fov_image_bins'])\n"
     ]
    }
   ],
   "source": [
    "print(dictionaries[0].keys())"
   ]
  },
  {
   "cell_type": "code",
   "execution_count": 99,
   "metadata": {},
   "outputs": [
    {
     "ename": "NameError",
     "evalue": "name 'R' is not defined",
     "output_type": "error",
     "traceback": [
      "\u001b[1;31m---------------------------------------------------------------------------\u001b[0m",
      "\u001b[1;31mNameError\u001b[0m                                 Traceback (most recent call last)",
      "\u001b[1;32m<ipython-input-99-66e404c9ff29>\u001b[0m in \u001b[0;36m<module>\u001b[1;34m\u001b[0m\n\u001b[1;32m----> 1\u001b[1;33m \u001b[0mprint\u001b[0m\u001b[1;33m(\u001b[0m\u001b[1;34m\"R\"\u001b[0m\u001b[1;33m,\u001b[0m \u001b[0mR\u001b[0m\u001b[1;33m,\u001b[0m \u001b[1;34m\"\\nS\"\u001b[0m\u001b[1;33m,\u001b[0m \u001b[0mS\u001b[0m\u001b[1;33m,\u001b[0m \u001b[1;34m\"\\nT\"\u001b[0m\u001b[1;33m,\u001b[0m \u001b[0mT\u001b[0m\u001b[1;33m)\u001b[0m\u001b[1;33m\u001b[0m\u001b[1;33m\u001b[0m\u001b[0m\n\u001b[0m",
      "\u001b[1;31mNameError\u001b[0m: name 'R' is not defined"
     ]
    }
   ],
   "source": [
    "print(\"R\", R, \"\\nS\", S, \"\\nT\", T)"
   ]
  },
  {
   "cell_type": "code",
   "execution_count": 104,
   "metadata": {},
   "outputs": [
    {
     "name": "stdout",
     "output_type": "stream",
     "text": [
      "tofo [-5  1 -4 ...  4  2  3]\n",
      "tofbin_s 3.125e-10\n",
      "tof_offset_s 3.90625e-11\n",
      "lightspeed 299792458000.0\n"
     ]
    },
    {
     "data": {
      "image/png": "[encoded data removed]",
      "text/plain": [
       "<Figure size 1080x1080 with 2 Axes>"
      ]
     },
     "metadata": {
      "needs_background": "light"
     },
     "output_type": "display_data"
    },
    {
     "data": {
      "image/png": "[encoded data removed]",
      "text/plain": [
       "<Figure size 1080x1080 with 2 Axes>"
      ]
     },
     "metadata": {
      "needs_background": "light"
     },
     "output_type": "display_data"
    }
   ],
   "source": [
    "importlib.reload(kex_headers)\n",
    "importlib.reload(representation)\n",
    "N = 10000\n",
    "d = dictionaries[0]\n",
    "verbose = True\n",
    "img_bins = representation.get_image_bins(d['tof_lor'][:, d['is_prompt']][:,:N])\n",
    "img_bins2 = representation.get_img_bins2(d['tof_lor'][:, d['is_prompt']][:,:N], verbose=verbose)\n",
    "ibins = {'old': img_bins, 'new': img_bins2}\n",
    "\n",
    "histo = {}\n",
    "for k in ibins:\n",
    "    shape = kex_headers.IMAGE_SHAPE\n",
    "    is_fov = listmode.is_fov(ibins[k], shape)\n",
    "    histo[k] = (listmode.get_histogram(ibins[k][:, is_fov], shape))\n",
    "    \n",
    "for key in histo:\n",
    "    h = histo[key]\n",
    "    plt.figure(figsize=(15,15))\n",
    "    plt.subplot(221)\n",
    "    plt.imshow(np.sum(h, axis=0))\n",
    "    plt.subplot(222)\n",
    "    plt.imshow(np.sum(h, axis=2))\n",
    "    plt.title(key)\n",
    "    \n",
    "    plt.show()"
   ]
  },
  {
   "cell_type": "code",
   "execution_count": null,
   "metadata": {},
   "outputs": [],
   "source": [
    "# test transformation\n",
    "N = 10000\n",
    "d = dictionaries[0]\n",
    "verbose = True\n",
    "img_bins = representation.get_image_bins(d['tof_lor'][:, d['is_prompt']][:,:N])\n",
    "img_bins2 = representation.get_img_bins2(d['tof_lor'][:, d['is_prompt']][:,:N], verbose=verbose)\n",
    "ibins = {'old': img_bins, 'new': img_bins2}\n"
   ]
  },
  {
   "cell_type": "code",
   "execution_count": 58,
   "metadata": {},
   "outputs": [
    {
     "data": {
      "text/plain": [
       "(109, 200, 200)"
      ]
     },
     "execution_count": 58,
     "metadata": {},
     "output_type": "execute_result"
    }
   ],
   "source": [
    "kex_headers.IMAGE_SHAPE"
   ]
  },
  {
   "cell_type": "code",
   "execution_count": null,
   "metadata": {},
   "outputs": [],
   "source": [
    "diff = histo[1]-histo[0]"
   ]
  },
  {
   "cell_type": "code",
   "execution_count": null,
   "metadata": {},
   "outputs": [],
   "source": [
    "plt.figure(figsize=(15,15))\n",
    "plt.imshow(diff[:,:,100])"
   ]
  },
  {
   "cell_type": "code",
   "execution_count": null,
   "metadata": {},
   "outputs": [],
   "source": [
    "print(np.sum(diff))"
   ]
  },
  {
   "cell_type": "code",
   "execution_count": null,
   "metadata": {},
   "outputs": [],
   "source": [
    "np.nonzero(diff)"
   ]
  },
  {
   "cell_type": "code",
   "execution_count": null,
   "metadata": {},
   "outputs": [],
   "source": [
    "list_diff = ibins[1] - ibins[0]"
   ]
  },
  {
   "cell_type": "code",
   "execution_count": null,
   "metadata": {},
   "outputs": [],
   "source": [
    "print(np.sum(list_diff))"
   ]
  },
  {
   "cell_type": "code",
   "execution_count": null,
   "metadata": {},
   "outputs": [],
   "source": [
    "for k in range(10):\n",
    "    print(k, ibins[1][:,k], \"\\n\", ibins[0][:,k])"
   ]
  },
  {
   "cell_type": "code",
   "execution_count": null,
   "metadata": {},
   "outputs": [],
   "source": []
  },
  {
   "cell_type": "code",
   "execution_count": null,
   "metadata": {},
   "outputs": [],
   "source": []
  },
  {
   "cell_type": "code",
   "execution_count": null,
   "metadata": {},
   "outputs": [],
   "source": []
  }
 ],
 "metadata": {
  "kernelspec": {
   "display_name": "Python 3",
   "language": "python",
   "name": "python3"
  },
  "language_info": {
   "codemirror_mode": {
    "name": "ipython",
    "version": 3
   },
   "file_extension": ".py",
   "mimetype": "text/x-python",
   "name": "python",
   "nbconvert_exporter": "python",
   "pygments_lexer": "ipython3",
   "version": "3.7.1"
  }
 },
 "nbformat": 4,
 "nbformat_minor": 2
}
