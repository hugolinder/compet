{
 "cells": [
  {
   "cell_type": "code",
   "execution_count": 2,
   "metadata": {},
   "outputs": [],
   "source": [
    "import numpy as np\n",
    "import representation \n",
    "import importlib"
   ]
  },
  {
   "cell_type": "code",
   "execution_count": 28,
   "metadata": {},
   "outputs": [],
   "source": [
    "def check_cycle(ro, rd):\n",
    "    kwargs = {'radius': 1, 'ro':ro}\n",
    "    cos_ax, sin_ax = representation.get_cos_sin_ax(rd=rd, **kwargs)\n",
    "    cycled_rd = representation.get_rd(**kwargs, cos_ax=cos_ax, sin_ax=sin_ax)\n",
    "    diff = rd-cycled_rd\n",
    "    if diff > 1e-15:\n",
    "        print(\"diff {} with ro {} and rd {}\".format(diff, ro, rd))"
   ]
  },
  {
   "cell_type": "code",
   "execution_count": 49,
   "metadata": {},
   "outputs": [],
   "source": [
    "for ro in np.linspace(-1,1, 400):\n",
    "    for rd in np.linspace(-1, 1, 100):\n",
    "        check_cycle(ro, rd)"
   ]
  },
  {
   "cell_type": "code",
   "execution_count": 19,
   "metadata": {},
   "outputs": [],
   "source": [
    "def check_cycle(ro, rd):\n",
    "    kwargs = {'radius': 1, 'ro':ro}\n",
    "    cos_sin = representation.get_cos_sin(rd=rd, tx=3, **kwargs)\n",
    "    cos_ax, sin_ax = cos_sin['cos_ax'], cos_sin['sin_ax']\n",
    "    cycled_rd = representation.get_rd(**kwargs, cos_ax=cos_ax, sin_ax=sin_ax)\n",
    "    diff = rd-cycled_rd\n",
    "    if diff > 0.000001:\n",
    "        print(\"diff {} with ro {} and rd {}\".format(diff, ro, rd))"
   ]
  },
  {
   "cell_type": "code",
   "execution_count": 47,
   "metadata": {},
   "outputs": [],
   "source": [
    "def check_cycle(ro, rd, tx=2, radius=1):\n",
    "    kwargs = {'ro': ro, 'rd': rd, 'radius': radius}\n",
    "    cos_sin = representation.get_cos_sin(tx,**kwargs)\n",
    "    proj_matrix = representation.image_to_data_matrix(**cos_sin)\n",
    "    subscripts = \"ijn,j->in\" #could also be used for einsum paths\n",
    "    if proj_matrix.ndim < 3:\n",
    "        subscripts = subscripts.replace(\"n\",\"\")\n",
    "    #print(subscripts)\n",
    "    trz_translation = np.einsum(subscripts, proj_matrix, [0,0,0])\n",
    "    kwargs = {'ro': ro, 'radius': radius}\n",
    "    for s in ['cos', 'sin']:\n",
    "        cos_sin.pop(s+'_tx')\n",
    "    cycled_rd = representation.get_rd(**kwargs, **cos_sin)\n",
    "    diff = rd-cycled_rd\n",
    "    if diff > 1e-15:\n",
    "        print(\"diff {} with ro {} and rd {}\".format(diff, ro, rd))"
   ]
  },
  {
   "cell_type": "code",
   "execution_count": null,
   "metadata": {},
   "outputs": [],
   "source": []
  }
 ],
 "metadata": {
  "kernelspec": {
   "display_name": "Python 3",
   "language": "python",
   "name": "python3"
  },
  "language_info": {
   "codemirror_mode": {
    "name": "ipython",
    "version": 3
   },
   "file_extension": ".py",
   "mimetype": "text/x-python",
   "name": "python",
   "nbconvert_exporter": "python",
   "pygments_lexer": "ipython3",
   "version": "3.8.1"
  }
 },
 "nbformat": 4,
 "nbformat_minor": 4
}
