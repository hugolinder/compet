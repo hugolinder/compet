{
 "cells": [
  {
   "cell_type": "code",
   "execution_count": 1,
   "metadata": {},
   "outputs": [],
   "source": [
    "# common packages \n",
    "import numpy as np \n",
    "import os\n",
    "import struct\n",
    "\n",
    "#visuals\n",
    "import matplotlib.pyplot as plt\n",
    "import matplotlib\n",
    "font = {'family' : 'normal',\n",
    "        'weight' : 'bold',\n",
    "        'size'   : 10}\n",
    "\n",
    "matplotlib.rc('font', **font)\n",
    "\n",
    "# code by Hugo\n",
    "import Utility \n",
    "import PythonKEX "
   ]
  },
  {
   "cell_type": "code",
   "execution_count": 2,
   "metadata": {},
   "outputs": [],
   "source": [
    "#define dataset\n",
    "Kanyl = True\n",
    "LM_paths, sino_paths, title, _ = PythonKEX.define_KEX_dataset(isKanyl=Kanyl)"
   ]
  },
  {
   "cell_type": "code",
   "execution_count": 3,
   "metadata": {},
   "outputs": [],
   "source": [
    "#calculate histograms\n",
    "histograms = []\n",
    "for path in LM_paths:\n",
    "    h = Utility.listmodePathToHistogram(path)\n",
    "    histograms.append(h)\n",
    "    \n",
    "extras_titles = [] \n",
    "extras_histograms = []"
   ]
  },
  {
   "cell_type": "code",
   "execution_count": 4,
   "metadata": {},
   "outputs": [],
   "source": [
    "#Alternatively read histograms (sinograms) from file\n",
    "histograms = []\n",
    "for path in sino_paths:\n",
    "    with open(path, \"rb\") as file:\n",
    "        sino_1D = np.fromfile(file, dtype=np.ushort)\n",
    "        histograms.append(np.reshape(sino_1D, \n",
    "                          (Utility.NUMBER_OF_VIEWS,\n",
    "                           Utility.NUMBER_OF_PROJECTIONS,  \n",
    "                           Utility.NUMBER_OF_SINOGRAMS, \n",
    "                           1+len(Utility.TOF_OFFSET_MAP))))\n",
    "extras_titles = [] \n",
    "extras_histograms = []"
   ]
  },
  {
   "cell_type": "code",
   "execution_count": 5,
   "metadata": {},
   "outputs": [],
   "source": [
    "#sum togeter\n",
    "ungated_histogram = np.sum(histograms, axis=0)\n",
    "extras_titles.append(\"ungated\")\n",
    "extras_histograms.append(ungated_histogram)"
   ]
  },
  {
   "cell_type": "code",
   "execution_count": 6,
   "metadata": {},
   "outputs": [],
   "source": [
    "#calculate difference\n",
    "difference_histogram = np.array(histograms[0], dtype=int) - np.array(histograms[1], dtype=int)\n",
    "extras_titles.append(\"difference\")\n",
    "extras_histograms.append(difference_histogram)"
   ]
  },
  {
   "cell_type": "code",
   "execution_count": 12,
   "metadata": {},
   "outputs": [
    {
     "data": {
      "image/png": "[encoded data removed]",
      "text/plain": [
       "<Figure size 288x1152 with 4 Axes>"
      ]
     },
     "metadata": {
      "needs_background": "light"
     },
     "output_type": "display_data"
    }
   ],
   "source": [
    "#check results\n",
    "\n",
    "\n",
    "rows = len(LM_paths)+len(extras_titles)\n",
    "sz = 4\n",
    "plt.figure(figsize=(sz, rows*sz))\n",
    "mi = 50\n",
    "tof_bin = 0\n",
    "for k in range(0, len(LM_paths)) :\n",
    "    plt.subplot(rows,1,k+1)\n",
    "    plt.imshow(histograms[k][:,:,mi, tof_bin])\n",
    "    \n",
    "    plt.title(LM_paths[k].split('/')[6])\n",
    "for k in range(0,len(extras_titles)):\n",
    "    plt.subplot(rows, 1, k+1+len(LM_paths))\n",
    "    plt.imshow(ungated_histogram[:,:,mi, tof_bin])\n",
    "    plt.title(extras_titles[k])\n",
    "plt.show()"
   ]
  },
  {
   "cell_type": "code",
   "execution_count": null,
   "metadata": {},
   "outputs": [],
   "source": []
  }
 ],
 "metadata": {
  "kernelspec": {
   "display_name": "Python 3",
   "language": "python",
   "name": "python3"
  },
  "language_info": {
   "codemirror_mode": {
    "name": "ipython",
    "version": 3
   },
   "file_extension": ".py",
   "mimetype": "text/x-python",
   "name": "python",
   "nbconvert_exporter": "python",
   "pygments_lexer": "ipython3",
   "version": "3.8.1"
  }
 },
 "nbformat": 4,
 "nbformat_minor": 2
}
