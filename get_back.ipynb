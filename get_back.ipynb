{
 "cells": [
  {
   "cell_type": "code",
   "execution_count": 1,
   "metadata": {},
   "outputs": [],
   "source": [
    "import numpy as np\n",
    "\n",
    "from scipy import constants\n",
    "\n",
    "#visuals\n",
    "import matplotlib.pyplot as plt\n",
    "import matplotlib.image as mpimg\n",
    "from mpl_toolkits.mplot3d import Axes3D\n",
    "import matplotlib\n",
    "matplotlib.rcParams.update({'font.size': 10})\n",
    "\n",
    "#Interactive\n",
    "from ipywidgets.widgets import * \n",
    "import ipywidgets as widgets\n",
    "\n",
    "#take time, for checking if vectorization/program is useful\n",
    "import time\n",
    "\n",
    "#Hugo code\n",
    "import kex_headers\n",
    "import kex_data\n",
    "import petlink\n",
    "import representation\n",
    "import position\n",
    "import listmode"
   ]
  },
  {
   "cell_type": "code",
   "execution_count": 2,
   "metadata": {},
   "outputs": [],
   "source": [
    "#plan\n",
    "#get one timeslice of LM data\n",
    "#get the corresponding normalization sinogram\n",
    "#calculate the histogram bins\n",
    "#calculate image bins\n",
    "#add histogram points weighted by the normalization component\n",
    "#time it"
   ]
  },
  {
   "cell_type": "code",
   "execution_count": 3,
   "metadata": {},
   "outputs": [],
   "source": [
    "listmode_dataset, listmode_paths = kex_data.listmode()\n",
    "sino_dataset, sino_paths = kex_data.sinograms()\n",
    "recons, recon_paths = kex_data.reconstructions()\n",
    "normfactor_dataset, normfactor_paths = kex_data.get_norm_factors()\n",
    "event_counts = 1000*1000\n",
    "# do not process all data initially\n",
    "listmode_sub = []\n",
    "for lm in listmode_dataset:\n",
    "    listmode_sub.append(lm[:event_counts])"
   ]
  },
  {
   "cell_type": "code",
   "execution_count": 4,
   "metadata": {},
   "outputs": [
    {
     "name": "stdout",
     "output_type": "stream",
     "text": [
      "dict_keys(['is_event', 'events', 'tof_lor', 'is_prompt', 'prompts', 'prompt_image_bins', 'is_image_fov', 'fov_image_bins'])\n"
     ]
    }
   ],
   "source": [
    "dictionaries = []\n",
    "for k, list_data in enumerate(listmode_sub):\n",
    "    dictionaries.append(listmode.get_fov_image_bins(list_data))\n",
    "\n",
    "print(dictionaries[k].keys())"
   ]
  },
  {
   "cell_type": "code",
   "execution_count": 19,
   "metadata": {},
   "outputs": [
    {
     "name": "stdout",
     "output_type": "stream",
     "text": [
      "listmode com [ 54.36204114  99.84938843 100.31305445]\n",
      "direct com [ 54.52020891  99.88618029 100.40031477]\n",
      "tof_0 com [ 54.33090389 100.17270711 130.2183634 ]\n",
      "listmode com [ 54.32297772 109.18529324 100.26860277]\n",
      "direct com [ 54.58729681 109.08645822 100.22582825]\n",
      "tof_0 com [ 54.50350662 110.42671943 128.77274911]\n",
      "listmode com [ 47.92823169 119.76035429  99.16691517]\n",
      "direct com [ 47.88856912 119.42996393  99.13983791]\n",
      "tof_0 com [ 51.55097029 116.93615164 123.09823716]\n",
      "listmode com [ 47.93527083 136.4538814   99.02526103]\n",
      "direct com [ 47.8242421  136.03039182  99.00502774]\n",
      "tof_0 com [ 47.58211302 146.5541033  104.96144582]\n"
     ]
    }
   ],
   "source": [
    "com = []\n",
    "direct_com = []\n",
    "tof_com = []\n",
    "for k, d in enumerate(dictionaries):\n",
    "    com.append(position.listmode_center(d['fov_image_bins']))\n",
    "    direct_com.append(position.listmode_center(direct_image_bins[k]))\n",
    "    tof_com.append(position.listmode_center(tof_image_bins[k]))\n",
    "    print(\"listmode com\", com[k])\n",
    "    print(\"direct com\", direct_com[k])\n",
    "    print(\"tof_0 com\", tof_com[k])"
   ]
  },
  {
   "cell_type": "code",
   "execution_count": 20,
   "metadata": {},
   "outputs": [
    {
     "name": "stdout",
     "output_type": "stream",
     "text": [
      "histo. image com [ 54.36204114  99.84938843 100.31305445]\n",
      "histo. image com [ 54.32297772 109.18529324 100.26860277]\n",
      "histo. image com [ 47.92823169 119.76035429  99.16691517]\n",
      "histo. image com [ 47.93527083 136.4538814   99.02526103]\n"
     ]
    }
   ],
   "source": [
    "for d in dictionaries:\n",
    "    print(\"histo. image com\", position.listmode_center(d['fov_image_bins']))"
   ]
  },
  {
   "cell_type": "code",
   "execution_count": 21,
   "metadata": {},
   "outputs": [
    {
     "name": "stdout",
     "output_type": "stream",
     "text": [
      "recon com (54.54506671013993, 99.88068266317335, 100.24432682118665)\n",
      "recon com (54.481116045841475, 109.80538882233014, 100.19990990583808)\n",
      "recon com (47.5012789338229, 120.45245851191282, 99.0732076186318)\n",
      "recon com (47.53629536274702, 137.43006472480766, 99.00728627556309)\n"
     ]
    }
   ],
   "source": [
    "recon_com = []\n",
    "for k,r in enumerate(recons):\n",
    "    recon_com.append(position.center_of_mass(r))\n",
    "    print(\"recon com\", recon_com[k])"
   ]
  },
  {
   "cell_type": "code",
   "execution_count": 22,
   "metadata": {},
   "outputs": [],
   "source": [
    "image_histograms = []\n",
    "for d in dictionaries:\n",
    "    image_histograms.append(listmode.get_histogram(np.array(d['fov_image_bins'], dtype=int),kex_headers.IMAGE_SHAPE))"
   ]
  },
  {
   "cell_type": "code",
   "execution_count": 23,
   "metadata": {},
   "outputs": [
    {
     "data": {
      "application/vnd.jupyter.widget-view+json": {
       "model_id": "e5b0082304b546048ff0bd48d210af6b",
       "version_major": 2,
       "version_minor": 0
      },
      "text/plain": [
       "interactive(children=(IntSlider(value=50, description='z', max=109), Output()), _dom_classes=('widget-interact…"
      ]
     },
     "metadata": {},
     "output_type": "display_data"
    }
   ],
   "source": [
    "z_slice_widget = widgets.IntSlider(min=0, max=image_histograms[0].shape[0], value=50)\n",
    "\n",
    "\n",
    "def f(z):\n",
    "    plt.figure(figsize=(20,20))\n",
    "    for k,h in enumerate(image_histograms):\n",
    "        plt.subplot(2,len(image_histograms)/2,k+1)\n",
    "        plt.imshow(h[z])\n",
    "        plt.colorbar()\n",
    "        s= 150\n",
    "        \n",
    "        plt.plot(recon_com[k][2], recon_com[k][1],'ro')\n",
    "        plt.plot(com[k][2], com[k][1], 'w.')\n",
    "        if False:\n",
    "            \n",
    "            plt.scatter(direct_com[k][2], direct_com[k][1],color='g', marker='.', s=s)\n",
    "            plt.scatter(tof_0_com[k][2], tof_0_com[k][1], color='w', marker='.', s=s)\n",
    "            plt.legend([ \"recon. com\", \"img. bins com\", \"direct com\", \"tof 0 com\"])\n",
    "        plt.legend([ \"recon. com\", \"histo. img. com\"])\n",
    "        \n",
    "        alpha = 0.3\n",
    "        plt.axvline(x=[100],color='red', alpha=alpha)\n",
    "        plt.axhline(y=[100],color='red',alpha=alpha)\n",
    "    \n",
    "interact(f, z=z_slice_widget);"
   ]
  },
  {
   "cell_type": "code",
   "execution_count": 24,
   "metadata": {},
   "outputs": [
    {
     "data": {
      "application/vnd.jupyter.widget-view+json": {
       "model_id": "4af05603bf3a46c4837d570706bd68fb",
       "version_major": 2,
       "version_minor": 0
      },
      "text/plain": [
       "interactive(children=(IntSlider(value=50, description='z', max=109), Output()), _dom_classes=('widget-interact…"
      ]
     },
     "metadata": {},
     "output_type": "display_data"
    }
   ],
   "source": [
    "z_slice_widget = widgets.IntSlider(min=0, max=image_histograms[0].shape[0], value=50)\n",
    "\n",
    "\n",
    "def f(z):\n",
    "    plt.figure(figsize=(20,20))\n",
    "    for k,h in enumerate(recons):\n",
    "        plt.subplot(2,len(recons)/2,k+1)\n",
    "        plt.imshow(h[z])\n",
    "        plt.colorbar()\n",
    "        s= 150\n",
    "        if False:\n",
    "            plt.scatter(recon_com[k][2], recon_com[k][1],color='r', marker='o', s=s)\n",
    "            plt.scatter(com[k][2], com[k][1], color='y', marker='o', s= s)\n",
    "            plt.scatter(direct_com[k][2], direct_com[k][1],color='g', marker='.', s=s)\n",
    "            plt.scatter(tof_0_com[k][2], tof_0_com[k][1], color='w', marker='.', s=s)\n",
    "            plt.legend([ \"recon. com\", \"img. bins com\", \"direct com\", \"tof 0 com\"])\n",
    "        \n",
    "        alpha = 0.3\n",
    "        plt.axvline(x=[100],color='red', alpha=alpha)\n",
    "        plt.axhline(y=[100],color='red',alpha=alpha)\n",
    "    \n",
    "interact(f, z=z_slice_widget);"
   ]
  },
  {
   "cell_type": "code",
   "execution_count": 26,
   "metadata": {},
   "outputs": [
    {
     "data": {
      "application/vnd.jupyter.widget-view+json": {
       "model_id": "a7476a9b9b2a4f708c2349937d817c34",
       "version_major": 2,
       "version_minor": 0
      },
      "text/plain": [
       "interactive(children=(IntSlider(value=50, description='x', max=200), Output()), _dom_classes=('widget-interact…"
      ]
     },
     "metadata": {},
     "output_type": "display_data"
    }
   ],
   "source": [
    "x_slice_widget = widgets.IntSlider(min=0, max=image_histograms[0].shape[-1], value=50)\n",
    "\n",
    "\n",
    "def f(x):\n",
    "    plt.figure(figsize=(20,20))\n",
    "    for k,h in enumerate(image_histograms):\n",
    "        plt.subplot(2,len(image_histograms)/2,k+1)\n",
    "        plt.imshow(h[:,:,x])\n",
    "        plt.colorbar()\n",
    "        s= 50\n",
    "        plt.scatter(recon_com[k][1], recon_com[k][0],color='r', marker='o', s=s)\n",
    "        plt.scatter(com[k][1], com[k][0], color='y', marker='o', s= s)\n",
    "        #plt.scatter(direct_com[k][1], direct_com[k][0],color='g', marker='.', s=s)\n",
    "        #plt.scatter(tof_0_com[k][1], tof_0_com[k][0], color='w', marker='.', s=s)\n",
    "        plt.legend([ \"recon. com\", \"img. bins com\", \"direct com\", \"tof 0 com\"])\n",
    "        \n",
    "        alpha = 0.3\n",
    "        plt.axvline(x=[100],color='red', alpha=alpha)\n",
    "        plt.axhline(y=[100],color='red',alpha=alpha)\n",
    "    \n",
    "interact(f, x=x_slice_widget);"
   ]
  },
  {
   "cell_type": "code",
   "execution_count": 10,
   "metadata": {},
   "outputs": [],
   "source": [
    "direct_image_bins = []\n",
    "tof_image_bins = []\n",
    "tof = 2\n",
    "pos_ro_image_bins = []\n",
    "for k, d in enumerate(dictionaries): \n",
    "    is_prompt = d['is_prompt']\n",
    "    is_direct = d['tof_lor'][1][is_prompt] < kex_headers.SEGMENT_TABLE[0]\n",
    "    is_tof = d['tof_lor'][0][is_prompt] == tof\n",
    "    is_pos_ro = d['tof_lor'][-1][is_prompt] >= 0\n",
    "    \n",
    "    direct_image_bins.append(d['fov_image_bins'][:, listmode.convert_condition(is_direct, d['is_image_fov'])])\n",
    "    tof_image_bins.append(d['fov_image_bins'][:, listmode.convert_condition(is_tof, d['is_image_fov'])])\n",
    "    pos_ro_image_bins.append(d['fov_image_bins'][:, listmode.convert_condition(is_pos_ro, d['is_image_fov'])])"
   ]
  },
  {
   "cell_type": "code",
   "execution_count": 11,
   "metadata": {},
   "outputs": [
    {
     "name": "stdout",
     "output_type": "stream",
     "text": [
      "tof_means[-1]\n",
      "[  0.          50.          87.06601706 271.9588005 ]\n",
      "[  1.          50.         106.39438357 265.74440048]\n",
      "[  2.          50.          67.44819263 268.19183763]\n",
      "[  3.          50.         126.50590289 249.52478624]\n",
      "[  4.          50.          46.62800085 253.41597625]\n",
      "[  5.          50.         141.40760491 233.41769779]\n",
      "[  6.          50.          28.97967945 235.16837025]\n",
      "[  7.          50.         146.49766223 224.39857845]\n",
      "[  8.          50.          20.82369756 223.88778239]\n",
      "[  9.          50.         125.44803371 225.01935081]\n",
      "[ 10.          50.          30.8319351  220.49700378]\n",
      "[ 11.          50.          86.51389905 232.76737381]\n",
      "[ 12.          50.          77.18776521 234.43069307]\n",
      "(4, 13, 4)\n",
      "(4, 4, 13)\n"
     ]
    }
   ],
   "source": [
    "tof_means = []\n",
    "mi = 50\n",
    "for d in dictionaries:\n",
    "    means = []\n",
    "    tof_lor = d['tof_lor']\n",
    "    for tof in range(kex_headers.NUMBER_OF_TOFBINS):\n",
    "        m = np.mean(tof_lor[:, tof_lor[0] == tof], axis=1)\n",
    "        #fix mi\n",
    "        m[1] = mi\n",
    "        #m[0] = 0\n",
    "        #print(\"tof\", tof, \"m\", m)\n",
    "        means.append(m)\n",
    "    tof_means.append(means)\n",
    "print(\"tof_means[-1]\")\n",
    "for t in range(13):\n",
    "    print(tof_means[-1][t])\n",
    "\n",
    "tof_means = np.array(tof_means)\n",
    "print(tof_means.shape)\n",
    "tof_means = np.swapaxes(tof_means, 1,2)\n",
    "print(tof_means.shape)"
   ]
  },
  {
   "cell_type": "code",
   "execution_count": 12,
   "metadata": {},
   "outputs": [],
   "source": [
    "mean_img_bins = []\n",
    "for means in tof_means:\n",
    "    mean_img_bins.append(representation.get_image_bins(np.array(means, dtype=int)))"
   ]
  },
  {
   "cell_type": "code",
   "execution_count": 13,
   "metadata": {},
   "outputs": [
    {
     "data": {
      "image/png": "[encoded data removed]",
      "text/plain": [
       "<Figure size 432x288 with 1 Axes>"
      ]
     },
     "metadata": {
      "needs_background": "light"
     },
     "output_type": "display_data"
    },
    {
     "data": {
      "image/png": "[encoded data removed]",
      "text/plain": [
       "<Figure size 432x288 with 1 Axes>"
      ]
     },
     "metadata": {
      "needs_background": "light"
     },
     "output_type": "display_data"
    },
    {
     "data": {
      "image/png": "[encoded data removed]",
      "text/plain": [
       "<Figure size 432x288 with 1 Axes>"
      ]
     },
     "metadata": {
      "needs_background": "light"
     },
     "output_type": "display_data"
    },
    {
     "data": {
      "image/png": "[encoded data removed]",
      "text/plain": [
       "<Figure size 432x288 with 1 Axes>"
      ]
     },
     "metadata": {
      "needs_background": "light"
     },
     "output_type": "display_data"
    }
   ],
   "source": [
    "for k, img_bins in enumerate(mean_img_bins):\n",
    "    plt.xlim(0,200)\n",
    "    plt.ylim(0,200)\n",
    "    legends = []\n",
    "    for t in range(13):\n",
    "        y,x = img_bins[1:,t]\n",
    "        plt.plot(x,y, '.')\n",
    "        plt.text(x,y, str(kex_headers.TOF_OFFSET_MAP[t]))\n",
    "        y,x = recon_com[k][1:]\n",
    "        plt.plot(x,y,color='r', marker='x')\n",
    "        \n",
    "    plt.show()"
   ]
  },
  {
   "cell_type": "code",
   "execution_count": 14,
   "metadata": {},
   "outputs": [],
   "source": [
    "R_img_bins = []\n",
    "midpoint_img_bins = []\n",
    "tof_image_bins = []\n",
    "fix_tof = 7\n",
    "for k, d in enumerate(dictionaries):\n",
    "    tof_lor = d['tof_lor'].copy()\n",
    "    tof_lor = tof_lor[:, tof_lor[0]==fix_tof]\n",
    "    tof_image_bins.append(representation.get_image_bins(tof_lor, timealign=True))\n",
    "    tof_lor[0] = 0\n",
    "    midpoint_img_bins.append(representation.get_image_bins(tof_lor, timealign=True))\n",
    "    tof_lor[-1] = 250\n",
    "    R_img_bins.append(representation.get_image_bins(tof_lor, timealign=False))\n",
    "    "
   ]
  },
  {
   "cell_type": "code",
   "execution_count": null,
   "metadata": {},
   "outputs": [],
   "source": []
  },
  {
   "cell_type": "code",
   "execution_count": 15,
   "metadata": {},
   "outputs": [],
   "source": [
    "R_histo_images = []\n",
    "midpoint_histo_images = []\n",
    "\n",
    "for k, img_bins in enumerate(R_img_bins):\n",
    "    R_histo_images.append(listmode.get_histogram(img_bins, kex_headers.IMAGE_SHAPE))\n",
    "    midpoint_histo_images.append( listmode.get_histogram(midpoint_img_bins[k], kex_headers.IMAGE_SHAPE))"
   ]
  },
  {
   "cell_type": "code",
   "execution_count": 16,
   "metadata": {},
   "outputs": [
    {
     "name": "stdout",
     "output_type": "stream",
     "text": [
      "tof offset 4 R axis trace\n"
     ]
    },
    {
     "data": {
      "image/png": "[encoded data removed]",
      "text/plain": [
       "<Figure size 720x720 with 3 Axes>"
      ]
     },
     "metadata": {
      "needs_background": "light"
     },
     "output_type": "display_data"
    },
    {
     "data": {
      "image/png": "[encoded data removed]",
      "text/plain": [
       "<Figure size 720x720 with 3 Axes>"
      ]
     },
     "metadata": {
      "needs_background": "light"
     },
     "output_type": "display_data"
    },
    {
     "data": {
      "image/png": "[encoded data removed]",
      "text/plain": [
       "<Figure size 720x720 with 3 Axes>"
      ]
     },
     "metadata": {
      "needs_background": "light"
     },
     "output_type": "display_data"
    },
    {
     "data": {
      "image/png": "[encoded data removed]",
      "text/plain": [
       "<Figure size 720x720 with 3 Axes>"
      ]
     },
     "metadata": {
      "needs_background": "light"
     },
     "output_type": "display_data"
    }
   ],
   "source": [
    "z = 47\n",
    "print(\"tof offset\", kex_headers.TOF_OFFSET_MAP[fix_tof],\"R axis trace\")\n",
    "for k, h in enumerate(R_histo_images):\n",
    "    plt.figure(figsize=(10,10))\n",
    "    plt.subplot(1,3,1)\n",
    "    plt.imshow(h[z], origin='down')\n",
    "    plt.scatter([100], [100])\n",
    "    plt.scatter(recon_com[k][2], recon_com[k][1], marker='.')\n",
    "    plt.title(\"R axis\")\n",
    "    plt.subplot(1,3,2)\n",
    "    plt.imshow(midpoint_histo_images[k][z], origin='down')\n",
    "    plt.scatter([100], [100])\n",
    "    plt.scatter(recon_com[k][2], recon_com[k][1], marker='.')\n",
    "    plt.title(\"midpoints\")\n",
    "    \n",
    "    plt.subplot(1,3,3)\n",
    "    plt.imshow(image_histograms[k][z], origin='down')\n",
    "    plt.title(\"histo. img\")\n",
    "    plt.show()"
   ]
  },
  {
   "cell_type": "code",
   "execution_count": 18,
   "metadata": {},
   "outputs": [
    {
     "ename": "NameError",
     "evalue": "name 'histograms' is not defined",
     "output_type": "error",
     "traceback": [
      "\u001b[1;31m---------------------------------------------------------------------------\u001b[0m",
      "\u001b[1;31mNameError\u001b[0m                                 Traceback (most recent call last)",
      "\u001b[1;32m<ipython-input-18-819576111fa6>\u001b[0m in \u001b[0;36m<module>\u001b[1;34m\u001b[0m\n\u001b[1;32m----> 1\u001b[1;33m \u001b[0mz_slice_widget\u001b[0m \u001b[1;33m=\u001b[0m \u001b[0mwidgets\u001b[0m\u001b[1;33m.\u001b[0m\u001b[0mIntSlider\u001b[0m\u001b[1;33m(\u001b[0m\u001b[0mmin\u001b[0m\u001b[1;33m=\u001b[0m\u001b[1;36m0\u001b[0m\u001b[1;33m,\u001b[0m \u001b[0mmax\u001b[0m\u001b[1;33m=\u001b[0m\u001b[0mhistograms\u001b[0m\u001b[1;33m[\u001b[0m\u001b[1;36m0\u001b[0m\u001b[1;33m]\u001b[0m\u001b[1;33m.\u001b[0m\u001b[0mshape\u001b[0m\u001b[1;33m[\u001b[0m\u001b[1;36m0\u001b[0m\u001b[1;33m]\u001b[0m\u001b[1;33m,\u001b[0m \u001b[0mvalue\u001b[0m\u001b[1;33m=\u001b[0m\u001b[1;36m47\u001b[0m\u001b[1;33m)\u001b[0m\u001b[1;33m\u001b[0m\u001b[1;33m\u001b[0m\u001b[0m\n\u001b[0m\u001b[0;32m      2\u001b[0m \u001b[1;33m\u001b[0m\u001b[0m\n\u001b[0;32m      3\u001b[0m \u001b[1;32mdef\u001b[0m \u001b[0mf\u001b[0m\u001b[1;33m(\u001b[0m\u001b[0mz\u001b[0m\u001b[1;33m)\u001b[0m\u001b[1;33m:\u001b[0m\u001b[1;33m\u001b[0m\u001b[1;33m\u001b[0m\u001b[0m\n\u001b[0;32m      4\u001b[0m     \u001b[0mplt\u001b[0m\u001b[1;33m.\u001b[0m\u001b[0mfigure\u001b[0m\u001b[1;33m(\u001b[0m\u001b[0mfigsize\u001b[0m\u001b[1;33m=\u001b[0m\u001b[1;33m(\u001b[0m\u001b[1;36m20\u001b[0m\u001b[1;33m,\u001b[0m\u001b[1;36m20\u001b[0m\u001b[1;33m)\u001b[0m\u001b[1;33m)\u001b[0m\u001b[1;33m\u001b[0m\u001b[1;33m\u001b[0m\u001b[0m\n\u001b[0;32m      5\u001b[0m     \u001b[1;32mfor\u001b[0m \u001b[0mk\u001b[0m\u001b[1;33m,\u001b[0m\u001b[0mh\u001b[0m \u001b[1;32min\u001b[0m \u001b[0menumerate\u001b[0m\u001b[1;33m(\u001b[0m\u001b[0mtof_histo_images\u001b[0m\u001b[1;33m)\u001b[0m\u001b[1;33m:\u001b[0m\u001b[1;33m\u001b[0m\u001b[1;33m\u001b[0m\u001b[0m\n",
      "\u001b[1;31mNameError\u001b[0m: name 'histograms' is not defined"
     ]
    }
   ],
   "source": [
    "z_slice_widget = widgets.IntSlider(min=0, max=histograms[0].shape[0], value=47)\n",
    "\n",
    "def f(z):\n",
    "    plt.figure(figsize=(20,20))\n",
    "    for k,h in enumerate(tof_histo_images):\n",
    "        plt.subplot(2,len(tof_histo_images)/2,k+1)\n",
    "        plt.imshow(h[z])\n",
    "        plt.colorbar()\n",
    "        s= 100\n",
    "        if False:\n",
    "            plt.scatter(recon_com[k][2], recon_com[k][1],color='r', marker='o', s=s)\n",
    "            plt.scatter(com[k][2], com[k][1], color='y', marker='o', s= s)\n",
    "            plt.scatter(direct_com[k][2], direct_com[k][1],color='g', marker='.', s=s)\n",
    "            plt.scatter(tof_0_com[k][2], tof_0_com[k][1], color='w', marker='.', s=s)\n",
    "            plt.legend([ \"recon. com\", \"img. bins com\", \"direct com\", \"tof 0 com\"])\n",
    "        \n",
    "        alpha = 0.3\n",
    "        plt.axvline(x=[100],color='red', alpha=alpha)\n",
    "        plt.axhline(y=[100],color='red',alpha=alpha)\n",
    "    \n",
    "interact(f, z=z_slice_widget);"
   ]
  },
  {
   "cell_type": "code",
   "execution_count": null,
   "metadata": {},
   "outputs": [],
   "source": [
    "plt.subplot(np.histogram())"
   ]
  },
  {
   "cell_type": "code",
   "execution_count": null,
   "metadata": {},
   "outputs": [],
   "source": [
    "fov_sinograms = []\n",
    "delays_sinograms = []\n",
    "outside_fov_sinograms = []\n",
    "for k, d in enumerate(dictionaries):\n",
    "    lors =  d['tof_lor'][1:]\n",
    "    prompt_lors = lors[:,d['is_prompt']]\n",
    "    delay_lors = lors[:,d['is_prompt'] == False]\n",
    "    fov_lors = prompt_lors[:,d['is_image_fov']]\n",
    "    outside_lors = promt_lors[:, d['is_image_fov'] == False]\n",
    "    shape = kex_headers.LOR_HISTOGRAM_SHAPE\n",
    "    fov_sinograms.append(listmode.histogram(fov_lors, shape))\n",
    "    delays_sinograms.append(listmode.histogram(delay_lors, shape) )\n",
    "    outside_fov_sinograms.append(listmode.histogram(outside_lors, shape))"
   ]
  },
  {
   "cell_type": "code",
   "execution_count": null,
   "metadata": {},
   "outputs": [],
   "source": []
  },
  {
   "cell_type": "code",
   "execution_count": null,
   "metadata": {},
   "outputs": [],
   "source": []
  }
 ],
 "metadata": {
  "kernelspec": {
   "display_name": "Python 3",
   "language": "python",
   "name": "python3"
  },
  "language_info": {
   "codemirror_mode": {
    "name": "ipython",
    "version": 3
   },
   "file_extension": ".py",
   "mimetype": "text/x-python",
   "name": "python",
   "nbconvert_exporter": "python",
   "pygments_lexer": "ipython3",
   "version": "3.7.1"
  }
 },
 "nbformat": 4,
 "nbformat_minor": 2
}
