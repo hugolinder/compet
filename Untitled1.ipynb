{
 "cells": [
  {
   "cell_type": "code",
   "execution_count": 5,
   "metadata": {},
   "outputs": [
    {
     "ename": "NameError",
     "evalue": "name 'tof_bin_time_s' is not defined",
     "output_type": "error",
     "traceback": [
      "\u001b[1;31m---------------------------------------------------------------------------\u001b[0m",
      "\u001b[1;31mNameError\u001b[0m                                 Traceback (most recent call last)",
      "\u001b[1;32m<ipython-input-5-b5e1308f8ab5>\u001b[0m in \u001b[0;36m<module>\u001b[1;34m\u001b[0m\n\u001b[0;32m      1\u001b[0m \u001b[1;32mimport\u001b[0m \u001b[0mnumpy\u001b[0m \u001b[1;32mas\u001b[0m \u001b[0mnp\u001b[0m\u001b[1;33m\u001b[0m\u001b[1;33m\u001b[0m\u001b[0m\n\u001b[0;32m      2\u001b[0m \u001b[1;33m\u001b[0m\u001b[0m\n\u001b[1;32m----> 3\u001b[1;33m \u001b[1;32mimport\u001b[0m \u001b[0mkex_datasets\u001b[0m \u001b[1;32mas\u001b[0m \u001b[0mkex\u001b[0m\u001b[1;33m\u001b[0m\u001b[1;33m\u001b[0m\u001b[0m\n\u001b[0m\u001b[0;32m      4\u001b[0m \u001b[1;32mimport\u001b[0m \u001b[0mpetlink\u001b[0m\u001b[1;33m\u001b[0m\u001b[1;33m\u001b[0m\u001b[0m\n\u001b[0;32m      5\u001b[0m \u001b[1;32mimport\u001b[0m \u001b[0mpet_scan\u001b[0m\u001b[1;33m\u001b[0m\u001b[1;33m\u001b[0m\u001b[0m\n",
      "\u001b[1;32m~\\Desktop\\Hugo\\Code\\PythonMEX\\kex_datasets.py\u001b[0m in \u001b[0;36m<module>\u001b[1;34m\u001b[0m\n\u001b[0;32m      6\u001b[0m \u001b[1;31m#Hugo code\u001b[0m\u001b[1;33m\u001b[0m\u001b[1;33m\u001b[0m\u001b[1;33m\u001b[0m\u001b[0m\n\u001b[0;32m      7\u001b[0m \u001b[1;31m#import PythonKEX\u001b[0m\u001b[1;33m\u001b[0m\u001b[1;33m\u001b[0m\u001b[1;33m\u001b[0m\u001b[0m\n\u001b[1;32m----> 8\u001b[1;33m \u001b[1;32mimport\u001b[0m \u001b[0mpet_scan\u001b[0m\u001b[1;33m\u001b[0m\u001b[1;33m\u001b[0m\u001b[0m\n\u001b[0m\u001b[0;32m      9\u001b[0m \u001b[1;33m\u001b[0m\u001b[0m\n\u001b[0;32m     10\u001b[0m \u001b[1;32mdef\u001b[0m \u001b[0mpaths\u001b[0m\u001b[1;33m(\u001b[0m\u001b[0mis_cannula\u001b[0m\u001b[1;33m=\u001b[0m\u001b[1;32mTrue\u001b[0m\u001b[1;33m,\u001b[0m \u001b[0mtof\u001b[0m\u001b[1;33m=\u001b[0m\u001b[1;32mTrue\u001b[0m\u001b[1;33m,\u001b[0m \u001b[0mrecon_str\u001b[0m\u001b[1;33m=\u001b[0m\u001b[1;34m\"OP\"\u001b[0m\u001b[1;33m)\u001b[0m\u001b[1;33m:\u001b[0m\u001b[1;33m\u001b[0m\u001b[1;33m\u001b[0m\u001b[0m\n",
      "\u001b[1;32m~\\Desktop\\Hugo\\Code\\PythonMEX\\pet_scan.py\u001b[0m in \u001b[0;36m<module>\u001b[1;34m\u001b[0m\n\u001b[0;32m    141\u001b[0m \u001b[0mSINOGRAM_DEPTH_OF_INTERACTION_mm\u001b[0m\u001b[1;33m=\u001b[0m\u001b[1;36m6.7\u001b[0m\u001b[1;33m\u001b[0m\u001b[1;33m\u001b[0m\u001b[0m\n\u001b[0;32m    142\u001b[0m \u001b[0mTOF_BIN_TIME_S\u001b[0m \u001b[1;33m=\u001b[0m \u001b[1;36m312.5\u001b[0m\u001b[1;33m*\u001b[0m\u001b[1;36m1e-12\u001b[0m\u001b[1;33m\u001b[0m\u001b[1;33m\u001b[0m\u001b[0m\n\u001b[1;32m--> 143\u001b[1;33m \u001b[0mTOF_OFFSET_S\u001b[0m \u001b[1;33m=\u001b[0m \u001b[0mtof_bin_time_s\u001b[0m \u001b[1;33m/\u001b[0m \u001b[1;36m8.0\u001b[0m\u001b[1;33m\u001b[0m\u001b[1;33m\u001b[0m\u001b[0m\n\u001b[0m\u001b[0;32m    144\u001b[0m \u001b[1;33m\u001b[0m\u001b[0m\n\u001b[0;32m    145\u001b[0m \u001b[1;31m#datatypes, when siemens saves the files\u001b[0m\u001b[1;33m\u001b[0m\u001b[1;33m\u001b[0m\u001b[1;33m\u001b[0m\u001b[0m\n",
      "\u001b[1;31mNameError\u001b[0m: name 'tof_bin_time_s' is not defined"
     ]
    }
   ],
   "source": [
    "import numpy as np\n",
    "\n",
    "import kex_datasets as kex\n",
    "import petlink\n",
    "import pet_scan"
   ]
  },
  {
   "cell_type": "code",
   "execution_count": 4,
   "metadata": {},
   "outputs": [
    {
     "name": "stdout",
     "output_type": "stream",
     "text": [
      "0\n"
     ]
    }
   ],
   "source": [
    "A = [109,109+97,109+2*97]\n",
    "B = 109\n",
    "print(np.searchsorted(A, B, side='left'))"
   ]
  },
  {
   "cell_type": "code",
   "execution_count": 3,
   "metadata": {},
   "outputs": [],
   "source": [
    "listmode_dataset, listmode_paths = kex.listmode()"
   ]
  },
  {
   "cell_type": "code",
   "execution_count": 4,
   "metadata": {},
   "outputs": [
    {
     "name": "stdout",
     "output_type": "stream",
     "text": [
      "[     483     1106     1733 ... 37393555 37394165 37394798]\n",
      "37394799\n"
     ]
    }
   ],
   "source": [
    "data_number=3\n",
    "timetags = petlink.timetag_indices(listmode_dataset[data_number])\n",
    "print(timetags)\n",
    "print(len(listmode_dataset[data_number]))"
   ]
  },
  {
   "cell_type": "code",
   "execution_count": 5,
   "metadata": {},
   "outputs": [
    {
     "name": "stdout",
     "output_type": "stream",
     "text": [
      "[array([1]), array([2, 3])]\n"
     ]
    }
   ],
   "source": [
    "A = [1,2,3]\n",
    "print(np.split(A, (1,),axis=-1))"
   ]
  },
  {
   "cell_type": "code",
   "execution_count": 11,
   "metadata": {},
   "outputs": [
    {
     "name": "stdout",
     "output_type": "stream",
     "text": [
      "(4, 37332165)\n",
      "(4, 37332165)\n"
     ]
    }
   ],
   "source": [
    "events = petlink.events(listmode_dataset[data_number])\n",
    "proj_bins = petlink.binAddressToProjectionSpace(events)\n",
    "bin_addresses = petlink.bin_address(events)\n",
    "unravel_ba = np.unravel_index(bin_addresses, dims=pet_scan.HISTOGRAM_SHAPE, order='C')\n",
    "print(proj_bins.shape)\n",
    "print(np.array(unravel_ba).shape)"
   ]
  },
  {
   "cell_type": "code",
   "execution_count": 12,
   "metadata": {},
   "outputs": [
    {
     "name": "stdout",
     "output_type": "stream",
     "text": [
      "[[ 10   1   8   0   2   1   6   6   3   5]\n",
      " [154 423 397 318 337 527 404 484 326 462]\n",
      " [  4  85   8  92  58  92  26   6 148 159]\n",
      " [205 236 211 262 268 277 231 209 230 214]]\n",
      "[[ 10   1   8   0   2   1   6   6   3   5]\n",
      " [154 423 397 318 337 527 404 484 326 462]\n",
      " [  4  85   8  92  58  92  26   6 148 159]\n",
      " [205 236 211 262 268 277 231 209 230 214]]\n"
     ]
    }
   ],
   "source": [
    "print(proj_bins[:,:10])\n",
    "print(np.array(unravel_ba)[:,:10])"
   ]
  },
  {
   "cell_type": "code",
   "execution_count": 13,
   "metadata": {},
   "outputs": [
    {
     "name": "stdout",
     "output_type": "stream",
     "text": [
      "0\n"
     ]
    }
   ],
   "source": [
    "diff = proj_bins - np.array(unravel_ba)\n",
    "print(np.sum(diff))"
   ]
  },
  {
   "cell_type": "code",
   "execution_count": 7,
   "metadata": {},
   "outputs": [
    {
     "name": "stdout",
     "output_type": "stream",
     "text": [
      "unravel_index(indices, dims, order='C')\n",
      "\n",
      "    Converts a flat index or array of flat indices into a tuple\n",
      "    of coordinate arrays.\n",
      "\n",
      "    Parameters\n",
      "    ----------\n",
      "    indices : array_like\n",
      "        An integer array whose elements are indices into the flattened\n",
      "        version of an array of dimensions ``dims``. Before version 1.6.0,\n",
      "        this function accepted just one index value.\n",
      "    dims : tuple of ints\n",
      "        The shape of the array to use for unraveling ``indices``.\n",
      "    order : {'C', 'F'}, optional\n",
      "        Determines whether the indices should be viewed as indexing in\n",
      "        row-major (C-style) or column-major (Fortran-style) order.\n",
      "\n",
      "        .. versionadded:: 1.6.0\n",
      "\n",
      "    Returns\n",
      "    -------\n",
      "    unraveled_coords : tuple of ndarray\n",
      "        Each array in the tuple has the same shape as the ``indices``\n",
      "        array.\n",
      "\n",
      "    See Also\n",
      "    --------\n",
      "    ravel_multi_index\n",
      "\n",
      "    Examples\n",
      "    --------\n",
      "    >>> np.unravel_index([22, 41, 37], (7,6))\n",
      "    (array([3, 6, 6]), array([4, 5, 1]))\n",
      "    >>> np.unravel_index([31, 41, 13], (7,6), order='F')\n",
      "    (array([3, 6, 6]), array([4, 5, 1]))\n",
      "\n",
      "    >>> np.unravel_index(1621, (6,7,8,9))\n",
      "    (3, 1, 4, 1)\n"
     ]
    }
   ],
   "source": [
    "print(np.unravel_index.__doc__)"
   ]
  },
  {
   "cell_type": "code",
   "execution_count": 19,
   "metadata": {},
   "outputs": [
    {
     "name": "stdout",
     "output_type": "stream",
     "text": [
      "(array([0, 0], dtype=int64), array([1, 1], dtype=int64))\n",
      "[0 1]\n"
     ]
    }
   ],
   "source": [
    "print(np.unravel_index(np.array([1,1],dtype=np.int32), (1,2)))\n",
    "print(np.squeeze(np.array(np.unravel_index([1],(1,2)))))"
   ]
  },
  {
   "cell_type": "code",
   "execution_count": 1,
   "metadata": {},
   "outputs": [
    {
     "name": "stdout",
     "output_type": "stream",
     "text": [
      "10\n"
     ]
    }
   ],
   "source": [
    "print(10)"
   ]
  },
  {
   "cell_type": "code",
   "execution_count": 2,
   "metadata": {},
   "outputs": [
    {
     "ename": "NameError",
     "evalue": "name 'np' is not defined",
     "output_type": "error",
     "traceback": [
      "\u001b[1;31m---------------------------------------------------------------------------\u001b[0m",
      "\u001b[1;31mNameError\u001b[0m                                 Traceback (most recent call last)",
      "\u001b[1;32m<ipython-input-2-4df13b8c001c>\u001b[0m in \u001b[0;36m<module>\u001b[1;34m\u001b[0m\n\u001b[0;32m      1\u001b[0m \u001b[0mshape\u001b[0m \u001b[1;33m=\u001b[0m \u001b[1;33m[\u001b[0m\u001b[1;36m2\u001b[0m\u001b[1;33m,\u001b[0m\u001b[1;36m3\u001b[0m\u001b[1;33m,\u001b[0m\u001b[1;36m5\u001b[0m\u001b[1;33m]\u001b[0m\u001b[1;33m\u001b[0m\u001b[1;33m\u001b[0m\u001b[0m\n\u001b[1;32m----> 2\u001b[1;33m \u001b[0mA\u001b[0m \u001b[1;33m=\u001b[0m \u001b[0mnp\u001b[0m\u001b[1;33m.\u001b[0m\u001b[0marange\u001b[0m\u001b[1;33m(\u001b[0m\u001b[0mnp\u001b[0m\u001b[1;33m.\u001b[0m\u001b[0mprod\u001b[0m\u001b[1;33m(\u001b[0m\u001b[0mshape\u001b[0m\u001b[1;33m)\u001b[0m\u001b[1;33m)\u001b[0m\u001b[1;33m\u001b[0m\u001b[1;33m\u001b[0m\u001b[0m\n\u001b[0m",
      "\u001b[1;31mNameError\u001b[0m: name 'np' is not defined"
     ]
    }
   ],
   "source": [
    "shape = [2,3,5]\n",
    "A = np.arange(np.prod(shape))\n"
   ]
  },
  {
   "cell_type": "code",
   "execution_count": null,
   "metadata": {},
   "outputs": [],
   "source": []
  }
 ],
 "metadata": {
  "kernelspec": {
   "display_name": "Python 3",
   "language": "python",
   "name": "python3"
  },
  "language_info": {
   "codemirror_mode": {
    "name": "ipython",
    "version": 3
   },
   "file_extension": ".py",
   "mimetype": "text/x-python",
   "name": "python",
   "nbconvert_exporter": "python",
   "pygments_lexer": "ipython3",
   "version": "3.7.1"
  }
 },
 "nbformat": 4,
 "nbformat_minor": 2
}
