{
 "cells": [
  {
   "cell_type": "code",
   "execution_count": 1,
   "metadata": {},
   "outputs": [],
   "source": [
    "shortcut = r\"C:/Users/petct/Desktop/Hugo/data/kex/CylinderPET-Converted.lnk\""
   ]
  },
  {
   "cell_type": "code",
   "execution_count": 2,
   "metadata": {},
   "outputs": [
    {
     "name": "stdout",
     "output_type": "stream",
     "text": [
      "C:/Users/petct/Desktop/Hugo/data/kex/CylinderPET-Converted.lnk\n"
     ]
    }
   ],
   "source": [
    "print(shortcut)"
   ]
  },
  {
   "cell_type": "code",
   "execution_count": 3,
   "metadata": {},
   "outputs": [],
   "source": [
    "import os"
   ]
  },
  {
   "cell_type": "code",
   "execution_count": 4,
   "metadata": {},
   "outputs": [
    {
     "ename": "NotADirectoryError",
     "evalue": "[WinError 267] The directory name is invalid: 'C:/Users/petct/Desktop/Hugo/data/kex/CylinderPET-Converted.lnk'",
     "output_type": "error",
     "traceback": [
      "\u001b[1;31m---------------------------------------------------------------------------\u001b[0m",
      "\u001b[1;31mNotADirectoryError\u001b[0m                        Traceback (most recent call last)",
      "\u001b[1;32m<ipython-input-4-8f33629202f5>\u001b[0m in \u001b[0;36m<module>\u001b[1;34m\u001b[0m\n\u001b[1;32m----> 1\u001b[1;33m \u001b[1;32mwith\u001b[0m \u001b[0mos\u001b[0m\u001b[1;33m.\u001b[0m\u001b[0mscandir\u001b[0m\u001b[1;33m(\u001b[0m\u001b[0mshortcut\u001b[0m\u001b[1;33m)\u001b[0m \u001b[1;32mas\u001b[0m \u001b[0mit\u001b[0m\u001b[1;33m:\u001b[0m\u001b[1;33m\u001b[0m\u001b[1;33m\u001b[0m\u001b[0m\n\u001b[0m\u001b[0;32m      2\u001b[0m     \u001b[1;32mfor\u001b[0m \u001b[0mentry\u001b[0m \u001b[1;32min\u001b[0m \u001b[0mit\u001b[0m\u001b[1;33m:\u001b[0m\u001b[1;33m\u001b[0m\u001b[1;33m\u001b[0m\u001b[0m\n\u001b[0;32m      3\u001b[0m         \u001b[0mprint\u001b[0m\u001b[1;33m(\u001b[0m\u001b[0mentry\u001b[0m\u001b[1;33m.\u001b[0m\u001b[0mname\u001b[0m\u001b[1;33m)\u001b[0m\u001b[1;33m\u001b[0m\u001b[1;33m\u001b[0m\u001b[0m\n",
      "\u001b[1;31mNotADirectoryError\u001b[0m: [WinError 267] The directory name is invalid: 'C:/Users/petct/Desktop/Hugo/data/kex/CylinderPET-Converted.lnk'"
     ]
    }
   ],
   "source": [
    "with os.scandir(shortcut) as it:\n",
    "    for entry in it:\n",
    "        print(entry.name)"
   ]
  },
  {
   "cell_type": "code",
   "execution_count": 9,
   "metadata": {},
   "outputs": [
    {
     "ename": "UnicodeDecodeError",
     "evalue": "'charmap' codec can't decode byte 0x9d in position 97: character maps to <undefined>",
     "output_type": "error",
     "traceback": [
      "\u001b[1;31m---------------------------------------------------------------------------\u001b[0m",
      "\u001b[1;31mUnicodeDecodeError\u001b[0m                        Traceback (most recent call last)",
      "\u001b[1;32m<ipython-input-9-f629e1a21406>\u001b[0m in \u001b[0;36m<module>\u001b[1;34m\u001b[0m\n\u001b[0;32m      1\u001b[0m \u001b[1;32mwith\u001b[0m \u001b[0mopen\u001b[0m\u001b[1;33m(\u001b[0m\u001b[0mshortcut\u001b[0m\u001b[1;33m,\u001b[0m \u001b[1;34m'r'\u001b[0m\u001b[1;33m)\u001b[0m \u001b[1;32mas\u001b[0m \u001b[0mfile\u001b[0m\u001b[1;33m:\u001b[0m\u001b[1;33m\u001b[0m\u001b[1;33m\u001b[0m\u001b[0m\n\u001b[1;32m----> 2\u001b[1;33m     \u001b[0mprint\u001b[0m\u001b[1;33m(\u001b[0m\u001b[0mfile\u001b[0m\u001b[1;33m.\u001b[0m\u001b[0mread\u001b[0m\u001b[1;33m(\u001b[0m\u001b[1;33m)\u001b[0m\u001b[1;33m)\u001b[0m\u001b[1;33m\u001b[0m\u001b[1;33m\u001b[0m\u001b[0m\n\u001b[0m",
      "\u001b[1;32m~\\AppData\\Local\\Continuum\\anaconda3\\lib\\encodings\\cp1252.py\u001b[0m in \u001b[0;36mdecode\u001b[1;34m(self, input, final)\u001b[0m\n\u001b[0;32m     21\u001b[0m \u001b[1;32mclass\u001b[0m \u001b[0mIncrementalDecoder\u001b[0m\u001b[1;33m(\u001b[0m\u001b[0mcodecs\u001b[0m\u001b[1;33m.\u001b[0m\u001b[0mIncrementalDecoder\u001b[0m\u001b[1;33m)\u001b[0m\u001b[1;33m:\u001b[0m\u001b[1;33m\u001b[0m\u001b[1;33m\u001b[0m\u001b[0m\n\u001b[0;32m     22\u001b[0m     \u001b[1;32mdef\u001b[0m \u001b[0mdecode\u001b[0m\u001b[1;33m(\u001b[0m\u001b[0mself\u001b[0m\u001b[1;33m,\u001b[0m \u001b[0minput\u001b[0m\u001b[1;33m,\u001b[0m \u001b[0mfinal\u001b[0m\u001b[1;33m=\u001b[0m\u001b[1;32mFalse\u001b[0m\u001b[1;33m)\u001b[0m\u001b[1;33m:\u001b[0m\u001b[1;33m\u001b[0m\u001b[1;33m\u001b[0m\u001b[0m\n\u001b[1;32m---> 23\u001b[1;33m         \u001b[1;32mreturn\u001b[0m \u001b[0mcodecs\u001b[0m\u001b[1;33m.\u001b[0m\u001b[0mcharmap_decode\u001b[0m\u001b[1;33m(\u001b[0m\u001b[0minput\u001b[0m\u001b[1;33m,\u001b[0m\u001b[0mself\u001b[0m\u001b[1;33m.\u001b[0m\u001b[0merrors\u001b[0m\u001b[1;33m,\u001b[0m\u001b[0mdecoding_table\u001b[0m\u001b[1;33m)\u001b[0m\u001b[1;33m[\u001b[0m\u001b[1;36m0\u001b[0m\u001b[1;33m]\u001b[0m\u001b[1;33m\u001b[0m\u001b[1;33m\u001b[0m\u001b[0m\n\u001b[0m\u001b[0;32m     24\u001b[0m \u001b[1;33m\u001b[0m\u001b[0m\n\u001b[0;32m     25\u001b[0m \u001b[1;32mclass\u001b[0m \u001b[0mStreamWriter\u001b[0m\u001b[1;33m(\u001b[0m\u001b[0mCodec\u001b[0m\u001b[1;33m,\u001b[0m\u001b[0mcodecs\u001b[0m\u001b[1;33m.\u001b[0m\u001b[0mStreamWriter\u001b[0m\u001b[1;33m)\u001b[0m\u001b[1;33m:\u001b[0m\u001b[1;33m\u001b[0m\u001b[1;33m\u001b[0m\u001b[0m\n",
      "\u001b[1;31mUnicodeDecodeError\u001b[0m: 'charmap' codec can't decode byte 0x9d in position 97: character maps to <undefined>"
     ]
    }
   ],
   "source": [
    "with open(shortcut, 'r') as file:\n",
    "    print(file.read())"
   ]
  },
  {
   "cell_type": "code",
   "execution_count": 8,
   "metadata": {},
   "outputs": [
    {
     "name": "stdout",
     "output_type": "stream",
     "text": [
      "b'L\\x00\\x00\\x00\\x01\\x14\\x02\\x00\\x00\\x00\\x00\\x00\\xc0\\x00\\x00\\x00\\x00\\x00\\x00F\\x8b\\x00\\x08\\x00\\x10\\x00\\x00\\x00\\x19\\xb5\\x833H\\x03\\xd6\\x01\\xd5V\\xcc/\\xee\\x08\\xd6\\x01\\xd5V\\xcc/\\xee\\x08\\xd6\\x01\\x00\\x10\\x00\\x00\\x00\\x00\\x00\\x00\\x01\\x00\\x00\\x00\\x00\\x00\\x00\\x00\\x00\\x00\\x00\\x00\\x00\\x00\\x00\\x00\\xc4\\x00\\x14\\x00\\x1fP\\xe0O\\xd0 \\xea:i\\x10\\xa2\\xd8\\x08\\x00+00\\x9d:\\x00.\\x80:\\xcc\\xbf\\xb4,\\xdbLB\\xb0)\\x7f\\xe9\\x9a\\x87\\xc6A&\\x00\\x01\\x00&\\x00\\xef\\xbe\\x11\\x00\\x00\\x00g*\\xe5\\x97\\xb5\\xb8\\xd4\\x01m\\xd2\\xb4T\\x86*\\xd6\\x01\\x05o2\\x1a\\xfa(\\xd6\\x01\\x14\\x00t\\x001\\x00\\x00\\x00\\x00\\x00\\x82P\\x1cg\\x10\\x00CYLIND~3\\x00\\x00\\\\\\x00\\t\\x00\\x04\\x00\\xef\\xbezPEC\\x82P\\x1cg.\\x00\\x00\\x00i\\xda\\x00\\x00\\x00\\x00\\x06\\x00\\x00\\x00\\x00\\x00\\x00\\x00\\x00\\x00\\x00\\x00\\x00\\x00\\x00\\x00+\\xc5\\x86\\x00C\\x00y\\x00l\\x00i\\x00n\\x00d\\x00e\\x00r\\x00P\\x00E\\x00T\\x00-\\x00C\\x00o\\x00n\\x00v\\x00e\\x00r\\x00t\\x00e\\x00d\\x00\\x00\\x00\\x18\\x00\\x00\\x00]\\x00\\x00\\x00\\x1c\\x00\\x00\\x00\\x01\\x00\\x00\\x00\\x1c\\x00\\x00\\x00/\\x00\\x00\\x00\\x00\\x00\\x00\\x00\\\\\\x00\\x00\\x00\\x13\\x00\\x00\\x00\\x03\\x00\\x00\\x00\\x03\\x82\\x9f\\xd2\\x10\\x00\\x00\\x00OS\\x00C:\\\\Users\\\\petct\\\\Desktop\\\\CylinderPET-Converted\\x00\\x00\\x1b\\x00.\\x00.\\x00\\\\\\x00.\\x00.\\x00\\\\\\x00C\\x00y\\x00l\\x00i\\x00n\\x00d\\x00e\\x00r\\x00P\\x00E\\x00T\\x00-\\x00C\\x00o\\x00n\\x00v\\x00e\\x00r\\x00t\\x00e\\x00d\\x00`\\x00\\x00\\x00\\x03\\x00\\x00\\xa0X\\x00\\x00\\x00\\x00\\x00\\x00\\x00desktop-heepo97\\x00h*\\xf8\\xdb\\x9eo\\xbbJ\\x9e~\\xac\\x91s\\xba?\\x84\\xfb\\x90\\x87\\xaa\\xb7n\\xea\\x11\\xb1\\x82\\xe4\\xb9z>\\xfb\\xa5h*\\xf8\\xdb\\x9eo\\xbbJ\\x9e~\\xac\\x91s\\xba?\\x84\\xfb\\x90\\x87\\xaa\\xb7n\\xea\\x11\\xb1\\x82\\xe4\\xb9z>\\xfb\\xa5\\xdb\\x01\\x00\\x00\\t\\x00\\x00\\xa0a\\x00\\x00\\x001SPS\\xed0\\xbd\\xdaC\\x00\\x89G\\xa7\\xf8\\xd0\\x13\\xa4sf\"E\\x00\\x00\\x00d\\x00\\x00\\x00\\x00\\x1f\\x00\\x00\\x00\\x19\\x00\\x00\\x00D\\x00e\\x00s\\x00k\\x00t\\x00o\\x00p\\x00 \\x00(\\x00C\\x00:\\x00\\\\\\x00U\\x00s\\x00e\\x00r\\x00s\\x00\\\\\\x00p\\x00e\\x00t\\x00c\\x00t\\x00)\\x00\\x00\\x00\\x00\\x00\\x00\\x00\\x00\\x00\\xac\\x00\\x00\\x001SPS0\\xf1%\\xb7\\xefG\\x1a\\x10\\xa5\\xf1\\x02`\\x8c\\x9e\\xeb\\xac=\\x00\\x00\\x00\\n\\x00\\x00\\x00\\x00\\x1f\\x00\\x00\\x00\\x16\\x00\\x00\\x00C\\x00y\\x00l\\x00i\\x00n\\x00d\\x00e\\x00r\\x00P\\x00E\\x00T\\x00-\\x00C\\x00o\\x00n\\x00v\\x00e\\x00r\\x00t\\x00e\\x00d\\x00\\x00\\x00\\x15\\x00\\x00\\x00\\x0f\\x00\\x00\\x00\\x00@\\x00\\x00\\x00\\x00\\xfd\\x0f4H\\x03\\xd6\\x01)\\x00\\x00\\x00\\x04\\x00\\x00\\x00\\x00\\x1f\\x00\\x00\\x00\\x0c\\x00\\x00\\x00F\\x00i\\x00l\\x00e\\x00 \\x00f\\x00o\\x00l\\x00d\\x00e\\x00r\\x00\\x00\\x00\\x15\\x00\\x00\\x00\\x0e\\x00\\x00\\x00\\x00@\\x00\\x00\\x00\\xd5V\\xcc/\\xee\\x08\\xd6\\x01\\x00\\x00\\x00\\x00\\x89\\x00\\x00\\x001SPS\\xa6jc(=\\x95\\xd2\\x11\\xb5\\xd6\\x00\\xc0O\\xd9\\x18\\xd0m\\x00\\x00\\x00\\x1e\\x00\\x00\\x00\\x00\\x1f\\x00\\x00\\x00-\\x00\\x00\\x00C\\x00:\\x00\\\\\\x00U\\x00s\\x00e\\x00r\\x00s\\x00\\\\\\x00p\\x00e\\x00t\\x00c\\x00t\\x00\\\\\\x00D\\x00e\\x00s\\x00k\\x00t\\x00o\\x00p\\x00\\\\\\x00C\\x00y\\x00l\\x00i\\x00n\\x00d\\x00e\\x00r\\x00P\\x00E\\x00T\\x00-\\x00C\\x00o\\x00n\\x00v\\x00e\\x00r\\x00t\\x00e\\x00d\\x00\\x00\\x00\\x00\\x00\\x00\\x00\\x00\\x009\\x00\\x00\\x001SPS\\xb1\\x16mD\\xad\\x8dpH\\xa7H@.\\xa4=x\\x8c\\x1d\\x00\\x00\\x00h\\x00\\x00\\x00\\x00H\\x00\\x00\\x00\\x1cM4\\x02VE\\xf0G\\x8fu\\xbaK\\xe2-9-\\x00\\x00\\x00\\x00\\x00\\x00\\x00\\x00\\x00\\x00\\x00\\x00'\n"
     ]
    }
   ],
   "source": [
    "with open(shortcut, 'rb') as file:\n",
    "    print(file.read())"
   ]
  },
  {
   "cell_type": "code",
   "execution_count": null,
   "metadata": {},
   "outputs": [],
   "source": []
  }
 ],
 "metadata": {
  "kernelspec": {
   "display_name": "Python 3",
   "language": "python",
   "name": "python3"
  },
  "language_info": {
   "codemirror_mode": {
    "name": "ipython",
    "version": 3
   },
   "file_extension": ".py",
   "mimetype": "text/x-python",
   "name": "python",
   "nbconvert_exporter": "python",
   "pygments_lexer": "ipython3",
   "version": "3.7.1"
  }
 },
 "nbformat": 4,
 "nbformat_minor": 4
}
