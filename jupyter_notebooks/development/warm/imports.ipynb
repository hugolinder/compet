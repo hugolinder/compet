{
 "cells": [
  {
   "cell_type": "code",
   "execution_count": 1,
   "metadata": {},
   "outputs": [],
   "source": [
    "import sys\n",
    "mods = r\"C:\\Users\\petct\\Desktop\\Hugo\\Code\\compet\\python_source\"\n",
    "sys.path.append(mods)\n",
    "mods = r\"C:/Users/petct/Desktop/Hugo/Code/compet/python_source/thesis_specific/\"\n",
    "sys.path.append(mods)"
   ]
  },
  {
   "cell_type": "code",
   "execution_count": 2,
   "metadata": {},
   "outputs": [],
   "source": [
    "#more general\n",
    "import petlink\n",
    "import interfile\n",
    "import e7tools\n",
    "\n",
    "#kex specific\n",
    "import kex_data\n",
    "import kex_headers\n",
    "import listmode\n",
    "import visual\n",
    "import volume_view\n",
    "import filefit\n",
    "import position\n",
    "import representation\n",
    "import michelogram\n",
    "import michelogram_old"
   ]
  }
 ],
 "metadata": {
  "kernelspec": {
   "display_name": "Python 3",
   "language": "python",
   "name": "python3"
  },
  "language_info": {
   "codemirror_mode": {
    "name": "ipython",
    "version": 3
   },
   "file_extension": ".py",
   "mimetype": "text/x-python",
   "name": "python",
   "nbconvert_exporter": "python",
   "pygments_lexer": "ipython3",
   "version": "3.7.1"
  }
 },
 "nbformat": 4,
 "nbformat_minor": 4
}
