{
 "cells": [
  {
   "cell_type": "code",
   "execution_count": 1,
   "metadata": {},
   "outputs": [],
   "source": [
    "import numpy as np"
   ]
  },
  {
   "cell_type": "code",
   "execution_count": 101,
   "metadata": {},
   "outputs": [],
   "source": [
    "class named_array:\n",
    "    def __init__(self, data, names=[], keys=None):\n",
    "        self.data = data\n",
    "        if keys is None:\n",
    "            keys = range(len(names))\n",
    "        self.name_map = dict(zip(names, keys))\n",
    "        \n",
    "    def call(self, name):\n",
    "        return self.data[self.name_map.get(name)]\n",
    "        \n",
    "    def calls(self, names=[]):\n",
    "        \"\"\" relies on data being a numpy array, and keys being present\"\"\"\n",
    "        keys = [self.name_map.get(name) for name in names]\n",
    "        return self.data[(keys,)]"
   ]
  },
  {
   "cell_type": "code",
   "execution_count": 106,
   "metadata": {},
   "outputs": [
    {
     "name": "stdout",
     "output_type": "stream",
     "text": [
      "<__main__.named_array object at 0x0000013F22090070>\n",
      "2\n",
      "[2 1]\n",
      "0\n",
      "{}\n",
      "2\n"
     ]
    }
   ],
   "source": [
    "A = np.arange(3)\n",
    "name_at = 'xyz'\n",
    "marr = named_array(A, name_at, keys=[2,1,0])\n",
    "print(marr)\n",
    "print(marr.call('x'))\n",
    "print(marr.calls('xy'))\n",
    "print(marr.data[0])\n",
    "#print(marr.calls('yxq'))\n",
    "marr2 = named_array(A)\n",
    "print(marr2.name_map)\n",
    "marr2.name_map = marr.name_map\n",
    "print(marr2.call('x'))"
   ]
  },
  {
   "cell_type": "code",
   "execution_count": null,
   "metadata": {},
   "outputs": [],
   "source": []
  },
  {
   "cell_type": "code",
   "execution_count": 50,
   "metadata": {},
   "outputs": [
    {
     "name": "stdout",
     "output_type": "stream",
     "text": [
      "slice(None, 10, None)\n",
      "slice(None, 5, None)\n",
      "[1, 2, 3]\n"
     ]
    }
   ],
   "source": [
    "A = [1,2,3]\n",
    "#print(A[([0,2])])\n",
    "sl1 = slice(10)\n",
    "sl2 = slice(5)\n",
    "print(sl1)\n",
    "print(sl2)\n",
    "print(A[sl1][sl2])"
   ]
  },
  {
   "cell_type": "code",
   "execution_count": 51,
   "metadata": {},
   "outputs": [
    {
     "name": "stdout",
     "output_type": "stream",
     "text": [
      "{'x': 1, 'y': 33, 'z': -2}\n",
      "None\n"
     ]
    }
   ],
   "source": [
    "names = 'xyz'\n",
    "data = [1, 33, -2]\n",
    "d = dict(zip(names, data))\n",
    "print(d)\n",
    "print(d.get(0))\n",
    "dv = d.values()"
   ]
  },
  {
   "cell_type": "code",
   "execution_count": 47,
   "metadata": {},
   "outputs": [
    {
     "name": "stdout",
     "output_type": "stream",
     "text": [
      "[[1], [13], [34]]\n"
     ]
    }
   ],
   "source": [
    "xyz_N = [[1], [13], [34]]\n",
    "print(xyz_N)"
   ]
  },
  {
   "cell_type": "code",
   "execution_count": 52,
   "metadata": {},
   "outputs": [],
   "source": [
    "d = dict(zip(range(3), 'abc'))"
   ]
  },
  {
   "cell_type": "code",
   "execution_count": 53,
   "metadata": {},
   "outputs": [
    {
     "name": "stdout",
     "output_type": "stream",
     "text": [
      "{0: 'a', 1: 'b', 2: 'c'}\n"
     ]
    }
   ],
   "source": [
    "print(d)"
   ]
  },
  {
   "cell_type": "code",
   "execution_count": 62,
   "metadata": {},
   "outputs": [
    {
     "name": "stdout",
     "output_type": "stream",
     "text": [
      "None\n"
     ]
    }
   ],
   "source": [
    "print(d.get(4))"
   ]
  },
  {
   "cell_type": "code",
   "execution_count": null,
   "metadata": {},
   "outputs": [],
   "source": []
  }
 ],
 "metadata": {
  "kernelspec": {
   "display_name": "Python 3",
   "language": "python",
   "name": "python3"
  },
  "language_info": {
   "codemirror_mode": {
    "name": "ipython",
    "version": 3
   },
   "file_extension": ".py",
   "mimetype": "text/x-python",
   "name": "python",
   "nbconvert_exporter": "python",
   "pygments_lexer": "ipython3",
   "version": "3.8.1"
  }
 },
 "nbformat": 4,
 "nbformat_minor": 4
}
