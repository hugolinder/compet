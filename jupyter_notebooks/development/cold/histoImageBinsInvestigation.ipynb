{
 "cells": [
  {
   "cell_type": "code",
   "execution_count": 1,
   "metadata": {},
   "outputs": [],
   "source": [
    "import numpy as np\n",
    "\n",
    "#visuals\n",
    "import matplotlib.pyplot as plt\n",
    "import matplotlib.image as mpimg\n",
    "from mpl_toolkits.mplot3d import Axes3D\n",
    "import matplotlib\n",
    "matplotlib.rcParams.update({'font.size': 10})\n",
    "\n",
    "#Hugo code\n",
    "import Utility\n",
    "import PythonKEX"
   ]
  },
  {
   "cell_type": "code",
   "execution_count": 2,
   "metadata": {},
   "outputs": [
    {
     "name": "stdout",
     "output_type": "stream",
     "text": [
      "[  0 100   1]\n",
      "histobins\n",
      " [[0 1]\n",
      " [0 1]\n",
      " [0 1]\n",
      " [0 1]]\n",
      "histobins shape (4, 2)\n",
      "image bins\n",
      " [[  0   1]\n",
      " [100  75]\n",
      " [  1   2]]\n"
     ]
    }
   ],
   "source": [
    "# test vectorization\n",
    "hbin = np.array([0,0,0,0])\n",
    "print(Utility.imageBinFromHistogramBin(hbin))\n",
    "histoBins = np.swapaxes([hbin, hbin+1], 0, 1)\n",
    "print(\"histobins\\n\", histoBins)\n",
    "print(\"histobins shape\", histoBins.shape)\n",
    "imgBins = Utility.imageBinFromHistogramBin(histogramBin=histoBins)\n",
    "print(\"image bins\\n\", imgBins)"
   ]
  },
  {
   "cell_type": "code",
   "execution_count": 3,
   "metadata": {},
   "outputs": [],
   "source": [
    "#points in histogram\n",
    "fixedPosition = [0,0,0,0]\n",
    "ranges = []\n",
    "histogramBins = []\n",
    "for k,dim in enumerate(Utility.HISTOGRAM_SHAPE):\n",
    "    ranges.append(np.arange(dim))\n",
    "    hb = np.zeros((4,dim), dtype=int)+np.reshape(fixedPosition, (4,1))\n",
    "    hb[k] = np.arange(dim)\n",
    "    histogramBins.append(hb)"
   ]
  },
  {
   "cell_type": "code",
   "execution_count": 5,
   "metadata": {},
   "outputs": [
    {
     "name": "stdout",
     "output_type": "stream",
     "text": [
      "(4, 14)\n"
     ]
    },
    {
     "ename": "NameError",
     "evalue": "name 'tofbins' is not defined",
     "output_type": "error",
     "traceback": [
      "\u001b[1;31m---------------------------------------------------------------------------\u001b[0m",
      "\u001b[1;31mNameError\u001b[0m                                 Traceback (most recent call last)",
      "\u001b[1;32m<ipython-input-5-fb0b365fadb4>\u001b[0m in \u001b[0;36m<module>\u001b[1;34m\u001b[0m\n\u001b[0;32m      3\u001b[0m \u001b[1;32mfor\u001b[0m \u001b[0mhb\u001b[0m \u001b[1;32min\u001b[0m \u001b[0mhistogramBins\u001b[0m\u001b[1;33m:\u001b[0m\u001b[1;33m\u001b[0m\u001b[1;33m\u001b[0m\u001b[0m\n\u001b[0;32m      4\u001b[0m     \u001b[0mprint\u001b[0m\u001b[1;33m(\u001b[0m\u001b[0mhb\u001b[0m\u001b[1;33m.\u001b[0m\u001b[0mshape\u001b[0m\u001b[1;33m)\u001b[0m\u001b[1;33m\u001b[0m\u001b[1;33m\u001b[0m\u001b[0m\n\u001b[1;32m----> 5\u001b[1;33m     \u001b[0mimageBins\u001b[0m\u001b[1;33m.\u001b[0m\u001b[0mappend\u001b[0m\u001b[1;33m(\u001b[0m\u001b[0mUtility\u001b[0m\u001b[1;33m.\u001b[0m\u001b[0mimageBinFromHistogramBin\u001b[0m\u001b[1;33m(\u001b[0m\u001b[0mhb\u001b[0m\u001b[1;33m,\u001b[0m \u001b[0mdelays\u001b[0m\u001b[1;33m=\u001b[0m\u001b[1;32mTrue\u001b[0m\u001b[1;33m)\u001b[0m\u001b[1;33m)\u001b[0m\u001b[1;33m\u001b[0m\u001b[1;33m\u001b[0m\u001b[0m\n\u001b[0m",
      "\u001b[1;32m~\\Desktop\\Hugo\\Code\\PythonMEX\\Utility.py\u001b[0m in \u001b[0;36mimageBinFromHistogramBin\u001b[1;34m(histogramBin, offsetTOF, delays, dtype, verbose)\u001b[0m\n\u001b[0;32m    383\u001b[0m     \u001b[0mseg\u001b[0m \u001b[1;33m=\u001b[0m \u001b[0mSEGMENT_OFFSET_MAP\u001b[0m\u001b[1;33m[\u001b[0m\u001b[0mSEGMENT_OF_MI\u001b[0m\u001b[1;33m[\u001b[0m\u001b[0mmi\u001b[0m\u001b[1;33m]\u001b[0m\u001b[1;33m]\u001b[0m\u001b[1;33m\u001b[0m\u001b[1;33m\u001b[0m\u001b[0m\n\u001b[0;32m    384\u001b[0m     \u001b[1;32mif\u001b[0m \u001b[0mdelays\u001b[0m\u001b[1;33m:\u001b[0m\u001b[1;33m\u001b[0m\u001b[1;33m\u001b[0m\u001b[0m\n\u001b[1;32m--> 385\u001b[1;33m         \u001b[0mtof\u001b[0m \u001b[1;33m=\u001b[0m \u001b[0mnp\u001b[0m\u001b[1;33m.\u001b[0m\u001b[0mzeros_like\u001b[0m\u001b[1;33m(\u001b[0m\u001b[0mtofbins\u001b[0m\u001b[1;33m,\u001b[0m \u001b[0mdtype\u001b[0m\u001b[1;33m=\u001b[0m\u001b[0mint\u001b[0m\u001b[1;33m)\u001b[0m\u001b[1;33m\u001b[0m\u001b[1;33m\u001b[0m\u001b[0m\n\u001b[0m\u001b[0;32m    386\u001b[0m         \u001b[0mprompts\u001b[0m \u001b[1;33m=\u001b[0m \u001b[0mtofbin\u001b[0m \u001b[1;33m!=\u001b[0m \u001b[0mlen\u001b[0m\u001b[1;33m(\u001b[0m\u001b[0mTOF_OFFSET_MAP\u001b[0m\u001b[1;33m)\u001b[0m\u001b[1;33m\u001b[0m\u001b[1;33m\u001b[0m\u001b[0m\n\u001b[0;32m    387\u001b[0m         \u001b[0mdelays\u001b[0m \u001b[1;33m=\u001b[0m \u001b[0mprompts\u001b[0m \u001b[1;33m==\u001b[0m \u001b[1;32mFalse\u001b[0m\u001b[1;33m\u001b[0m\u001b[1;33m\u001b[0m\u001b[0m\n",
      "\u001b[1;31mNameError\u001b[0m: name 'tofbins' is not defined"
     ]
    }
   ],
   "source": [
    "#convert to histoImage points\n",
    "imageBins = []\n",
    "for hb in histogramBins:\n",
    "    print(hb.shape)\n",
    "    imageBins.append(Utility.imageBinFromHistogramBin(hb))"
   ]
  },
  {
   "cell_type": "code",
   "execution_count": null,
   "metadata": {},
   "outputs": [],
   "source": [
    "#fix r, tof\n",
    "#let mi and tx vary\n",
    "\n",
    "\n",
    "mi_step = 1\n",
    "tx_step = 1\n",
    "MI, TX = np.meshgrid(np.arange(0,Utility.HISTOGRAM_SHAPE[1], mi_step), np.arange(0,Utility.HISTOGRAM_SHAPE[2],tx_step))\n",
    "histogramPoints = np.zeros((4, np.prod(MI.shape)), dtype=int)\n",
    "histogramPoints[1] = MI.flat\n",
    "histogramPoints[2] = TX.flat"
   ]
  },
  {
   "cell_type": "code",
   "execution_count": null,
   "metadata": {},
   "outputs": [],
   "source": [
    "histoImages = []\n",
    "titles = []\n",
    "for ro in [0,-10,10,+50, 100,150]:\n",
    "    imagePoints = []\n",
    "    histoImage = np.zeros(shape=Utility.IMAGE_SHAPE,dtype=int)\n",
    "    titles.append(\"tofbins at radial offset \" + str(ro))\n",
    "    for tof in range(13):\n",
    "        histogramPoints[0] = tof\n",
    "        robin = ro + 200\n",
    "        histogramPoints[-1] = robin\n",
    "        imgBins = Utility.imageBinFromHistogramBin(histogramPoints, offsetTOF=False)\n",
    "        imagePoints.append(imgBins)\n",
    "        bValid = Utility.bValidImageBin(imgBins)\n",
    "        validImageBins = imgBins[:,bValid]\n",
    "        #print(validImageBins[:, validImageBins[0] > 109])\n",
    "        np.add.at(histoImage, tuple(validImageBins), 1)\n",
    "    histoImages.append(histoImage)"
   ]
  },
  {
   "cell_type": "code",
   "execution_count": null,
   "metadata": {},
   "outputs": [],
   "source": [
    "#look at histo image\n",
    "%matplotlib inline\n",
    "shape = (2,3)\n",
    "figsize = tuple(np.array(shape)*5)\n",
    "matplotlib.rcParams.update({'font.size': 10})\n",
    "Utility.interactImages(histoImages, titles=titles, subplotShape=shape, figsize=np.flip(figsize))"
   ]
  },
  {
   "cell_type": "code",
   "execution_count": null,
   "metadata": {},
   "outputs": [],
   "source": [
    "#repeat \n",
    "#fix tx, tof\n",
    "#let ro and mi vary\n",
    "\n",
    "mi_step = 1\n",
    "ro_step = 1\n",
    "MI,RO = np.meshgrid(np.arange(0,Utility.HISTOGRAM_SHAPE[1], mi_step), np.arange(0,Utility.HISTOGRAM_SHAPE[3],ro_step))\n",
    "histogramPoints = np.zeros((4, np.size(MI)), dtype=int)\n",
    "histogramPoints[1] = MI.flat\n",
    "histogramPoints[3] = RO.flat\n",
    "print(np.size(MI))"
   ]
  },
  {
   "cell_type": "code",
   "execution_count": null,
   "metadata": {},
   "outputs": [],
   "source": [
    "histoImages = []\n",
    "titles = []\n",
    "fractions = np.array([0, 1/10, 1/4, 1/3, 1/2,0.9])\n",
    "print(fractions)\n",
    "angles = np.array(fractions*Utility.NUMBER_OF_VIEWS, dtype=int)\n",
    "print(angles)\n",
    "for k, tx_bin in enumerate(angles):\n",
    "    title = \"tofbins at tx angle bin \" + str(tx_bin) + \", \" + str(int(fractions[k]*100)) + \" % of halfturn\"\n",
    "    titles.append(title)\n",
    "\n",
    "for tx_bin in angles:\n",
    "    imagePoints = []\n",
    "    histoImage = np.zeros(shape=Utility.IMAGE_SHAPE,dtype=int)\n",
    "\n",
    "    for tof in range(13):\n",
    "        histogramPoints[0] = tof\n",
    "        histogramPoints[2] = tx_bin\n",
    "        imgBins = Utility.imageBinFromHistogramBin(histogramPoints, offsetTOF=True)\n",
    "        imagePoints.append(imgBins)\n",
    "        bValid = Utility.bValidImageBin(imgBins)\n",
    "        validImageBins = imgBins[:,bValid]\n",
    "        #print(validImageBins[:, validImageBins[0] > 109])\n",
    "        np.add.at(histoImage, tuple(validImageBins), 1)\n",
    "    histoImages.append(histoImage)"
   ]
  },
  {
   "cell_type": "code",
   "execution_count": null,
   "metadata": {},
   "outputs": [],
   "source": [
    "#look at histo image\n",
    "%matplotlib inline\n",
    "matplotlib.rcParams.update({'font.size': 10})\n",
    "shape = (2,3)\n",
    "figsize = tuple(np.flip(np.array(shape)*5))\n",
    "Utility.interactImages(histoImages, titles=titles, subplotShape=shape, figsize=figsize)"
   ]
  },
  {
   "cell_type": "code",
   "execution_count": null,
   "metadata": {},
   "outputs": [],
   "source": [
    "#repeat \n",
    "#fix mi, tof\n",
    "#let ro and tx vary\n",
    "\n",
    "tx_step = 1\n",
    "ro_step = 1\n",
    "TX,RO = np.meshgrid(np.arange(0,Utility.HISTOGRAM_SHAPE[2], tx_step), np.arange(0,Utility.HISTOGRAM_SHAPE[3],ro_step))\n",
    "histogramPoints = np.zeros((4, np.size(TX)), dtype=int)\n",
    "histogramPoints[2] = TX.flat\n",
    "histogramPoints[3] = RO.flat\n",
    "print(np.size(TX))"
   ]
  },
  {
   "cell_type": "code",
   "execution_count": null,
   "metadata": {},
   "outputs": [],
   "source": [
    "histoImages = []\n",
    "titles = []\n",
    "segmentMichBins = np.cumsum(Utility.SEGMENT_TABLE) -Utility.SEGMENT_TABLE[0]\n",
    "\n",
    "for seg,mi in enumerate(segmentMichBins): \n",
    "    title = \"tofbins at mi bin \" + str(mi) + \" in seg. \" + str(Utility.SEGMENT_OFFSET_MAP[seg])\n",
    "    titles.append(title)\n",
    "\n",
    "for mi in segmentMichBins:\n",
    "    imagePoints = []\n",
    "    histoImage = np.zeros(shape=Utility.IMAGE_SHAPE,dtype=int)\n",
    "    for tof in range(13):\n",
    "        histogramPoints[0] = tof\n",
    "        histogramPoints[1] = mi\n",
    "        imgBins = Utility.imageBinFromHistogramBin(histogramPoints)\n",
    "        imagePoints.append(imgBins)\n",
    "        bValid = Utility.bValidImageBin(imgBins)\n",
    "        validImageBins = imgBins[:,bValid]\n",
    "        #print(validImageBins[:, validImageBins[0] > 109])\n",
    "        np.add.at(histoImage, tuple(validImageBins), 1)\n",
    "    histoImages.append(histoImage)"
   ]
  },
  {
   "cell_type": "code",
   "execution_count": null,
   "metadata": {},
   "outputs": [],
   "source": [
    "#look at histo image\n",
    "%matplotlib inline\n",
    "matplotlib.rcParams.update({'font.size': 10})\n",
    "shape = (4,4)\n",
    "figsize = tuple(np.flip(np.array(shape)*5))\n",
    "Utility.interactImages(histoImages, titles=titles, subplotShape=shape, figsize=figsize)"
   ]
  },
  {
   "cell_type": "code",
   "execution_count": null,
   "metadata": {},
   "outputs": [],
   "source": [
    "#repeat \n",
    "#fix tof\n",
    "#let ro and tx vary\n",
    "#let mi vary within segment 1\n",
    "\n",
    "segmentMichBins = np.cumsum(Utility.SEGMENT_TABLE)-1\n",
    "segmentMichBins = np.append(0, segmentMichBins)\n",
    "segmentMichBins = np.append(segmentMichBins, Utility.NUMBER_OF_SINOGRAMS-1)\n",
    "print(segmentMichBins)\n",
    "segment = 0\n",
    "\n",
    "tx_step = 1\n",
    "ro_step = 1\n",
    "mi_step = 10\n",
    "TX,RO,MI = np.meshgrid(np.arange(0,Utility.HISTOGRAM_SHAPE[2], tx_step), \n",
    "                             np.arange(0,Utility.HISTOGRAM_SHAPE[3],ro_step),\n",
    "                            np.arange(segmentMichBins[segment], segmentMichBins[segment+1], mi_step))\n",
    "histogramPoints = np.zeros((4, np.size(TX)), dtype=int)\n",
    "histogramPoints[2] = TX.flat\n",
    "histogramPoints[3] = RO.flat\n",
    "histogramPoints[1] = MI.flat\n",
    "print(np.size(TX))"
   ]
  },
  {
   "cell_type": "code",
   "execution_count": null,
   "metadata": {},
   "outputs": [],
   "source": [
    "histoImages = []\n",
    "titles = []\n",
    "titles.append(\"tofbins at segment \" + str(Utility.SEGMENT_OFFSET_MAP[segment]))\n",
    "\n",
    "histoImage = np.zeros(shape=Utility.IMAGE_SHAPE,dtype=int)\n",
    "for tof in range(13):\n",
    "    histogramPoints[0] = tof\n",
    "    imgBins = Utility.imageBinFromHistogramBin(histogramPoints, offsetTOF=True)\n",
    "    imagePoints.append(imgBins)\n",
    "    bValid = Utility.bValidImageBin(imgBins)\n",
    "    validImageBins = imgBins[:,bValid]\n",
    "    #print(validImageBins[:, validImageBins[0] > 109])\n",
    "    np.add.at(histoImage, tuple(validImageBins), 1)\n",
    "histoImages.append(histoImage)"
   ]
  },
  {
   "cell_type": "code",
   "execution_count": null,
   "metadata": {},
   "outputs": [],
   "source": [
    "#look at histo image\n",
    "%matplotlib inline\n",
    "matplotlib.rcParams.update({'font.size': 10})\n",
    "shape = (4,4)\n",
    "figsize = tuple(np.flip(np.array(shape)*5))\n",
    "Utility.interactImages(histoImages, titles=titles, subplotShape=shape, figsize=figsize)"
   ]
  },
  {
   "cell_type": "code",
   "execution_count": null,
   "metadata": {},
   "outputs": [],
   "source": [
    "# even distribution from point\n",
    "# add one count for each bin that could detect the point\n",
    "#investigate how the histoImage looks\n",
    "\n",
    "# pick a direction T\n",
    "# it works for all transaxial angles\n",
    "# for the tilt, start with direct segments then search, +segments and -segments\n",
    "# if there are two intersections with the cylinder\n",
    "# this yields the points A,B, \n",
    "# calculate ao, discrete\n",
    "# calculate segment, discrete\n",
    "# calculate R, discrete\n",
    "# calculate the tof bin\n",
    "# else, some boundary\n",
    "\n",
    "#seems tricky\n",
    "#useful but quite complicated\n",
    "# it is better to use simulations for this"
   ]
  },
  {
   "cell_type": "code",
   "execution_count": null,
   "metadata": {},
   "outputs": [],
   "source": [
    "# for a point source\n",
    "# each sinogram (include all tofbins) should have 1 or 0 sinuscurves\n",
    "# the maximum ro is determined by the distance from the z axis of the point source\n",
    "# the transaxial angle is given by a transaxial perpendicular of the vector from z axis to point source\n",
    "# the allowable tilts should be symmetric at this ro, tx ( and the closest) tofbin would be 0 )\n",
    "# then we have another important LOR,where the line goes through the z axis and the point source\n",
    "# this would determine the range of tof-bins used?\n"
   ]
  },
  {
   "cell_type": "code",
   "execution_count": null,
   "metadata": {},
   "outputs": [],
   "source": []
  },
  {
   "cell_type": "code",
   "execution_count": null,
   "metadata": {},
   "outputs": [],
   "source": []
  }
 ],
 "metadata": {
  "kernelspec": {
   "display_name": "Python 3",
   "language": "python",
   "name": "python3"
  },
  "language_info": {
   "codemirror_mode": {
    "name": "ipython",
    "version": 3
   },
   "file_extension": ".py",
   "mimetype": "text/x-python",
   "name": "python",
   "nbconvert_exporter": "python",
   "pygments_lexer": "ipython3",
   "version": "3.7.1"
  }
 },
 "nbformat": 4,
 "nbformat_minor": 2
}
