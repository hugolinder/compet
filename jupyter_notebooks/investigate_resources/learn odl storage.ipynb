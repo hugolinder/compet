{
 "cells": [
  {
   "cell_type": "code",
   "execution_count": 24,
   "metadata": {},
   "outputs": [],
   "source": [
    "import odl\n",
    "import numpy as np"
   ]
  },
  {
   "cell_type": "code",
   "execution_count": 25,
   "metadata": {},
   "outputs": [],
   "source": [
    "def f(x):\n",
    "    return x**2"
   ]
  },
  {
   "cell_type": "code",
   "execution_count": 26,
   "metadata": {},
   "outputs": [],
   "source": [
    "reco_space = odl.uniform_discr(\n",
    "    min_pt=[-20, 0], max_pt=[20, np.pi], shape=[300, 300], dtype='float32')"
   ]
  },
  {
   "cell_type": "code",
   "execution_count": 27,
   "metadata": {},
   "outputs": [
    {
     "name": "stdout",
     "output_type": "stream",
     "text": [
      "Discretize an Lp function space by uniform sampling.\n",
      "\n",
      "    Parameters\n",
      "    ----------\n",
      "    min_pt, max_pt: float or sequence of floats\n",
      "        Minimum/maximum corners of the desired function domain.\n",
      "    shape : int or sequence of ints\n",
      "        Number of samples per axis.\n",
      "    exponent : positive float, optional\n",
      "        The parameter :math:`p` in :math:`L^p`. If the exponent is not\n",
      "        equal to the default 2.0, the space has no inner product.\n",
      "    interp : string or sequence of strings, optional\n",
      "        Interpolation type to be used for discretization.\n",
      "        A sequence is interpreted as interpolation scheme per axis.\n",
      "\n",
      "            'nearest' : use nearest-neighbor interpolation\n",
      "\n",
      "            'linear' : use linear interpolation\n",
      "\n",
      "    impl : string, optional\n",
      "        Implementation of the data storage arrays.\n",
      "    nodes_on_bdry : bool or sequence, optional\n",
      "        If a sequence is provided, it determines per axis whether to\n",
      "        place the last grid point on the boundary (``True``) or shift it\n",
      "        by half a cell size into the interior (``False``). In each axis,\n",
      "        an entry may consist in a single bool or a 2-tuple of\n",
      "        bool. In the latter case, the first tuple entry decides for\n",
      "        the left, the second for the right boundary. The length of the\n",
      "        sequence must be ``len(shape)``.\n",
      "\n",
      "        A single boolean is interpreted as a global choice for all\n",
      "        boundaries.\n",
      "\n",
      "        Default: ``False``.\n",
      "\n",
      "    dtype : dtype, optional\n",
      "        Data type for the discretized space\n",
      "\n",
      "            Default for 'numpy': 'float64' / 'complex128'\n",
      "\n",
      "            Default for 'cuda': 'float32'\n",
      "\n",
      "    order : {'C', 'F'}, optional\n",
      "        Ordering of the axes in the data storage. 'C' means the\n",
      "        first axis varies slowest, the last axis fastest;\n",
      "        vice versa for 'F'.\n",
      "        Default: 'C'\n",
      "    weighting : {'const', 'none'}, optional\n",
      "        Weighting of the discretized space functions.\n",
      "\n",
      "            'const' : weight is a constant, the cell volume (default)\n",
      "\n",
      "            'none' : no weighting\n",
      "\n",
      "    Returns\n",
      "    -------\n",
      "    discr : `DiscreteLp`\n",
      "        The uniformly discretized function space\n",
      "\n",
      "    Examples\n",
      "    --------\n",
      "    Create real space:\n",
      "\n",
      "    >>> uniform_discr([0, 0], [1, 1], [10, 10])\n",
      "    uniform_discr([0.0, 0.0], [1.0, 1.0], [10, 10])\n",
      "\n",
      "    Can create complex space by giving a dtype\n",
      "\n",
      "    >>> uniform_discr([0, 0], [1, 1], [10, 10], dtype='complex')\n",
      "    uniform_discr([0.0, 0.0], [1.0, 1.0], [10, 10], dtype='complex')\n",
      "\n",
      "    See Also\n",
      "    --------\n",
      "    uniform_discr_frompartition : uniform Lp discretization using a given\n",
      "        uniform partition of a function domain\n",
      "    uniform_discr_fromspace : uniform discretization from an existing\n",
      "        function space\n",
      "    uniform_discr_fromintv : uniform discretization from an existing\n",
      "        interval product\n",
      "    \n"
     ]
    }
   ],
   "source": [
    "print(odl.uniform_discr.__doc__)"
   ]
  },
  {
   "cell_type": "code",
   "execution_count": 28,
   "metadata": {},
   "outputs": [
    {
     "name": "stderr",
     "output_type": "stream",
     "text": [
      "C:\\Users\\petct\\AppData\\Local\\Continuum\\anaconda3\\envs\\HugoMexEnvironment\\lib\\site-packages\\odl\\discr\\grid.py:71: FutureWarning: Using a non-tuple sequence for multidimensional indexing is deprecated; use `arr[tuple(seq)]` instead of `arr[seq]`. In the future this will be interpreted as an array index, `arr[np.array(seq)]`, which will result either in an error or a different result.\n",
      "  mesh.append(np.ascontiguousarray(xi[slc]))\n"
     ]
    },
    {
     "data": {
      "image/png": "[encoded data removed]",
      "text/plain": [
       "<Figure size 432x288 with 2 Axes>"
      ]
     },
     "metadata": {
      "needs_background": "light"
     },
     "output_type": "display_data"
    },
    {
     "data": {
      "text/plain": [
       "<Figure size 432x288 with 0 Axes>"
      ]
     },
     "metadata": {},
     "output_type": "display_data"
    },
    {
     "data": {
      "image/png": "[encoded data removed]",
      "text/plain": [
       "<Figure size 432x288 with 2 Axes>"
      ]
     },
     "execution_count": 28,
     "metadata": {},
     "output_type": "execute_result"
    }
   ],
   "source": [
    "\n",
    "square = odl.phantom.geometric.cuboid(reco_space, (-10,-15),(15,10))\n",
    "square.show()"
   ]
  },
  {
   "cell_type": "code",
   "execution_count": 29,
   "metadata": {},
   "outputs": [
    {
     "name": "stdout",
     "output_type": "stream",
     "text": [
      "Rectangular cuboid.\n",
      "\n",
      "    Parameters\n",
      "    ----------\n",
      "    space : `DiscretizedSpace`\n",
      "        Discretized space in which the phantom is supposed to be created.\n",
      "    min_pt : array-like of shape ``(space.ndim,)``, optional\n",
      "        Lower left corner of the cuboid. If ``None`` is given, a quarter\n",
      "        of the extent from ``space.min_pt`` towards the inside is chosen.\n",
      "    min_pt : array-like of shape ``(space.ndim,)``, optional\n",
      "        Upper right corner of the cuboid. If ``None`` is given, ``min_pt``\n",
      "        plus half the extent is chosen.\n",
      "\n",
      "    Returns\n",
      "    -------\n",
      "    phantom : `DiscretizedSpaceElement`\n",
      "        The generated cuboid phantom in ``space``.\n",
      "\n",
      "    Examples\n",
      "    --------\n",
      "    If both ``min_pt`` and ``max_pt`` are omitted, the cuboid lies in the\n",
      "    middle of the space domain and extends halfway towards all sides:\n",
      "\n",
      "    >>> space = odl.uniform_discr([0, 0], [1, 1], [4, 6])\n",
      "    >>> print(odl.phantom.cuboid(space))\n",
      "    [[0.0, 0.0, 0.0, 0.0, 0.0, 0.0],\n",
      "     [0.0, 1.0, 1.0, 1.0, 1.0, 0.0],\n",
      "     [0.0, 1.0, 1.0, 1.0, 1.0, 0.0],\n",
      "     [0.0, 0.0, 0.0, 0.0, 0.0, 0.0]]\n",
      "\n",
      "    By specifying the corners, the cuboid can be arbitrarily shaped:\n",
      "\n",
      "    >>> print(odl.phantom.cuboid(space, [0.25, 0], [0.75, 0.5]))\n",
      "    [[0.0, 0.0, 0.0, 0.0, 0.0, 0.0],\n",
      "     [1.0, 1.0, 1.0, 0.0, 0.0, 0.0],\n",
      "     [1.0, 1.0, 1.0, 0.0, 0.0, 0.0],\n",
      "     [0.0, 0.0, 0.0, 0.0, 0.0, 0.0]]\n",
      "    \n"
     ]
    }
   ],
   "source": [
    "print(odl.phantom.geometric.cuboid.__doc__)"
   ]
  },
  {
   "cell_type": "code",
   "execution_count": 21,
   "metadata": {},
   "outputs": [
    {
     "name": "stdout",
     "output_type": "stream",
     "text": [
      "[0.0, 0.0, 0.0, ..., 0.0, 0.0, 0.0]\n"
     ]
    }
   ],
   "source": []
  },
  {
   "cell_type": "code",
   "execution_count": 41,
   "metadata": {},
   "outputs": [],
   "source": [
    "a = {'a':1}\n",
    "b = {'b':2}"
   ]
  },
  {
   "cell_type": "code",
   "execution_count": 39,
   "metadata": {},
   "outputs": [],
   "source": [
    "def join_dicts(ab):\n",
    "    keys = []\n",
    "    values = []\n",
    "    for d in ab:\n",
    "        keys = keys + list(d.keys())\n",
    "        values = values + list(d.values())\n",
    "    return dict(zip(keys, values))"
   ]
  },
  {
   "cell_type": "code",
   "execution_count": 40,
   "metadata": {},
   "outputs": [
    {
     "name": "stdout",
     "output_type": "stream",
     "text": [
      "{'a': 1, 'b': 2}\n"
     ]
    }
   ],
   "source": [
    "print(join_dicts((a,b)))"
   ]
  },
  {
   "cell_type": "code",
   "execution_count": 48,
   "metadata": {},
   "outputs": [],
   "source": [
    "def f(a=2, b=4, **kwargs):\n",
    "    print(a+b)"
   ]
  },
  {
   "cell_type": "code",
   "execution_count": 49,
   "metadata": {},
   "outputs": [
    {
     "name": "stdout",
     "output_type": "stream",
     "text": [
      "3\n"
     ]
    }
   ],
   "source": [
    "c = {'c':33}\n",
    "f(**join_dicts((a,b,c)))"
   ]
  },
  {
   "cell_type": "code",
   "execution_count": null,
   "metadata": {},
   "outputs": [],
   "source": []
  }
 ],
 "metadata": {
  "kernelspec": {
   "display_name": "Python 3",
   "language": "python",
   "name": "python3"
  },
  "language_info": {
   "codemirror_mode": {
    "name": "ipython",
    "version": 3
   },
   "file_extension": ".py",
   "mimetype": "text/x-python",
   "name": "python",
   "nbconvert_exporter": "python",
   "pygments_lexer": "ipython3",
   "version": "3.8.1"
  }
 },
 "nbformat": 4,
 "nbformat_minor": 4
}
