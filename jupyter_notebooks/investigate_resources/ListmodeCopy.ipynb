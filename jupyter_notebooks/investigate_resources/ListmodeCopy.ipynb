{
 "cells": [
  {
   "cell_type": "code",
   "execution_count": 1,
   "metadata": {},
   "outputs": [],
   "source": [
    "# common packages \n",
    "import numpy as np \n",
    "import os\n",
    "import struct\n",
    "\n",
    "from math import *\n",
    "import matplotlib.pyplot as plt\n",
    "import matplotlib\n",
    "font = {'family' : 'normal',\n",
    "        'weight' : 'bold',\n",
    "        'size'   : 20}\n",
    "\n",
    "matplotlib.rc('font', **font)\n",
    "\n",
    "# ipywidgets for some interactive features\n",
    "from ipywidgets.widgets import * \n",
    "import ipywidgets as widgets"
   ]
  },
  {
   "cell_type": "code",
   "execution_count": 2,
   "metadata": {},
   "outputs": [],
   "source": [
    "#paths\n",
    "input_path = r\"C:\\Users\\petct\\Desktop\\Hugo\\Code\\KEX_LM\\CylinderPET-LM-00.l\"\n",
    "output_path = r\"C:\\Users\\petct\\Desktop\\Hugo\\Code\\KEX_LM\\PythonCopies\\CylinderPET-LM-00-copy.l\""
   ]
  },
  {
   "cell_type": "code",
   "execution_count": 3,
   "metadata": {},
   "outputs": [],
   "source": [
    "#read\n",
    "input_data = np.fromfile(input_path, dtype=np.uint32)"
   ]
  },
  {
   "cell_type": "code",
   "execution_count": 4,
   "metadata": {},
   "outputs": [],
   "source": [
    "#write copy\n",
    "with open(output_path, 'wb') as f:\n",
    "    #fast\n",
    "    f.write(input_data)\n",
    "    #slow alternative\n",
    "    #for event in input_data:\n",
    "        #f.write(struct.pack('=I', event))"
   ]
  }
 ],
 "metadata": {
  "kernelspec": {
   "display_name": "Python 3",
   "language": "python",
   "name": "python3"
  },
  "language_info": {
   "codemirror_mode": {
    "name": "ipython",
    "version": 3
   },
   "file_extension": ".py",
   "mimetype": "text/x-python",
   "name": "python",
   "nbconvert_exporter": "python",
   "pygments_lexer": "ipython3",
   "version": "3.7.1"
  }
 },
 "nbformat": 4,
 "nbformat_minor": 4
}
