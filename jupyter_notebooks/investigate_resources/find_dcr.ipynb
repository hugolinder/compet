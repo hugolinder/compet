{
 "cells": [
  {
   "cell_type": "code",
   "execution_count": 3,
   "metadata": {},
   "outputs": [],
   "source": [
    "import importlib\n",
    "import kex_data\n",
    "import numpy as np\n",
    "import interfile\n",
    "import matplotlib.pyplot as plt"
   ]
  },
  {
   "cell_type": "code",
   "execution_count": 4,
   "metadata": {},
   "outputs": [
    {
     "data": {
      "text/plain": [
       "[<matplotlib.lines.Line2D at 0x2d6d2d507f0>]"
      ]
     },
     "execution_count": 4,
     "metadata": {},
     "output_type": "execute_result"
    },
    {
     "data": {
      "image/png": "[encoded data removed]",
      "text/plain": [
       "<Figure size 432x288 with 1 Axes>"
      ]
     },
     "metadata": {
      "needs_background": "light"
     },
     "output_type": "display_data"
    }
   ],
   "source": [
    "plt.plot(kex_data.RECON_DCR)"
   ]
  },
  {
   "cell_type": "code",
   "execution_count": 6,
   "metadata": {},
   "outputs": [],
   "source": [
    "hdrs = kex_data.get_sino_hdrs()\n",
    "hdr_infos = [interfile.load(path) for path in hdrs]"
   ]
  },
  {
   "cell_type": "code",
   "execution_count": 11,
   "metadata": {},
   "outputs": [
    {
     "name": "stdout",
     "output_type": "stream",
     "text": [
      "comment {'value': 'Created from listmode data', 'unit': None, 'type': None, 'listindex': None, 'obligatory': False}\n",
      "originating system {'value': 1104, 'unit': None, 'type': None, 'listindex': None, 'obligatory': True}\n",
      "SMS-MI header name space {'value': 'sinogram subheader', 'unit': None, 'type': None, 'listindex': None, 'obligatory': False}\n",
      "SMS-MI version number {'value': 3.5, 'unit': None, 'type': None, 'listindex': None, 'obligatory': False}\n",
      "GENERAL DATA {'value': None, 'unit': None, 'type': None, 'listindex': None, 'obligatory': True}\n",
      "listmode header file {'value': 'C:\\\\Users\\\\petct\\\\Desktop\\\\CylinderPET-Converted\\\\CylinderPET-LM-00\\\\CylinderPET-LM-00.hdr', 'unit': None, 'type': None, 'listindex': None, 'obligatory': False}\n",
      "listmode data file {'value': 'C:\\\\Users\\\\petct\\\\Desktop\\\\CylinderPET-Converted\\\\CylinderPET-LM-00\\\\CylinderPET-LM-00.l', 'unit': None, 'type': None, 'listindex': None, 'obligatory': False}\n",
      "name of data file {'value': 'CylinderPET-LM-00-sino-0.s', 'unit': None, 'type': None, 'listindex': None, 'obligatory': True}\n",
      "GENERAL IMAGE DATA {'value': None, 'unit': None, 'type': None, 'listindex': None, 'obligatory': True}\n",
      "study date {'value': '2019:01:25', 'unit': 'yyyy:mm:dd', 'type': None, 'listindex': None, 'obligatory': False}\n",
      "study time {'value': '14:34:48', 'unit': 'hh:mm:ss GMT+00:00', 'type': None, 'listindex': None, 'obligatory': False}\n",
      "isotope name {'value': 'F-18', 'unit': None, 'type': None, 'listindex': None, 'obligatory': False}\n",
      "isotope gamma halflife {'value': 6586.2, 'unit': 'sec', 'type': None, 'listindex': None, 'obligatory': False}\n",
      "isotope branching factor {'value': 0.9673, 'unit': None, 'type': None, 'listindex': None, 'obligatory': False}\n",
      "radiopharmaceutical {'value': 'Fluorodeoxyglucose', 'unit': None, 'type': None, 'listindex': None, 'obligatory': False}\n",
      "tracer injection date {'value': '2019:01:25', 'unit': 'yyyy:mm:dd', 'type': None, 'listindex': None, 'obligatory': False}\n",
      "tracer injection time {'value': '14:32:06', 'unit': 'hh:mm:ss GMT+00:00', 'type': None, 'listindex': None, 'obligatory': False}\n",
      "tracer activity at time of injection {'value': 100000000.0, 'unit': 'Bq', 'type': None, 'listindex': None, 'obligatory': False}\n",
      "relative time of tracer injection {'value': 151370052, 'unit': 'sec', 'type': None, 'listindex': None, 'obligatory': False}\n",
      "injected volume {'value': 0.0, 'unit': 'ml', 'type': None, 'listindex': None, 'obligatory': False}\n",
      "image data byte order {'value': 'LITTLEENDIAN', 'unit': None, 'type': None, 'listindex': None, 'obligatory': False}\n",
      "patient orientation {'value': 'HFS', 'unit': None, 'type': None, 'listindex': None, 'obligatory': False}\n",
      "PET data type {'value': 'emission', 'unit': None, 'type': None, 'listindex': None, 'obligatory': True}\n",
      "data format {'value': 'sinogram', 'unit': None, 'type': None, 'listindex': None, 'obligatory': False}\n",
      "compression {'value': 'off', 'unit': None, 'type': None, 'listindex': None, 'obligatory': False}\n",
      "compressor version {'value': 1.1, 'unit': None, 'type': None, 'listindex': None, 'obligatory': False}\n",
      "number format {'value': 'signed integer', 'unit': None, 'type': None, 'listindex': None, 'obligatory': False}\n",
      "number of bytes per pixel {'value': 2, 'unit': None, 'type': None, 'listindex': None, 'obligatory': True}\n",
      "number of dimensions {'value': 3, 'unit': None, 'type': None, 'listindex': None, 'obligatory': False}\n",
      "matrix axis label[1] {'value': 'sinogram projections', 'unit': None, 'type': None, 'listindex': None, 'obligatory': False}\n",
      "matrix axis label[2] {'value': 'sinogram views', 'unit': None, 'type': None, 'listindex': None, 'obligatory': False}\n",
      "matrix axis label[3] {'value': 'number of sinograms', 'unit': None, 'type': None, 'listindex': None, 'obligatory': False}\n",
      "matrix size[1] {'value': 400, 'unit': None, 'type': None, 'listindex': None, 'obligatory': False}\n",
      "matrix size[2] {'value': 168, 'unit': None, 'type': None, 'listindex': None, 'obligatory': False}\n",
      "matrix size[3] {'value': 621, 'unit': None, 'type': None, 'listindex': None, 'obligatory': False}\n",
      "scale factor (mm/pixel) [1] {'value': 2.005, 'unit': None, 'type': None, 'listindex': None, 'obligatory': False}\n",
      "scale factor (degree/pixel) [2] {'value': 1.07143, 'unit': None, 'type': None, 'listindex': None, 'obligatory': False}\n",
      "scale factor (mm/pixel) [3] {'value': 2.027, 'unit': None, 'type': None, 'listindex': None, 'obligatory': False}\n",
      "horizontal bed translation {'value': 'stepped', 'unit': None, 'type': None, 'listindex': None, 'obligatory': False}\n",
      "start horizontal bed position {'value': 801.48, 'unit': 'mm', 'type': None, 'listindex': None, 'obligatory': False}\n",
      "end horizontal bed position {'value': 801.48, 'unit': 'mm', 'type': None, 'listindex': None, 'obligatory': False}\n",
      "start vertical bed position {'value': 99, 'unit': 'mm', 'type': None, 'listindex': None, 'obligatory': False}\n",
      "axial compression {'value': 11, 'unit': None, 'type': None, 'listindex': None, 'obligatory': False}\n",
      "maximum ring difference {'value': 49, 'unit': None, 'type': None, 'listindex': None, 'obligatory': False}\n",
      "number of rings {'value': 55, 'unit': None, 'type': None, 'listindex': None, 'obligatory': False}\n",
      "number of TOF time bins {'value': 13, 'unit': None, 'type': None, 'listindex': None, 'obligatory': False}\n",
      "TOF mashing factor {'value': 1, 'unit': None, 'type': None, 'listindex': None, 'obligatory': False}\n",
      "sinogram type {'value': 'step and shoot', 'unit': None, 'type': None, 'listindex': None, 'obligatory': False}\n",
      "number of segments {'value': 9, 'unit': None, 'type': None, 'listindex': None, 'obligatory': False}\n",
      "segment table {'value': [109, 97, 97, 75, 75, 53, 53, 31, 31], 'unit': None, 'type': None, 'listindex': None, 'obligatory': False}\n",
      "total number of sinograms {'value': 621, 'unit': None, 'type': None, 'listindex': None, 'obligatory': False}\n",
      "number of energy windows {'value': 1, 'unit': None, 'type': None, 'listindex': None, 'obligatory': False}\n",
      "energy window lower level (keV) [1] {'value': 435, 'unit': None, 'type': None, 'listindex': None, 'obligatory': False}\n",
      "energy window upper level (keV) [1] {'value': 650, 'unit': None, 'type': None, 'listindex': None, 'obligatory': False}\n",
      "gantry tilt angle {'value': 0.0, 'unit': 'degrees', 'type': None, 'listindex': None, 'obligatory': False}\n",
      "coincidence window width {'value': 4.0625, 'unit': 'ns', 'type': None, 'listindex': None, 'obligatory': False}\n",
      "number of scan data types {'value': 14, 'unit': None, 'type': None, 'listindex': None, 'obligatory': False}\n",
      "scan data type description[1] {'value': 'prompts', 'unit': None, 'type': None, 'listindex': None, 'obligatory': False}\n",
      "scan data type description[2] {'value': 'prompts', 'unit': None, 'type': None, 'listindex': None, 'obligatory': False}\n",
      "scan data type description[3] {'value': 'prompts', 'unit': None, 'type': None, 'listindex': None, 'obligatory': False}\n",
      "scan data type description[4] {'value': 'prompts', 'unit': None, 'type': None, 'listindex': None, 'obligatory': False}\n",
      "scan data type description[5] {'value': 'prompts', 'unit': None, 'type': None, 'listindex': None, 'obligatory': False}\n",
      "scan data type description[6] {'value': 'prompts', 'unit': None, 'type': None, 'listindex': None, 'obligatory': False}\n",
      "scan data type description[7] {'value': 'prompts', 'unit': None, 'type': None, 'listindex': None, 'obligatory': False}\n",
      "scan data type description[8] {'value': 'prompts', 'unit': None, 'type': None, 'listindex': None, 'obligatory': False}\n",
      "scan data type description[9] {'value': 'prompts', 'unit': None, 'type': None, 'listindex': None, 'obligatory': False}\n",
      "scan data type description[10] {'value': 'prompts', 'unit': None, 'type': None, 'listindex': None, 'obligatory': False}\n",
      "scan data type description[11] {'value': 'prompts', 'unit': None, 'type': None, 'listindex': None, 'obligatory': False}\n",
      "scan data type description[12] {'value': 'prompts', 'unit': None, 'type': None, 'listindex': None, 'obligatory': False}\n",
      "scan data type description[13] {'value': 'prompts', 'unit': None, 'type': None, 'listindex': None, 'obligatory': False}\n",
      "scan data type description[14] {'value': 'randoms', 'unit': None, 'type': None, 'listindex': None, 'obligatory': False}\n",
      "data offset in bytes[1] {'value': 0, 'unit': None, 'type': None, 'listindex': None, 'obligatory': False}\n",
      "data offset in bytes[2] {'value': 83462400, 'unit': None, 'type': None, 'listindex': None, 'obligatory': False}\n",
      "data offset in bytes[3] {'value': 166924800, 'unit': None, 'type': None, 'listindex': None, 'obligatory': False}\n",
      "data offset in bytes[4] {'value': 250387200, 'unit': None, 'type': None, 'listindex': None, 'obligatory': False}\n",
      "data offset in bytes[5] {'value': 333849600, 'unit': None, 'type': None, 'listindex': None, 'obligatory': False}\n",
      "data offset in bytes[6] {'value': 417312000, 'unit': None, 'type': None, 'listindex': None, 'obligatory': False}\n",
      "data offset in bytes[7] {'value': 500774400, 'unit': None, 'type': None, 'listindex': None, 'obligatory': False}\n",
      "data offset in bytes[8] {'value': 584236800, 'unit': None, 'type': None, 'listindex': None, 'obligatory': False}\n",
      "data offset in bytes[9] {'value': 667699200, 'unit': None, 'type': None, 'listindex': None, 'obligatory': False}\n",
      "data offset in bytes[10] {'value': 751161600, 'unit': None, 'type': None, 'listindex': None, 'obligatory': False}\n",
      "data offset in bytes[11] {'value': 834624000, 'unit': None, 'type': None, 'listindex': None, 'obligatory': False}\n",
      "data offset in bytes[12] {'value': 918086400, 'unit': None, 'type': None, 'listindex': None, 'obligatory': False}\n",
      "data offset in bytes[13] {'value': 1001548800, 'unit': None, 'type': None, 'listindex': None, 'obligatory': False}\n",
      "data offset in bytes[14] {'value': 1085011200, 'unit': None, 'type': None, 'listindex': None, 'obligatory': False}\n",
      "IMAGE DATA DESCRIPTION {'value': None, 'unit': None, 'type': None, 'listindex': None, 'obligatory': True}\n",
      "total number of data sets {'value': 1, 'unit': None, 'type': None, 'listindex': None, 'obligatory': True}\n",
      "total prompts {'value': 14688186, 'unit': None, 'type': None, 'listindex': None, 'obligatory': False}\n",
      "total randoms {'value': 2116091, 'unit': None, 'type': None, 'listindex': None, 'obligatory': False}\n",
      "total net trues {'value': 12572095, 'unit': None, 'type': None, 'listindex': None, 'obligatory': False}\n",
      "total prompts events[1] {'value': 3804600, 'unit': None, 'type': None, 'listindex': None, 'obligatory': False}\n",
      "total prompts events[2] {'value': 2915905, 'unit': None, 'type': None, 'listindex': None, 'obligatory': False}\n",
      "total prompts events[3] {'value': 3208619, 'unit': None, 'type': None, 'listindex': None, 'obligatory': False}\n",
      "total prompts events[4] {'value': 1299477, 'unit': None, 'type': None, 'listindex': None, 'obligatory': False}\n",
      "total prompts events[5] {'value': 1626563, 'unit': None, 'type': None, 'listindex': None, 'obligatory': False}\n",
      "total prompts events[6] {'value': 354702, 'unit': None, 'type': None, 'listindex': None, 'obligatory': False}\n",
      "total prompts events[7] {'value': 466835, 'unit': None, 'type': None, 'listindex': None, 'obligatory': False}\n",
      "total prompts events[8] {'value': 174619, 'unit': None, 'type': None, 'listindex': None, 'obligatory': False}\n",
      "total prompts events[9] {'value': 185693, 'unit': None, 'type': None, 'listindex': None, 'obligatory': False}\n",
      "total prompts events[10] {'value': 163084, 'unit': None, 'type': None, 'listindex': None, 'obligatory': False}\n",
      "total prompts events[11] {'value': 163621, 'unit': None, 'type': None, 'listindex': None, 'obligatory': False}\n",
      "total prompts events[12] {'value': 162067, 'unit': None, 'type': None, 'listindex': None, 'obligatory': False}\n",
      "total prompts events[13] {'value': 162401, 'unit': None, 'type': None, 'listindex': None, 'obligatory': False}\n",
      "total net trues events[1] {'value': 3641824, 'unit': None, 'type': None, 'listindex': None, 'obligatory': False}\n",
      "total net trues events[2] {'value': 2753129, 'unit': None, 'type': None, 'listindex': None, 'obligatory': False}\n",
      "total net trues events[3] {'value': 3045843, 'unit': None, 'type': None, 'listindex': None, 'obligatory': False}\n",
      "total net trues events[4] {'value': 1136701, 'unit': None, 'type': None, 'listindex': None, 'obligatory': False}\n",
      "total net trues events[5] {'value': 1463787, 'unit': None, 'type': None, 'listindex': None, 'obligatory': False}\n",
      "total net trues events[6] {'value': 191926, 'unit': None, 'type': None, 'listindex': None, 'obligatory': False}\n",
      "total net trues events[7] {'value': 304059, 'unit': None, 'type': None, 'listindex': None, 'obligatory': False}\n",
      "total net trues events[8] {'value': 11843, 'unit': None, 'type': None, 'listindex': None, 'obligatory': False}\n",
      "total net trues events[9] {'value': 22917, 'unit': None, 'type': None, 'listindex': None, 'obligatory': False}\n",
      "total net trues events[10] {'value': 308, 'unit': None, 'type': None, 'listindex': None, 'obligatory': False}\n",
      "total net trues events[11] {'value': 845, 'unit': None, 'type': None, 'listindex': None, 'obligatory': False}\n",
      "total net trues events[12] {'value': 0, 'unit': None, 'type': None, 'listindex': None, 'obligatory': False}\n",
      "total net trues events[13] {'value': 0, 'unit': None, 'type': None, 'listindex': None, 'obligatory': False}\n",
      "image duration {'value': 60, 'unit': 'sec', 'type': None, 'listindex': None, 'obligatory': True}\n",
      "image relative start time {'value': 0.0, 'unit': 'sec', 'type': None, 'listindex': None, 'obligatory': True}\n",
      "image duration from timing tags {'value': 60014, 'unit': 'msec', 'type': None, 'listindex': None, 'obligatory': False}\n",
      "GIM loss fraction {'value': 1, 'unit': None, 'type': None, 'listindex': None, 'obligatory': False}\n",
      "PDR loss fraction {'value': 1, 'unit': None, 'type': None, 'listindex': None, 'obligatory': False}\n",
      "DETECTOR BLOCK SINGLES {'value': None, 'unit': None, 'type': None, 'listindex': None, 'obligatory': False}\n",
      "number of buckets {'value': 48, 'unit': None, 'type': None, 'listindex': None, 'obligatory': False}\n",
      "total uncorrected singles rate {'value': 5488155, 'unit': None, 'type': None, 'listindex': None, 'obligatory': False}\n",
      "bucket singles rate[1] {'value': 110889, 'unit': None, 'type': None, 'listindex': None, 'obligatory': False}\n",
      "bucket singles rate[2] {'value': 111781, 'unit': None, 'type': None, 'listindex': None, 'obligatory': False}\n",
      "bucket singles rate[3] {'value': 110750, 'unit': None, 'type': None, 'listindex': None, 'obligatory': False}\n",
      "bucket singles rate[4] {'value': 111257, 'unit': None, 'type': None, 'listindex': None, 'obligatory': False}\n",
      "bucket singles rate[5] {'value': 110719, 'unit': None, 'type': None, 'listindex': None, 'obligatory': False}\n",
      "bucket singles rate[6] {'value': 110664, 'unit': None, 'type': None, 'listindex': None, 'obligatory': False}\n",
      "bucket singles rate[7] {'value': 110421, 'unit': None, 'type': None, 'listindex': None, 'obligatory': False}\n",
      "bucket singles rate[8] {'value': 110297, 'unit': None, 'type': None, 'listindex': None, 'obligatory': False}\n",
      "bucket singles rate[9] {'value': 110514, 'unit': None, 'type': None, 'listindex': None, 'obligatory': False}\n",
      "bucket singles rate[10] {'value': 110624, 'unit': None, 'type': None, 'listindex': None, 'obligatory': False}\n",
      "bucket singles rate[11] {'value': 111562, 'unit': None, 'type': None, 'listindex': None, 'obligatory': False}\n",
      "bucket singles rate[12] {'value': 111131, 'unit': None, 'type': None, 'listindex': None, 'obligatory': False}\n",
      "bucket singles rate[13] {'value': 116396, 'unit': None, 'type': None, 'listindex': None, 'obligatory': False}\n",
      "bucket singles rate[14] {'value': 116335, 'unit': None, 'type': None, 'listindex': None, 'obligatory': False}\n",
      "bucket singles rate[15] {'value': 116537, 'unit': None, 'type': None, 'listindex': None, 'obligatory': False}\n",
      "bucket singles rate[16] {'value': 116413, 'unit': None, 'type': None, 'listindex': None, 'obligatory': False}\n",
      "bucket singles rate[17] {'value': 115874, 'unit': None, 'type': None, 'listindex': None, 'obligatory': False}\n",
      "bucket singles rate[18] {'value': 115944, 'unit': None, 'type': None, 'listindex': None, 'obligatory': False}\n",
      "bucket singles rate[19] {'value': 115420, 'unit': None, 'type': None, 'listindex': None, 'obligatory': False}\n",
      "bucket singles rate[20] {'value': 115921, 'unit': None, 'type': None, 'listindex': None, 'obligatory': False}\n",
      "bucket singles rate[21] {'value': 115069, 'unit': None, 'type': None, 'listindex': None, 'obligatory': False}\n",
      "bucket singles rate[22] {'value': 115302, 'unit': None, 'type': None, 'listindex': None, 'obligatory': False}\n",
      "bucket singles rate[23] {'value': 115941, 'unit': None, 'type': None, 'listindex': None, 'obligatory': False}\n",
      "bucket singles rate[24] {'value': 116105, 'unit': None, 'type': None, 'listindex': None, 'obligatory': False}\n",
      "bucket singles rate[25] {'value': 117113, 'unit': None, 'type': None, 'listindex': None, 'obligatory': False}\n",
      "bucket singles rate[26] {'value': 117003, 'unit': None, 'type': None, 'listindex': None, 'obligatory': False}\n",
      "bucket singles rate[27] {'value': 117454, 'unit': None, 'type': None, 'listindex': None, 'obligatory': False}\n",
      "bucket singles rate[28] {'value': 117493, 'unit': None, 'type': None, 'listindex': None, 'obligatory': False}\n",
      "bucket singles rate[29] {'value': 117177, 'unit': None, 'type': None, 'listindex': None, 'obligatory': False}\n",
      "bucket singles rate[30] {'value': 116922, 'unit': None, 'type': None, 'listindex': None, 'obligatory': False}\n",
      "bucket singles rate[31] {'value': 116401, 'unit': None, 'type': None, 'listindex': None, 'obligatory': False}\n",
      "bucket singles rate[32] {'value': 116595, 'unit': None, 'type': None, 'listindex': None, 'obligatory': False}\n",
      "bucket singles rate[33] {'value': 116480, 'unit': None, 'type': None, 'listindex': None, 'obligatory': False}\n",
      "bucket singles rate[34] {'value': 116731, 'unit': None, 'type': None, 'listindex': None, 'obligatory': False}\n",
      "bucket singles rate[35] {'value': 116568, 'unit': None, 'type': None, 'listindex': None, 'obligatory': False}\n",
      "bucket singles rate[36] {'value': 116722, 'unit': None, 'type': None, 'listindex': None, 'obligatory': False}\n",
      "bucket singles rate[37] {'value': 113467, 'unit': None, 'type': None, 'listindex': None, 'obligatory': False}\n",
      "bucket singles rate[38] {'value': 113755, 'unit': None, 'type': None, 'listindex': None, 'obligatory': False}\n",
      "bucket singles rate[39] {'value': 113908, 'unit': None, 'type': None, 'listindex': None, 'obligatory': False}\n",
      "bucket singles rate[40] {'value': 114067, 'unit': None, 'type': None, 'listindex': None, 'obligatory': False}\n",
      "bucket singles rate[41] {'value': 114231, 'unit': None, 'type': None, 'listindex': None, 'obligatory': False}\n",
      "bucket singles rate[42] {'value': 113771, 'unit': None, 'type': None, 'listindex': None, 'obligatory': False}\n",
      "bucket singles rate[43] {'value': 113990, 'unit': None, 'type': None, 'listindex': None, 'obligatory': False}\n",
      "bucket singles rate[44] {'value': 113637, 'unit': None, 'type': None, 'listindex': None, 'obligatory': False}\n",
      "bucket singles rate[45] {'value': 113277, 'unit': None, 'type': None, 'listindex': None, 'obligatory': False}\n",
      "bucket singles rate[46] {'value': 112626, 'unit': None, 'type': None, 'listindex': None, 'obligatory': False}\n",
      "bucket singles rate[47] {'value': 113585, 'unit': None, 'type': None, 'listindex': None, 'obligatory': False}\n",
      "bucket singles rate[48] {'value': 113316, 'unit': None, 'type': None, 'listindex': None, 'obligatory': False}\n"
     ]
    }
   ],
   "source": [
    "for k,v in hdr_infos[0].items():\n",
    "    print(k,v)"
   ]
  },
  {
   "cell_type": "code",
   "execution_count": 62,
   "metadata": {},
   "outputs": [
    {
     "name": "stdout",
     "output_type": "stream",
     "text": [
      "study date {'value': '2019:01:25', 'unit': 'yyyy:mm:dd', 'type': None, 'listindex': None, 'obligatory': False}\n",
      "study time {'value': '14:18:17', 'unit': 'hh:mm:ss GMT+00:00', 'type': None, 'listindex': None, 'obligatory': False}\n",
      "tracer injection date {'value': '2019:01:25', 'unit': 'yyyy:mm:dd', 'type': None, 'listindex': None, 'obligatory': False}\n",
      "tracer injection time {'value': '14:05:48', 'unit': 'hh:mm:ss GMT+00:00', 'type': None, 'listindex': None, 'obligatory': False}\n",
      "relative time of tracer injection {'value': 151370052, 'unit': 'sec', 'type': None, 'listindex': None, 'obligatory': False}\n",
      "image duration {'value': 60, 'unit': 'sec', 'type': None, 'listindex': None, 'obligatory': True}\n",
      "image relative start time {'value': 0.0, 'unit': 'sec', 'type': None, 'listindex': None, 'obligatory': True}\n",
      "image duration from timing tags {'value': 60014, 'unit': 'msec', 'type': None, 'listindex': None, 'obligatory': False}\n",
      "time_keys\n",
      " ['study date', 'study time', 'tracer injection date', 'tracer injection time', 'relative time of tracer injection', 'image duration', 'image relative start time', 'image duration from timing tags']\n"
     ]
    }
   ],
   "source": [
    "ref = 2\n",
    "\n",
    "\n",
    "time_keys = []\n",
    "tags = ['tim', 'dur', 'date']\n",
    "irrelevant = ['number of TOF time bins', 'tracer activity at time of injection']\n",
    "for k in hdr_infos[ref]:\n",
    "    skip = False\n",
    "    for irr in irrelevant:\n",
    "        skip = k == irr\n",
    "        if skip:\n",
    "            break        \n",
    "    if not skip:        \n",
    "        for tag in tags:\n",
    "            if k.find(tag) != -1:\n",
    "                    time_keys.append(k)\n",
    "                    print(k, hdr_infos[ref][k])\n",
    "                    break\n",
    "print(\"time_keys\\n\", time_keys)"
   ]
  },
  {
   "cell_type": "code",
   "execution_count": 41,
   "metadata": {},
   "outputs": [
    {
     "data": {
      "image/png": "[encoded data removed]",
      "text/plain": [
       "<Figure size 432x288 with 1 Axes>"
      ]
     },
     "metadata": {
      "needs_background": "light"
     },
     "output_type": "display_data"
    },
    {
     "data": {
      "text/plain": [
       "(60000, 60030)"
      ]
     },
     "execution_count": 41,
     "metadata": {},
     "output_type": "execute_result"
    },
    {
     "data": {
      "image/png": "[encoded data removed]",
      "text/plain": [
       "<Figure size 432x288 with 1 Axes>"
      ]
     },
     "metadata": {
      "needs_background": "light"
     },
     "output_type": "display_data"
    }
   ],
   "source": [
    "duration_s = [info['image duration']['value'] for info in hdr_infos]\n",
    "plt.plot(duration_s)\n",
    "plt.show()\n",
    "duration_ms = [info['image duration from timing tags']['value'] for info in hdr_infos]\n",
    "plt.plot(duration_ms)\n",
    "plt.ylim(60*1000, 60*1000+30)\n"
   ]
  },
  {
   "cell_type": "code",
   "execution_count": 80,
   "metadata": {},
   "outputs": [
    {
     "name": "stdout",
     "output_type": "stream",
     "text": [
      "[[14 18 17]\n",
      " [14  5 48]]\n",
      "749\n",
      "[151370801]\n",
      "[1548426888, 1548427023, 1548425897, 1548426033]\n",
      "12.483333333333333\n"
     ]
    }
   ],
   "source": [
    "times = ['14:18:17', '14:05:48']\n",
    "times = [s.split(':') for s in times]\n",
    "times = [[int(s) for s in seq] for seq in times]\n",
    "A = np.array(times)\n",
    "print(A)\n",
    "seconds = [60*60*24, 60, 1]\n",
    "diff = np.sum(A[0]*seconds - A[1]*seconds)\n",
    "print(diff)\n",
    "my_dcr = hdr_infos[0]['relative time of tracer injection']['value'] + diff\n",
    "print([my_dcr])\n",
    "print(kex_data.RECON_DCR)\n",
    "print(diff/60)"
   ]
  },
  {
   "cell_type": "code",
   "execution_count": 79,
   "metadata": {},
   "outputs": [
    {
     "name": "stdout",
     "output_type": "stream",
     "text": [
      "135\n",
      "2.25\n"
     ]
    }
   ],
   "source": [
    "diff_s = (kex_data.RECON_DCR[1]-kex_data.RECON_DCR[0])\n",
    "print( diff_s)\n",
    "diff_m = diff_s / 60\n",
    "print(diff_m)"
   ]
  },
  {
   "cell_type": "code",
   "execution_count": 92,
   "metadata": {},
   "outputs": [
    {
     "name": "stdout",
     "output_type": "stream",
     "text": [
      "diff minute [23284280.6        23284282.85       23284264.08333333 23284266.35      ]\n",
      "diff day [16169.63930556 16169.64086806 16169.62783565 16169.62940972]\n",
      "diff year [44.30038166 44.30038594 44.30035023 44.30035455]\n",
      "49\n"
     ]
    }
   ],
   "source": [
    "diff = np.array(kex_data.RECON_DCR) - hdr_infos[0]['relative time of tracer injection']['value'] \n",
    "diff_m = diff/60\n",
    "print(\"diff minute\", diff_m)\n",
    "diff_d = diff_m / (60*24)\n",
    "print(\"diff day\", diff_d)\n",
    "diff_y = diff_d / 365\n",
    "print(\"diff year\", diff_y)\n",
    "print(2019-1970)"
   ]
  },
  {
   "cell_type": "code",
   "execution_count": 85,
   "metadata": {},
   "outputs": [
    {
     "name": "stdout",
     "output_type": "stream",
     "text": [
      "{'value': '14:05:48', 'unit': 'hh:mm:ss GMT+00:00', 'type': None, 'listindex': None, 'obligatory': False} \n",
      "\n",
      "{'value': '14:34:48', 'unit': 'hh:mm:ss GMT+00:00', 'type': None, 'listindex': None, 'obligatory': False}\n",
      "{'value': '14:37:03', 'unit': 'hh:mm:ss GMT+00:00', 'type': None, 'listindex': None, 'obligatory': False}\n",
      "{'value': '14:18:17', 'unit': 'hh:mm:ss GMT+00:00', 'type': None, 'listindex': None, 'obligatory': False}\n",
      "{'value': '14:20:33', 'unit': 'hh:mm:ss GMT+00:00', 'type': None, 'listindex': None, 'obligatory': False}\n"
     ]
    }
   ],
   "source": [
    "print(hdr_infos[2]['tracer injection time'], \"\\n\")\n",
    "for info in hdr_infos:\n",
    "    print(info['study time'])"
   ]
  },
  {
   "cell_type": "code",
   "execution_count": 49,
   "metadata": {},
   "outputs": [],
   "source": [
    "import datetime"
   ]
  },
  {
   "cell_type": "code",
   "execution_count": 54,
   "metadata": {},
   "outputs": [
    {
     "name": "stdout",
     "output_type": "stream",
     "text": [
      "[datetime.date(2019, 1, 25), datetime.date(2019, 1, 25), datetime.date(2019, 1, 25), datetime.date(2019, 1, 25)]\n"
     ]
    }
   ],
   "source": [
    "datekeys = ['year', 'month', 'day']\n",
    "values = [info['tracer injection date']['value'].split(':') for info in hdr_infos]\n",
    "values = [[int(k) for k in seq] for seq in values]\n",
    "dates = [datetime.date(**dict(zip(datekeys, v))) for v in values]\n",
    "print(dates)"
   ]
  },
  {
   "cell_type": "code",
   "execution_count": null,
   "metadata": {},
   "outputs": [],
   "source": [
    "timekeys = ['hour', 'minute', 'second', 'tzinfo']\n",
    "values = [info['tracer injection time']['value'].split(':') for info in hdr_infos]\n",
    "values = [[int(k) for k in seq] for seq in values]\n",
    "values"
   ]
  },
  {
   "cell_type": "code",
   "execution_count": null,
   "metadata": {},
   "outputs": [],
   "source": [
    "# documentation:\n",
    "# e7_recon\n",
    "# ...\n",
    "#  --dcr   decay correction reference time. The images are corrected using this\n",
    "#          time as the reference. The time is specified in seconds relative to\n",
    "#          1.1.1970, 00:00:00,GMT-0 in seconds."
   ]
  }
 ],
 "metadata": {
  "kernelspec": {
   "display_name": "Python 3",
   "language": "python",
   "name": "python3"
  },
  "language_info": {
   "codemirror_mode": {
    "name": "ipython",
    "version": 3
   },
   "file_extension": ".py",
   "mimetype": "text/x-python",
   "name": "python",
   "nbconvert_exporter": "python",
   "pygments_lexer": "ipython3",
   "version": "3.7.1"
  }
 },
 "nbformat": 4,
 "nbformat_minor": 4
}
